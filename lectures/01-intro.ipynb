{
 "cells": [
  {
   "cell_type": "markdown",
   "id": "fafa2b0f",
   "metadata": {},
   "source": [
    "# Lecture 1"
   ]
  },
  {
   "cell_type": "code",
   "execution_count": null,
   "id": "f377891d-f356-4680-87cd-5fc803114762",
   "metadata": {},
   "outputs": [],
   "source": [
    "from datascience import *\n",
    "import matplotlib.pyplot as plots\n",
    "%matplotlib inline\n",
    "plots.style.use('fivethirtyeight')\n",
    "import numpy as np\n",
    "\n",
    "def show_bday(n):\n",
    "    bd = Table()\n",
    "    bd[\"day\"] = range(365)\n",
    "    bd['left']= 364-bd['day']\n",
    "    bd['frac']=bd['left']/365\n",
    "    bd[\"different\"] = np.cumprod(bd[\"frac\"])\n",
    "    bd['some same bday'] = 1-bd['different']\n",
    "    bd.select('some same bday').take(range(n)).plot()\n",
    "    return bd\n",
    "\n",
    "show_bday(50)\n"
   ]
  },
  {
   "cell_type": "code",
   "execution_count": null,
   "id": "7161bb7e-d4a1-427a-b20f-fa827f7be9ff",
   "metadata": {},
   "outputs": [],
   "source": []
  }
 ],
 "metadata": {
  "kernelspec": {
   "display_name": "Python 3 (ipykernel)",
   "language": "python",
   "name": "python3"
  },
  "language_info": {
   "codemirror_mode": {
    "name": "ipython",
    "version": 3
   },
   "file_extension": ".py",
   "mimetype": "text/x-python",
   "name": "python",
   "nbconvert_exporter": "python",
   "pygments_lexer": "ipython3",
   "version": "3.9.1"
  }
 },
 "nbformat": 4,
 "nbformat_minor": 5
}
