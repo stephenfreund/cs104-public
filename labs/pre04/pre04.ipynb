{
 "cells": [
  {
   "cell_type": "code",
   "execution_count": null,
   "id": "30417ec1",
   "metadata": {
    "deletable": false,
    "editable": false
   },
   "outputs": [],
   "source": [
    "# Initialize Otter\n",
    "import otter\n",
    "grader = otter.Notebook(\"pre04.ipynb\")"
   ]
  },
  {
   "cell_type": "code",
   "execution_count": null,
   "id": "1f5f0f7b",
   "metadata": {
    "deletable": false,
    "editable": false
   },
   "outputs": [],
   "source": [
    "# Initialize Otter\n",
    "import otter\n",
    "grader = otter.Notebook(\"lab04.ipynb\")"
   ]
  },
  {
   "cell_type": "markdown",
   "id": "1cda5df3",
   "metadata": {
    "deletable": false,
    "editable": false
   },
   "source": [
    "# Prelab 4: Functions"
   ]
  },
  {
   "cell_type": "markdown",
   "id": "023910f9",
   "metadata": {
    "deletable": false,
    "editable": false
   },
   "source": [
    "**Helpful Resources:**\n",
    "- [Python Reference](http://www.cs.williams.edu/~cs104/python-library-ref.html): Cheat sheet of helpful library methods.\n"
   ]
  },
  {
   "cell_type": "markdown",
   "id": "6ff6dbc4",
   "metadata": {
    "deletable": false,
    "editable": false
   },
   "source": [
    "Please complete this notebook by filling in the cells provided. Before you begin, execute the following cell to setup the notebook by importing some helpful libraries. Each time you start your server, you will need to execute this cell again.  For all problems that you must write explanations and sentences for, you **must** provide your answer in the designated space. **Moreover, throughout this prelab and all future ones, please be sure to not re-assign variables throughout the notebook!** For example, if you use `max_temperature` in your answer to one question, do not reassign it later on. Otherwise, you will fail tests that you thought you were passing previously!"
   ]
  },
  {
   "cell_type": "code",
   "execution_count": null,
   "id": "609af15f",
   "metadata": {
    "deletable": false,
    "editable": false,
    "tags": []
   },
   "outputs": [],
   "source": [
    "# Run this cell to set up the notebook, but please don't change it.\n",
    "\n",
    "# These lines import the Numpy and Datascience modules.\n",
    "import numpy as np\n",
    "from datascience import *\n",
    "\n",
    "# These lines make plots look nice and hide some messy Python warnings.\n",
    "import matplotlib\n",
    "%matplotlib inline\n",
    "import matplotlib.pyplot as plt\n",
    "plt.style.use('fivethirtyeight')\n",
    "import warnings\n",
    "warnings.simplefilter('ignore', FutureWarning)\n",
    "warnings.simplefilter('ignore', np.VisibleDeprecationWarning)\n",
    "\n",
    "# For special interactions\n",
    "from ipywidgets import interact, interactive, fixed, interact_manual\n",
    "import ipywidgets as widgets"
   ]
  },
  {
   "cell_type": "markdown",
   "id": "51e36e95",
   "metadata": {
    "deletable": false,
    "editable": false
   },
   "source": [
    "## 1. Defining Functions (20 pts)\n",
    "\n",
    "\n",
    "Let's write a very simple function that converts a proportion to a percentage by multiplying it by 100.  For example, the value of `to_percentage(.5)` should be the number 50 (no percent sign).\n",
    "\n",
    "A function definition has a few parts."
   ]
  },
  {
   "cell_type": "markdown",
   "id": "77a66c6d",
   "metadata": {
    "deletable": false,
    "editable": false
   },
   "source": [
    "#### `def`\n",
    "It always starts with `def` (short for **def**ine):\n",
    "\n",
    "    def\n",
    "\n",
    "#### Name\n",
    "Next comes the name of the function.  Like other names we've defined, it can't start with a number or contain spaces. Let's call our function `to_percentage`:\n",
    "    \n",
    "    def to_percentage\n",
    "\n",
    "#### Signature\n",
    "Next comes something called the *signature* of the function.  This tells Python how many arguments your function should have, and what names you'll use to refer to those arguments in the function's code.  A function can have any number of arguments (including 0!). \n",
    "\n",
    "`to_percentage` should take one argument, and we'll call that argument `proportion` since it should be a proportion.\n",
    "\n",
    "    def to_percentage(proportion)\n",
    "    \n",
    "If we want our function to take more than one argument, we add a comma between each argument name. Note that if we had zero arguments, we'd still place the parentheses () after that name. \n",
    "\n",
    "We put a **colon** after the signature to tell Python that the next indented lines are the body of the function. If you're getting a syntax error after defining a function, check to make sure you remembered the colon!\n",
    "\n",
    "    def to_percentage(proportion):\n",
    "\n",
    "#### Documentation\n",
    "Functions can do complicated things, so you should write an explanation of what your function does.  For small functions, this is less important, but it's a good habit to learn from the start.  Conventionally, Python functions are documented by writing an **indented** triple-quoted string:\n",
    "\n",
    "    def to_percentage(proportion):\n",
    "        \"\"\"Converts a proportion to a percentage.\"\"\"\n",
    "\n",
    "#### Body\n",
    "Now we start writing code that runs when the function is called.  This is called the *body* of the function and every line **must be indented with a tab**.  Any lines that are *not* indented and left-aligned with the def statement is considered outside the function. \n",
    "\n",
    "Some notes about the body of the function:\n",
    "- We can write code that we would write anywhere else.  \n",
    "- We use the arguments defined in the function signature. We can do this because we assume that when we call the function, values are already assigned to those arguments.\n",
    "- We generally avoid referencing variables defined *outside* the function. If you would like to reference variables outside of the function, pass them through as arguments!\n",
    "\n",
    "\n",
    "Now, let's give a name to the number we multiply a proportion by to get a percentage:\n",
    "\n",
    "    def to_percentage(proportion):\n",
    "        \"\"\"Converts a proportion to a percentage.\"\"\"\n",
    "        factor = 100\n",
    "\n",
    "#### `return`\n",
    "The special instruction `return` is part of the function's body and tells Python to make the value of the function call equal to whatever comes right after `return`.  We want the value of `to_percentage(.5)` to be the proportion .5 times the factor 100, so we write:\n",
    "\n",
    "    def to_percentage(proportion):\n",
    "        \"\"\"Converts a proportion to a percentage.\"\"\"\n",
    "        factor = 100\n",
    "        return proportion * factor\n",
    "        \n",
    "`return` only makes sense in the context of a function, and **can never be used outside of a function**. `return` is always the last line of the function because Python stops executing the body of a function once it hits a `return` statement. If a function does not have a return statement, it will not return anything; if you expect a value back from the function, make sure to include a return statement. \n",
    "\n",
    "*Note:*  `return` inside a function tells Python what value the function evaluates to. However, there are other functions, like `print`, that have no `return` value. For example, `print` simply prints a certain value out to the console. \n",
    "\n",
    "`return` and `print` are **very** different. "
   ]
  },
  {
   "cell_type": "markdown",
   "id": "6542d6a9",
   "metadata": {
    "deletable": false,
    "editable": false
   },
   "source": [
    "#### Part 1.1 (5 pts)\n"
   ]
  },
  {
   "cell_type": "markdown",
   "id": "eb420bbd",
   "metadata": {
    "deletable": false,
    "editable": false
   },
   "source": [
    " Define `to_percentage` in the cell below.  Call your function to convert the proportion .2 to a percentage.  Name that percentage `twenty_percent`.\n",
    "\n"
   ]
  },
  {
   "cell_type": "code",
   "execution_count": null,
   "id": "680afa05",
   "metadata": {
    "deletable": false,
    "tags": []
   },
   "outputs": [],
   "source": [
    "...\n",
    "    ...\n",
    "    factor = ...\n",
    "    ...\n",
    "\n",
    "twenty_percent = ...\n",
    "twenty_percent"
   ]
  },
  {
   "cell_type": "code",
   "execution_count": null,
   "id": "390d1c35",
   "metadata": {
    "deletable": false,
    "editable": false
   },
   "outputs": [],
   "source": [
    "grader.check(\"q1.1\")"
   ]
  },
  {
   "cell_type": "markdown",
   "id": "1ef38697",
   "metadata": {
    "deletable": false,
    "editable": false
   },
   "source": [
    "Here's something important about functions: the names assigned *within* a function body are only accessible within the function body. Once the function has returned, those names are gone.  So even if you created a variable called `factor` and defined `factor = 100` inside of the body of the `to_percentage` function and then called `to_percentage`, `factor` would not have a value assigned to it outside of the body of `to_percentage`:"
   ]
  },
  {
   "cell_type": "code",
   "execution_count": null,
   "id": "3f3b07ec",
   "metadata": {
    "deletable": false,
    "editable": false
   },
   "outputs": [],
   "source": [
    "# You should get an error when you run this.  (If you don't, \n",
    "# you might have defined factor somewhere above.)\n",
    "factor"
   ]
  },
  {
   "cell_type": "markdown",
   "id": "adbdff17",
   "metadata": {
    "deletable": false,
    "editable": false
   },
   "source": [
    "Like you’ve done with built-in functions in previous labs (max, abs, etc.), you can pass in named values as arguments to your function."
   ]
  },
  {
   "cell_type": "markdown",
   "id": "f6e4245d",
   "metadata": {
    "deletable": false,
    "editable": false
   },
   "source": [
    "#### Part 1.2 (5 pts)\n"
   ]
  },
  {
   "cell_type": "markdown",
   "id": "9a1dfbb7",
   "metadata": {
    "deletable": false,
    "editable": false
   },
   "source": [
    "Use `to_percentage` again to convert the proportion named `a_proportion` (defined below) to a percentage called `a_percentage`.\n",
    "\n",
    "*Note:* You don't need to define `to_percentage` again!  Like other named values, functions stick around after you define them."
   ]
  },
  {
   "cell_type": "code",
   "execution_count": null,
   "id": "5181d47e",
   "metadata": {
    "deletable": false,
    "tags": []
   },
   "outputs": [],
   "source": [
    "a_proportion = 2**(0.5) / 2\n",
    "a_percentage = ...\n",
    "a_percentage"
   ]
  },
  {
   "cell_type": "code",
   "execution_count": null,
   "id": "a8a9250d",
   "metadata": {
    "deletable": false,
    "editable": false
   },
   "outputs": [],
   "source": [
    "grader.check(\"q1.2\")"
   ]
  },
  {
   "cell_type": "markdown",
   "id": "0019cc7b",
   "metadata": {
    "deletable": false,
    "editable": false
   },
   "source": [
    "As we've seen with built-in functions, functions can also take strings (or arrays, or tables) as arguments, and they can return those things, too.\n",
    "\n",
    "In the following cell, we will define a function called `disemvowel`.  It takes in a single string as its argument. It returns a copy of that string, but with all the characters that are vowels removed.  (In English, the vowels are the characters \"a\", \"e\", \"i\", \"o\", and \"u\".) \n",
    "\n",
    "To remove all the \"a\"s from a string, we used `a_string.replace(\"a\", \"\")`.  The `.replace` method for strings returns a new string, so we can call `replace` multiple times, one after the other. "
   ]
  },
  {
   "cell_type": "code",
   "execution_count": null,
   "id": "e7cbf68d",
   "metadata": {
    "deletable": false,
    "editable": false
   },
   "outputs": [],
   "source": [
    "def disemvowel(text):\n",
    "    \"\"\"Removes all vowels from a string.\"\"\"\n",
    "    return text.replace(\"a\", \"\").replace(\"e\", \"\").replace(\"i\", \"\").replace(\"o\", \"\").replace(\"u\", \"\")\n",
    "\n",
    "# An example call to the function.  (It's often helpful to run\n",
    "# an example call from time to time while we're writing a function,\n",
    "# to see how it currently works.)\n",
    "disemvowel(\"Can you read this without vowels?\")"
   ]
  },
  {
   "cell_type": "markdown",
   "id": "e616212a",
   "metadata": {
    "deletable": false,
    "editable": false
   },
   "source": [
    "#### Calls on calls on calls\n",
    "\n",
    "Just as you write a series of lines to build up a complex computation, it's useful to define a series of small functions that build on each other.  Since you can write any code inside a function's body, you can call other functions you've written.\n",
    "\n",
    "If a function is a like a recipe, defining a function in terms of other functions is like having a recipe for cake telling you to follow another recipe to make the frosting, and another to make the jam filling.  This makes the cake recipe shorter and clearer, and it avoids having a bunch of duplicated frosting recipes.  It's a foundation of productive programming.\n",
    "\n",
    "For example, suppose you want to count the number of characters *that aren't vowels* in a piece of text.  One way to do that is this to remove all the vowels and count the size of the remaining string."
   ]
  },
  {
   "cell_type": "markdown",
   "id": "6611fd66",
   "metadata": {
    "deletable": false,
    "editable": false
   },
   "source": [
    "#### Part 1.3 (5 pts)\n"
   ]
  },
  {
   "cell_type": "markdown",
   "id": "9f806e1f",
   "metadata": {
    "deletable": false,
    "editable": false
   },
   "source": [
    "Write a function called `num_non_vowels`.  It should take a string as its argument and return a number.  That number should be the number of characters in the argument string that aren't vowels. You should use the `disemvowel` function we provided above inside of the `num_non_vowels` function.\n",
    "\n",
    "*Hint:* The function `len` takes a string as its argument and returns the number of characters in it."
   ]
  },
  {
   "cell_type": "code",
   "execution_count": null,
   "id": "a1542794",
   "metadata": {
    "deletable": false,
    "tags": []
   },
   "outputs": [],
   "source": [
    "def num_non_vowels(text):\n",
    "    \"\"\"The number of characters in a string, minus the vowels.\"\"\"\n",
    "    ...\n",
    "\n",
    "# Try calling your function yourself to make sure the output is what\n",
    "# you expect. "
   ]
  },
  {
   "cell_type": "code",
   "execution_count": null,
   "id": "3e51c2dc",
   "metadata": {
    "deletable": false,
    "editable": false
   },
   "outputs": [],
   "source": [
    "grader.check(\"q1.3\")"
   ]
  },
  {
   "cell_type": "markdown",
   "id": "1e4a1b6e",
   "metadata": {
    "deletable": false,
    "editable": false
   },
   "source": [
    "Functions can also encapsulate code that *displays output* instead of computing a value. For example, if you call `print` inside a function, and then call that function, something will get printed.\n",
    "\n",
    "The `movies_by_year` dataset in the textbook has information about movie sales in recent years.  Suppose you'd like to display the year with the 5th-highest total gross movie sales, printed in a human-readable way.  You might do this:"
   ]
  },
  {
   "cell_type": "code",
   "execution_count": null,
   "id": "bca9bfcf",
   "metadata": {
    "deletable": false,
    "editable": false
   },
   "outputs": [],
   "source": [
    "movies_by_year = Table.read_table(\"movies_by_year.csv\")\n",
    "rank = 5\n",
    "fifth_from_top_movie_year = movies_by_year.sort(\"Total Gross\", descending=True).column(\"Year\").item(rank-1)\n",
    "print(\"Year number\", rank, \"for total gross movie sales was:\", fifth_from_top_movie_year)"
   ]
  },
  {
   "cell_type": "markdown",
   "id": "500a393a",
   "metadata": {
    "deletable": false,
    "editable": false
   },
   "source": [
    "After writing this, you realize you also wanted to print out the 2nd and 3rd-highest years.  Instead of copying your code, you decide to put it in a function.  Since the rank varies, you make that an argument to your function."
   ]
  },
  {
   "cell_type": "markdown",
   "id": "9cee4519",
   "metadata": {
    "deletable": false,
    "editable": false
   },
   "source": [
    "#### Part 1.4 (5 pts)\n"
   ]
  },
  {
   "cell_type": "markdown",
   "id": "01905bbd",
   "metadata": {
    "deletable": false,
    "editable": false
   },
   "source": [
    "Write a function called `print_kth_top_movie_year`.  It should take a single argument, the rank of the year (like 2, 3, or 5 in the above examples).  It should print out a message like the one above.  \n",
    "\n",
    "*Note:* Your function shouldn't have a `return` statement."
   ]
  },
  {
   "cell_type": "code",
   "execution_count": null,
   "id": "7f3af822",
   "metadata": {
    "deletable": false,
    "tags": []
   },
   "outputs": [],
   "source": [
    "def print_kth_top_movie_year(k):\n",
    "    rank = ...\n",
    "    fifth_from_top_movie_year = ...\n",
    "    ...\n",
    "\n",
    "# Example calls to your function:\n",
    "print_kth_top_movie_year(2)\n",
    "print_kth_top_movie_year(3)"
   ]
  },
  {
   "cell_type": "code",
   "execution_count": null,
   "id": "284f296b",
   "metadata": {
    "deletable": false,
    "editable": false
   },
   "outputs": [],
   "source": [
    "# interact also allows you to pass in an array for a function argument. It will\n",
    "# then present a dropdown menu of options.dd\n",
    "_ = interact(print_kth_top_movie_year, k=np.arange(1, 10))"
   ]
  },
  {
   "cell_type": "markdown",
   "id": "6e837e90",
   "metadata": {
    "deletable": false,
    "editable": false
   },
   "source": [
    "#### `print` is not the same as `return`\n",
    "The `print_kth_top_movie_year(k)` function prints the total gross movie sales for the year that was provided! However, since we did not return any value in this function, we can not use it after we call it. Let's look at an example of another function that prints a value but does not return it."
   ]
  },
  {
   "cell_type": "code",
   "execution_count": null,
   "id": "c7624f4a",
   "metadata": {
    "deletable": false,
    "editable": false
   },
   "outputs": [],
   "source": [
    "def print_number_five():\n",
    "    print(5)"
   ]
  },
  {
   "cell_type": "code",
   "execution_count": null,
   "id": "001cea28",
   "metadata": {
    "deletable": false,
    "editable": false
   },
   "outputs": [],
   "source": [
    "print_number_five()"
   ]
  },
  {
   "cell_type": "markdown",
   "id": "0c6da319",
   "metadata": {
    "deletable": false,
    "editable": false
   },
   "source": [
    "However, if we try to use the output of `print_number_five()`, we see that the value `5` is printed but we get a TypeError when we try to add the number 2 to it!"
   ]
  },
  {
   "cell_type": "code",
   "execution_count": null,
   "id": "ea53e4e8",
   "metadata": {
    "deletable": false,
    "editable": false
   },
   "outputs": [],
   "source": [
    "print_number_five_output = print_number_five()\n",
    "print_number_five_output + 2"
   ]
  },
  {
   "cell_type": "markdown",
   "id": "c893d5ec",
   "metadata": {
    "deletable": false,
    "editable": false
   },
   "source": [
    "It may seem that `print_number_five()` is returning a value, 5. In reality, it just displays the number 5 to you without giving you the actual value! If your function prints out a value **without returning it** and you try to use that value, you will run into errors, so be careful!\n",
    "\n",
    "Explain to your neighbor or a staff member how you might add a line of code to the `print_number_five` function (after `print(5)`) so that the code `print_number_five_output + 5` would result in the value `10`, rather than an error."
   ]
  },
  {
   "cell_type": "markdown",
   "id": "8fcfa9fe",
   "metadata": {
    "deletable": false,
    "editable": false
   },
   "source": [
    "## 2. You're Done!\n"
   ]
  },
  {
   "cell_type": "markdown",
   "id": "155c5dc9",
   "metadata": {
    "deletable": false,
    "editable": false
   },
   "source": [
    "**Important submission information:** Follow these steps to submit your work:\n",
    "* Run the tests and verify that they pass as you expect. \n",
    "* Choose **Save Notebook** from the **File** menu.\n",
    "* **Run the final cell** and click the link below to download the zip file. \n",
    "\n",
    "Once you have downloaded that file, go to [Gradescope](https://www.gradescope.com/) and submit the zip file to the corresponding assignment. The name of this assignment is \"Prelab 4 Autograder\". **Be sure your work is saved before running the last cell!**\n",
    "\n",
    "Once you have submitted, your Gradescope assignment should show you passing all the tests you passed in your assignment notebook."
   ]
  },
  {
   "cell_type": "markdown",
   "id": "6bb7e171",
   "metadata": {
    "deletable": false,
    "editable": false
   },
   "source": [
    "---\n",
    "\n",
    "To double-check your work, the cell below will rerun all of the autograder tests."
   ]
  },
  {
   "cell_type": "code",
   "execution_count": null,
   "id": "fb2b41ce",
   "metadata": {
    "deletable": false,
    "editable": false
   },
   "outputs": [],
   "source": [
    "grader.check_all()"
   ]
  },
  {
   "cell_type": "markdown",
   "id": "d0593269",
   "metadata": {
    "deletable": false,
    "editable": false
   },
   "source": [
    "## Submission\n",
    "\n",
    "Make sure you have run all cells in your notebook in order before running the cell below, so that all images/graphs appear in the output. The cell below will generate a zip file for you to submit. **Please save before exporting!**"
   ]
  },
  {
   "cell_type": "code",
   "execution_count": null,
   "id": "10742ada",
   "metadata": {
    "deletable": false,
    "editable": false
   },
   "outputs": [],
   "source": [
    "# Save your notebook first, then run this cell to export your submission.\n",
    "grader.export()"
   ]
  },
  {
   "cell_type": "markdown",
   "id": "1360f023",
   "metadata": {},
   "source": [
    " "
   ]
  }
 ],
 "metadata": {
  "kernelspec": {
   "display_name": "Python 3 (ipykernel)",
   "language": "python",
   "name": "python3"
  },
  "language_info": {
   "codemirror_mode": {
    "name": "ipython",
    "version": 3
   },
   "file_extension": ".py",
   "mimetype": "text/x-python",
   "name": "python",
   "nbconvert_exporter": "python",
   "pygments_lexer": "ipython3",
   "version": "3.9.13"
  },
  "otter": {
   "tests": {
    "q1.1": {
     "name": "q1.1",
     "points": null,
     "suites": [
      {
       "cases": [
        {
         "code": ">>> twenty_percent == 20.0\nTrue",
         "hidden": false,
         "locked": false
        }
       ],
       "scored": true,
       "setup": "",
       "teardown": "",
       "type": "doctest"
      }
     ]
    },
    "q1.2": {
     "name": "q1.2",
     "points": null,
     "suites": [
      {
       "cases": [
        {
         "code": ">>> np.isclose(a_percentage, 70.711)\nTrue",
         "hidden": false,
         "locked": false
        }
       ],
       "scored": true,
       "setup": "",
       "teardown": "",
       "type": "doctest"
      }
     ]
    },
    "q1.3": {
     "name": "q1.3",
     "points": null,
     "suites": [
      {
       "cases": [
        {
         "code": ">>> num_non_vowels(\"hoo hoo hoo\") == 5\nTrue",
         "hidden": false,
         "locked": false
        }
       ],
       "scored": true,
       "setup": "",
       "teardown": "",
       "type": "doctest"
      }
     ]
    }
   }
  },
  "widgets": {
   "application/vnd.jupyter.widget-state+json": {
    "state": {
     "5155de5d6ced4673aa04331ece42eb92": {
      "model_module": "@jupyter-widgets/base",
      "model_module_version": "1.2.0",
      "model_name": "LayoutModel",
      "state": {
       "_model_module": "@jupyter-widgets/base",
       "_model_module_version": "1.2.0",
       "_model_name": "LayoutModel",
       "_view_count": null,
       "_view_module": "@jupyter-widgets/base",
       "_view_module_version": "1.2.0",
       "_view_name": "LayoutView",
       "align_content": null,
       "align_items": null,
       "align_self": null,
       "border": null,
       "bottom": null,
       "display": null,
       "flex": null,
       "flex_flow": null,
       "grid_area": null,
       "grid_auto_columns": null,
       "grid_auto_flow": null,
       "grid_auto_rows": null,
       "grid_column": null,
       "grid_gap": null,
       "grid_row": null,
       "grid_template_areas": null,
       "grid_template_columns": null,
       "grid_template_rows": null,
       "height": null,
       "justify_content": null,
       "justify_items": null,
       "left": null,
       "margin": null,
       "max_height": null,
       "max_width": null,
       "min_height": null,
       "min_width": null,
       "object_fit": null,
       "object_position": null,
       "order": null,
       "overflow": null,
       "overflow_x": null,
       "overflow_y": null,
       "padding": null,
       "right": null,
       "top": null,
       "visibility": null,
       "width": null
      }
     },
     "6dfa468b8bbd4aa48bce602b71c0eb1f": {
      "model_module": "@jupyter-widgets/controls",
      "model_module_version": "1.5.0",
      "model_name": "DropdownModel",
      "state": {
       "_dom_classes": [],
       "_model_module": "@jupyter-widgets/controls",
       "_model_module_version": "1.5.0",
       "_model_name": "DropdownModel",
       "_options_labels": [
        "1",
        "2",
        "3",
        "4",
        "5",
        "6",
        "7",
        "8",
        "9"
       ],
       "_view_count": null,
       "_view_module": "@jupyter-widgets/controls",
       "_view_module_version": "1.5.0",
       "_view_name": "DropdownView",
       "description": "k",
       "description_tooltip": null,
       "disabled": false,
       "index": 0,
       "layout": "IPY_MODEL_e345ee09aff243ef88c5f8881fe64794",
       "style": "IPY_MODEL_8fdd1eca9a114e199ba5c249677d144c"
      }
     },
     "6e6f085eda764816aa1c6130eb92e25e": {
      "model_module": "@jupyter-widgets/output",
      "model_module_version": "1.0.0",
      "model_name": "OutputModel",
      "state": {
       "_dom_classes": [],
       "_model_module": "@jupyter-widgets/output",
       "_model_module_version": "1.0.0",
       "_model_name": "OutputModel",
       "_view_count": null,
       "_view_module": "@jupyter-widgets/output",
       "_view_module_version": "1.0.0",
       "_view_name": "OutputView",
       "layout": "IPY_MODEL_dd7efe4c01e347d08d15d83ac1c1e948",
       "msg_id": "",
       "outputs": []
      }
     },
     "8fdd1eca9a114e199ba5c249677d144c": {
      "model_module": "@jupyter-widgets/controls",
      "model_module_version": "1.5.0",
      "model_name": "DescriptionStyleModel",
      "state": {
       "_model_module": "@jupyter-widgets/controls",
       "_model_module_version": "1.5.0",
       "_model_name": "DescriptionStyleModel",
       "_view_count": null,
       "_view_module": "@jupyter-widgets/base",
       "_view_module_version": "1.2.0",
       "_view_name": "StyleView",
       "description_width": ""
      }
     },
     "9614788b96084804a077efddb21f62f4": {
      "model_module": "@jupyter-widgets/controls",
      "model_module_version": "1.5.0",
      "model_name": "VBoxModel",
      "state": {
       "_dom_classes": [
        "widget-interact"
       ],
       "_model_module": "@jupyter-widgets/controls",
       "_model_module_version": "1.5.0",
       "_model_name": "VBoxModel",
       "_view_count": null,
       "_view_module": "@jupyter-widgets/controls",
       "_view_module_version": "1.5.0",
       "_view_name": "VBoxView",
       "box_style": "",
       "children": [
        "IPY_MODEL_6dfa468b8bbd4aa48bce602b71c0eb1f",
        "IPY_MODEL_6e6f085eda764816aa1c6130eb92e25e"
       ],
       "layout": "IPY_MODEL_5155de5d6ced4673aa04331ece42eb92"
      }
     },
     "dd7efe4c01e347d08d15d83ac1c1e948": {
      "model_module": "@jupyter-widgets/base",
      "model_module_version": "1.2.0",
      "model_name": "LayoutModel",
      "state": {
       "_model_module": "@jupyter-widgets/base",
       "_model_module_version": "1.2.0",
       "_model_name": "LayoutModel",
       "_view_count": null,
       "_view_module": "@jupyter-widgets/base",
       "_view_module_version": "1.2.0",
       "_view_name": "LayoutView",
       "align_content": null,
       "align_items": null,
       "align_self": null,
       "border": null,
       "bottom": null,
       "display": null,
       "flex": null,
       "flex_flow": null,
       "grid_area": null,
       "grid_auto_columns": null,
       "grid_auto_flow": null,
       "grid_auto_rows": null,
       "grid_column": null,
       "grid_gap": null,
       "grid_row": null,
       "grid_template_areas": null,
       "grid_template_columns": null,
       "grid_template_rows": null,
       "height": null,
       "justify_content": null,
       "justify_items": null,
       "left": null,
       "margin": null,
       "max_height": null,
       "max_width": null,
       "min_height": null,
       "min_width": null,
       "object_fit": null,
       "object_position": null,
       "order": null,
       "overflow": null,
       "overflow_x": null,
       "overflow_y": null,
       "padding": null,
       "right": null,
       "top": null,
       "visibility": null,
       "width": null
      }
     },
     "e345ee09aff243ef88c5f8881fe64794": {
      "model_module": "@jupyter-widgets/base",
      "model_module_version": "1.2.0",
      "model_name": "LayoutModel",
      "state": {
       "_model_module": "@jupyter-widgets/base",
       "_model_module_version": "1.2.0",
       "_model_name": "LayoutModel",
       "_view_count": null,
       "_view_module": "@jupyter-widgets/base",
       "_view_module_version": "1.2.0",
       "_view_name": "LayoutView",
       "align_content": null,
       "align_items": null,
       "align_self": null,
       "border": null,
       "bottom": null,
       "display": null,
       "flex": null,
       "flex_flow": null,
       "grid_area": null,
       "grid_auto_columns": null,
       "grid_auto_flow": null,
       "grid_auto_rows": null,
       "grid_column": null,
       "grid_gap": null,
       "grid_row": null,
       "grid_template_areas": null,
       "grid_template_columns": null,
       "grid_template_rows": null,
       "height": null,
       "justify_content": null,
       "justify_items": null,
       "left": null,
       "margin": null,
       "max_height": null,
       "max_width": null,
       "min_height": null,
       "min_width": null,
       "object_fit": null,
       "object_position": null,
       "order": null,
       "overflow": null,
       "overflow_x": null,
       "overflow_y": null,
       "padding": null,
       "right": null,
       "top": null,
       "visibility": null,
       "width": null
      }
     }
    },
    "version_major": 2,
    "version_minor": 0
   }
  }
 },
 "nbformat": 4,
 "nbformat_minor": 5
}
