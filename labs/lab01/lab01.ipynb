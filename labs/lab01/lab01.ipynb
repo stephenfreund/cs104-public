{
 "cells": [
  {
   "cell_type": "code",
   "execution_count": null,
   "id": "f9fa3e9d",
   "metadata": {
    "deletable": false,
    "editable": false
   },
   "outputs": [],
   "source": [
    "# Initialize Otter\n",
    "import otter\n",
    "grader = otter.Notebook(\"lab01.ipynb\")"
   ]
  },
  {
   "cell_type": "markdown",
   "id": "3f7e44a4",
   "metadata": {
    "deletable": false,
    "editable": false
   },
   "source": [
    "# Lab 1: Causality and Expressions\n",
    "\n",
    "Please complete this notebook by filling in the cells provided. Before you begin, execute the previous cell to load the provided tests.\n",
    "\n",
    "For all problems that you must write explanations and sentences for, you **must** provide your answer in the designated space. Moreover, throughout this homework and all future ones, please be sure to not re-assign variables throughout the notebook! For example, if you use `max_temperature` in your answer to one question, do not reassign it later on. Otherwise, you will fail tests that you thought you were passing previously!\n",
    "\n",
    "**Note: This homework has hidden tests on it. That means even though tests may say 100% passed, doesn't mean your final grade will be 100%. We will be running more tests for correctness once everyone turns in the homework.**"
   ]
  },
  {
   "cell_type": "markdown",
   "id": "8abcc91a",
   "metadata": {
    "deletable": false,
    "editable": false
   },
   "source": [
    "## 1. Scary Arithmetic (5 pts)\n",
    "\n"
   ]
  },
  {
   "cell_type": "markdown",
   "id": "b54cadb7",
   "metadata": {
    "deletable": false,
    "editable": false
   },
   "source": [
    "<!-- BEGIN QUESTION -->\n",
    "\n",
    "#### Part 1.1 (5 pts)\n"
   ]
  },
  {
   "cell_type": "markdown",
   "id": "7ba83d97",
   "metadata": {
    "deletable": false,
    "editable": false
   },
   "source": [
    "An ad for ADT Security Systems says,\n",
    "\n",
    "> \"When you go on vacation, burglars go to work [...] According to FBI statistics, over 25% of home burglaries occur between Memorial Day to Labor Day.\"\n",
    "\n",
    "Do the data in the ad support the claim that burglars are more likely to go to work during the time between Memorial Day to Labor Day? Please explain your answer.\n",
    "\n",
    "**Notes:** You can assume that \"over 25%\" means only slightly over. Had it been much over, say closer to 30%, then the marketers would have said so. Also, Memorial Day is observed on the last Monday of May and Labor Day is observed on the first Monday of September."
   ]
  },
  {
   "cell_type": "markdown",
   "id": "65727bee",
   "metadata": {},
   "source": [
    "_Type your answer here, replacing this text._"
   ]
  },
  {
   "cell_type": "markdown",
   "id": "c222e5ed",
   "metadata": {
    "deletable": false,
    "editable": false
   },
   "source": [
    "<!-- END QUESTION -->\n",
    "\n",
    "## 2. Characters in Little Women (10 pts)\n",
    "\n"
   ]
  },
  {
   "cell_type": "markdown",
   "id": "b030618c",
   "metadata": {
    "deletable": false,
    "editable": false
   },
   "source": [
    "In lecture, we counted the number of times that the literary characters were named in each chapter of the classic book, [*Little Women*](https://www.inferentialthinking.com/chapters/01/3/1/literary-characters). In computer science, the word \"character\" also refers to a letter, digit, space, or punctuation mark; any single element of a text. The following code generates a scatter plot in which each dot corresponds to a chapter of *Little Women*. The horizontal position of a dot measures the number of periods in the chapter. The vertical position measures the total number of characters."
   ]
  },
  {
   "cell_type": "code",
   "execution_count": null,
   "id": "9922bbcb",
   "metadata": {
    "deletable": false,
    "editable": false,
    "tags": []
   },
   "outputs": [],
   "source": [
    "# This cell contains code that hasn't yet been covered in the course,\n",
    "# but you should be able to interpret the scatter plot it generates.\n",
    "\n",
    "from datascience import *\n",
    "from urllib.request import urlopen\n",
    "import numpy as np\n",
    "%matplotlib inline\n",
    "\n",
    "little_women_url = 'https://www.inferentialthinking.com/data/little_women.txt'\n",
    "chapters = urlopen(little_women_url).read().decode().split('CHAPTER ')[1:]\n",
    "text = Table().with_column('Chapters', chapters)\n",
    "Table().with_columns(\n",
    "    'Periods',    np.char.count(chapters, '.'),\n",
    "    'Characters', text.apply(len, 0)\n",
    "    ).scatter(0)"
   ]
  },
  {
   "cell_type": "markdown",
   "id": "3e8d1c95",
   "metadata": {
    "deletable": false,
    "editable": false
   },
   "source": [
    "#### Part 2.1 (5 pts)\n"
   ]
  },
  {
   "cell_type": "markdown",
   "id": "b1137741",
   "metadata": {
    "deletable": false,
    "editable": false
   },
   "source": [
    "Around how many periods are there in the chapter with the most characters? Assign either 1, 2, 3, 4, or 5 to the name `characters_q1` below.\n",
    "\n",
    "1. 250\n",
    "2. 390\n",
    "3. 440\n",
    "4. 32,000\n",
    "5. 40,000"
   ]
  },
  {
   "cell_type": "code",
   "execution_count": null,
   "id": "066199d5",
   "metadata": {
    "deletable": false,
    "tags": []
   },
   "outputs": [],
   "source": [
    "characters_q1 = ..."
   ]
  },
  {
   "cell_type": "code",
   "execution_count": null,
   "id": "2a78f69d",
   "metadata": {
    "deletable": false,
    "editable": false
   },
   "outputs": [],
   "source": [
    "grader.check(\"q2.1\")"
   ]
  },
  {
   "cell_type": "markdown",
   "id": "4c3f031d",
   "metadata": {
    "deletable": false,
    "editable": false
   },
   "source": [
    "The test above checks that your answers are in the correct format. **This test does not check that you answered correctly**, only that you assigned a number successfully in each multiple-choice answer cell."
   ]
  },
  {
   "cell_type": "markdown",
   "id": "6caeee7a",
   "metadata": {
    "deletable": false,
    "editable": false
   },
   "source": [
    "#### Part  2.2 (5 pts)\n"
   ]
  },
  {
   "cell_type": "markdown",
   "id": "4e84ad45",
   "metadata": {
    "deletable": false,
    "editable": false
   },
   "source": [
    "Which of the following chapters has the most characters per period? Assign either 1, 2, or 3 to the name `characters_q2` below.\n",
    "1. The chapter with about 60 periods\n",
    "2. The chapter with about 350 periods\n",
    "3. The chapter with about 440 periods"
   ]
  },
  {
   "cell_type": "code",
   "execution_count": null,
   "id": "d12a7c4d",
   "metadata": {
    "deletable": false,
    "tags": []
   },
   "outputs": [],
   "source": [
    "characters_q2 = ..."
   ]
  },
  {
   "cell_type": "code",
   "execution_count": null,
   "id": "ed943ccf",
   "metadata": {
    "deletable": false,
    "editable": false
   },
   "outputs": [],
   "source": [
    "grader.check(\"q2.2\")"
   ]
  },
  {
   "cell_type": "markdown",
   "id": "db030799",
   "metadata": {
    "deletable": false,
    "editable": false
   },
   "source": [
    "Again, the test above checks that your answers are in the correct format, but not that you have answered correctly."
   ]
  },
  {
   "cell_type": "markdown",
   "id": "4eb3e2ce",
   "metadata": {
    "deletable": false,
    "editable": false
   },
   "source": [
    "To discover more interesting facts from this plot, read [Section 1.3.2](https://inferentialthinking.com/chapters/01/3/2/Another_Kind_Of_Character.html) of the textbook."
   ]
  },
  {
   "cell_type": "markdown",
   "id": "bfaff924",
   "metadata": {
    "deletable": false,
    "editable": false,
    "tags": []
   },
   "source": [
    "## 3. Names and Assignment Statements (15 pts)\n",
    "\n"
   ]
  },
  {
   "cell_type": "markdown",
   "id": "f2097927",
   "metadata": {
    "deletable": false,
    "editable": false,
    "tags": []
   },
   "source": [
    "#### Part  3.1 (5 pts)\n"
   ]
  },
  {
   "cell_type": "markdown",
   "id": "fbb7acf8",
   "metadata": {
    "deletable": false,
    "editable": false
   },
   "source": [
    "When you run the following cell, Python produces a cryptic error message."
   ]
  },
  {
   "cell_type": "code",
   "execution_count": null,
   "id": "be22e659",
   "metadata": {
    "deletable": false,
    "editable": false
   },
   "outputs": [],
   "source": [
    "4 = 2 + 2"
   ]
  },
  {
   "cell_type": "markdown",
   "id": "6389498a",
   "metadata": {
    "deletable": false,
    "editable": false
   },
   "source": [
    "Choose the best explanation of what's wrong with the code, and then assign 1, 2, 3, or 4 to `names_q1` below to indicate your answer.\n",
    "\n",
    "1. Python is smart and already knows `4 = 2 + 2`.\n",
    "\n",
    "2. `4` is already a defined number, and it doesn't make sense to make a number be a name for something else. In Python, \"`x = 2 + 2`\" means \"assign `x` as the name for the value of `2 + 2`.\"\n",
    "\n",
    "3. It should be `2 + 2 = 4`."
   ]
  },
  {
   "cell_type": "code",
   "execution_count": null,
   "id": "7e20c73d",
   "metadata": {
    "deletable": false,
    "tags": []
   },
   "outputs": [],
   "source": [
    "names_q1 = ..."
   ]
  },
  {
   "cell_type": "code",
   "execution_count": null,
   "id": "2f863668",
   "metadata": {
    "deletable": false,
    "editable": false
   },
   "outputs": [],
   "source": [
    "grader.check(\"q3.1\")"
   ]
  },
  {
   "cell_type": "markdown",
   "id": "20eb7ee8",
   "metadata": {
    "deletable": false,
    "editable": false,
    "tags": []
   },
   "source": [
    "#### Part  3.2 (5 pts)\n"
   ]
  },
  {
   "cell_type": "markdown",
   "id": "ebfe541f",
   "metadata": {
    "deletable": false,
    "editable": false
   },
   "source": [
    "When you run the following cell, Python will produce another cryptic error message."
   ]
  },
  {
   "cell_type": "code",
   "execution_count": null,
   "id": "f601e865",
   "metadata": {
    "deletable": false,
    "editable": false
   },
   "outputs": [],
   "source": [
    "two = 3\n",
    "six = two plus two"
   ]
  },
  {
   "cell_type": "markdown",
   "id": "cfe3dcf9",
   "metadata": {
    "deletable": false,
    "editable": false
   },
   "source": [
    "Choose the best explanation of what's wrong with the code and assign 1, 2, 3, or 4 to `names_q2` below to indicate your answer.\n",
    "\n",
    "1. The `plus` operation only applies to numbers, not the word \"two\".\n",
    "\n",
    "2. The name \"two\" cannot be assigned to the number 3.\n",
    "\n",
    "3. Two plus two is four, not six.\n",
    "\n",
    "4. Python cannot interpret the name `plus`, as it has not been defined.\n",
    "\n",
    "<!--\n",
    "BEGIN QUESTION\n",
    "name: q3_2\n",
    "manual: False\n",
    "points:\n",
    " - 0\n",
    " - 4\n",
    "-->"
   ]
  },
  {
   "cell_type": "code",
   "execution_count": null,
   "id": "69d0f597",
   "metadata": {
    "deletable": false,
    "tags": []
   },
   "outputs": [],
   "source": [
    "names_q2 = ..."
   ]
  },
  {
   "cell_type": "code",
   "execution_count": null,
   "id": "cc6271af",
   "metadata": {
    "deletable": false,
    "editable": false
   },
   "outputs": [],
   "source": [
    "grader.check(\"q3.2\")"
   ]
  },
  {
   "cell_type": "markdown",
   "id": "3dc38497",
   "metadata": {
    "deletable": false,
    "editable": false
   },
   "source": [
    "#### Part 3.3 (5 pts)\n"
   ]
  },
  {
   "cell_type": "markdown",
   "id": "51cff182",
   "metadata": {
    "deletable": false,
    "editable": false
   },
   "source": [
    "When you run the following cell, Python will, yet again, produce another cryptic error message."
   ]
  },
  {
   "cell_type": "code",
   "execution_count": null,
   "id": "b0faf06c",
   "metadata": {
    "deletable": false,
    "editable": false
   },
   "outputs": [],
   "source": [
    "x = print(5)\n",
    "y = x + 2"
   ]
  },
  {
   "cell_type": "markdown",
   "id": "0beff453",
   "metadata": {
    "deletable": false,
    "editable": false
   },
   "source": [
    "Choose the best explanation of what's wrong with the code and assign 1, 2, or 3 to `names_q3` below to indicate your answer.\n",
    "\n",
    "1. Python doesn't want `y` to be assigned.\n",
    "\n",
    "2. The `print` operation is meant for displaying values to the programmer, not for assigning values!\n",
    "\n",
    "3. Python can’t do addition between one name and one number. It has to be 2 numbers or 2 predefined names.\n",
    "\n",
    "<!--\n",
    "BEGIN QUESTION\n",
    "name: q3_3\n",
    "manual: false\n",
    "points:\n",
    " - 0\n",
    " - 4\n",
    "-->"
   ]
  },
  {
   "cell_type": "code",
   "execution_count": null,
   "id": "e798794a",
   "metadata": {
    "deletable": false,
    "tags": []
   },
   "outputs": [],
   "source": [
    "names_q3 = ..."
   ]
  },
  {
   "cell_type": "code",
   "execution_count": null,
   "id": "bf8b5c1e",
   "metadata": {
    "deletable": false,
    "editable": false
   },
   "outputs": [],
   "source": [
    "grader.check(\"q3.3\")"
   ]
  },
  {
   "cell_type": "markdown",
   "id": "6cc7f02b",
   "metadata": {
    "deletable": false,
    "editable": false
   },
   "source": [
    "## 4. Differences between Majors (20 pts)\n",
    "\n"
   ]
  },
  {
   "cell_type": "markdown",
   "id": "251d5e4f",
   "metadata": {
    "deletable": false,
    "editable": false
   },
   "source": [
    "Adapted from information found on the Williams website, the table below displays the average number of degree recipients in three majors for the years 2008-2012 and 2011-2222.\n",
    "\n",
    "| Major                              | 2008-2012    | 2018-2021   |\n",
    "|------------------------------------|--------------|-------------|\n",
    "| Comparative Literature             |  5           | 11          |\n",
    "| Psychology                         | 62           | 45          |\n",
    "| Mathematics                        | 53           | 61          |\n"
   ]
  },
  {
   "cell_type": "markdown",
   "id": "26c7f86a",
   "metadata": {
    "deletable": false,
    "editable": false
   },
   "source": [
    "#### Part 4.1 (5 pts)\n"
   ]
  },
  {
   "cell_type": "markdown",
   "id": "70fb9cb9",
   "metadata": {
    "deletable": false,
    "editable": false
   },
   "source": [
    "Suppose you want to find the **biggest** absolute difference between the numbers of degree recipients in the two years, among the three majors.\n",
    "\n",
    "In the cell below, compute this value and call it `biggest_change`. Use a single expression (a single line of code) to compute the answer. Let Python perform all the arithmetic (like subtracting 5 from 11) rather than simplifying the expression yourself. The built-in `abs` function takes a numerical input and returns the absolute value. The built-in `max` function can take in 3 arguments and returns the maximum of the three numbers."
   ]
  },
  {
   "cell_type": "code",
   "execution_count": null,
   "id": "410a7643",
   "metadata": {
    "deletable": false,
    "tags": []
   },
   "outputs": [],
   "source": [
    "biggest_change = ...\n",
    "biggest_change"
   ]
  },
  {
   "cell_type": "code",
   "execution_count": null,
   "id": "a26d944f",
   "metadata": {
    "deletable": false,
    "editable": false
   },
   "outputs": [],
   "source": [
    "grader.check(\"q4.1\")"
   ]
  },
  {
   "cell_type": "markdown",
   "id": "8aa89b47",
   "metadata": {
    "deletable": false,
    "editable": false,
    "tags": []
   },
   "source": [
    "#### Part 4.2 (5 pts)\n"
   ]
  },
  {
   "cell_type": "markdown",
   "id": "dd6e3333",
   "metadata": {
    "deletable": false,
    "editable": false
   },
   "source": [
    "Which of the three majors had the **smallest** absolute difference? Assign `smallest_change_major` to 1, 2, or 3 where each number corresponds to the following major:\n",
    "\n",
    "1. Comparative Literature\n",
    "2. Psychology\n",
    "3. Mathematics\n",
    "\n",
    "Choose the number that corresponds to the major with the smallest absolute difference.\n",
    "\n",
    "You should be able to answer by rough mental arithmetic, without having to calculate the exact value for each major."
   ]
  },
  {
   "cell_type": "code",
   "execution_count": null,
   "id": "b2de166c",
   "metadata": {
    "deletable": false,
    "tags": []
   },
   "outputs": [],
   "source": [
    "smallest_change_major = ...\n",
    "smallest_change_major"
   ]
  },
  {
   "cell_type": "code",
   "execution_count": null,
   "id": "fe7a68cf",
   "metadata": {
    "deletable": false,
    "editable": false
   },
   "outputs": [],
   "source": [
    "grader.check(\"q4.2\")"
   ]
  },
  {
   "cell_type": "markdown",
   "id": "ec5678bc",
   "metadata": {
    "deletable": false,
    "editable": false,
    "tags": []
   },
   "source": [
    "#### Part 4.3 (5 pts)\n"
   ]
  },
  {
   "cell_type": "markdown",
   "id": "6d72fec3",
   "metadata": {
    "deletable": false,
    "editable": false,
    "tags": []
   },
   "source": [
    "For each major, define the “relative change” to be the following: $\\large{\\frac{\\text{absolute difference}}{\\text{value in 2008-2012}} * 100}$ \n",
    "\n",
    "Fill in the code below such that `gws_relative_change`, `linguistics_relative_change` and `rhetoric_relative_change` are assigned to the relative changes for their respective majors."
   ]
  },
  {
   "cell_type": "code",
   "execution_count": null,
   "id": "0cfbc648",
   "metadata": {
    "deletable": false,
    "for_assignment_type": "student",
    "tags": []
   },
   "outputs": [],
   "source": [
    "complit_relative_change = (abs(...) / 5) * 100\n",
    "\n",
    "psych_relative_change = ...\n",
    "math_relative_change = ...\n",
    "complit_relative_change, psych_relative_change, math_relative_change"
   ]
  },
  {
   "cell_type": "code",
   "execution_count": null,
   "id": "8370339d",
   "metadata": {
    "deletable": false,
    "editable": false
   },
   "outputs": [],
   "source": [
    "grader.check(\"q4.3\")"
   ]
  },
  {
   "cell_type": "markdown",
   "id": "57bb3c54",
   "metadata": {
    "deletable": false,
    "editable": false
   },
   "source": [
    "#### Part 4.4 (5 pts)\n"
   ]
  },
  {
   "cell_type": "markdown",
   "id": "688b7501",
   "metadata": {
    "deletable": false,
    "editable": false
   },
   "source": [
    "Assign `biggest_rel_change_major` to 1, 2, or 3 where each number corresponds to to the following: \n",
    "\n",
    "1. Comparative Literature\n",
    "2. Psychology\n",
    "3. Mathematics\n",
    "\n",
    "Choose the number that corresponds to the major with the biggest relative change. "
   ]
  },
  {
   "cell_type": "code",
   "execution_count": null,
   "id": "f0d38f24",
   "metadata": {
    "deletable": false,
    "tags": []
   },
   "outputs": [],
   "source": [
    "# Assign biggest_rel_change_major to the number corresponding to the major with the biggest relative change.\n",
    "biggest_rel_change_major = ...\n",
    "biggest_rel_change_major"
   ]
  },
  {
   "cell_type": "code",
   "execution_count": null,
   "id": "9d0d94fe",
   "metadata": {
    "deletable": false,
    "editable": false
   },
   "outputs": [],
   "source": [
    "grader.check(\"q4.4\")"
   ]
  },
  {
   "cell_type": "markdown",
   "id": "ce7b13dd",
   "metadata": {
    "deletable": false,
    "editable": false,
    "tags": []
   },
   "source": [
    "## 5. Nearsightedness Study (20 pts)\n",
    "\n"
   ]
  },
  {
   "cell_type": "markdown",
   "id": "730e72f0",
   "metadata": {
    "deletable": false,
    "editable": false
   },
   "source": [
    "Myopia, or nearsightedness, results from a number of genetic and environmental factors. In 1999, Quinn et al studied the relation between myopia and ambient lighting at night (for example, from nightlights or room lights) during childhood."
   ]
  },
  {
   "cell_type": "markdown",
   "id": "9eac67a2",
   "metadata": {
    "deletable": false,
    "editable": false
   },
   "source": [
    "<!-- BEGIN QUESTION -->\n",
    "\n",
    "#### Part 5.1 (5 pts)\n"
   ]
  },
  {
   "cell_type": "markdown",
   "id": "639d02d1",
   "metadata": {
    "deletable": false,
    "editable": false
   },
   "source": [
    " The data were gathered by the following procedure, reported in the study. \"Between January and June 1998, parents of children aged 2-16 years [...] that were seen as outpatients in a university pediatric ophthalmology clinic completed a questionnaire on the child’s light exposure both at present and before the age of 2 years.\" Was this study observational, or was it a controlled experiment? Explain. "
   ]
  },
  {
   "cell_type": "markdown",
   "id": "1190885c",
   "metadata": {},
   "source": [
    "_Type your answer here, replacing this text._"
   ]
  },
  {
   "cell_type": "markdown",
   "id": "c2ccc50b",
   "metadata": {
    "deletable": false,
    "editable": false
   },
   "source": [
    "<!-- END QUESTION -->\n",
    "\n",
    "<!-- BEGIN QUESTION -->\n",
    "\n",
    "#### Part 5.2 (5 pts)\n"
   ]
  },
  {
   "cell_type": "markdown",
   "id": "437ff4f1",
   "metadata": {
    "deletable": false,
    "editable": false
   },
   "source": [
    " The study found that of the children who slept with a room light on before the age of 2, 55% were myopic. Of the children who slept with a night light on before the age of 2, 34% were myopic. Of the children who slept in the dark before the age of 2, 10% were myopic. The study concluded that, \"The prevalence of myopia [...] during childhood was strongly associated with ambient light exposure during sleep at night in the first two years after birth.\"\n",
    "\n",
    "Do the data support this statement? You may interpret \"strongly\" in any reasonable qualitative way."
   ]
  },
  {
   "cell_type": "markdown",
   "id": "37fd35d6",
   "metadata": {},
   "source": [
    "_Type your answer here, replacing this text._"
   ]
  },
  {
   "cell_type": "markdown",
   "id": "b9a03e4d",
   "metadata": {
    "deletable": false,
    "editable": false
   },
   "source": [
    "<!-- END QUESTION -->\n",
    "\n",
    "<!-- BEGIN QUESTION -->\n",
    "\n",
    "#### Part 5.3 (5 pts)\n"
   ]
  },
  {
   "cell_type": "markdown",
   "id": "9b4357bf",
   "metadata": {
    "deletable": false,
    "editable": false
   },
   "source": [
    " On May 13, 1999, CNN reported the results of this study under the headline, \"Night light may lead to nearsightedness.\" Does the conclusion of the study claim that night light causes nearsightedness?"
   ]
  },
  {
   "cell_type": "markdown",
   "id": "05d8218c",
   "metadata": {},
   "source": [
    "_Type your answer here, replacing this text._"
   ]
  },
  {
   "cell_type": "markdown",
   "id": "8ca10ccf",
   "metadata": {
    "deletable": false,
    "editable": false
   },
   "source": [
    "<!-- END QUESTION -->\n",
    "\n",
    "<!-- BEGIN QUESTION -->\n",
    "\n",
    "#### Part 5.4 (5 pts)\n"
   ]
  },
  {
   "cell_type": "markdown",
   "id": "e16b024b",
   "metadata": {
    "deletable": false,
    "editable": false
   },
   "source": [
    " The final paragraph of the CNN report said that \"several eye specialists\" had pointed out that the study should have accounted for heredity.\n",
    "\n",
    "Myopia is passed down from parents to children. Myopic parents are more likely to have myopic children, and may also be more likely to leave lights on habitually (since the parents have poor vision). In what way does the knowledge of this possible genetic link affect how we interpret the data from the study? \n"
   ]
  },
  {
   "cell_type": "markdown",
   "id": "1183465e",
   "metadata": {},
   "source": [
    "_Type your answer here, replacing this text._"
   ]
  },
  {
   "cell_type": "markdown",
   "id": "69ffa78a",
   "metadata": {
    "deletable": false,
    "editable": false
   },
   "source": [
    "<!-- END QUESTION -->\n",
    "\n",
    "Myopia, or nearsightedness, results from a number of genetic and environmental factors. In 1999, Quinn et al studied the relation between myopia and ambient lighting at night (for example, from nightlights or room lights) during childhood."
   ]
  },
  {
   "cell_type": "markdown",
   "id": "c8e97717",
   "metadata": {
    "deletable": false,
    "editable": false,
    "tags": []
   },
   "source": [
    "## 6. Studying the Survivors (5 pts)\n",
    "\n"
   ]
  },
  {
   "cell_type": "markdown",
   "id": "0988818e",
   "metadata": {
    "deletable": false,
    "editable": false
   },
   "source": [
    "#### Part 6.1 (5 pts)\n"
   ]
  },
  {
   "cell_type": "markdown",
   "id": "e9bd82a5",
   "metadata": {
    "deletable": false,
    "editable": false
   },
   "source": [
    "The Reverend Henry Whitehead was skeptical of John Snow’s conclusion about the Broad Street pump. After the Broad Street cholera epidemic ended, Whitehead set about trying to prove Snow wrong.  (The history of the event is detailed [here](http://www.ncbi.nlm.nih.gov/pmc/articles/PMC1034367/pdf/medhist00183-0026.pdf).)\n",
    "\n",
    "He realized that Snow had focused his analysis almost entirely on those who had died. Whitehead, therefore, investigated the drinking habits of people in the Broad Street area who had not died in the outbreak.\n",
    "\n",
    "What is the main reason it was important to study this group?\n",
    "\n",
    "1) If Whitehead had found that many people had drunk water from the Broad Street pump and not caught cholera, that would have been evidence against Snow's hypothesis.\n",
    "\n",
    "2) Survivors could provide additional information about what else could have caused the cholera, potentially unearthing another cause.\n",
    "\n",
    "3) Through considering the survivors, Whitehead could have identified a cure for cholera."
   ]
  },
  {
   "cell_type": "code",
   "execution_count": null,
   "id": "d6a2b2dc",
   "metadata": {
    "deletable": false,
    "tags": []
   },
   "outputs": [],
   "source": [
    "# Assign survivor_answer to 1, 2, or 3\n",
    "survivor_answer = ..."
   ]
  },
  {
   "cell_type": "code",
   "execution_count": null,
   "id": "12323bc5",
   "metadata": {
    "deletable": false,
    "editable": false
   },
   "outputs": [],
   "source": [
    "grader.check(\"q6.1\")"
   ]
  },
  {
   "cell_type": "markdown",
   "id": "33da37c2",
   "metadata": {
    "deletable": false,
    "editable": false,
    "tags": []
   },
   "source": [
    "**Note:** Whitehead ended up finding further proof that the Broad Street pump played the central role in spreading the disease to the people who lived near it. Eventually, he became one of Snow’s greatest defenders."
   ]
  },
  {
   "cell_type": "markdown",
   "id": "7b36b653",
   "metadata": {
    "deletable": false,
    "editable": false,
    "tags": []
   },
   "source": [
    "## 7. Job Opportunities & Education in Rural India (15 pts)\n",
    "\n"
   ]
  },
  {
   "cell_type": "markdown",
   "id": "4670d22b",
   "metadata": {
    "deletable": false,
    "editable": false
   },
   "source": [
    "#### Part 7.1 (5 pts)\n"
   ]
  },
  {
   "cell_type": "markdown",
   "id": "bfe5dae5",
   "metadata": {
    "deletable": false,
    "editable": false
   },
   "source": [
    "Which statement best describes the *treatment* and *control* groups for this study? Assign either 1, 2, or 3 to the name `jobs_q1` below.\n",
    "\n",
    "1. The treatment group was the 80 villages visited by recruiters, and the control group was the other 80 villages with no intervention.\n",
    "\n",
    "2. The treatment group was the 160 villages selected, and the control group was the rest of the villages outside the capital of India.\n",
    "\n",
    "3. There is no clear notion of *treatment* and *control* group in this study."
   ]
  },
  {
   "cell_type": "code",
   "execution_count": null,
   "id": "c64f66f5",
   "metadata": {
    "deletable": false,
    "tags": []
   },
   "outputs": [],
   "source": [
    "jobs_q1 = ..."
   ]
  },
  {
   "cell_type": "code",
   "execution_count": null,
   "id": "38c935a4",
   "metadata": {
    "deletable": false,
    "editable": false
   },
   "outputs": [],
   "source": [
    "grader.check(\"q7.1\")"
   ]
  },
  {
   "cell_type": "markdown",
   "id": "aab955e8",
   "metadata": {
    "deletable": false,
    "editable": false
   },
   "source": [
    "#### Part 7.2 (5 pts)\n"
   ]
  },
  {
   "cell_type": "markdown",
   "id": "df369bb3",
   "metadata": {
    "deletable": false,
    "editable": false
   },
   "source": [
    " Was this an observational study or a randomized controlled experiment? Assign either 1, 2, or 3 to the name `jobs_q2` below.\n",
    "\n",
    "1. This was an observational study.\n",
    "\n",
    "2. This was a randomized controlled experiment.  \n",
    "\n",
    "3. This was a randomized observational study."
   ]
  },
  {
   "cell_type": "code",
   "execution_count": null,
   "id": "504d9a5a",
   "metadata": {
    "deletable": false,
    "tags": []
   },
   "outputs": [],
   "source": [
    "jobs_q2 = ..."
   ]
  },
  {
   "cell_type": "code",
   "execution_count": null,
   "id": "f6f391fb",
   "metadata": {
    "deletable": false,
    "editable": false
   },
   "outputs": [],
   "source": [
    "grader.check(\"q7.2\")"
   ]
  },
  {
   "cell_type": "markdown",
   "id": "dd207774",
   "metadata": {
    "deletable": false,
    "editable": false
   },
   "source": [
    "<!-- BEGIN QUESTION -->\n",
    "\n",
    "#### Part 7.3 (5 pts)\n"
   ]
  },
  {
   "cell_type": "markdown",
   "id": "3262b116",
   "metadata": {
    "deletable": false,
    "editable": false
   },
   "source": [
    " The study reported, \"Girls aged 5-15 in villages that received the recruiting services were 3 to 5 percentage points more likely to be in school and experienced an increase in Body Mass Index, reflecting greater nutrition and/or medical care. However, there was no net gain in height. For boys, there was no change in any of these measures.\" Why do you think the author points out the lack of change in the boys?\n",
    "\n",
    "*Hint:* Remember the original hypothesis. The author believes that educating women in job opportunities will cause families to invest more in the women’s well-being."
   ]
  },
  {
   "cell_type": "markdown",
   "id": "f6648686",
   "metadata": {},
   "source": [
    "_Type your answer here, replacing this text._"
   ]
  },
  {
   "cell_type": "markdown",
   "id": "50d5decf",
   "metadata": {
    "deletable": false,
    "editable": false
   },
   "source": [
    "<!-- END QUESTION -->\n",
    "\n",
    "## 8. Welcome Survey\n"
   ]
  },
  {
   "cell_type": "markdown",
   "id": "f3182876",
   "metadata": {
    "deletable": false,
    "editable": false
   },
   "source": [
    "**Question 1:** Once you have submitted, please also complete the welcome survey in order to receive credit for homework 1.\n",
    "\n",
    "Welcome survey is here: https://forms.gle/pUbSa7AW1xVvnicYA"
   ]
  },
  {
   "cell_type": "markdown",
   "id": "9e6a48f9",
   "metadata": {
    "deletable": false,
    "editable": false
   },
   "source": [
    "Assign `survey` to the secret string given at the end of the welcome survey:\n",
    "\n",
    "<!--\n",
    "BEGIN QUESTION\n",
    "name: q8_1\n",
    "points:\n",
    " - 1\n",
    "-->"
   ]
  },
  {
   "cell_type": "code",
   "execution_count": null,
   "id": "c748459e",
   "metadata": {
    "deletable": false,
    "editable": false
   },
   "outputs": [],
   "source": [
    "survey = ..."
   ]
  },
  {
   "cell_type": "code",
   "execution_count": null,
   "id": "8661b930",
   "metadata": {
    "deletable": false,
    "editable": false
   },
   "outputs": [],
   "source": [
    "# grader.check(\"q8_1\")"
   ]
  },
  {
   "cell_type": "markdown",
   "id": "d00cea76",
   "metadata": {
    "deletable": false,
    "editable": false
   },
   "source": [
    "## You're done!\n",
    "\n",
    "**Important submission information:** Be sure to run the tests and verify that they all pass, then choose **Save Notebook** from the **File** menu, then **run the final cell** and click the link to download the zip file. Then, go to [Gradescope](https://www.gradescope.com/) and submit the zip file to the corresponding assignment. The name of this assignment is \"Lab 01 Autograder\". **It is your responsibility to make sure your work is saved before running the last cell.**\n",
    "\n",
    "Once you have submitted, your Gradescope assignment should look something like the following image if you have passed all tests.\n",
    "\n",
    "NOTE: *This is an image of a generic Gradescope submission result --- it does not included the same test numbers as this assignment's.*\n",
    "\n",
    "<img src=\"gradescope.png\">"
   ]
  },
  {
   "cell_type": "markdown",
   "id": "770839c9",
   "metadata": {
    "deletable": false,
    "editable": false
   },
   "source": [
    " "
   ]
  },
  {
   "cell_type": "markdown",
   "id": "6f6e37bd",
   "metadata": {
    "deletable": false,
    "editable": false
   },
   "source": [
    "---\n",
    "\n",
    "To double-check your work, the cell below will rerun all of the autograder tests."
   ]
  },
  {
   "cell_type": "code",
   "execution_count": null,
   "id": "aa6d143c",
   "metadata": {
    "deletable": false,
    "editable": false
   },
   "outputs": [],
   "source": [
    "grader.check_all()"
   ]
  },
  {
   "cell_type": "markdown",
   "id": "3fe76fc2",
   "metadata": {
    "deletable": false,
    "editable": false
   },
   "source": [
    "## Submission\n",
    "\n",
    "Make sure you have run all cells in your notebook in order before running the cell below, so that all images/graphs appear in the output. The cell below will generate a zip file for you to submit. **Please save before exporting!**"
   ]
  },
  {
   "cell_type": "code",
   "execution_count": null,
   "id": "45bb41cc",
   "metadata": {
    "deletable": false,
    "editable": false
   },
   "outputs": [],
   "source": [
    "# Save your notebook first, then run this cell to export your submission.\n",
    "grader.export()"
   ]
  },
  {
   "cell_type": "markdown",
   "id": "f0bbffc0",
   "metadata": {},
   "source": [
    " "
   ]
  }
 ],
 "metadata": {
  "kernelspec": {
   "display_name": "Python 3 (ipykernel)",
   "language": "python",
   "name": "python3"
  },
  "language_info": {
   "codemirror_mode": {
    "name": "ipython",
    "version": 3
   },
   "file_extension": ".py",
   "mimetype": "text/x-python",
   "name": "python",
   "nbconvert_exporter": "python",
   "pygments_lexer": "ipython3",
   "version": "3.9.1"
  },
  "otter": {
   "tests": {
    "q2.1": {
     "name": "q2.1",
     "points": null,
     "suites": [
      {
       "cases": [
        {
         "code": ">>> 1 <= characters_q1 <= 5\n",
         "hidden": false,
         "locked": false
        }
       ],
       "scored": true,
       "setup": "",
       "teardown": "",
       "type": "doctest"
      }
     ]
    },
    "q2.2": {
     "name": "q2.2",
     "points": null,
     "suites": [
      {
       "cases": [
        {
         "code": ">>> 1 <= characters_q2 <= 5\n",
         "hidden": false,
         "locked": false
        }
       ],
       "scored": true,
       "setup": "",
       "teardown": "",
       "type": "doctest"
      }
     ]
    },
    "q3.1": {
     "name": "q3.1",
     "points": null,
     "suites": [
      {
       "cases": [
        {
         "code": ">>> 1 <= names_q1 <= 3\n",
         "hidden": false,
         "locked": false
        }
       ],
       "scored": true,
       "setup": "",
       "teardown": "",
       "type": "doctest"
      }
     ]
    },
    "q3.2": {
     "name": "q3.2",
     "points": null,
     "suites": [
      {
       "cases": [
        {
         "code": ">>> 1 <= names_q2 <= 4\n",
         "hidden": false,
         "locked": false
        }
       ],
       "scored": true,
       "setup": "",
       "teardown": "",
       "type": "doctest"
      }
     ]
    },
    "q3.3": {
     "name": "q3.3",
     "points": null,
     "suites": [
      {
       "cases": [
        {
         "code": ">>> 1 <= names_q3 <= 4\n",
         "hidden": false,
         "locked": false
        }
       ],
       "scored": true,
       "setup": "",
       "teardown": "",
       "type": "doctest"
      }
     ]
    },
    "q4.1": {
     "name": "q4.1",
     "points": null,
     "suites": [
      {
       "cases": [
        {
         "code": ">>> 0 <= biggest_change\n",
         "hidden": false,
         "locked": false
        }
       ],
       "scored": true,
       "setup": "",
       "teardown": "",
       "type": "doctest"
      }
     ]
    },
    "q4.2": {
     "name": "q4.2",
     "points": null,
     "suites": [
      {
       "cases": [
        {
         "code": ">>> 1 <= smallest_change_major <= 3\n",
         "hidden": false,
         "locked": false
        },
        {
         "code": ">>> smallest_change_major == 1\n",
         "hidden": false,
         "locked": false
        }
       ],
       "scored": true,
       "setup": "",
       "teardown": "",
       "type": "doctest"
      }
     ]
    },
    "q4.3": {
     "name": "q4.3",
     "points": null,
     "suites": [
      {
       "cases": [
        {
         "code": ">>> 0 <= complit_relative_change <= 200\n",
         "hidden": false,
         "locked": false
        },
        {
         "code": ">>> 0 <= psych_relative_change <= 200\n",
         "hidden": false,
         "locked": false
        },
        {
         "code": ">>> 0 <= math_relative_change <= 200\n",
         "hidden": false,
         "locked": false
        },
        {
         "code": ">>> #HIDDEN\n>>> np.isclose(complit_relative_change, 120.0)\n",
         "hidden": false,
         "locked": false
        },
        {
         "code": ">>> #HIDDEN\n>>> np.isclose(psych_relative_change, 27.419354838709676)\n",
         "hidden": false,
         "locked": false
        },
        {
         "code": ">>> #HIDDEN\n>>> np.isclose(math_relative_change, 15.09433962264151)\n",
         "hidden": false,
         "locked": false
        }
       ],
       "scored": true,
       "setup": "",
       "teardown": "",
       "type": "doctest"
      }
     ]
    },
    "q4.4": {
     "name": "q4.4",
     "points": null,
     "suites": [
      {
       "cases": [
        {
         "code": ">>> 1 <= biggest_rel_change_major <= 3\n",
         "hidden": false,
         "locked": false
        }
       ],
       "scored": true,
       "setup": "",
       "teardown": "",
       "type": "doctest"
      }
     ]
    },
    "q6.1": {
     "name": "q6.1",
     "points": null,
     "suites": [
      {
       "cases": [
        {
         "code": ">>> 1 <= survivor_answer <= 3\n",
         "hidden": false,
         "locked": false
        }
       ],
       "scored": true,
       "setup": "",
       "teardown": "",
       "type": "doctest"
      }
     ]
    },
    "q7.1": {
     "name": "q7.1",
     "points": null,
     "suites": [
      {
       "cases": [
        {
         "code": ">>> # TEST\n>>> 1 <= jobs_q1 <= 3\n",
         "hidden": false,
         "locked": false
        }
       ],
       "scored": true,
       "setup": "",
       "teardown": "",
       "type": "doctest"
      }
     ]
    },
    "q7.2": {
     "name": "q7.2",
     "points": null,
     "suites": [
      {
       "cases": [
        {
         "code": ">>> # TEST\n>>> 1 <= jobs_q2 <= 3\n",
         "hidden": false,
         "locked": false
        }
       ],
       "scored": true,
       "setup": "",
       "teardown": "",
       "type": "doctest"
      }
     ]
    }
   }
  }
 },
 "nbformat": 4,
 "nbformat_minor": 5
}
