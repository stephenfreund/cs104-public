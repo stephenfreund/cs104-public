{
 "cells": [
  {
   "cell_type": "markdown",
   "id": "8034639c",
   "metadata": {
    "deletable": false,
    "editable": false,
    "tags": []
   },
   "source": [
    "# Lab 1: Notebooks and Expressions\n",
    "\n",
    "In today's lab, you'll learn how to:\n",
    "\n",
    "* navigate Jupyter notebooks (like this one);\n",
    "* write and evaluate some basic *expressions* in Python, the computer language of the course;\n",
    "* call *functions* to use code other people have written; and\n",
    "* break down Python code into smaller parts to understand it.\n",
    "\n",
    "Sections 1-6 are to help you get started writing Python code.  Sections 7-10 are questions exercising your knowledge of those topics.\n",
    "\n",
    "This lab covers parts of [Chapter 3](http://www.inferentialthinking.com/chapters/03/programming-in-python.html) of the online textbook. You should read the examples in the book, but not right now. Instead, let's get started!"
   ]
  },
  {
   "cell_type": "markdown",
   "id": "439ce0f2",
   "metadata": {
    "deletable": false,
    "editable": false,
    "tags": []
   },
   "source": [
    "## 1. Jupyter Notebooks\n",
    "This webpage is called a Jupyter notebook. A notebook is a place to write programs and view their results, and also to write text.\n",
    "\n",
    "### 1.1. Text Cells\n",
    "In a notebook, each rectangle containing text or code is called a *cell*.\n",
    "\n",
    "Text cells (like this one) can be edited by double-clicking on them. They're written in a simple format called [Markdown](http://daringfireball.net/projects/markdown/syntax) to add formatting and section headings.  You don't need to learn Markdown, but you might want to.\n",
    "\n",
    "After you edit a text cell, click the \"run cell\" button at the top that looks like ▶ or hold down `shift` + `return` to confirm any changes. (Try not to delete the instructions of the lab.)"
   ]
  },
  {
   "cell_type": "markdown",
   "id": "ff51d537",
   "metadata": {
    "deletable": false,
    "editable": false
   },
   "source": [
    "#### Exercise\n",
    "\n",
    "This next paragraph is in its own text cell.  Edit it to add your name, and then click the \"run cell\" ▶ button or hold down `shift` + `return`.  This sentence, for example, should be deleted.  So should this one."
   ]
  },
  {
   "cell_type": "markdown",
   "id": "2b235340",
   "metadata": {
    "deletable": false,
    "editable": true
   },
   "source": [
    "My name is YOUR-NAME-HERE!"
   ]
  },
  {
   "cell_type": "markdown",
   "id": "258497ac",
   "metadata": {
    "deletable": false,
    "editable": false
   },
   "source": [
    "### 1.2. Code Cells"
   ]
  },
  {
   "cell_type": "markdown",
   "id": "702fafc0",
   "metadata": {
    "deletable": false,
    "editable": false,
    "tags": []
   },
   "source": [
    "Cells can also contain code in the Python 3 language. Running a code cell will execute all of the code it contains.\n",
    "\n",
    "To run the code in a code cell, first click on that cell to activate it.  It'll be highlighted with a little green or blue rectangle.  Next, either press ▶ or hold down the `shift` key and press `return` or `enter`.\n",
    "\n",
    "Try running the next cell:"
   ]
  },
  {
   "cell_type": "code",
   "execution_count": null,
   "id": "c05c40f1",
   "metadata": {
    "deletable": false,
    "editable": false
   },
   "outputs": [],
   "source": [
    "print(\"Hello, World!\")"
   ]
  },
  {
   "cell_type": "markdown",
   "id": "845c0905",
   "metadata": {
    "deletable": false,
    "editable": false,
    "tags": []
   },
   "source": [
    "The fundamental building block of Python code is an expression. Cells can contain multiple lines with multiple expressions. When you run a cell, the lines of code are executed in the order in which they appear. Every `print` expression prints a line. Run the next cell and notice the order of the output."
   ]
  },
  {
   "cell_type": "code",
   "execution_count": null,
   "id": "0f543429",
   "metadata": {
    "deletable": false,
    "editable": false
   },
   "outputs": [],
   "source": [
    "print(\"First this line is printed,\")\n",
    "print(\"and then this one.\")"
   ]
  },
  {
   "cell_type": "markdown",
   "id": "89be52bb",
   "metadata": {
    "deletable": false,
    "editable": false
   },
   "source": [
    "### 1.3. Writing Jupyter Notebooks\n",
    "You can use Jupyter notebooks for your own projects or documents.  When you make your own notebook, you'll need to create your own cells for text and code.\n",
    "\n",
    "To add a cell, click the + button in the menu bar.  It'll start out as a code cell.  You can change it to a text cell by clicking inside it so it's highlighted, clicking the drop-down box next to the restart (⟳) button in the menu bar, and choosing \"Markdown\". Or change it back to code by choosing \"Code\" \n",
    "\n",
    "<img src=\"dropdown_menu.png\"/>\n",
    "\n",
    "#### Exercise\n",
    "\n",
    "Add a code cell below this one.  Write code in it that prints out:\n",
    "   \n",
    "    A whole new cell!\n",
    "    \n",
    "Run your cell to verify that it works."
   ]
  },
  {
   "cell_type": "markdown",
   "id": "00afae62",
   "metadata": {
    "deletable": false,
    "editable": false
   },
   "source": [
    "### 1.4. Errors\n",
    "\n",
    "Python is a language, and like natural human languages, it has rules.  It differs from natural language in two important ways:\n",
    "1. The rules are *simple*.  You can learn most of them in a few weeks and gain reasonable proficiency with the language in a semester.\n",
    "2. The rules are *rigid*.  If you're proficient in a natural language, you can understand a non-proficient speaker, glossing over small mistakes.  A computer running Python code is not smart enough to do that.\n",
    "\n",
    "Whenever you write code, you'll make mistakes.  When you run a code cell that has errors, Python will sometimes produce error messages to tell you what you did wrong.\n",
    "\n",
    "Errors are okay; even experienced programmers make many errors.  When you make an error, you just have to find the source of the problem, fix it, and move on.\n",
    "\n",
    "We have made an error in the next cell.  Run it and see what happens."
   ]
  },
  {
   "cell_type": "code",
   "execution_count": null,
   "id": "aa2ac6c5",
   "metadata": {
    "deletable": false,
    "editable": true
   },
   "outputs": [],
   "source": [
    "print(\"This line is missing something.\""
   ]
  },
  {
   "cell_type": "markdown",
   "id": "4ebfc607",
   "metadata": {
    "deletable": false,
    "editable": false
   },
   "source": [
    "**Note:** In the toolbar, there is the option to click `Cell > Run All`, which will run all the code cells in this notebook in order. However, the notebook stops running code cells if it hits an error, like the one in the cell above."
   ]
  },
  {
   "cell_type": "markdown",
   "id": "30e12d25",
   "metadata": {
    "deletable": false,
    "editable": false
   },
   "source": [
    "You should see something like this (minus our annotations):\n",
    "\n",
    "<img src=\"error.jpg\"/>\n",
    "\n",
    "The last line of the error output attempts to tell you what went wrong.  The *syntax* of a language is its structure, and this `SyntaxError` tells you that you that Python can not interpret your expression because it does not follow Python's syntax.  \"`EOF`\" means \"end of file,\" so the message is saying Python expected you to write something more (in this case, a right parenthesis) before finishing the cell.\n",
    "\n",
    "There's a lot of terminology in programming languages, but you don't need to know it all in order to program effectively. If you see a cryptic message like this, you can often get by without deciphering it.  (Of course, if you're frustrated, ask a neighbor, staff member, or the internet for help.)\n",
    "\n",
    "#### Exercise\n",
    "\n",
    "Try to fix the code above so that you can run the cell and see the intended message instead of an error."
   ]
  },
  {
   "cell_type": "markdown",
   "id": "9abdcad3",
   "metadata": {
    "deletable": false,
    "editable": false
   },
   "source": [
    "### 1.5. The Kernel\n",
    "The kernel is a program that executes the code inside your notebook and outputs the results. In the top right of your window, you can see a circle that indicates the status of your kernel. If the circle is empty (⚪), the kernel is idle and ready to execute code. If the circle is filled in (⚫), the kernel is busy running some code. \n",
    "\n",
    "Next to every code cell, you'll see some text that says `[...]`. Before you run the cell, you'll see `[ ]`. When the cell is running, you'll see `[*]`. If you see an asterisk (\\*) next to a cell that doesn't go away, it's likely that the code inside the cell is taking too long to run, and it might be a good time to interrupt the kernel (discussed below). When a cell is finished running, you'll see a number inside the brackets, like so: `[1]`. The number corresponds to the order in which you run the cells; so, the first cell you run will show a 1 when it's finished running, the second will show a 2, and so on. \n",
    "\n",
    "You may run into problems where your kernel is stuck for an excessive amount of time, your notebook is very slow and unresponsive, or your kernel loses its connection.  Oftentimes, the problem can be fixed by selecting **Kernel -> Interrupt Kernel** from the menu, or pressing the stop button (◼️) from the toolbar at the top of the window.  Fix the issue in your code and then run the cell again.\n",
    "\n",
    "See our [troubleshooting page](https://www.cs.williams.edu/~cs104/docs/how-to-jupyter/troubleshooting.html) for fixing other problems related to \"stuck\" kernels."
   ]
  },
  {
   "cell_type": "markdown",
   "id": "e3903e2f",
   "metadata": {
    "deletable": false,
    "editable": false
   },
   "source": [
    "### 1.6. Submitting your work\n",
    "All assignments in the course will be distributed as notebooks like this one, and you will submit your work from the notebook. We will use a system called Otter that checks your work and helps you submit. At the top of each assignment, you'll see a cell like the one below. Always run it when you open up one of our notebooks."
   ]
  },
  {
   "cell_type": "code",
   "execution_count": null,
   "id": "52efbe03",
   "metadata": {
    "deletable": false,
    "editable": false
   },
   "outputs": [],
   "source": [
    "# Initialize Otter\n",
    "import otter\n",
    "grader = otter.Notebook(\"lab01.ipynb\")"
   ]
  },
  {
   "cell_type": "markdown",
   "id": "736f458c",
   "metadata": {
    "deletable": false,
    "editable": false
   },
   "source": [
    "You will submit your finished solution by running the export command below to generate a zip file containing your solution that you will then upload to Gradescope. It's fine to submit multiple times.  We will only grade your final submission.  You can run the export command now to see what it does, but don't worry about uploading anything yet."
   ]
  },
  {
   "cell_type": "code",
   "execution_count": null,
   "id": "dabe5fe7",
   "metadata": {
    "deletable": false,
    "editable": false
   },
   "outputs": [],
   "source": [
    "# Save your notebook first, then run this cell to export your submission.\n",
    "grader.export(pdf=False)"
   ]
  },
  {
   "cell_type": "markdown",
   "id": "3adb722d",
   "metadata": {
    "deletable": false,
    "editable": false
   },
   "source": [
    "## 2. Numbers\n",
    "\n",
    "Quantitative information arises everywhere in data science. In addition to representing commands to print out lines, expressions can represent numbers and methods of combining numbers. The expression `3.2500` evaluates to the number 3.25. (Run the cell and see.)"
   ]
  },
  {
   "cell_type": "code",
   "execution_count": null,
   "id": "ad26be6e",
   "metadata": {
    "deletable": false,
    "editable": false
   },
   "outputs": [],
   "source": [
    "3.2500"
   ]
  },
  {
   "cell_type": "markdown",
   "id": "7c5a6db6",
   "metadata": {
    "deletable": false,
    "editable": false
   },
   "source": [
    "Notice that we didn't have to `print`. When you run a notebook cell, if the last line has a value, then Jupyter helpfully prints out that value for you. However, it won't print out prior lines automatically."
   ]
  },
  {
   "cell_type": "code",
   "execution_count": null,
   "id": "f10f146e",
   "metadata": {
    "deletable": false,
    "editable": false
   },
   "outputs": [],
   "source": [
    "print(2)\n",
    "3\n",
    "4"
   ]
  },
  {
   "cell_type": "markdown",
   "id": "a68b6457",
   "metadata": {
    "deletable": false,
    "editable": false
   },
   "source": [
    "Above, you should see that 4 is the value of the last expression, 2 is printed, but 3 is lost forever because it was neither printed nor last.\n",
    "\n",
    "You don't want to print everything all the time anyway.  But if you feel sorry for 3, change the cell above to print it."
   ]
  },
  {
   "cell_type": "markdown",
   "id": "f1d57afb",
   "metadata": {
    "deletable": false,
    "editable": false
   },
   "source": [
    "### 2.1. Arithmetic\n",
    "The line in the next cell subtracts.  Its value is what you'd expect.  Run it."
   ]
  },
  {
   "cell_type": "code",
   "execution_count": null,
   "id": "894f9d65",
   "metadata": {
    "deletable": false,
    "editable": false
   },
   "outputs": [],
   "source": [
    "3.25 - 1.5"
   ]
  },
  {
   "cell_type": "markdown",
   "id": "28ea1a86",
   "metadata": {
    "deletable": false,
    "editable": false
   },
   "source": [
    "Many basic arithmetic operations are built into Python.  The textbook section on [Expressions](http://www.inferentialthinking.com/chapters/03/1/expressions.html) describes all the arithmetic operators used in the course.  The common operator that differs from typical math notation is `**`, which raises one number to the power of the other. So, `2**3` stands for $2^3$ and evaluates to 8. \n",
    "\n",
    "The order of operations is the same as what you learned in elementary school, and Python also has parentheses.  For example, compare the outputs of the cells below. The second cell uses parentheses for a happy new year!"
   ]
  },
  {
   "cell_type": "code",
   "execution_count": null,
   "id": "06659f63",
   "metadata": {
    "deletable": false,
    "editable": false
   },
   "outputs": [],
   "source": [
    "3+6*5-6*3**2*2**3/4*7"
   ]
  },
  {
   "cell_type": "code",
   "execution_count": null,
   "id": "addc5f43",
   "metadata": {
    "deletable": false,
    "editable": false
   },
   "outputs": [],
   "source": [
    "6+(6*5-(6*3))**2*((2**3)/4*7)"
   ]
  },
  {
   "cell_type": "markdown",
   "id": "be2801b3",
   "metadata": {
    "deletable": false,
    "editable": false
   },
   "source": [
    "In standard math notation, the first expression is\n",
    "\n",
    "$$3 + 6 \\times 5 - 6 \\times 3^2 \\times \\frac{2^3}{4} \\times 7,$$\n",
    "\n",
    "while the second expression is\n",
    "\n",
    "$$6 + (6 \\times 5 - (6 \\times 3))^2 \\times (\\frac{(2^3)}{4} \\times 7).$$"
   ]
  },
  {
   "cell_type": "markdown",
   "id": "70aea183",
   "metadata": {
    "deletable": false,
    "editable": false
   },
   "source": [
    "#### Exercise\n",
    "\n",
    "Write a Python expression in this next cell that's equal to $5 \\times (3 \\frac{10}{11}) - 50 \\frac{1}{3} + 2^{.5 \\times 22} - \\frac{7}{33} + 4$.  That's five times three and ten elevenths, minus fifty and a third, plus two to the power of half twenty-two, minus seven thirty-thirds plus three.  By \"$3 \\frac{10}{11}$\" we mean $3+\\frac{10}{11}$, not $3 \\times \\frac{10}{11}$.\n",
    "\n",
    "Replace the ellipses (`...`) with your expression.  Try to use parentheses only when necessary.\n",
    "\n",
    "*Hint:* The correct output should start with a familiar number."
   ]
  },
  {
   "cell_type": "code",
   "execution_count": null,
   "id": "331780b1",
   "metadata": {
    "deletable": false,
    "editable": false
   },
   "outputs": [],
   "source": [
    "..."
   ]
  },
  {
   "cell_type": "markdown",
   "id": "51f64c7c",
   "metadata": {
    "deletable": false,
    "editable": false
   },
   "source": [
    "## 3. Names\n",
    "In natural language, we have terminology that lets us quickly reference very complicated concepts.  We don't say, \"That's a large ruminant with horns, hoofs, and a tail!\"  Instead, we just say, \"cow!\"\n",
    "\n",
    "In Python, we do this with *assignment statements*. An assignment statement has a name on the left side of an `=` sign and an expression to be evaluated on the right."
   ]
  },
  {
   "cell_type": "code",
   "execution_count": null,
   "id": "2816417a",
   "metadata": {
    "deletable": false,
    "editable": false
   },
   "outputs": [],
   "source": [
    "ten = 3 * 2 + 4"
   ]
  },
  {
   "cell_type": "markdown",
   "id": "46813b8d",
   "metadata": {
    "deletable": false,
    "editable": false
   },
   "source": [
    "When you run that cell, Python first computes the value of the expression on the right-hand side, `3 * 2 + 4`, which is the number 10.  Then it assigns that value to the name `ten`.  At that point, the code in the cell is done running.\n",
    "\n",
    "After you run that cell, the value 10 is bound to the name `ten`:"
   ]
  },
  {
   "cell_type": "code",
   "execution_count": null,
   "id": "a9373f31",
   "metadata": {
    "deletable": false,
    "editable": false
   },
   "outputs": [],
   "source": [
    "ten"
   ]
  },
  {
   "cell_type": "markdown",
   "id": "1c28613d",
   "metadata": {
    "deletable": false,
    "editable": false
   },
   "source": [
    "The statement `ten = 3 * 2 + 4` is not asserting that `ten` is already equal to `3 * 2 + 4`, as we might expect by analogy with math notation.  Rather, that line of code changes what `ten` means; it now refers to the value 10, whereas before it meant nothing at all.\n",
    "\n",
    "If the designers of Python had been ruthlessly pedantic, they might have made us write\n",
    "\n",
    "    define the name ten to hereafter have the value of 3 * 2 + 4 \n",
    "\n",
    "instead.  You will probably appreciate the brevity of \"`=`\"!  But keep in mind that this is the real meaning.\n",
    "\n",
    "#### Exercise\n",
    "\n",
    "Try writing code that uses a name (like `eleven`) that hasn't been assigned to anything.  You'll see an error!"
   ]
  },
  {
   "cell_type": "code",
   "execution_count": null,
   "id": "73d618a5",
   "metadata": {
    "deletable": false,
    "editable": false
   },
   "outputs": [],
   "source": [
    "..."
   ]
  },
  {
   "cell_type": "markdown",
   "id": "957bc696",
   "metadata": {
    "deletable": false,
    "editable": false
   },
   "source": [
    "A common pattern in Jupyter notebooks is to assign a value to a name and then immediately evaluate the name in the last line in the cell so that the value is displayed as output. "
   ]
  },
  {
   "cell_type": "code",
   "execution_count": null,
   "id": "8038cc1d",
   "metadata": {
    "deletable": false,
    "editable": false
   },
   "outputs": [],
   "source": [
    "close_to_pi = 355/113\n",
    "close_to_pi"
   ]
  },
  {
   "cell_type": "markdown",
   "id": "56384d68",
   "metadata": {
    "deletable": false,
    "editable": false
   },
   "source": [
    "Another common pattern is that a series of lines in a single cell will build up a complex computation in stages, naming the intermediate results."
   ]
  },
  {
   "cell_type": "code",
   "execution_count": null,
   "id": "4d824adc",
   "metadata": {
    "deletable": false,
    "editable": false
   },
   "outputs": [],
   "source": [
    "semimonthly_salary = 841.25\n",
    "monthly_salary = 2 * semimonthly_salary\n",
    "number_of_months_in_a_year = 12\n",
    "yearly_salary = number_of_months_in_a_year * monthly_salary\n",
    "yearly_salary"
   ]
  },
  {
   "cell_type": "markdown",
   "id": "ebca1229",
   "metadata": {
    "deletable": false,
    "editable": false
   },
   "source": [
    "Names in Python can have letters (upper- and lower-case letters are both okay and count as different letters), underscores, and numbers.  The first character can't be a number (otherwise a name might look like a number).  And names can't contain spaces, since spaces are used to separate pieces of code from each other.\n",
    "\n",
    "Other than those rules, what you name something doesn't matter *to Python*.  For example, this cell does the same thing as the above cell, except everything has a different name:"
   ]
  },
  {
   "cell_type": "code",
   "execution_count": null,
   "id": "a6a1bc7c",
   "metadata": {
    "deletable": false,
    "editable": false
   },
   "outputs": [],
   "source": [
    "a = 841.25\n",
    "b = 2 * a\n",
    "c = 12\n",
    "d = c * b\n",
    "d"
   ]
  },
  {
   "cell_type": "markdown",
   "id": "7eb9af5f",
   "metadata": {
    "deletable": false,
    "editable": false
   },
   "source": [
    "**However, names are very important for making your code *readable* to yourself and others.**  The cell above is shorter, but it's totally useless without an explanation of what it does.\n",
    "\n",
    "Another **style** point--in this and subsequent notebooks we name our variables with underscores, e.g. `yearly_salary`. Other styles of programming might use styles like \"camel case,\" e.g. `YearlySalary.` Later in your career, you might develop opinions about your own programming style, but for now try to use variable names with underscores to be consistent. "
   ]
  },
  {
   "cell_type": "markdown",
   "id": "8f3cfe0b",
   "metadata": {
    "deletable": false,
    "editable": false
   },
   "source": [
    "## 4. Checking your Code\n"
   ]
  },
  {
   "cell_type": "markdown",
   "id": "049f5f03",
   "metadata": {
    "deletable": false,
    "editable": false
   },
   "source": [
    "Now that you know how to name things, you can start using the built-in *tests* to check whether your work is correct. Sometimes, there are multiple tests for a single question, and passing all of them is required to receive credit for the question. Please don't change the contents of the test cells. \n",
    "\n",
    "Go ahead and attempt the next question. Running the cell directly after it will test whether you have assigned `seconds_in_a_decade` correctly. If you haven't, this test will tell you the correct answer. Resist the urge to just copy it, and instead try to adjust your expression."
   ]
  },
  {
   "cell_type": "markdown",
   "id": "6b2677a5",
   "metadata": {
    "deletable": false,
    "editable": false
   },
   "source": [
    "#### Exercise"
   ]
  },
  {
   "cell_type": "markdown",
   "id": "305115e6",
   "metadata": {
    "deletable": false,
    "editable": false
   },
   "source": [
    "Assign the name `seconds_in_a_decade` to the number of seconds between midnight January 1, 2010 and midnight January 1, 2020. Note that there are two leap years in this span of a decade. A non-leap year has 365 days and a leap year has 366 days.\n",
    "\n",
    "*Hint:* If you're stuck, the next section shows you how to get hints."
   ]
  },
  {
   "cell_type": "code",
   "execution_count": null,
   "id": "122da0fb",
   "metadata": {
    "deletable": false,
    "tags": []
   },
   "outputs": [],
   "source": [
    "# Change the next line \n",
    "# so that it computes the number of seconds in a decade \n",
    "# and assigns that number the name, seconds_in_a_decade.\n",
    "\n",
    "seconds_in_a_decade = ...\n",
    "\n",
    "# We've put this line in this cell \n",
    "# so that it will print the value you've given to seconds_in_a_decade when you run it.  \n",
    "# You don't need to change this.\n",
    "seconds_in_a_decade"
   ]
  },
  {
   "cell_type": "code",
   "execution_count": null,
   "id": "9ca354f3",
   "metadata": {
    "deletable": false,
    "editable": false
   },
   "outputs": [],
   "source": [
    "grader.check(\"q4.1\")"
   ]
  },
  {
   "cell_type": "markdown",
   "id": "e7b249ff",
   "metadata": {
    "deletable": false,
    "editable": false,
    "jp-MarkdownHeadingCollapsed": true,
    "tags": []
   },
   "source": [
    "## 5. Comments\n",
    "You may have noticed these lines in the cell in which you answered the previous question:\n",
    "\n",
    "    # Change the next line \n",
    "    # so that it computes the number of seconds in a decade \n",
    "    # and assigns that number the name, seconds_in_a_decade.\n",
    "    \n",
    "This is called a *comment*. It doesn't make anything happen in Python; Python ignores anything on a line after a `#`.  Instead, it's there to communicate something about the code to you, the human reader. Comments are extremely useful. "
   ]
  },
  {
   "cell_type": "markdown",
   "id": "d196810e",
   "metadata": {
    "deletable": false,
    "editable": false
   },
   "source": [
    "## 6. Calling Functions\n",
    "\n",
    "The most common way to combine or manipulate values in Python is by calling functions. Python comes with many built-in functions that perform common operations.\n",
    "\n",
    "For example, the `abs` function takes a single number as its argument and returns the absolute value of that number. Run the next two cells and see if you understand the output."
   ]
  },
  {
   "cell_type": "code",
   "execution_count": null,
   "id": "96155d07",
   "metadata": {
    "deletable": false,
    "editable": false
   },
   "outputs": [],
   "source": [
    "abs(5)"
   ]
  },
  {
   "cell_type": "code",
   "execution_count": null,
   "id": "464704e4",
   "metadata": {
    "deletable": false,
    "editable": false
   },
   "outputs": [],
   "source": [
    "abs(-5)"
   ]
  },
  {
   "cell_type": "markdown",
   "id": "a8f7e600",
   "metadata": {
    "deletable": false,
    "editable": false
   },
   "source": [
    "#### Exercise \n",
    "\n",
    "Chunhua is on the corner of 7th Avenue and 42nd Street in Midtown Manhattan, and she wants to know far she'd have to walk to get to Gramercy School on the corner of 10th Avenue and 34th Street.\n",
    "\n",
    "She can't cut across blocks diagonally, since there are buildings in the way.  She has to walk along the sidewalks.  Using the map below, she sees she'd have to walk 3 avenues (long blocks) and 8 streets (short blocks).  In terms of the given numbers, she computed 3 as the difference between 7 and 10, *in absolute value*, and 8 similarly.  \n",
    "\n",
    "Chunhua also knows that blocks in Manhattan are all about 80m by 274m (avenues are farther apart than streets).  So in total, she'd have to walk $(80 \\times |42 - 34| + 274 \\times |7 - 10|)$ meters to get to the park.\n",
    "\n",
    "<img src=\"map.jpg\"/>\n",
    "\n",
    "Fill in the line `num_avenues_away = ...` in the next cell so that the cell calculates the distance Chunhua must walk and gives it the name `manhattan_distance`.  Everything else has been filled in for you.  **Use the `abs` function.** Also, be sure to run the test cell afterward to test your code.\n"
   ]
  },
  {
   "cell_type": "code",
   "execution_count": null,
   "id": "1153b9be",
   "metadata": {
    "deletable": false,
    "tags": []
   },
   "outputs": [],
   "source": [
    "# Here's the number of streets away:\n",
    "num_streets_away = abs(42-34)\n",
    "\n",
    "# Compute the number of avenues away in a similar way:\n",
    "num_avenues_away = ...\n",
    "\n",
    "street_length_m = 80\n",
    "avenue_length_m = 274\n",
    "\n",
    "# Now we compute the total distance Chunhua must walk.\n",
    "manhattan_distance = street_length_m*num_streets_away + avenue_length_m*num_avenues_away\n",
    "\n",
    "# We've included this line so that you see the distance you've computed \n",
    "# when you run this cell.  \n",
    "# You don't need to change it, but you can if you want.\n",
    "manhattan_distance"
   ]
  },
  {
   "cell_type": "code",
   "execution_count": null,
   "id": "81f1eb6a",
   "metadata": {
    "deletable": false,
    "editable": false
   },
   "outputs": [],
   "source": [
    "grader.check(\"q6.1\")"
   ]
  },
  {
   "cell_type": "markdown",
   "id": "2204413b",
   "metadata": {
    "deletable": false,
    "editable": false,
    "tags": []
   },
   "source": [
    "#### Multiple arguments\n",
    "Some functions take multiple arguments, separated by commas. For example, the built-in `max` function returns the maximum argument passed to it."
   ]
  },
  {
   "cell_type": "code",
   "execution_count": null,
   "id": "fa4e43f9",
   "metadata": {
    "deletable": false,
    "editable": false,
    "tags": []
   },
   "outputs": [],
   "source": [
    "max(2, -3, 4, -5)"
   ]
  },
  {
   "cell_type": "markdown",
   "id": "49a265ff",
   "metadata": {
    "deletable": false,
    "editable": false
   },
   "source": [
    "## 7. Interpreting Graphs (10 pts)\n",
    "\n"
   ]
  },
  {
   "cell_type": "markdown",
   "id": "2e4ab982",
   "metadata": {
    "deletable": false,
    "editable": false
   },
   "source": [
    "Section 1.3 in the textbook describes counting the number of times that the literary characters were named in each chapter of the classic book, [*Little Women*](https://www.inferentialthinking.com/chapters/01/3/1/literary-characters). In computer science, the word \"character\" also refers to a letter, digit, space, or punctuation mark; any single element of a text. The following code generates a scatter plot in which each dot corresponds to a chapter of *Little Women*. The horizontal position of a dot measures the number of periods in the chapter. The vertical position measures the total number of characters."
   ]
  },
  {
   "cell_type": "code",
   "execution_count": null,
   "id": "c1768375",
   "metadata": {
    "deletable": false,
    "editable": false,
    "tags": []
   },
   "outputs": [],
   "source": [
    "# This cell contains code that hasn't yet been covered in the course,\n",
    "# but you should be able to interpret the scatter plot it generates.\n",
    "\n",
    "from datascience import *\n",
    "from urllib.request import urlopen\n",
    "import numpy as np\n",
    "%matplotlib inline\n",
    "\n",
    "little_women_url = 'https://www.inferentialthinking.com/data/little_women.txt'\n",
    "chapters = urlopen(little_women_url).read().decode().split('CHAPTER ')[1:]\n",
    "text = Table().with_column('Chapters', chapters)\n",
    "Table().with_columns(\n",
    "    'Periods',    np.char.count(chapters, '.'),\n",
    "    'Characters', text.apply(len, 0)\n",
    "    ).scatter(0)"
   ]
  },
  {
   "cell_type": "markdown",
   "id": "c5c584d7",
   "metadata": {
    "deletable": false,
    "editable": false
   },
   "source": [
    "#### Part 7.1 (5 pts)\n"
   ]
  },
  {
   "cell_type": "markdown",
   "id": "2e354b28",
   "metadata": {
    "deletable": false,
    "editable": false
   },
   "source": [
    "Around how many periods are there in the chapter with the most characters? Assign either 1, 2, 3, 4, or 5 to the name `characters_q1` below.\n",
    "\n",
    "1. 250\n",
    "2. 390\n",
    "3. 440\n",
    "4. 32,000\n",
    "5. 40,000"
   ]
  },
  {
   "cell_type": "code",
   "execution_count": null,
   "id": "a16e4370",
   "metadata": {
    "deletable": false,
    "tags": []
   },
   "outputs": [],
   "source": [
    "characters_q1 = ..."
   ]
  },
  {
   "cell_type": "code",
   "execution_count": null,
   "id": "86202d80",
   "metadata": {
    "deletable": false,
    "editable": false
   },
   "outputs": [],
   "source": [
    "grader.check(\"q7.1\")"
   ]
  },
  {
   "cell_type": "markdown",
   "id": "004415bb",
   "metadata": {
    "deletable": false,
    "editable": false
   },
   "source": [
    "The test above checks that your answers are in the correct format. **This test does not check that you answered correctly**, only that you assigned a number successfully in each multiple-choice answer cell."
   ]
  },
  {
   "cell_type": "markdown",
   "id": "d6a83e53",
   "metadata": {
    "deletable": false,
    "editable": false
   },
   "source": [
    "#### Part 7.2 (5 pts)\n"
   ]
  },
  {
   "cell_type": "markdown",
   "id": "eb91f96c",
   "metadata": {
    "deletable": false,
    "editable": false
   },
   "source": [
    "Which of the following chapters has the most characters per period? Assign either 1, 2, or 3 to the name `characters_q2` below.\n",
    "1. The chapter with about 60 periods\n",
    "2. The chapter with about 350 periods\n",
    "3. The chapter with about 440 periods"
   ]
  },
  {
   "cell_type": "code",
   "execution_count": null,
   "id": "743bcb86",
   "metadata": {
    "deletable": false,
    "tags": []
   },
   "outputs": [],
   "source": [
    "characters_q2 = ..."
   ]
  },
  {
   "cell_type": "code",
   "execution_count": null,
   "id": "88e3eba4",
   "metadata": {
    "deletable": false,
    "editable": false
   },
   "outputs": [],
   "source": [
    "grader.check(\"q7.2\")"
   ]
  },
  {
   "cell_type": "markdown",
   "id": "5f819fcf",
   "metadata": {
    "deletable": false,
    "editable": false
   },
   "source": [
    "Again, the test above checks that your answers are in the correct format, but not that you have answered correctly."
   ]
  },
  {
   "cell_type": "markdown",
   "id": "36aa3807",
   "metadata": {
    "deletable": false,
    "editable": false
   },
   "source": [
    "To discover more interesting facts from this plot, read [Section 1.3.2](https://inferentialthinking.com/chapters/01/3/2/Another_Kind_Of_Character.html) of the textbook."
   ]
  },
  {
   "cell_type": "markdown",
   "id": "6ef283b4",
   "metadata": {
    "deletable": false,
    "editable": false,
    "tags": []
   },
   "source": [
    "## 8. Names and Assignment Statements (15 pts)\n",
    "\n"
   ]
  },
  {
   "cell_type": "markdown",
   "id": "a6f948e5",
   "metadata": {
    "deletable": false,
    "editable": false,
    "tags": []
   },
   "source": [
    "#### Part 8.1 (5 pts)\n"
   ]
  },
  {
   "cell_type": "markdown",
   "id": "cc1f58a8",
   "metadata": {
    "deletable": false,
    "editable": false
   },
   "source": [
    "When you run the following cell, Python produces a cryptic error message."
   ]
  },
  {
   "cell_type": "code",
   "execution_count": null,
   "id": "24fcba32",
   "metadata": {
    "deletable": false,
    "editable": false
   },
   "outputs": [],
   "source": [
    "4 = 2 + 2"
   ]
  },
  {
   "cell_type": "markdown",
   "id": "08a0bc09",
   "metadata": {
    "deletable": false,
    "editable": false
   },
   "source": [
    "Choose the best explanation of what's wrong with the code, and then assign 1, 2, 3, or 4 to `names_q1` below to indicate your answer.\n",
    "\n",
    "1. Python is smart and already knows `4 = 2 + 2`.\n",
    "\n",
    "2. `4` is already a defined number, and it doesn't make sense to make a number be a name for something else. In Python, \"`x = 2 + 2`\" means \"assign `x` as the name for the value of `2 + 2`.\"\n",
    "\n",
    "3. It should be `2 + 2 = 4`."
   ]
  },
  {
   "cell_type": "code",
   "execution_count": null,
   "id": "cc0388ca",
   "metadata": {
    "deletable": false,
    "tags": []
   },
   "outputs": [],
   "source": [
    "names_q1 = ..."
   ]
  },
  {
   "cell_type": "code",
   "execution_count": null,
   "id": "41f3918c",
   "metadata": {
    "deletable": false,
    "editable": false
   },
   "outputs": [],
   "source": [
    "grader.check(\"q8.1\")"
   ]
  },
  {
   "cell_type": "markdown",
   "id": "f38d50bc",
   "metadata": {
    "deletable": false,
    "editable": false,
    "tags": []
   },
   "source": [
    "#### Part 8.2 (5 pts)\n"
   ]
  },
  {
   "cell_type": "markdown",
   "id": "be533ad9",
   "metadata": {
    "deletable": false,
    "editable": false
   },
   "source": [
    "When you run the following cell, Python will produce another cryptic error message."
   ]
  },
  {
   "cell_type": "code",
   "execution_count": null,
   "id": "b9ad88be",
   "metadata": {
    "deletable": false,
    "editable": false
   },
   "outputs": [],
   "source": [
    "two = 3\n",
    "six = two plus two"
   ]
  },
  {
   "cell_type": "markdown",
   "id": "d46153f0",
   "metadata": {
    "deletable": false,
    "editable": false
   },
   "source": [
    "Choose the best explanation of what's wrong with the code and assign 1, 2, 3, or 4 to `names_q2` below to indicate your answer.\n",
    "\n",
    "1. The `plus` operation only applies to numbers, not the word \"two\".\n",
    "\n",
    "2. The name \"two\" cannot be assigned to the number 3.\n",
    "\n",
    "3. Two plus two is four, not six.\n",
    "\n",
    "4. Python cannot interpret the name `plus`, as it has not been defined.\n",
    "\n",
    "<!--\n",
    "BEGIN QUESTION\n",
    "name: q3_2\n",
    "manual: False\n",
    "points:\n",
    " - 0\n",
    " - 4\n",
    "-->"
   ]
  },
  {
   "cell_type": "code",
   "execution_count": null,
   "id": "396c9f93",
   "metadata": {
    "deletable": false,
    "tags": []
   },
   "outputs": [],
   "source": [
    "names_q2 = ..."
   ]
  },
  {
   "cell_type": "code",
   "execution_count": null,
   "id": "f94691ac",
   "metadata": {
    "deletable": false,
    "editable": false
   },
   "outputs": [],
   "source": [
    "grader.check(\"q8.2\")"
   ]
  },
  {
   "cell_type": "markdown",
   "id": "04ffd045",
   "metadata": {
    "deletable": false,
    "editable": false
   },
   "source": [
    "#### Part 8.3 (5 pts)\n"
   ]
  },
  {
   "cell_type": "markdown",
   "id": "ccd67b97",
   "metadata": {
    "deletable": false,
    "editable": false
   },
   "source": [
    "When you run the following cell, Python will, yet again, produce another cryptic error message."
   ]
  },
  {
   "cell_type": "code",
   "execution_count": null,
   "id": "11a55082",
   "metadata": {
    "deletable": false,
    "editable": false
   },
   "outputs": [],
   "source": [
    "x = print(5)\n",
    "y = x + 2"
   ]
  },
  {
   "cell_type": "markdown",
   "id": "99630590",
   "metadata": {
    "deletable": false,
    "editable": false
   },
   "source": [
    "Choose the best explanation of what's wrong with the code and assign 1, 2, or 3 to `names_q3` below to indicate your answer.\n",
    "\n",
    "1. Python doesn't want `y` to be assigned.\n",
    "\n",
    "2. The `print` operation is meant for displaying values to the programmer, not for assigning values!\n",
    "\n",
    "3. Python can’t do addition between one name and one number. It has to be 2 numbers or 2 predefined names.\n",
    "\n",
    "<!--\n",
    "BEGIN QUESTION\n",
    "name: q3_3\n",
    "manual: false\n",
    "points:\n",
    " - 0\n",
    " - 4\n",
    "-->"
   ]
  },
  {
   "cell_type": "code",
   "execution_count": null,
   "id": "c5240ef7",
   "metadata": {
    "deletable": false,
    "tags": []
   },
   "outputs": [],
   "source": [
    "names_q3 = ..."
   ]
  },
  {
   "cell_type": "code",
   "execution_count": null,
   "id": "44838b1a",
   "metadata": {
    "deletable": false,
    "editable": false
   },
   "outputs": [],
   "source": [
    "grader.check(\"q8.3\")"
   ]
  },
  {
   "cell_type": "markdown",
   "id": "7cb7fb4f",
   "metadata": {
    "deletable": false,
    "editable": false,
    "tags": []
   },
   "source": [
    "## 9. Differences between Majors (20 pts)\n",
    "\n"
   ]
  },
  {
   "cell_type": "markdown",
   "id": "ed75f973",
   "metadata": {
    "deletable": false,
    "editable": false
   },
   "source": [
    "Adapted from information found on the Williams website, the table below displays the average number of degree recipients in three majors for the years 2008-2012 and 2018-2021.\n",
    "\n",
    "| Major                              | 2008-2012    | 2018-2021   |\n",
    "|------------------------------------|--------------|-------------|\n",
    "| Comparative Literature             |  5           | 11          |\n",
    "| Psychology                         | 62           | 45          |\n",
    "| Mathematics                        | 53           | 61          |\n"
   ]
  },
  {
   "cell_type": "markdown",
   "id": "9c970187",
   "metadata": {
    "deletable": false,
    "editable": false
   },
   "source": [
    "#### Part 9.1 (5 pts)\n"
   ]
  },
  {
   "cell_type": "markdown",
   "id": "2e04f766",
   "metadata": {
    "deletable": false,
    "editable": false
   },
   "source": [
    "Suppose you want to find the **biggest** absolute difference between the numbers of degree recipients in the two years, among the three majors.\n",
    "\n",
    "In the cell below, compute this value and call it `biggest_change`. Use a single expression (a single line of code) to compute the answer. Let Python perform all the arithmetic (like subtracting 5 from 11) rather than simplifying the expression yourself. The built-in `abs` function takes a numerical input and returns the absolute value. The built-in `max` function can take in 3 arguments and returns the maximum of the three numbers."
   ]
  },
  {
   "cell_type": "code",
   "execution_count": null,
   "id": "a24ea86f",
   "metadata": {
    "deletable": false,
    "tags": []
   },
   "outputs": [],
   "source": [
    "biggest_change = ...\n",
    "biggest_change"
   ]
  },
  {
   "cell_type": "code",
   "execution_count": null,
   "id": "821901ca",
   "metadata": {
    "deletable": false,
    "editable": false
   },
   "outputs": [],
   "source": [
    "grader.check(\"q9.1\")"
   ]
  },
  {
   "cell_type": "markdown",
   "id": "c35cbd35",
   "metadata": {
    "deletable": false,
    "editable": false,
    "tags": []
   },
   "source": [
    "#### Part 9.2 (5 pts)\n"
   ]
  },
  {
   "cell_type": "markdown",
   "id": "9b063b65",
   "metadata": {
    "deletable": false,
    "editable": false
   },
   "source": [
    "Which of the three majors had the **smallest** absolute difference? Assign `smallest_change_major` to 1, 2, or 3 where each number corresponds to the following major:\n",
    "\n",
    "1. Comparative Literature\n",
    "2. Psychology\n",
    "3. Mathematics\n",
    "\n",
    "Choose the number that corresponds to the major with the smallest absolute difference.\n",
    "\n",
    "You should be able to answer by rough mental arithmetic, without having to calculate the exact value for each major."
   ]
  },
  {
   "cell_type": "code",
   "execution_count": null,
   "id": "ab13bd65",
   "metadata": {
    "deletable": false,
    "tags": []
   },
   "outputs": [],
   "source": [
    "smallest_change_major = ...\n",
    "smallest_change_major"
   ]
  },
  {
   "cell_type": "code",
   "execution_count": null,
   "id": "aeb22074",
   "metadata": {
    "deletable": false,
    "editable": false
   },
   "outputs": [],
   "source": [
    "grader.check(\"q9.2\")"
   ]
  },
  {
   "cell_type": "markdown",
   "id": "be116601",
   "metadata": {
    "deletable": false,
    "editable": false,
    "tags": []
   },
   "source": [
    "#### Part 9.3 (5 pts)\n"
   ]
  },
  {
   "cell_type": "markdown",
   "id": "58b7a4c0",
   "metadata": {
    "deletable": false,
    "editable": false,
    "tags": []
   },
   "source": [
    "For each major, define the “relative change” to be the following: $\\large{\\frac{\\text{absolute difference}}{\\text{value in 2008-2012}} * 100}$ \n",
    "\n",
    "Fill in the code below such that `complit_relative_change`, `psych_relative_change` and `math_relative_change` are assigned to the relative changes for their respective majors."
   ]
  },
  {
   "cell_type": "code",
   "execution_count": null,
   "id": "285fdbbd",
   "metadata": {
    "deletable": false,
    "for_assignment_type": "student",
    "tags": []
   },
   "outputs": [],
   "source": [
    "complit_relative_change = (abs(...) / 5) * 100\n",
    "\n",
    "psych_relative_change = ...\n",
    "math_relative_change = ...\n",
    "complit_relative_change, psych_relative_change, math_relative_change"
   ]
  },
  {
   "cell_type": "code",
   "execution_count": null,
   "id": "dae1acc4",
   "metadata": {
    "deletable": false,
    "editable": false
   },
   "outputs": [],
   "source": [
    "grader.check(\"q9.3\")"
   ]
  },
  {
   "cell_type": "markdown",
   "id": "4745936a",
   "metadata": {
    "deletable": false,
    "editable": false
   },
   "source": [
    "#### Part 9.4 (5 pts)\n"
   ]
  },
  {
   "cell_type": "markdown",
   "id": "4ae3d34d",
   "metadata": {
    "deletable": false,
    "editable": false
   },
   "source": [
    "Assign `biggest_rel_change_major` to 1, 2, or 3 where each number corresponds to to the following: \n",
    "\n",
    "1. Comparative Literature\n",
    "2. Psychology\n",
    "3. Mathematics\n",
    "\n",
    "Choose the number that corresponds to the major with the biggest relative change. "
   ]
  },
  {
   "cell_type": "code",
   "execution_count": null,
   "id": "3e105b40",
   "metadata": {
    "deletable": false,
    "tags": []
   },
   "outputs": [],
   "source": [
    "# Assign biggest_rel_change_major to the number corresponding to the major with the biggest relative change.\n",
    "biggest_rel_change_major = ...\n",
    "biggest_rel_change_major"
   ]
  },
  {
   "cell_type": "code",
   "execution_count": null,
   "id": "ef776057",
   "metadata": {
    "deletable": false,
    "editable": false
   },
   "outputs": [],
   "source": [
    "grader.check(\"q9.4\")"
   ]
  },
  {
   "cell_type": "markdown",
   "id": "e5b2529f",
   "metadata": {
    "deletable": false,
    "editable": false,
    "tags": []
   },
   "source": [
    "## 10. Welcome Survey (5 pts)\n",
    "\n"
   ]
  },
  {
   "cell_type": "code",
   "execution_count": null,
   "id": "15784618",
   "metadata": {
    "deletable": false,
    "editable": false
   },
   "outputs": [],
   "source": [
    "#### Part 10.1 (5 pts)\n"
   ]
  },
  {
   "cell_type": "markdown",
   "id": "1b3b9c74",
   "metadata": {
    "deletable": false,
    "editable": false
   },
   "source": [
    "Once you have submitted, please also complete the CS 104 welcome survey: **Do we want a survey to get some data about students?**"
   ]
  },
  {
   "cell_type": "markdown",
   "id": "96c21b40",
   "metadata": {
    "deletable": false,
    "editable": false
   },
   "source": [
    "Assign `survey` to the secret string given at the end of the welcome survey:"
   ]
  },
  {
   "cell_type": "code",
   "execution_count": null,
   "id": "a4e56aef",
   "metadata": {
    "deletable": false,
    "tags": []
   },
   "outputs": [],
   "source": [
    "survey = ..."
   ]
  },
  {
   "cell_type": "markdown",
   "id": "112d399f",
   "metadata": {
    "deletable": false,
    "editable": false
   },
   "source": [
    "## 11. You're Done!\n"
   ]
  },
  {
   "cell_type": "markdown",
   "id": "ab9b159b",
   "metadata": {
    "deletable": false,
    "editable": false
   },
   "source": [
    "**Important submission information:** Follow these steps to submit your work:\n",
    "* Run the tests and verify that they pass as you expect. \n",
    "* Choose **Save Notebook** from the **File** menu.\n",
    "* **Run the final cell** and click the link below to download the zip file. \n",
    "\n",
    "Once you have downloaded that file, go to [Gradescope](https://www.gradescope.com/) and submit the zip file to the corresponding assignment. The name of this assignment is \"Lab 1 Autograder\". **Be sure your work is saved before running the last cell!**\n",
    "\n",
    "Once you have submitted, your Gradescope assignment should look something like the following image if you have passed all tests.\n",
    "\n",
    "NOTE: *This is an image of a generic Gradescope submission result --- it does not included the same test numbers as this assignment's.*\n",
    "\n",
    "<img src=\"gradescope.png\">"
   ]
  },
  {
   "cell_type": "markdown",
   "id": "2bd0ced3",
   "metadata": {
    "deletable": false,
    "editable": false
   },
   "source": [
    " "
   ]
  },
  {
   "cell_type": "markdown",
   "id": "0564c530",
   "metadata": {
    "deletable": false,
    "editable": false
   },
   "source": [
    "---\n",
    "\n",
    "To double-check your work, the cell below will rerun all of the autograder tests."
   ]
  },
  {
   "cell_type": "code",
   "execution_count": null,
   "id": "f657d035",
   "metadata": {
    "deletable": false,
    "editable": false
   },
   "outputs": [],
   "source": [
    "grader.check_all()"
   ]
  },
  {
   "cell_type": "markdown",
   "id": "9bbb8d2f",
   "metadata": {
    "deletable": false,
    "editable": false
   },
   "source": [
    "## Submission\n",
    "\n",
    "Make sure you have run all cells in your notebook in order before running the cell below, so that all images/graphs appear in the output. The cell below will generate a zip file for you to submit. **Please save before exporting!**"
   ]
  },
  {
   "cell_type": "code",
   "execution_count": null,
   "id": "3a582c80",
   "metadata": {
    "deletable": false,
    "editable": false
   },
   "outputs": [],
   "source": [
    "# Save your notebook first, then run this cell to export your submission.\n",
    "grader.export(pdf=False)"
   ]
  },
  {
   "cell_type": "markdown",
   "id": "a0950f0d",
   "metadata": {},
   "source": [
    " "
   ]
  }
 ],
 "metadata": {
  "kernelspec": {
   "display_name": "Python 3.9.13 ('_test-env': venv)",
   "language": "python",
   "name": "python3"
  },
  "language_info": {
   "codemirror_mode": {
    "name": "ipython",
    "version": 3
   },
   "file_extension": ".py",
   "mimetype": "text/x-python",
   "name": "python",
   "nbconvert_exporter": "python",
   "pygments_lexer": "ipython3",
   "version": "3.9.13"
  },
  "otter": {
   "tests": {
    "q10.1": {
     "name": "q10.1",
     "points": 5,
     "suites": [
      {
       "cases": [],
       "scored": true,
       "setup": "",
       "teardown": "",
       "type": "doctest"
      }
     ]
    },
    "q4.1": {
     "name": "q4.1",
     "points": 0,
     "suites": [
      {
       "cases": [
        {
         "code": ">>> 'seconds_in_a_decade' in vars()\nTrue",
         "failure_message": "It looks like you didn't give anything the name seconds_in_a_decade. Maybe there's a typo, or maybe you  just need to run the cell below Question 3.2 where you defined  seconds_in_a_decade. Click that cell and then click the \"run cell\" button in the menu bar above.",
         "hidden": false,
         "locked": false
        },
        {
         "code": ">>> seconds_in_a_decade != ...\nTrue",
         "failure_message": "It looks like you didn't change the cell to define seconds_in_a_decade appropriately.  It should be a number, computed using Python's arithmetic.  For example, this is almost right:\n  seconds_in_a_decade = 10*365*24*60*60",
         "hidden": false,
         "locked": false
        },
        {
         "code": ">>> \n>>> seconds_in_a_decade != 315360000\nTrue",
         "failure_message": "It looks like you didn't account for leap years. There were 2 leap years and 8 non-leap years in this period. Leap years have 366 days instead of 365.",
         "hidden": false,
         "locked": false
        },
        {
         "code": ">>> seconds_in_a_decade == 315532800\nTrue",
         "hidden": false,
         "locked": false
        }
       ],
       "scored": true,
       "setup": "",
       "teardown": "",
       "type": "doctest"
      }
     ]
    },
    "q6.1": {
     "name": "q6.1",
     "points": 0,
     "suites": [
      {
       "cases": [
        {
         "code": ">>> num_avenues_away == 3\nTrue",
         "hidden": false,
         "locked": false
        },
        {
         "code": ">>> manhattan_distance == 1462\nTrue",
         "hidden": false,
         "locked": false
        }
       ],
       "scored": true,
       "setup": "",
       "teardown": "",
       "type": "doctest"
      }
     ]
    },
    "q7.1": {
     "name": "q7.1",
     "points": 5,
     "suites": [
      {
       "cases": [
        {
         "code": ">>> 1 <= characters_q1 <= 5\nTrue",
         "hidden": false,
         "locked": false
        }
       ],
       "scored": true,
       "setup": "",
       "teardown": "",
       "type": "doctest"
      }
     ]
    },
    "q7.2": {
     "name": "q7.2",
     "points": 5,
     "suites": [
      {
       "cases": [
        {
         "code": ">>> 1 <= characters_q2 <= 5\nTrue",
         "hidden": false,
         "locked": false
        }
       ],
       "scored": true,
       "setup": "",
       "teardown": "",
       "type": "doctest"
      }
     ]
    },
    "q8.1": {
     "name": "q8.1",
     "points": 5,
     "suites": [
      {
       "cases": [
        {
         "code": ">>> 1 <= names_q1 <= 3\nTrue",
         "failure_message": "Be sure to set names_q1 to either 1, 2, or 3.",
         "hidden": false,
         "locked": false
        }
       ],
       "scored": true,
       "setup": "",
       "teardown": "",
       "type": "doctest"
      }
     ]
    },
    "q8.2": {
     "name": "q8.2",
     "points": 5,
     "suites": [
      {
       "cases": [
        {
         "code": ">>> 1 <= names_q2 <= 4\nTrue",
         "failure_message": "Be sure to set names_q2 to either 1, 2, or 3, 4.",
         "hidden": false,
         "locked": false
        }
       ],
       "scored": true,
       "setup": "",
       "teardown": "",
       "type": "doctest"
      }
     ]
    },
    "q8.3": {
     "name": "q8.3",
     "points": 5,
     "suites": [
      {
       "cases": [
        {
         "code": ">>> 1 <= names_q3 <= 4\nTrue",
         "failure_message": "Be sure to set names_q1 to either 1, 2, or 3.",
         "hidden": false,
         "locked": false
        }
       ],
       "scored": true,
       "setup": "",
       "teardown": "",
       "type": "doctest"
      }
     ]
    },
    "q9.1": {
     "name": "q9.1",
     "points": 5,
     "suites": [
      {
       "cases": [
        {
         "code": ">>> 0 <= biggest_change\nTrue",
         "failure_message": "biggest_change should be a non-negative number!",
         "hidden": false,
         "locked": false
        }
       ],
       "scored": true,
       "setup": "",
       "teardown": "",
       "type": "doctest"
      }
     ]
    },
    "q9.2": {
     "name": "q9.2",
     "points": 5,
     "suites": [
      {
       "cases": [
        {
         "code": ">>> 1 <= smallest_change_major <= 3\nTrue",
         "failure_message": "Be sure to set smallest_change_major to either 1, 2, or 3.",
         "hidden": false,
         "locked": false
        },
        {
         "code": ">>> smallest_change_major == 1\nTrue",
         "hidden": false,
         "locked": false
        }
       ],
       "scored": true,
       "setup": "",
       "teardown": "",
       "type": "doctest"
      }
     ]
    },
    "q9.3": {
     "name": "q9.3",
     "points": 5,
     "suites": [
      {
       "cases": [
        {
         "code": ">>> 0 <= complit_relative_change <= 200\nTrue",
         "hidden": false,
         "locked": false
        },
        {
         "code": ">>> 0 <= psych_relative_change <= 200\nTrue",
         "hidden": false,
         "locked": false
        },
        {
         "code": ">>> 0 <= math_relative_change <= 200\nTrue",
         "hidden": false,
         "locked": false
        },
        {
         "code": ">>> #HIDDEN\n>>> np.isclose(complit_relative_change, 120.0)\nTrue",
         "hidden": false,
         "locked": false
        },
        {
         "code": ">>> #HIDDEN\n>>> np.isclose(psych_relative_change, 27.419354838709676)\nTrue",
         "hidden": false,
         "locked": false
        },
        {
         "code": ">>> #HIDDEN\n>>> np.isclose(math_relative_change, 15.09433962264151)\nTrue",
         "hidden": false,
         "locked": false
        }
       ],
       "scored": true,
       "setup": "",
       "teardown": "",
       "type": "doctest"
      }
     ]
    },
    "q9.4": {
     "name": "q9.4",
     "points": 5,
     "suites": [
      {
       "cases": [
        {
         "code": ">>> 1 <= biggest_rel_change_major <= 3\nTrue",
         "hidden": false,
         "locked": false
        }
       ],
       "scored": true,
       "setup": "",
       "teardown": "",
       "type": "doctest"
      }
     ]
    }
   }
  },
  "vscode": {
   "interpreter": {
    "hash": "e9a7af6fc709cc25e111b0d6e28f738a78907138b7e48b682edcf6dfb7dc8bee"
   }
  }
 },
 "nbformat": 4,
 "nbformat_minor": 5
}
