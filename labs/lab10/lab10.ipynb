{
 "cells": [
  {
   "cell_type": "code",
   "execution_count": null,
   "id": "2ff39567",
   "metadata": {
    "deletable": false,
    "editable": false
   },
   "outputs": [],
   "source": [
    "# Initialize Otter\n",
    "import otter\n",
    "grader = otter.Notebook(\"lab10.ipynb\")"
   ]
  },
  {
   "cell_type": "markdown",
   "id": "277530d1",
   "metadata": {
    "deletable": false,
    "editable": false,
    "tags": []
   },
   "source": [
    "# Lab 10: Linear Regression"
   ]
  },
  {
   "cell_type": "markdown",
   "id": "611eee83",
   "metadata": {
    "deletable": false,
    "editable": false
   },
   "source": [
    "**Helpful Resource:**\n",
    "- [Python Reference](http://data8.org/fa21/python-reference.html): Cheat sheet of helpful array & table methods used in Data 8!\n",
    "\n",
    "**Recommended Readings**: \n",
    "* [15.2. The Regression Line](https://www.inferentialthinking.com/chapters/15/2/Regression_Line.html)\n",
    "* [15.3. Method of Least Squares](https://www.inferentialthinking.com/chapters/15/3/Method_of_Least_Squares.html)\n",
    "* [15.4 Least Squares Regression](https://www.inferentialthinking.com/chapters/15/4/Least_Squares_Regression.html)"
   ]
  },
  {
   "cell_type": "markdown",
   "id": "13aa1c00",
   "metadata": {
    "deletable": false,
    "editable": false,
    "tags": []
   },
   "source": [
    "Please complete this notebook by filling in the cells provided. Before you begin, execute the following cell to setup the notebook by importing some helpful libraries. Each time you start your server, you will need to execute this cell again.  For all problems that you must write explanations and sentences for, you **must** provide your answer in the designated space. **Moreover, throughout this homework and all future ones, please be sure to not re-assign variables throughout the notebook!** For example, if you use `max_temperature` in your answer to one question, do not reassign it later on. Otherwise, you will fail tests that you thought you were passing previously!\n",
    "\n",
    "**Note: This homework has hidden tests on it. That means even though tests may say 100% passed, it doesn't mean your final grade will be 100%. We will be running more tests for correctness once everyone turns in the homework.**"
   ]
  },
  {
   "cell_type": "code",
   "execution_count": null,
   "id": "a74a1c63",
   "metadata": {
    "deletable": false,
    "editable": false
   },
   "outputs": [],
   "source": [
    "# Run this cell to set up the notebook.\n",
    "\n",
    "# These lines import the Numpy and Datascience modules.\n",
    "import numpy as np\n",
    "from datascience import *\n",
    "\n",
    "# These lines make plots look nice and hide some messy Python warnings.\n",
    "import matplotlib\n",
    "%matplotlib inline\n",
    "import matplotlib.pyplot as plt\n",
    "plt.style.use('fivethirtyeight')\n",
    "import warnings\n",
    "warnings.simplefilter('ignore', FutureWarning)\n",
    "warnings.simplefilter('ignore', np.VisibleDeprecationWarning)"
   ]
  },
  {
   "cell_type": "markdown",
   "id": "8d2dc926",
   "metadata": {
    "deletable": false,
    "editable": false
   },
   "source": [
    "## 1. Triple Jump Distances vs. Vertical Jump Heights (40 pts)\n",
    "\n"
   ]
  },
  {
   "cell_type": "markdown",
   "id": "e6fe5f62",
   "metadata": {
    "deletable": false,
    "editable": false
   },
   "source": [
    "Does skill in one sport imply skill in a related sport?  The answer might be different for different activities. Let's find out whether it's true for the [triple jump](https://en.wikipedia.org/wiki/Triple_jump) (a horizontal jump similar to a long jump) and the [vertical jump](https://en.wikipedia.org/wiki/Vertical_jump).  Since we're learning about linear regression, we will look specifically for a *linear* association between skill level in the two sports.\n",
    "\n",
    "The following data was collected by observing 40 collegiate-level soccer players. Each athlete's distances in both events were measured in centimeters. Run the cell below to load the data."
   ]
  },
  {
   "cell_type": "code",
   "execution_count": null,
   "id": "96376fd6",
   "metadata": {
    "deletable": false,
    "editable": false
   },
   "outputs": [],
   "source": [
    "# Run this cell to load the data\n",
    "jumps = Table.read_table('triple_vertical.csv')\n",
    "jumps"
   ]
  },
  {
   "cell_type": "markdown",
   "id": "b3f78b98",
   "metadata": {
    "deletable": false,
    "editable": false
   },
   "source": [
    "#### Part 1.1 (5 pts)\n"
   ]
  },
  {
   "cell_type": "markdown",
   "id": "9357ebc5",
   "metadata": {
    "deletable": false,
    "editable": false
   },
   "source": [
    " Create a function `standard_units` that converts the values in the array `data` to standard units. \n",
    "\n"
   ]
  },
  {
   "cell_type": "code",
   "execution_count": null,
   "id": "40db7162",
   "metadata": {
    "deletable": false,
    "tags": []
   },
   "outputs": [],
   "source": [
    "def standard_units(data):\n",
    "    ..."
   ]
  },
  {
   "cell_type": "code",
   "execution_count": null,
   "id": "f68c6799",
   "metadata": {
    "deletable": false,
    "editable": false
   },
   "outputs": [],
   "source": [
    "grader.check(\"q1.1\")"
   ]
  },
  {
   "cell_type": "markdown",
   "id": "31f2e117",
   "metadata": {
    "deletable": false,
    "editable": false
   },
   "source": [
    "#### Part 1.2 (5 pts)\n"
   ]
  },
  {
   "cell_type": "markdown",
   "id": "132b50cd",
   "metadata": {
    "deletable": false,
    "editable": false
   },
   "source": [
    " Now, using the `standard_units` function, define the function `correlation` which computes the correlation between `x` and `y`. \n",
    "\n"
   ]
  },
  {
   "cell_type": "code",
   "execution_count": null,
   "id": "ea82b5eb",
   "metadata": {
    "deletable": false,
    "tags": []
   },
   "outputs": [],
   "source": [
    "def correlation(x, y):\n",
    "    ...\n"
   ]
  },
  {
   "cell_type": "code",
   "execution_count": null,
   "id": "c10b2278",
   "metadata": {
    "deletable": false,
    "editable": false
   },
   "outputs": [],
   "source": [
    "grader.check(\"q1.2\")"
   ]
  },
  {
   "cell_type": "markdown",
   "id": "52f64542",
   "metadata": {
    "deletable": false,
    "editable": false
   },
   "source": [
    "<!-- BEGIN QUESTION -->\n",
    "\n",
    "#### Part 1.3 (5 pts)\n"
   ]
  },
  {
   "cell_type": "markdown",
   "id": "da8269bf",
   "metadata": {
    "deletable": false,
    "editable": false
   },
   "source": [
    " Before running a regression, it's important to see what the data looks like, because our eyes are good at picking out unusual patterns in data.  Draw a scatter plot, **that includes the regression line**, with the triple jump distances on the horizontal axis and the vertical jump heights on vertical axis. \n",
    "\n",
    "See the documentation on `scatter` [here](http://data8.org/datascience/_autosummary/datascience.tables.Table.scatter.html#datascience.tables.Table.scatter) for instructions on how to have Python draw the regression line automatically.\n",
    "\n",
    "*Hint:* The `fit_line` argument may be useful here!\n",
    "\n"
   ]
  },
  {
   "cell_type": "code",
   "execution_count": null,
   "id": "233a0dc3",
   "metadata": {
    "deletable": false,
    "tags": []
   },
   "outputs": [],
   "source": [
    "...\n"
   ]
  },
  {
   "cell_type": "markdown",
   "id": "4322ce98",
   "metadata": {
    "deletable": false,
    "editable": false
   },
   "source": [
    "<!-- END QUESTION -->\n",
    "\n",
    "<!-- BEGIN QUESTION -->\n",
    "\n",
    "#### Part 1.4 (5 pts)\n"
   ]
  },
  {
   "cell_type": "markdown",
   "id": "623682ea",
   "metadata": {
    "deletable": false,
    "editable": false
   },
   "source": [
    " Does the correlation coefficient $r$ look closest to 0, .5, or -.5? Explain. \n",
    "\n"
   ]
  },
  {
   "cell_type": "markdown",
   "id": "966cbd9a",
   "metadata": {},
   "source": [
    "_Type your answer here, replacing this text._"
   ]
  },
  {
   "cell_type": "markdown",
   "id": "d2be8028",
   "metadata": {
    "deletable": false,
    "editable": false
   },
   "source": [
    "<!-- END QUESTION -->\n",
    "\n",
    "#### Part 1.5 (5 pts)\n"
   ]
  },
  {
   "cell_type": "markdown",
   "id": "405f5ca2",
   "metadata": {
    "deletable": false,
    "editable": false
   },
   "source": [
    " Create a function called `parameter_estimates` that takes in the argument `table`, a two-column table where the first column is the x-axis and the second column is the y-axis. It should return an array with three elements: the **(1) correlation coefficient** of the two columns and the **(2) slope** and **(3) intercept** of the regression line that predicts the second column from the first, in original units. \n",
    "\n",
    "*Hint:* This is a rare occasion where it’s better to implement the function using column indices instead of column names, in order to be able to call this function on any table. If you need a reminder about how to use column indices to pull out individual columns, please refer to [this](https://www.inferentialthinking.com/chapters/06/Tables.html#accessing-the-data-in-a-column) section of the textbook.\n",
    "\n"
   ]
  },
  {
   "cell_type": "code",
   "execution_count": null,
   "id": "28c4af14",
   "metadata": {
    "deletable": false,
    "tags": []
   },
   "outputs": [],
   "source": [
    "def parameter_estimates(table):\n",
    "    r = ...\n",
    "    ...\n",
    "    return make_array(r, slope, intercept)\n",
    "\n",
    "parameters = parameter_estimates(jumps) \n",
    "print('r:', parameters.item(0), '; slope:', parameters.item(1), '; intercept:', parameters.item(2))"
   ]
  },
  {
   "cell_type": "code",
   "execution_count": null,
   "id": "653fe17e",
   "metadata": {
    "deletable": false,
    "editable": false
   },
   "outputs": [],
   "source": [
    "grader.check(\"q1.5\")"
   ]
  },
  {
   "cell_type": "markdown",
   "id": "a6878e53",
   "metadata": {
    "deletable": false,
    "editable": false
   },
   "source": [
    "#### Part 1.6 (5 pts)\n"
   ]
  },
  {
   "cell_type": "markdown",
   "id": "7ef4c67a",
   "metadata": {
    "deletable": false,
    "editable": false
   },
   "source": [
    " Now suppose you want to go the other way and predict a triple jump distance given a vertical jump distance. What would the regression parameters of this linear model be? How do they compare to the regression parameters from the model where you were predicting vertical jump distance given a triple jump distance (in Part 1.5)? \n",
    "\n",
    "Set `regression_changes` to an array of 3 elements, with each element corresponding to whether or not the corresponding item returned by `parameter_estimates` changes when switching vertical and triple as $x$ and $y$. For example, if r changes, the slope changes, but the intercept wouldn't change, the array would be `make_array(True, True, False)`.\n",
    "\n"
   ]
  },
  {
   "cell_type": "code",
   "execution_count": null,
   "id": "266d2b2c",
   "metadata": {
    "deletable": false,
    "tags": []
   },
   "outputs": [],
   "source": [
    "regression_changes = ...\n",
    "regression_changes"
   ]
  },
  {
   "cell_type": "code",
   "execution_count": null,
   "id": "b55a54aa",
   "metadata": {
    "deletable": false,
    "editable": false
   },
   "outputs": [],
   "source": [
    "grader.check(\"q1.6\")"
   ]
  },
  {
   "cell_type": "markdown",
   "id": "fe254482",
   "metadata": {
    "deletable": false,
    "editable": false
   },
   "source": [
    "#### Part 1.7 (5 pts)\n"
   ]
  },
  {
   "cell_type": "markdown",
   "id": "f5d944d2",
   "metadata": {
    "deletable": false,
    "editable": false
   },
   "source": [
    " Let's use `parameters` (from Part 1.5) to predict what certain athletes' vertical jump heights would be given their triple jump distances. \n",
    "\n",
    "The world record for the triple jump distance is 18.29 *meters* by Johnathan Edwards. What is the prediction for Edwards' vertical jump using this line?\n",
    "\n",
    "*Hint:* Make sure to convert from meters to centimeters!"
   ]
  },
  {
   "cell_type": "code",
   "execution_count": null,
   "id": "82f31d6a",
   "metadata": {
    "deletable": false,
    "tags": []
   },
   "outputs": [],
   "source": [
    "triple_record_vert_est = ...\n",
    "print(\"Predicted vertical jump distance: {:f} centimeters\".format(triple_record_vert_est))"
   ]
  },
  {
   "cell_type": "code",
   "execution_count": null,
   "id": "9b78203c",
   "metadata": {
    "deletable": false,
    "editable": false
   },
   "outputs": [],
   "source": [
    "grader.check(\"q1.7\")"
   ]
  },
  {
   "cell_type": "markdown",
   "id": "754026ef",
   "metadata": {
    "deletable": false,
    "editable": false
   },
   "source": [
    "<!-- BEGIN QUESTION -->\n",
    "\n",
    "#### Part 1.8 (5 pts)\n"
   ]
  },
  {
   "cell_type": "markdown",
   "id": "02656459",
   "metadata": {
    "deletable": false,
    "editable": false
   },
   "source": [
    "Do you think it makes sense to use this line to predict Edwards' vertical jump? \n",
    "\n",
    "*Hint:* Compare Edwards' triple jump distance to the triple jump distances in `jumps`. Is it relatively similar to the rest of the data? "
   ]
  },
  {
   "cell_type": "markdown",
   "id": "30c555cc",
   "metadata": {},
   "source": [
    "_Type your answer here, replacing this text._"
   ]
  },
  {
   "cell_type": "markdown",
   "id": "241bf07f",
   "metadata": {
    "deletable": false,
    "editable": false
   },
   "source": [
    "<!-- END QUESTION -->\n",
    "\n",
    "## 2. Cryptocurrencies (25 pts)\n",
    "\n"
   ]
  },
  {
   "cell_type": "markdown",
   "id": "fd14c929",
   "metadata": {
    "deletable": false,
    "editable": false
   },
   "source": [
    "Imagine you're an investor in December 2017. Cryptocurrencies, online currencies backed by secure software, are becoming extremely valuable, and you want in on the action!\n",
    "\n",
    "The two most valuable cryptocurrencies are Bitcoin (BTC) and Ethereum (ETH). Each one has a dollar price attached to it at any given moment in time. For example, on December 1st, 2017, one BTC costs $\\$10,859.56$ and one ETH costs $\\$424.64.$\n",
    "\n",
    "For fun, you can here are the current prices of [Bitcoin](https://www.coinbase.com/price/bitcoin) and [Ethereum](https://www.coinbase.com/price/ethereum)!\n",
    "\n",
    "**You want to predict the price of ETH at some point in time based on the price of BTC.** Below, we load two [tables](https://www.kaggle.com/jessevent/all-crypto-currencies/data) called `btc` and `eth`. Each has 5 columns:\n",
    "* `date`, the date\n",
    "* `open`, the value of the currency at the beginning of the day\n",
    "* `close`, the value of the currency at the end of the day\n",
    "* `market`, the market cap or total dollar value invested in the currency\n",
    "* `day`, the number of days since the start of our data"
   ]
  },
  {
   "cell_type": "code",
   "execution_count": null,
   "id": "c461cc4a",
   "metadata": {
    "deletable": false,
    "editable": false
   },
   "outputs": [],
   "source": [
    "btc = Table.read_table('btc.csv')\n",
    "btc"
   ]
  },
  {
   "cell_type": "code",
   "execution_count": null,
   "id": "2038f362",
   "metadata": {
    "deletable": false,
    "editable": false
   },
   "outputs": [],
   "source": [
    "eth = Table.read_table('eth.csv')\n",
    "eth"
   ]
  },
  {
   "cell_type": "markdown",
   "id": "102321f9",
   "metadata": {
    "deletable": false,
    "editable": false
   },
   "source": [
    "<!-- BEGIN QUESTION -->\n",
    "\n",
    "#### Part 2.1 (5 pts)\n"
   ]
  },
  {
   "cell_type": "markdown",
   "id": "1c331a2f",
   "metadata": {
    "deletable": false,
    "editable": false
   },
   "source": [
    " In the cell below, create a line plot that visualizes the BTC and ETH open prices as a function of time. Both BTC and ETH open prices should be plotted on the same graph. \n",
    "\n"
   ]
  },
  {
   "cell_type": "code",
   "execution_count": null,
   "id": "c6aa313b",
   "metadata": {
    "deletable": false,
    "tags": []
   },
   "outputs": [],
   "source": [
    "# Create a line plot of btc and eth open prices as a function of time\n",
    "...\n"
   ]
  },
  {
   "cell_type": "markdown",
   "id": "235c649f",
   "metadata": {
    "deletable": false,
    "editable": false
   },
   "source": [
    "<!-- END QUESTION -->\n",
    "\n",
    "#### Part 2.2 (5 pts)\n"
   ]
  },
  {
   "cell_type": "markdown",
   "id": "cf137743",
   "metadata": {
    "deletable": false,
    "editable": false
   },
   "source": [
    " Now, calculate the correlation coefficient between the opening prices of BTC and ETH using the `correlation` function you defined earlier. \n",
    "\n"
   ]
  },
  {
   "cell_type": "code",
   "execution_count": null,
   "id": "d0aff1b8",
   "metadata": {
    "deletable": false,
    "tags": []
   },
   "outputs": [],
   "source": [
    "r = ...\n",
    "r"
   ]
  },
  {
   "cell_type": "code",
   "execution_count": null,
   "id": "8406765f",
   "metadata": {
    "deletable": false,
    "editable": false
   },
   "outputs": [],
   "source": [
    "grader.check(\"q2.2\")"
   ]
  },
  {
   "cell_type": "markdown",
   "id": "7db19bd5",
   "metadata": {
    "deletable": false,
    "editable": false
   },
   "source": [
    "#### Part 2.3 (5 pts)\n"
   ]
  },
  {
   "cell_type": "markdown",
   "id": "2e270a5e",
   "metadata": {
    "deletable": false,
    "editable": false
   },
   "source": [
    " Write a function `eth_predictor` which takes an opening BTC price and predicts the opening price of ETH. Again, it will be helpful to use the function `parameter_estimates` that you defined earlier in this homework. \n",
    "\n",
    "*Note:* Make sure that your `eth_predictor` is using least squares linear regression.\n",
    "\n"
   ]
  },
  {
   "cell_type": "code",
   "execution_count": null,
   "id": "8b1e6f7a",
   "metadata": {
    "deletable": false,
    "tags": []
   },
   "outputs": [],
   "source": [
    "def eth_predictor(btc_price):\n",
    "    parameters = ...\n",
    "    slope = ...\n",
    "    intercept = ...\n",
    "    ...\n"
   ]
  },
  {
   "cell_type": "code",
   "execution_count": null,
   "id": "36d0ec27",
   "metadata": {
    "deletable": false,
    "editable": false
   },
   "outputs": [],
   "source": [
    "grader.check(\"q2.3\")"
   ]
  },
  {
   "cell_type": "markdown",
   "id": "b035ccee",
   "metadata": {
    "deletable": false,
    "editable": false
   },
   "source": [
    "<!-- BEGIN QUESTION -->\n",
    "\n",
    "#### Part 2.4 (5 pts)\n"
   ]
  },
  {
   "cell_type": "markdown",
   "id": "b0f2e72c",
   "metadata": {
    "deletable": false,
    "editable": false
   },
   "source": [
    " Now, using the `eth_predictor`, you defined in the previous question, make a scatter plot with BTC prices along the x-axis and both real and predicted ETH prices along the y-axis. The color of the dots for the real ETH prices should be different from the color for the predicted ETH prices. \n",
    "\n",
    "*Hint 1:* An example of such a scatter plot is generated can be found [here](https://inferentialthinking.com/chapters/15/2/Regression_Line.html). </a>\n",
    "\n",
    "*Hint 2:* Think about the table that must be produced and used to generate this scatter plot. What data should the columns represent? Based on the data that you need, how many columns should be present in this table? Also, what should each row represent? Constructing the table will be the main part of this question; once you have this table, generating the scatter plot should be straightforward as usual.\n",
    "\n"
   ]
  },
  {
   "cell_type": "code",
   "execution_count": null,
   "id": "069f5c54",
   "metadata": {
    "deletable": false,
    "tags": []
   },
   "outputs": [],
   "source": [
    "btc_open = ...\n",
    "eth_pred = ...\n",
    "eth_pred_actual = ...\n",
    "table = ...\n",
    "table.scatter(\"BTC\")"
   ]
  },
  {
   "cell_type": "markdown",
   "id": "53c57899",
   "metadata": {
    "deletable": false,
    "editable": false
   },
   "source": [
    "<!-- END QUESTION -->\n",
    "\n",
    "<!-- BEGIN QUESTION -->\n",
    "\n",
    "#### Part 2.5 (5 pts)\n"
   ]
  },
  {
   "cell_type": "markdown",
   "id": "3342387c",
   "metadata": {
    "deletable": false,
    "editable": false
   },
   "source": [
    " Considering the shape of the scatter plot of the true data, is the model we used reasonable? If so, what features or characteristics make this model reasonable? If not, what features or characteristics make it unreasonable? \n",
    "\n"
   ]
  },
  {
   "cell_type": "markdown",
   "id": "89962032",
   "metadata": {},
   "source": [
    "_Type your answer here, replacing this text._"
   ]
  },
  {
   "cell_type": "markdown",
   "id": "1c0dd96d",
   "metadata": {
    "deletable": false,
    "editable": false
   },
   "source": [
    "<!-- END QUESTION -->\n",
    "\n",
    "## 3. Evaluating NBA Game Predictions (45 pts)\n",
    "\n"
   ]
  },
  {
   "cell_type": "markdown",
   "id": "3ebb7b63",
   "metadata": {
    "deletable": false,
    "editable": false
   },
   "source": [
    "#### A Brief Introduction to Sports Betting\n",
    "\n",
    "In a basketball game, each team scores some number of points.  Conventionally, the team playing at its own arena is called the \"home team\", and their opponent is called the \"away team\".  The winner is the team with more points at the end of the game.\n",
    "\n",
    "We can summarize what happened in a game by the \"**outcome**\", defined as the **the away team's score minus the home team's score**:\n",
    "\n",
    "$$\\text{outcome} = \\text{points scored by the away team} - \\text{points scored by the home team}$$\n",
    "\n",
    "If this number is positive, the away team won.  If it's negative, the home team won. \n",
    "\n",
    "In order to facilitate betting on games, analysts at casinos try to predict the outcome of the game. This prediction of the outcome is called the **spread.**\n"
   ]
  },
  {
   "cell_type": "code",
   "execution_count": null,
   "id": "a93915c0",
   "metadata": {
    "deletable": false,
    "editable": false
   },
   "outputs": [],
   "source": [
    "spreads = Table.read_table(\"spreads.csv\")\n",
    "spreads"
   ]
  },
  {
   "cell_type": "markdown",
   "id": "bf878706",
   "metadata": {
    "deletable": false,
    "editable": false
   },
   "source": [
    "Here's a scatter plot of the outcomes and spreads, with the spreads on the horizontal axis."
   ]
  },
  {
   "cell_type": "code",
   "execution_count": null,
   "id": "7e175a1a",
   "metadata": {
    "deletable": false,
    "editable": false
   },
   "outputs": [],
   "source": [
    "spreads.scatter(\"Spread\", \"Outcome\")"
   ]
  },
  {
   "cell_type": "markdown",
   "id": "d09c3188",
   "metadata": {
    "deletable": false,
    "editable": false
   },
   "source": [
    "From the scatter plot, you can see that the spread and outcome are almost never 0, aside from one case of the spread being 0. This is because a game of basketball never ends in a tie. One team has to win, so the outcome can never be 0. The spread is almost never 0 because it's chosen to estimate the outcome."
   ]
  },
  {
   "cell_type": "markdown",
   "id": "db96e557",
   "metadata": {
    "deletable": false,
    "editable": false
   },
   "source": [
    "Let's investigate how well the casinos are predicting game outcomes.\n",
    "\n",
    "One question we can ask is: Is the casino's prediction correct on average? In other words, for every value of the spread, is the average outcome of games assigned that spread equal to the spread? If not, the casino would apparently be making a systematic error in its predictions."
   ]
  },
  {
   "cell_type": "markdown",
   "id": "c48e10cf",
   "metadata": {
    "deletable": false,
    "editable": false
   },
   "source": [
    "#### Part 3.1 (5 pts)\n"
   ]
  },
  {
   "cell_type": "markdown",
   "id": "90875d3b",
   "metadata": {
    "deletable": false,
    "editable": false
   },
   "source": [
    " Compute the correlation coefficient between outcomes and spreads. \n",
    "\n",
    "*Note:* It might be helpful to use the `correlation` function.\n",
    "\n"
   ]
  },
  {
   "cell_type": "code",
   "execution_count": null,
   "id": "299f934a",
   "metadata": {
    "deletable": false,
    "tags": []
   },
   "outputs": [],
   "source": [
    "spread_r = ...\n",
    "spread_r"
   ]
  },
  {
   "cell_type": "code",
   "execution_count": null,
   "id": "0d244c85",
   "metadata": {
    "deletable": false,
    "editable": false
   },
   "outputs": [],
   "source": [
    "grader.check(\"q3.1\")"
   ]
  },
  {
   "cell_type": "markdown",
   "id": "d58a1422",
   "metadata": {
    "deletable": false,
    "editable": false
   },
   "source": [
    "#### Part 3.2 (5 pts)\n"
   ]
  },
  {
   "cell_type": "markdown",
   "id": "ae3c2948",
   "metadata": {
    "deletable": false,
    "editable": false
   },
   "source": [
    " Among games with a spread between 3.5 and 6.5 (including both 3.5 and 6.5), what was the average outcome? \n",
    "\n",
    "*Hint:* Read the documentation for the predicate `are.between_or_equal_to` [here](http://data8.org/datascience/predicates.html#datascience.predicates.are.between_or_equal_to).\n",
    "\n"
   ]
  },
  {
   "cell_type": "code",
   "execution_count": null,
   "id": "b9ae0b8b",
   "metadata": {
    "deletable": false,
    "tags": []
   },
   "outputs": [],
   "source": [
    "spreads_around_5 = ...\n",
    "spread_5_outcome_average = ...\n",
    "print(\"Average outcome for spreads around 5:\", spread_5_outcome_average)"
   ]
  },
  {
   "cell_type": "code",
   "execution_count": null,
   "id": "7bafc49a",
   "metadata": {
    "deletable": false,
    "editable": false
   },
   "outputs": [],
   "source": [
    "grader.check(\"q3.2\")"
   ]
  },
  {
   "cell_type": "markdown",
   "id": "3adb2f71",
   "metadata": {
    "deletable": false,
    "editable": false
   },
   "source": [
    "#### Part 3.3 (5 pts)\n"
   ]
  },
  {
   "cell_type": "markdown",
   "id": "a90cac35",
   "metadata": {
    "deletable": false,
    "editable": false
   },
   "source": [
    " Use the function `parameter_estimates` that you defined earlier in this homework to compute the least-squares linear regression line that predicts outcomes from spreads, in original units. We have provided a two column table for you in the cell below with the first column representing `Spread` (x) and the second column representing `Outcome` (y), which you should use as an argument to the function. \n",
    "\n"
   ]
  },
  {
   "cell_type": "code",
   "execution_count": null,
   "id": "7d207586",
   "metadata": {
    "deletable": false,
    "tags": []
   },
   "outputs": [],
   "source": [
    "compute_tbl = spreads.select('Spread', 'Outcome')\n",
    "parameters = ...\n",
    "spread_slope = ...\n",
    "spread_intercept = ...\n",
    "print(\"Slope:\", round(spread_slope, 3))\n",
    "print(\"Intercept\", round(spread_intercept, 3))"
   ]
  },
  {
   "cell_type": "code",
   "execution_count": null,
   "id": "a7993f62",
   "metadata": {
    "deletable": false,
    "editable": false
   },
   "outputs": [],
   "source": [
    "grader.check(\"q3.3\")"
   ]
  },
  {
   "cell_type": "markdown",
   "id": "d1e43c6e",
   "metadata": {
    "deletable": false,
    "editable": false
   },
   "source": [
    "#### Part 3.4 (5 pts)\n"
   ]
  },
  {
   "cell_type": "markdown",
   "id": "2c87235c",
   "metadata": {
    "deletable": false,
    "editable": false
   },
   "source": [
    " Suppose that we create another predictor that simply predicts the average outcome regardless of the value for spread. Does this new predictor minimize least squared error? Explain. \n",
    "\n"
   ]
  },
  {
   "cell_type": "markdown",
   "id": "4debeec8",
   "metadata": {},
   "source": [
    "_Type your answer here, replacing this text._"
   ]
  },
  {
   "cell_type": "markdown",
   "id": "db375b32",
   "metadata": {
    "deletable": false,
    "editable": false
   },
   "source": [
    "### Fitting a Least-Squares Regression Line\n",
    "\n",
    "Recall that the least-squares regression line is the unique straight line that minimizes root mean squared error (RMSE) among all possible fit lines. Using this property, we can find the equation of the regression line by finding the pair of slope and intercept values that minimize root mean squared error. "
   ]
  },
  {
   "cell_type": "markdown",
   "id": "4522b211",
   "metadata": {
    "deletable": false,
    "editable": false
   },
   "source": [
    "#### Part 3.5 (5 pts)\n"
   ]
  },
  {
   "cell_type": "markdown",
   "id": "6451249c",
   "metadata": {
    "deletable": false,
    "editable": false
   },
   "source": [
    " Define a function called `errors`.  It should take three arguments:\n",
    "1. a table like `spreads` (with the same column names and meanings, but not necessarily the same data)\n",
    "2. the slope of a line (a number)\n",
    "3. the intercept of a line (a number).\n",
    "\n",
    "It should return an array of the errors made when a line with that slope and intercept is used to predict outcome from spread for each game in the given table. \n",
    "\n"
   ]
  },
  {
   "cell_type": "code",
   "execution_count": null,
   "id": "6e1a5172",
   "metadata": {
    "deletable": false,
    "tags": []
   },
   "outputs": [],
   "source": [
    "def errors(tbl, slope, intercept):\n",
    "    ...\n"
   ]
  },
  {
   "cell_type": "code",
   "execution_count": null,
   "id": "c8d6220a",
   "metadata": {
    "deletable": false,
    "editable": false
   },
   "outputs": [],
   "source": [
    "grader.check(\"q3.5\")"
   ]
  },
  {
   "cell_type": "markdown",
   "id": "02a97738",
   "metadata": {
    "deletable": false,
    "editable": false
   },
   "source": [
    "<!-- BEGIN QUESTION -->\n",
    "\n",
    "#### Part 3.6 (5 pts)\n"
   ]
  },
  {
   "cell_type": "markdown",
   "id": "478657aa",
   "metadata": {
    "deletable": false,
    "editable": false
   },
   "source": [
    " Using `errors`, compute the errors for the line with slope `0.5` and intercept `25` on the `spreads` dataset. Name that array `spread_errors`.  Then, make a scatter plot of the errors. \n",
    "\n",
    "*Hint:* To make a scatter plot of the errors, plot the error for each outcome in the dataset.  Put the actual spread on the horizontal axis and the outcome error on the vertical axis.\n",
    "\n"
   ]
  },
  {
   "cell_type": "code",
   "execution_count": null,
   "id": "2479d1af",
   "metadata": {
    "deletable": false,
    "tags": []
   },
   "outputs": [],
   "source": [
    "spread_errors = ...\n",
    "error_table = Table().with_columns(\"Spread\", spreads.column(\"Spread\"), \"Error\", spread_errors)\n",
    "..."
   ]
  },
  {
   "cell_type": "markdown",
   "id": "ae05c665",
   "metadata": {
    "deletable": false,
    "editable": false
   },
   "source": [
    "<!-- END QUESTION -->\n",
    "\n",
    "You should find that the errors are almost all negative.  That means our line is not the best fit to our data.  Let's find a better one."
   ]
  },
  {
   "cell_type": "markdown",
   "id": "e5ff1a65",
   "metadata": {
    "deletable": false,
    "editable": false
   },
   "source": [
    "#### Part 3.7 (5 pts)\n"
   ]
  },
  {
   "cell_type": "markdown",
   "id": "59cf7d52",
   "metadata": {
    "deletable": false,
    "editable": false
   },
   "source": [
    " Define a function called `fit_line`.  It should take a table like `spreads` (with the same column names and meanings) as its argument.  It should return an array containing the slope (as the first element) and intercept (as the second element) of the least-squares regression line predicting outcome from spread for that table. \n",
    "\n",
    "*Hint*: Define a function `rmse` within `fit_line` that takes a slope and intercept as its arguments. `rmse` will use the table passed into `fit_line` to compute predicted outcomes and then return the root mean squared error between the predicted and actual outcomes. Within `fit_line`, you can call `rmse` the way you would any other function.\n",
    "\n",
    "If you haven't tried to use the `minimize` [function](http://data8.org/fa19/python-reference.html) yet, now is a great time to practice. Here's an [example from the textbook](https://www.inferentialthinking.com/chapters/15/3/Method_of_Least_Squares.html#numerical-optimization).\n",
    "\n"
   ]
  },
  {
   "cell_type": "code",
   "execution_count": null,
   "id": "401c8255",
   "metadata": {
    "deletable": false,
    "tags": []
   },
   "outputs": [],
   "source": [
    "    \n",
    "def fit_line(tbl):\n",
    "    # Your code may need more than 1 line below here.\n",
    "    def rmse(..., ...):  \n",
    "        return ...\n",
    "    return ...\n",
    "    \n",
    "# Here is an example call to your function.  To test your function,\n",
    "# figure out the right slope and intercept by hand.\n",
    "example_table = Table().with_columns(\n",
    "    \"Spread\", make_array(0, 1),\n",
    "    \"Outcome\", make_array(1, 3))\n",
    "fit_line(example_table)"
   ]
  },
  {
   "cell_type": "code",
   "execution_count": null,
   "id": "fa415c97",
   "metadata": {
    "deletable": false,
    "editable": false
   },
   "outputs": [],
   "source": [
    "grader.check(\"q3.7\")"
   ]
  },
  {
   "cell_type": "markdown",
   "id": "acf1c9b6",
   "metadata": {
    "deletable": false,
    "editable": false
   },
   "source": [
    "<!-- BEGIN QUESTION -->\n",
    "\n",
    "#### Part 3.8 (5 pts)\n"
   ]
  },
  {
   "cell_type": "markdown",
   "id": "18fa9cb1",
   "metadata": {
    "deletable": false,
    "editable": false
   },
   "source": [
    " Use `fit_line` to fit a line to `spreads`, and assign the output to `best_line`. Assign the first and second elements in `best_line` to `best_line_slope` and `best_line_intercept`, respectively. \n",
    "\n",
    "Then, set `new_errors` to the array of errors that we get by calling `errors` with our new line. The following line will graph the corresponding residual plot with a best fit line.\n",
    "\n",
    "*Hint:* Make sure that the residual plot makes sense. What qualities should the best fit line of a residual plot have?\n",
    "\n"
   ]
  },
  {
   "cell_type": "code",
   "execution_count": null,
   "id": "76a90b7a",
   "metadata": {
    "deletable": false,
    "tags": []
   },
   "outputs": [],
   "source": [
    "best_line = ...\n",
    "best_line_slope = ...\n",
    "best_line_intercept = ...\n",
    "\n",
    "new_errors = ...\n",
    "\n",
    "# This code displays the residual plot, given your values for the best_line_slope and best_line_intercept\n",
    "Table().with_columns(\"Spread\", \n",
    "                    spreads.column(\"Spread\"), \n",
    "                    \"Outcome errors\", \n",
    "                    new_errors\n",
    "                   ).scatter(\"Spread\", \"Outcome errors\", fit_line=True)\n",
    "\n",
    "# This just prints your slope and intercept\n",
    "\"Slope: {:g} | Intercept: {:g}\".format(best_line_slope, best_line_intercept)"
   ]
  },
  {
   "cell_type": "markdown",
   "id": "53cf996a",
   "metadata": {
    "deletable": false,
    "editable": false
   },
   "source": [
    "<!-- END QUESTION -->\n",
    "\n",
    "<!-- BEGIN QUESTION -->\n",
    "\n",
    "#### Part 3.9 (5 pts)\n"
   ]
  },
  {
   "cell_type": "markdown",
   "id": "bd2b19cf",
   "metadata": {
    "deletable": false,
    "editable": false
   },
   "source": [
    " The slope and intercept pair you found in Question 3.8 should be very similar to the values that you found in Question 3.3. Why were we able to minimize RMSE to find the same slope and intercept from the previous formulas? \n",
    "\n"
   ]
  },
  {
   "cell_type": "markdown",
   "id": "d4dfa42a",
   "metadata": {},
   "source": [
    "_Type your answer here, replacing this text._"
   ]
  },
  {
   "cell_type": "markdown",
   "id": "284f3dfc",
   "metadata": {
    "deletable": false,
    "editable": false
   },
   "source": [
    "<!-- END QUESTION -->\n",
    "\n",
    "You're done with Lab 10!  \n",
    "\n",
    "**Important submission steps:** \n",
    "1. Run the tests and verify that they all pass.\n",
    "2. Choose **Save** from the **File** menu, then **run the final cell**. \n",
    "3. Click the link to download the zip file.\n",
    "4. Go to [Gradescope](https://www.gradescope.com/) and submit the zip file to the corresponding assignment. The name of this assignment is \"Lab 10 Autograder\". \n",
    "\n",
    "**Be sure your work is saved before running the last cell.**"
   ]
  },
  {
   "cell_type": "markdown",
   "id": "d8757fde",
   "metadata": {
    "deletable": false,
    "editable": false
   },
   "source": [
    "---\n",
    "\n",
    "To double-check your work, the cell below will rerun all of the autograder tests."
   ]
  },
  {
   "cell_type": "code",
   "execution_count": null,
   "id": "3fcee933",
   "metadata": {
    "deletable": false,
    "editable": false
   },
   "outputs": [],
   "source": [
    "grader.check_all()"
   ]
  },
  {
   "cell_type": "markdown",
   "id": "2a726b74",
   "metadata": {
    "deletable": false,
    "editable": false
   },
   "source": [
    "## Submission\n",
    "\n",
    "Make sure you have run all cells in your notebook in order before running the cell below, so that all images/graphs appear in the output. The cell below will generate a zip file for you to submit. **Please save before exporting!**"
   ]
  },
  {
   "cell_type": "code",
   "execution_count": null,
   "id": "8b42bdee",
   "metadata": {
    "deletable": false,
    "editable": false
   },
   "outputs": [],
   "source": [
    "# Save your notebook first, then run this cell to export your submission.\n",
    "grader.export()"
   ]
  },
  {
   "cell_type": "markdown",
   "id": "d228f36d",
   "metadata": {},
   "source": [
    " "
   ]
  }
 ],
 "metadata": {
  "kernelspec": {
   "display_name": "Python 3 (ipykernel)",
   "language": "python",
   "name": "python3"
  },
  "language_info": {
   "codemirror_mode": {
    "name": "ipython",
    "version": 3
   },
   "file_extension": ".py",
   "mimetype": "text/x-python",
   "name": "python",
   "nbconvert_exporter": "python",
   "pygments_lexer": "ipython3",
   "version": "3.9.13"
  },
  "otter": {
   "tests": {
    "q1.1": {
     "name": "q1.1",
     "points": 5,
     "suites": [
      {
       "cases": [
        {
         "code": ">>> np.all(standard_units(make_array(0,0,1,1)) == make_array(-1,-1,1,1))\nTrue",
         "hidden": false,
         "locked": false
        }
       ],
       "scored": true,
       "setup": "",
       "teardown": "",
       "type": "doctest"
      }
     ]
    },
    "q1.2": {
     "name": "q1.2",
     "points": 5,
     "suites": [
      {
       "cases": [
        {
         "code": ">>> -1 <= correlation(make_array(0,1,2), make_array(0.4,0.5,0.6)) <= 1\nTrue",
         "hidden": false,
         "locked": false
        },
        {
         "code": ">>> correlation(make_array(0,1,2), make_array(0.4,0.5,0.6)) == 1\nTrue",
         "hidden": false,
         "locked": false
        }
       ],
       "scored": true,
       "setup": "",
       "teardown": "",
       "type": "doctest"
      }
     ]
    },
    "q1.5": {
     "name": "q1.5",
     "points": 5,
     "suites": [
      {
       "cases": [
        {
         "code": ">>> 0 <= parameters.item(0) <= 1\nTrue",
         "hidden": false,
         "locked": false
        },
        {
         "code": ">>> -1 <= parameters.item(1) <= 1\nTrue",
         "hidden": false,
         "locked": false
        },
        {
         "code": ">>> -10 <= parameters.item(2) <= 10\nTrue",
         "hidden": false,
         "locked": false
        },
        {
         "code": ">>> round(parameters.item(1), 5) == 0.09296\nTrue",
         "hidden": false,
         "locked": false
        },
        {
         "code": ">>> round(parameters.item(2), 5) == -1.56652\nTrue",
         "hidden": false,
         "locked": false
        }
       ],
       "scored": true,
       "setup": "",
       "teardown": "",
       "type": "doctest"
      }
     ]
    },
    "q1.6": {
     "name": "q1.6",
     "points": 5,
     "suites": [
      {
       "cases": [
        {
         "code": ">>> isinstance(regression_changes, np.ndarray) == True\nTrue",
         "hidden": false,
         "locked": false
        },
        {
         "code": ">>> len(regression_changes) == 3\nTrue",
         "hidden": false,
         "locked": false
        }
       ],
       "scored": true,
       "setup": "",
       "teardown": "",
       "type": "doctest"
      }
     ]
    },
    "q1.7": {
     "name": "q1.7",
     "points": 5,
     "suites": [
      {
       "cases": [
        {
         "code": ">>> 0 <= triple_record_vert_est <= 1000\nTrue",
         "hidden": false,
         "locked": false
        }
       ],
       "scored": true,
       "setup": "",
       "teardown": "",
       "type": "doctest"
      }
     ]
    },
    "q2.2": {
     "name": "q2.2",
     "points": 5,
     "suites": [
      {
       "cases": [
        {
         "code": ">>> -1 <= r <= 1\nTrue",
         "hidden": false,
         "locked": false
        }
       ],
       "scored": true,
       "setup": "",
       "teardown": "",
       "type": "doctest"
      }
     ]
    },
    "q2.3": {
     "name": "q2.3",
     "points": 5,
     "suites": [
      {
       "cases": [
        {
         "code": ">>> round(eth_predictor(1000), 5) == 52.50995\nTrue",
         "hidden": false,
         "locked": false
        }
       ],
       "scored": true,
       "setup": "",
       "teardown": "",
       "type": "doctest"
      }
     ]
    },
    "q3.1": {
     "name": "q3.1",
     "points": 5,
     "suites": [
      {
       "cases": [
        {
         "code": ">>> -1 <= spread_r <= 1\nTrue",
         "hidden": false,
         "locked": false
        },
        {
         "code": ">>> round(spread_r, 5) == 0.49181\nTrue",
         "hidden": false,
         "locked": false
        }
       ],
       "scored": true,
       "setup": "",
       "teardown": "",
       "type": "doctest"
      }
     ]
    },
    "q3.2": {
     "name": "q3.2",
     "points": 5,
     "suites": [
      {
       "cases": [
        {
         "code": ">>> -10 <= spread_5_outcome_average <= 10\nTrue",
         "hidden": false,
         "locked": false
        }
       ],
       "scored": true,
       "setup": "",
       "teardown": "",
       "type": "doctest"
      }
     ]
    },
    "q3.3": {
     "name": "q3.3",
     "points": 5,
     "suites": [
      {
       "cases": [
        {
         "code": ">>> -1 <= spread_slope <= 1\nTrue",
         "hidden": false,
         "locked": false
        },
        {
         "code": ">>> -1 <= spread_intercept <= 1\nTrue",
         "hidden": false,
         "locked": false
        }
       ],
       "scored": true,
       "setup": "",
       "teardown": "",
       "type": "doctest"
      }
     ]
    },
    "q3.5": {
     "name": "q3.5",
     "points": 5,
     "suites": [
      {
       "cases": [
        {
         "code": ">>> errors(spreads, 2, 1).item(0) == -5\nTrue",
         "hidden": false,
         "locked": false
        }
       ],
       "scored": true,
       "setup": "",
       "teardown": "",
       "type": "doctest"
      }
     ]
    },
    "q3.7": {
     "name": "q3.7",
     "points": 5,
     "suites": [
      {
       "cases": [
        {
         "code": ">>> round(fit_line(Table().with_columns(\"Spread\", make_array(0, 1), \"Outcome\", make_array(1, 3))).item(0), 5) == 2.0\nTrue",
         "hidden": false,
         "locked": false
        },
        {
         "code": ">>> round(fit_line(Table().with_columns(\"Spread\", make_array(0, 1), \"Outcome\", make_array(1, 3))).item(1), 5) == 1.0\nTrue",
         "hidden": false,
         "locked": false
        }
       ],
       "scored": true,
       "setup": "",
       "teardown": "",
       "type": "doctest"
      }
     ]
    }
   }
  }
 },
 "nbformat": 4,
 "nbformat_minor": 5
}
