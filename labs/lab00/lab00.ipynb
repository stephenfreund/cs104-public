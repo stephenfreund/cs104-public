{
 "cells": [
  {
   "cell_type": "code",
   "execution_count": null,
   "id": "b9fcd1a2",
   "metadata": {
    "deletable": false,
    "editable": false
   },
   "outputs": [],
   "source": [
    "# Initialize Otter\n",
    "import otter\n",
    "grader = otter.Notebook(\"lab00.ipynb\")"
   ]
  },
  {
   "cell_type": "markdown",
   "id": "e6a2695c",
   "metadata": {
    "deletable": false,
    "editable": false
   },
   "source": [
    "# Lab 0: Test Lab\n",
    "\n",
    "A test of the different types of questions we can have."
   ]
  },
  {
   "cell_type": "markdown",
   "id": "bc3b45e2",
   "metadata": {
    "deletable": false,
    "editable": false
   },
   "source": [
    "---"
   ]
  },
  {
   "cell_type": "markdown",
   "id": "8861847a",
   "metadata": {
    "deletable": false,
    "editable": false,
    "tags": []
   },
   "source": [
    "## 1. Code\n"
   ]
  },
  {
   "cell_type": "code",
   "execution_count": null,
   "id": "a3bf5837",
   "metadata": {
    "deletable": false,
    "editable": false
   },
   "outputs": [],
   "source": [
    "# Run this cell to set up the notebook, but please don't change it.\n",
    "\n",
    "import numpy as np\n",
    "from datascience import *\n",
    "%matplotlib inline\n",
    "import warnings\n",
    "warnings.simplefilter('ignore', FutureWarning)"
   ]
  },
  {
   "cell_type": "markdown",
   "id": "2e006ed9",
   "metadata": {
    "deletable": false,
    "editable": false,
    "tags": []
   },
   "source": [
    "#### Part 1.1 (4 points) (1 pts)\n",
    "\n",
    "Make an array called `numbers` containing the following numbers (in the given order)\n",
    "\n",
    "1. 1\n",
    "2. 2\n",
    "3. 3\n",
    "\n",
    "*Note:* Please make an **array** with `make_array`, and do not use a Python list (which behaves differently)."
   ]
  },
  {
   "cell_type": "code",
   "execution_count": null,
   "id": "c314cc02",
   "metadata": {
    "deletable": false,
    "tags": []
   },
   "outputs": [],
   "source": [
    "numbers = ...\n",
    "numbers"
   ]
  },
  {
   "cell_type": "code",
   "execution_count": null,
   "id": "52426dc5",
   "metadata": {
    "deletable": false,
    "editable": false
   },
   "outputs": [],
   "source": [
    "grader.check(\"1.1-make_array\")"
   ]
  },
  {
   "cell_type": "markdown",
   "id": "846649d5",
   "metadata": {
    "deletable": false,
    "editable": false
   },
   "source": [
    "---"
   ]
  },
  {
   "cell_type": "markdown",
   "id": "9c592d05",
   "metadata": {
    "deletable": false,
    "editable": false,
    "tags": []
   },
   "source": [
    "## 2. Manually Graded Text Question\n"
   ]
  },
  {
   "cell_type": "markdown",
   "id": "c9a735aa",
   "metadata": {
    "deletable": false,
    "editable": false
   },
   "source": [
    "<!-- BEGIN QUESTION -->\n",
    "\n",
    "**2.1 A Question.**\n",
    "This is the question"
   ]
  },
  {
   "cell_type": "markdown",
   "id": "04437f48",
   "metadata": {},
   "source": [
    "_Type your answer here, replacing this text._"
   ]
  },
  {
   "cell_type": "markdown",
   "id": "d185d8c7",
   "metadata": {
    "deletable": false,
    "editable": false
   },
   "source": [
    "<!-- END QUESTION -->\n",
    "\n",
    "---"
   ]
  },
  {
   "cell_type": "markdown",
   "id": "3a453272",
   "metadata": {
    "deletable": false,
    "editable": false,
    "tags": []
   },
   "source": [
    "## 3. Manually Graded Question with some code\n"
   ]
  },
  {
   "cell_type": "markdown",
   "id": "76f9de43",
   "metadata": {
    "deletable": false,
    "editable": false
   },
   "source": [
    "<!-- BEGIN QUESTION -->\n",
    "\n",
    "**3.1 Another Question** This is the coding question"
   ]
  },
  {
   "cell_type": "code",
   "execution_count": null,
   "id": "3f6bee04",
   "metadata": {
    "deletable": false,
    "tags": []
   },
   "outputs": [],
   "source": [
    "x = ..."
   ]
  },
  {
   "cell_type": "markdown",
   "id": "1158dd15",
   "metadata": {
    "deletable": false,
    "editable": false,
    "tags": []
   },
   "source": [
    "<!-- END QUESTION -->\n",
    "\n",
    "## 4. Some datascience dude!\n"
   ]
  },
  {
   "cell_type": "markdown",
   "id": "be494769",
   "metadata": {
    "deletable": false,
    "editable": false
   },
   "source": [
    "<!-- BEGIN QUESTION -->\n",
    "\n",
    "#### 4.1 Make a Plot"
   ]
  },
  {
   "cell_type": "code",
   "execution_count": null,
   "id": "08df15d4",
   "metadata": {
    "deletable": false,
    "tags": []
   },
   "outputs": [],
   "source": [
    "table = Table.read_table('temperatures.csv')\n",
    "table.scatter(0,1,fit_line=True)"
   ]
  },
  {
   "cell_type": "markdown",
   "id": "d3117eb1",
   "metadata": {
    "deletable": false,
    "editable": false
   },
   "source": [
    "<!-- END QUESTION -->\n",
    "\n",
    "## You're Done!"
   ]
  },
  {
   "cell_type": "markdown",
   "id": "f3f502f4",
   "metadata": {
    "deletable": false,
    "editable": false
   },
   "source": [
    "**Important submission information:** Be sure to run the tests and verify that they all pass, then choose **Save Notebook** from the **File** menu, then **run the final cell** and click the link to download the zip file. Then, go to [Gradescope](https://www.gradescope.com/) and submit the zip file to the corresponding assignment. The name of this assignment is \"Lab 0\". **Be sure your work is saved before running the last cell!**\n",
    "\n",
    "Once you have submitted, your Gradescope assignment should show you passing all the tests you passed in your assignment notebook."
   ]
  },
  {
   "cell_type": "markdown",
   "id": "87b6f8ca",
   "metadata": {
    "deletable": false,
    "editable": false
   },
   "source": [
    " "
   ]
  },
  {
   "cell_type": "markdown",
   "id": "a1c4cc12",
   "metadata": {
    "deletable": false,
    "editable": false
   },
   "source": [
    "---\n",
    "\n",
    "To double-check your work, the cell below will rerun all of the autograder tests."
   ]
  },
  {
   "cell_type": "code",
   "execution_count": null,
   "id": "f1ad4a59",
   "metadata": {
    "deletable": false,
    "editable": false
   },
   "outputs": [],
   "source": [
    "grader.check_all()"
   ]
  },
  {
   "cell_type": "markdown",
   "id": "dd52ee62",
   "metadata": {
    "deletable": false,
    "editable": false
   },
   "source": [
    "## Submission\n",
    "\n",
    "Make sure you have run all cells in your notebook in order before running the cell below, so that all images/graphs appear in the output. The cell below will generate a zip file for you to submit. **Please save before exporting!**"
   ]
  },
  {
   "cell_type": "code",
   "execution_count": null,
   "id": "3b52cba4",
   "metadata": {
    "deletable": false,
    "editable": false
   },
   "outputs": [],
   "source": [
    "# Save your notebook first, then run this cell to export your submission.\n",
    "grader.export(filtering=False)"
   ]
  },
  {
   "cell_type": "markdown",
   "id": "95aab84c",
   "metadata": {},
   "source": [
    " "
   ]
  }
 ],
 "metadata": {
  "kernelspec": {
   "display_name": "Python 3 (ipykernel)",
   "language": "python",
   "name": "python3"
  },
  "language_info": {
   "codemirror_mode": {
    "name": "ipython",
    "version": 3
   },
   "file_extension": ".py",
   "mimetype": "text/x-python",
   "name": "python",
   "nbconvert_exporter": "python",
   "pygments_lexer": "ipython3",
   "version": "3.9.1"
  },
  "otter": {
   "tests": {
    "1.1-make_array": {
     "name": "1.1-make_array",
     "points": 4,
     "suites": [
      {
       "cases": [
        {
         "code": ">>> len(numbers)\n3",
         "failure_message": "Be sure to create an array with 3 elements.",
         "hidden": false,
         "locked": false,
         "points": 0
        }
       ],
       "scored": true,
       "setup": "",
       "teardown": "",
       "type": "doctest"
      }
     ]
    }
   }
  }
 },
 "nbformat": 4,
 "nbformat_minor": 5
}
