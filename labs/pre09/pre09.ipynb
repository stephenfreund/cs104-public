{
 "cells": [
  {
   "cell_type": "code",
   "execution_count": null,
   "id": "00803d8c",
   "metadata": {
    "deletable": false,
    "editable": false
   },
   "outputs": [],
   "source": [
    "# Initialize Otter\n",
    "import otter\n",
    "grader = otter.Notebook(\"pre09.ipynb\")"
   ]
  },
  {
   "cell_type": "markdown",
   "id": "e11d1851",
   "metadata": {
    "deletable": false,
    "editable": false,
    "tags": []
   },
   "source": [
    "# Prelab 9: Normal Distribution and Variance of Sample Means"
   ]
  },
  {
   "cell_type": "markdown",
   "id": "393c192e",
   "metadata": {
    "deletable": false,
    "editable": false
   },
   "source": [
    "**Helpful Resources:**\n",
    "- [Python Reference](http://www.cs.williams.edu/~cs104/python-library-ref.html): Cheat sheet of helpful library methods.\n",
    "\n",
    "**Readings:**\n",
    "* [Ch 14.3. The SD and the Normal Curve](https://www.inferentialthinking.com/chapters/14/3/SD_and_the_Normal_Curve.html)\n",
    "* [Ch 14.5. Variability of the Sample Mean](https://inferentialthinking.com/chapters/14/5/Variability_of_the_Sample_Mean.html)"
   ]
  },
  {
   "cell_type": "markdown",
   "id": "26a2cede",
   "metadata": {
    "deletable": false,
    "editable": false
   },
   "source": [
    "Please complete this notebook by filling in the cells provided. Before you begin, execute the following cell to setup the notebook by importing some helpful libraries. Each time you start your server, you will need to execute this cell again.  For all problems that you must write explanations and sentences for, you **must** provide your answer in the designated space. **Moreover, throughout this prelab and all future ones, please be sure to not re-assign variables throughout the notebook!** For example, if you use `max_temperature` in your answer to one question, do not reassign it later on. Otherwise, you will fail tests that you thought you were passing previously!"
   ]
  },
  {
   "cell_type": "code",
   "execution_count": null,
   "id": "48625b6b",
   "metadata": {
    "deletable": false,
    "editable": false,
    "tags": []
   },
   "outputs": [],
   "source": [
    "# Run this cell to set up the notebook, but please don't change it.\n",
    "\n",
    "# These lines import the Numpy and Datascience modules.\n",
    "import numpy as np\n",
    "from datascience import *\n",
    "\n",
    "# These lines make plots look nice and hide some messy Python warnings.\n",
    "import matplotlib\n",
    "%matplotlib inline\n",
    "import matplotlib.pyplot as plt\n",
    "plt.style.use('fivethirtyeight')\n",
    "import warnings\n",
    "warnings.simplefilter('ignore', FutureWarning)\n",
    "warnings.simplefilter('ignore', np.VisibleDeprecationWarning)\n",
    "\n",
    "# For special interactions\n",
    "from ipywidgets import interact, interactive, fixed, interact_manual\n",
    "import ipywidgets as widgets"
   ]
  },
  {
   "cell_type": "markdown",
   "id": "430450e1",
   "metadata": {
    "deletable": false,
    "editable": false
   },
   "source": [
    "## 1. Normal Distributions (15 pts)\n",
    "\n"
   ]
  },
  {
   "cell_type": "markdown",
   "id": "5db93b1e",
   "metadata": {
    "deletable": false,
    "editable": false
   },
   "source": [
    "When we visualize the distribution of a sample, we are often interested in the mean and the standard deviation of the sample (for the rest of this lab, we will abbreviate “standard deviation” as “SD”). These two summary statistics can give us a bird’s eye view of the distribution - by letting us know where the distribution sits on the number line and how spread out it is, respectively. "
   ]
  },
  {
   "cell_type": "markdown",
   "id": "e0c0d8a4",
   "metadata": {
    "deletable": false,
    "editable": false
   },
   "source": [
    "We want to check if the data is linearly related, so we should look at the data."
   ]
  },
  {
   "cell_type": "code",
   "execution_count": null,
   "id": "6ef63dd2",
   "metadata": {
    "deletable": false,
    "editable": false
   },
   "outputs": [],
   "source": [
    "#### Part 1.1 (5 pts)\n"
   ]
  },
  {
   "cell_type": "markdown",
   "id": "e7495dd3",
   "metadata": {
    "deletable": false,
    "editable": false
   },
   "source": [
    "The next cell loads the table `births`, which is a large random sample of US births and includes information about mother-child pairs. \n",
    "\n",
    "Plot the distribution of mother’s ages from the table. Don’t change the last line, which will plot the mean of the sample on the distribution itself."
   ]
  },
  {
   "cell_type": "code",
   "execution_count": null,
   "id": "dc552e7e",
   "metadata": {
    "deletable": false,
    "tags": []
   },
   "outputs": [],
   "source": [
    "births = Table.read_table('baby.csv')\n",
    "...\n",
    "\n",
    "# Do not change this line\n",
    "plt.scatter(np.mean(births.column(\"Maternal Age\")), -0.001, color='red', s=50);"
   ]
  },
  {
   "cell_type": "markdown",
   "id": "b549d237",
   "metadata": {
    "deletable": false,
    "editable": false
   },
   "source": [
    "From the plot above, we can see that the mean is the center of gravity or balance point of the distribution. If you cut the distribution out of cardboard, and then placed your finger at the mean, the distribution would perfectly balance on your finger. Since the distribution above is right skewed (which means it has a long right tail), we know that the mean of the distribution is larger than the median, which is the “halfway” point of the data. Conversely, if the distribution had been left skewed, we know the mean would be smaller than the median."
   ]
  },
  {
   "cell_type": "markdown",
   "id": "5af76955",
   "metadata": {
    "deletable": false,
    "editable": false
   },
   "source": [
    " Run the following cell to compare the mean (red) and median (green) of the distribution of mothers ages.\n"
   ]
  },
  {
   "cell_type": "code",
   "execution_count": null,
   "id": "2cb19a8b",
   "metadata": {
    "deletable": false,
    "editable": false
   },
   "outputs": [],
   "source": [
    "births.hist(\"Maternal Age\")\n",
    "plt.scatter(np.mean(births.column(\"Maternal Age\")), -0.001, color='red', s=50); \n",
    "plt.scatter(np.median(births.column(\"Maternal Age\")), -0.001, color='green', s=50);"
   ]
  },
  {
   "cell_type": "markdown",
   "id": "2d11a294",
   "metadata": {
    "deletable": false,
    "editable": false
   },
   "source": [
    "#### Part 1.2 (5 pts)\n"
   ]
  },
  {
   "cell_type": "markdown",
   "id": "f89621a2",
   "metadata": {
    "deletable": false,
    "editable": false
   },
   "source": [
    "We are also interested in the standard deviation of mother’s ages. The SD gives us a sense of how variable mothers' ages are around the average mothers' age. If the SD is large, then the mothers' heights should spread over a large range from the mean. If the SD is small, then the mothers' heights should be tightly clustered around the average mother height. \n",
    "\n",
    "**The SD of an array is defined as the root mean square of deviations (differences) from average**.\n",
    "\n",
    "Usually, σ (Greek letter sigma) is used to represent the SD and  μ (Greek letter mu) is used for the mean."
   ]
  },
  {
   "cell_type": "markdown",
   "id": "9dbb39a1",
   "metadata": {
    "deletable": false,
    "editable": false
   },
   "source": [
    "Run the cell below to see the width of one SD (blue) from the sample mean (red) plotted on the histogram of maternal ages."
   ]
  },
  {
   "cell_type": "code",
   "execution_count": null,
   "id": "2cee3ecf",
   "metadata": {
    "deletable": false,
    "tags": []
   },
   "outputs": [],
   "source": [
    "age_mean = ...\n",
    "age_sd = ...\n",
    "births.hist(\"Maternal Age\")\n",
    "\n",
    "plt.scatter(age_mean, -0.001, color='red', s=50);\n",
    "plt.scatter(age_mean+age_sd, -0.001, marker='^', color='blue', s=50);\n",
    "plt.scatter(age_mean-age_sd, -0.001, marker='^', color='blue', s=50);"
   ]
  },
  {
   "cell_type": "code",
   "execution_count": null,
   "id": "0969e876",
   "metadata": {
    "deletable": false,
    "editable": false
   },
   "outputs": [],
   "source": [
    "grader.check(\"q1.2\")"
   ]
  },
  {
   "cell_type": "markdown",
   "id": "d7ba7fcb",
   "metadata": {
    "deletable": false,
    "editable": false
   },
   "source": [
    "In this histogram, the standard deviation is not easy to identify just by looking at the graph.\n",
    "\n",
    "However, the distributions of some variables allow us to easily spot the standard deviation on the plot. For example, if a sample follows a *normal distribution*, the standard deviation is easily spotted at the point of inflection (the point where the curve begins to change the direction of its curvature) of the distribution. "
   ]
  },
  {
   "cell_type": "markdown",
   "id": "fd3c7e66",
   "metadata": {
    "deletable": false,
    "editable": false
   },
   "source": [
    "#### Part 1.3 (5 pts)\n"
   ]
  },
  {
   "cell_type": "markdown",
   "id": "d1b913d6",
   "metadata": {
    "deletable": false,
    "editable": false
   },
   "source": [
    " Fill in the following code to examine the distribution of maternal heights, which is roughly normally distributed. We’ll plot the standard deviation on the histogram, as before - notice where one standard deviation (blue) away from the mean (red) falls on the plot.\n"
   ]
  },
  {
   "cell_type": "code",
   "execution_count": null,
   "id": "38f0ac73",
   "metadata": {
    "deletable": false,
    "tags": []
   },
   "outputs": [],
   "source": [
    "height_mean = ...\n",
    "height_sd = ...\n",
    "births.hist(\"Maternal Height\", bins=np.arange(55,75,1))\n",
    "\n",
    "plt.scatter((height_mean), -0.001, color='red', s=50);\n",
    "plt.scatter(height_mean+height_sd, -0.001, marker='^', color='blue', s=50);\n",
    "plt.scatter(height_mean-height_sd, -0.001, marker='^', color='blue', s=50);"
   ]
  },
  {
   "cell_type": "code",
   "execution_count": null,
   "id": "1a42b5a0",
   "metadata": {
    "deletable": false,
    "editable": false
   },
   "outputs": [],
   "source": [
    "grader.check(\"q1.3\")"
   ]
  },
  {
   "cell_type": "markdown",
   "id": "a0b179fa",
   "metadata": {
    "deletable": false,
    "editable": false
   },
   "source": [
    "We don’t always know how a variable will be distributed, and making assumptions about whether or not a variable will follow a normal distribution is dangerous. However, the Central Limit Theorem defines one distribution that always follows a normal distribution. The distribution of the *sums* and *means* of many large random samples drawn with replacement from a single distribution (regardless of the distribution’s original shape) will be normally distributed. Remember that the Central Limit Theorem refers to the distribution of a *statistic* calculated from a distribution, not the distribution of the original sample or population.\n",
    "\n",
    "The next section will explore distributions of sample means, and you will see how the standard deviation of these distributions depends on sample sizes."
   ]
  },
  {
   "cell_type": "markdown",
   "id": "1a8c6169",
   "metadata": {
    "deletable": false,
    "editable": false
   },
   "source": [
    "## 2. Variability of the Sample Mean (25 pts)\n",
    "\n",
    "\n",
    "By the [Central Limit Theorem](https://www.inferentialthinking.com/chapters/14/4/Central_Limit_Theorem.html), the probability distribution of the mean of a large random sample is roughly normal. The bell curve is centered at the population mean. Some of the sample means are higher and some are lower, but the deviations from the population mean are roughly symmetric on either side, as we have seen repeatedly. Formally, probability theory shows that the sample mean is an **unbiased estimate** of the population mean.\n",
    "\n",
    "In our simulations, we also noticed that the means of larger samples tend to be more tightly clustered around the population mean than means of smaller samples. In this section, we will quantify the [variability of the sample mean](https://www.inferentialthinking.com/chapters/14/5/Variability_of_the_Sample_Mean.html) and develop a relation between the variability and the sample size.\n",
    "\n",
    "Let's take a look at the salaries of employees of the City of Boston in 2021. The mean salary reported by the city government was about $82,792.67.\n",
    "\n",
    "*Note: If you get stuck on any part of this lab, please refer to [chapter 14 of the textbook](https://www.inferentialthinking.com/chapters/14/Why_the_Mean_Matters.html).*"
   ]
  },
  {
   "cell_type": "code",
   "execution_count": null,
   "id": "379f383d",
   "metadata": {
    "deletable": false,
    "editable": false
   },
   "outputs": [],
   "source": [
    "salaries = Table.read_table('boston-earnings.csv').select(\"REGULAR\").relabeled(0, \"salary\")\n",
    "salaries"
   ]
  },
  {
   "cell_type": "code",
   "execution_count": null,
   "id": "b190764f",
   "metadata": {
    "deletable": false,
    "editable": false
   },
   "outputs": [],
   "source": [
    "salary_mean = np.mean(salaries.column('salary'))\n",
    "print('Mean salary of Boston city employees in 2021: ', salary_mean)"
   ]
  },
  {
   "cell_type": "code",
   "execution_count": null,
   "id": "0181eed1",
   "metadata": {
    "deletable": false,
    "editable": false
   },
   "outputs": [],
   "source": [
    "salaries.hist('salary', bins=np.arange(0, 300000, 10000))\n",
    "plt.scatter(salary_mean, 0, marker='^', color='red', s=100);\n",
    "plt.title('2021 salaries of city of Boston employees');"
   ]
  },
  {
   "cell_type": "markdown",
   "id": "95a71624",
   "metadata": {
    "deletable": false,
    "editable": false
   },
   "source": [
    "Clearly, the population does not follow a normal distribution. Keep that in mind as we progress through these exercises.\n",
    "\n",
    "Let's take random samples *with replacement* and look at the probability distribution of the sample mean. As usual, we will use simulation to get an empirical approximation to this distribution."
   ]
  },
  {
   "cell_type": "markdown",
   "id": "309c34c9",
   "metadata": {
    "deletable": false,
    "editable": false
   },
   "source": [
    "#### Part 2.1 (5 pts)\n"
   ]
  },
  {
   "cell_type": "markdown",
   "id": "24128655",
   "metadata": {
    "deletable": false,
    "editable": false
   },
   "source": [
    " Define a function `one_sample_mean`. Its arguments should be `table` (the name of a table), `label` (the label of the column containing the variable), and `sample size`(the number of employees in the sample). It should sample with replacement from the table and\n",
    "return the mean of the `label` column of the sample.\n"
   ]
  },
  {
   "cell_type": "code",
   "execution_count": null,
   "id": "ae67aefa",
   "metadata": {
    "deletable": false,
    "tags": []
   },
   "outputs": [],
   "source": [
    "def one_sample_mean(table, label, sample_size):\n",
    "    new_sample = ...\n",
    "    new_sample_mean = ...\n",
    "    ..."
   ]
  },
  {
   "cell_type": "code",
   "execution_count": null,
   "id": "47d8b4fe",
   "metadata": {
    "deletable": false,
    "editable": false
   },
   "outputs": [],
   "source": [
    "grader.check(\"q2.1\")"
   ]
  },
  {
   "cell_type": "markdown",
   "id": "b72f5d41",
   "metadata": {
    "deletable": false,
    "editable": false
   },
   "source": [
    "\n",
    "\n",
    "#### Part"
   ]
  },
  {
   "cell_type": "markdown",
   "id": "832ac730",
   "metadata": {
    "deletable": false,
    "editable": false
   },
   "source": [
    "We'll now use your `one_sample_mean` to define a function `simulate_sample_mean`. The arguments are the name of the table, the label of the column containing the variable, the sample size, and the number of simulations.\n",
    "\n",
    "The function samples with replacement from the table and calculate the mean of each sample. It saves the sample means in an array called `means`. The remaining code in the function displays an empirical histogram of the sample means."
   ]
  },
  {
   "cell_type": "code",
   "execution_count": null,
   "id": "c2442c04",
   "metadata": {
    "deletable": false,
    "editable": false
   },
   "outputs": [],
   "source": [
    "\"\"\"Empirical distribution of random sample means\"\"\"\n",
    "\n",
    "def simulate_sample_mean(table, label, sample_size, repetitions):\n",
    "    \n",
    "    means = make_array()\n",
    "\n",
    "    for i in np.arange(repetitions):\n",
    "        new_sample_mean = one_sample_mean(table, label, sample_size) \n",
    "        means = np.append(means, new_sample_mean) \n",
    "\n",
    "    sample_means = Table().with_column('Sample Means', means)\n",
    "    \n",
    "    # Display empirical histogram and print all relevant quantities – don't change this!\n",
    "    sample_means.hist(bins=20)\n",
    "    plt.xlabel('Sample Means')\n",
    "    plt.title('Sample Size ' + str(sample_size))\n",
    "    print(\"Sample size: \", sample_size)\n",
    "    print(\"Population mean:\", np.mean(table.column(label)))\n",
    "    print(\"Average of sample means: \", np.mean(means))\n",
    "    print(\"Population SD:\", np.std(table.column(label)))\n",
    "    print(\"SD of sample means:\", np.std(means))\n",
    "    return np.std(means)"
   ]
  },
  {
   "cell_type": "markdown",
   "id": "db5ab778",
   "metadata": {
    "deletable": false,
    "editable": false
   },
   "source": [
    " In the following cell, we will create a sample of size 100 from `salaries` and graph it using our new `simulate_sample_mean` function.\n",
    " \n",
    " *Hint: You should see a distribution similar to something we've been talking about. If not, check your function*"
   ]
  },
  {
   "cell_type": "code",
   "execution_count": null,
   "id": "d2e1f0d9",
   "metadata": {
    "deletable": false,
    "editable": false
   },
   "outputs": [],
   "source": [
    "simulate_sample_mean(salaries, 'salary', 100, 10000) \n",
    "plt.xlim(50000, 100000);"
   ]
  },
  {
   "cell_type": "markdown",
   "id": "69987f18",
   "metadata": {
    "deletable": false,
    "editable": false
   },
   "source": [
    "#### Part 2.2 (5 pts)\n"
   ]
  },
  {
   "cell_type": "markdown",
   "id": "c06309b3",
   "metadata": {
    "deletable": false,
    "editable": false
   },
   "source": [
    "We'll now simulate two sample means, one for a sample of 400 salaries and one for a sample of 625 salaries. In each case, perform 10,000 repetitions. Run the following cell to do that."
   ]
  },
  {
   "cell_type": "code",
   "execution_count": null,
   "id": "49303460",
   "metadata": {
    "deletable": false,
    "editable": false
   },
   "outputs": [],
   "source": [
    "simulate_sample_mean(salaries, 'salary', 400, 10000) \n",
    "plt.xlim(50000, 100000);\n",
    "plt.show();\n",
    "print('\\n')\n",
    "simulate_sample_mean(salaries, 'salary', 625, 10000)\n",
    "plt.xlim(50000, 100000);\n",
    "plt.show();"
   ]
  },
  {
   "cell_type": "markdown",
   "id": "f010fad9",
   "metadata": {
    "deletable": false,
    "editable": false
   },
   "source": [
    " Assign `q2_4` to an array of numbers corresponding to true statement(s) about the plots from 2.3.\n",
    "\n",
    "1. We see the Central Limit Theorem (CLT) in action because the distributions of the sample means are bell-shaped.\n",
    "2. We see the Law of Averages in action because the distributions of the sample means look like the distribution of the population.\n",
    "3. One of the conditions for CLT is that we have to draw a small random sample with replacement from the population.\n",
    "4. One of the conditions for CLT is that we have to draw a large random sample with replacement from the population.\n",
    "5. One of the conditions for CLT is that the population must be normally distributed.\n",
    "6. Both plots in 2.3 are roughly centered around the population mean.\n",
    "7. Both plots in 2.3 are roughly centered around the mean of a particular sample.\n",
    "8. The distribution of sample means for sample size 625 has less variability than the distribution of sample means for sample size 400.\n",
    "9. The distribution of sample means for sample size 625 has more variability than the distribution of sample means for sample size 400.\n"
   ]
  },
  {
   "cell_type": "code",
   "execution_count": null,
   "id": "706eeb59",
   "metadata": {
    "deletable": false,
    "tags": []
   },
   "outputs": [],
   "source": [
    "q2_4 = ..."
   ]
  },
  {
   "cell_type": "code",
   "execution_count": null,
   "id": "9384e1ab",
   "metadata": {
    "deletable": false,
    "editable": false
   },
   "outputs": [],
   "source": [
    "grader.check(\"q2.2\")"
   ]
  },
  {
   "cell_type": "markdown",
   "id": "05dad68a",
   "metadata": {
    "deletable": false,
    "editable": false
   },
   "source": [
    "#### Part 2.3 (5 pts)\n"
   ]
  },
  {
   "cell_type": "markdown",
   "id": "6eea0713",
   "metadata": {
    "deletable": false,
    "editable": false
   },
   "source": [
    "Below, we'll look at what happens when we take an increasing number of resamples of a fixed sample size. Notice what number in the code changes, and what stays the same. How does the distribution of the resampled means change?"
   ]
  },
  {
   "cell_type": "code",
   "execution_count": null,
   "id": "a80a8223",
   "metadata": {
    "deletable": false,
    "editable": false
   },
   "outputs": [],
   "source": [
    "simulate_sample_mean(salaries, 'salary', 100, 500)\n",
    "plt.xlim(50000, 100000);"
   ]
  },
  {
   "cell_type": "code",
   "execution_count": null,
   "id": "9de4d768",
   "metadata": {
    "deletable": false,
    "editable": false
   },
   "outputs": [],
   "source": [
    "simulate_sample_mean(salaries, 'salary', 100, 1000)\n",
    "plt.xlim(50000, 100000);"
   ]
  },
  {
   "cell_type": "code",
   "execution_count": null,
   "id": "1132e855",
   "metadata": {
    "deletable": false,
    "editable": false
   },
   "outputs": [],
   "source": [
    "simulate_sample_mean(salaries, 'salary', 100, 5000)\n",
    "plt.xlim(50000, 100000);"
   ]
  },
  {
   "cell_type": "code",
   "execution_count": null,
   "id": "2ac6446e",
   "metadata": {
    "deletable": false,
    "editable": false
   },
   "outputs": [],
   "source": [
    "simulate_sample_mean(salaries, 'salary', 100, 10000)\n",
    "plt.xlim(50000, 100000);"
   ]
  },
  {
   "cell_type": "markdown",
   "id": "53a08259",
   "metadata": {
    "deletable": false,
    "editable": false
   },
   "source": [
    "What did you notice about the distributions of sample means in the four histograms above?"
   ]
  },
  {
   "cell_type": "markdown",
   "id": "8ae220f2",
   "metadata": {
    "deletable": false,
    "editable": false
   },
   "source": [
    " Assign the variable `SD_of_sample_means` to the integer corresponding to your answer to the following question:\n",
    "\n",
    "When I increase the number of resamples that I take, for a fixed sample size, the SD of my sample means will...\n",
    "\n",
    "1. Increase\n",
    "2. Decrease\n",
    "3. Stay about the same\n",
    "4. Vary widly\n",
    "\n"
   ]
  },
  {
   "cell_type": "code",
   "execution_count": null,
   "id": "2c2bc5d4",
   "metadata": {
    "deletable": false,
    "tags": []
   },
   "outputs": [],
   "source": [
    "SD_of_sample_means = ..."
   ]
  },
  {
   "cell_type": "code",
   "execution_count": null,
   "id": "a1be377b",
   "metadata": {
    "deletable": false,
    "editable": false
   },
   "outputs": [],
   "source": [
    "grader.check(\"q2.3\")"
   ]
  },
  {
   "cell_type": "markdown",
   "id": "13530ccf",
   "metadata": {
    "deletable": false,
    "editable": false
   },
   "source": [
    "#### Part 2.4 (5 pts)\n"
   ]
  },
  {
   "cell_type": "markdown",
   "id": "b481816a",
   "metadata": {
    "deletable": false,
    "editable": false
   },
   "source": [
    "Let's think about how the relationships between population SD, sample SD, and SD of sample means change with varying sample size. Which of the following is true? Assign the variable `pop_vs_sample` to an array of integer(s) that correspond to true statement(s).\n",
    "\n",
    "1. Sample SD gets smaller with increasing sample size.\n",
    "2. Sample SD gets larger with increasing sample size.\n",
    "3. Sample SD becomes more consistent with population SD with increasing sample size.\n",
    "4. SD of sample means gets smaller with increasing sample size.\n",
    "5. SD of sample means gets larger with increasing sample size.\n",
    "6. SD of sample means stays the same with increasing sample size.\n"
   ]
  },
  {
   "cell_type": "code",
   "execution_count": null,
   "id": "a647f927",
   "metadata": {
    "deletable": false,
    "tags": []
   },
   "outputs": [],
   "source": [
    "pop_vs_sample = ..."
   ]
  },
  {
   "cell_type": "code",
   "execution_count": null,
   "id": "e952d6c8",
   "metadata": {
    "deletable": false,
    "editable": false
   },
   "outputs": [],
   "source": [
    "grader.check(\"q2.4\")"
   ]
  },
  {
   "cell_type": "markdown",
   "id": "7553ae39",
   "metadata": {
    "deletable": false,
    "editable": false
   },
   "source": [
    "Run the following three cells multiple times and examine how the sample SD and the SD of sample means change with sample size.\n",
    "\n",
    "The first histogram is of the sample; the second histogram is the distribution of sample means with that particular sample size. Adjust the bins as necessary."
   ]
  },
  {
   "cell_type": "code",
   "execution_count": null,
   "id": "4487cdf4",
   "metadata": {
    "deletable": false,
    "editable": false
   },
   "outputs": [],
   "source": [
    "sample_10 = salaries.sample(10)\n",
    "sample_10.hist(\"salary\")\n",
    "plt.title('Distribution of salary for sample size 10')\n",
    "print(\"Sample SD: \", np.std(sample_10.column(\"salary\")))\n",
    "simulate_sample_mean(salaries, 'salary', 10, 1000)\n",
    "plt.xlim(5,120000);\n",
    "plt.ylim(0, .0001);\n",
    "plt.title('Distribution of sample means for sample size 10');"
   ]
  },
  {
   "cell_type": "code",
   "execution_count": null,
   "id": "80460b4a",
   "metadata": {
    "deletable": false,
    "editable": false
   },
   "outputs": [],
   "source": [
    "sample_200 = salaries.sample(200)\n",
    "sample_200.hist(\"salary\")\n",
    "plt.title('Distribution of salary for sample size 200')\n",
    "print(\"Sample SD: \", np.std(sample_200.column(\"salary\")))\n",
    "simulate_sample_mean(salaries, 'salary', 200, 1000)\n",
    "plt.xlim(5,100000)\n",
    "plt.ylim(0, .00015);\n",
    "plt.title('Distribution of sample means for sample size 200');"
   ]
  },
  {
   "cell_type": "code",
   "execution_count": null,
   "id": "20578126",
   "metadata": {
    "deletable": false,
    "editable": false
   },
   "outputs": [],
   "source": [
    "sample_1000 = salaries.sample(1000)\n",
    "sample_1000.hist(\"salary\")\n",
    "plt.title('Distribution of salary for sample size 1000')\n",
    "print(\"Sample SD: \", np.std(sample_1000.column(\"salary\")))\n",
    "simulate_sample_mean(salaries, 'salary', 1000, 1000)\n",
    "plt.xlim(5,100000)\n",
    "plt.ylim(0, .00025);\n",
    "plt.title('Distribution of sample means for sample size 1000');"
   ]
  },
  {
   "cell_type": "markdown",
   "id": "e5b281b9",
   "metadata": {
    "deletable": false,
    "editable": false
   },
   "source": [
    "You should notice that the distribution of means gets narrower and spikier, and that the distribution of the sample increasingly looks like the distribution of the population as we get to larger sample sizes. \n",
    "\n",
    "Let's illustrate these trends. Below, you will see how the sample SD changes with respect to sample size (N). The blue line is the population SD."
   ]
  },
  {
   "cell_type": "code",
   "execution_count": null,
   "id": "2a5919e6",
   "metadata": {
    "deletable": false,
    "editable": false
   },
   "outputs": [],
   "source": [
    "# Don't change this cell, just run it!\n",
    "pop_sd = np.std(salaries.column('salary'))\n",
    "sample_sds = make_array()\n",
    "sample_sizes = make_array()\n",
    "for i in np.arange(10, 500, 10):\n",
    "    sample_sds = np.append(sample_sds, [np.std(salaries.sample(i).column(\"salary\")) for d in np.arange(100)])\n",
    "    sample_sizes = np.append(sample_sizes, np.ones(100) * i)\n",
    "Table().with_columns(\"Sample SD\", sample_sds, \"N\", sample_sizes).scatter(\"N\", \"Sample SD\")\n",
    "matplotlib.pyplot.axhline(y=pop_sd, color='blue', linestyle='-');"
   ]
  },
  {
   "cell_type": "markdown",
   "id": "9ca95cb2",
   "metadata": {
    "deletable": false,
    "editable": false
   },
   "source": [
    "The next cell shows how the SD of the sample means changes relative to the sample size (N)."
   ]
  },
  {
   "cell_type": "code",
   "execution_count": null,
   "id": "6f8ae92d",
   "metadata": {
    "deletable": false,
    "editable": false
   },
   "outputs": [],
   "source": [
    "# Don't change this cell, just run it!\n",
    "def sample_means(sample_size):\n",
    "    means = make_array()\n",
    "    for i in np.arange(1000):\n",
    "        sample = salaries.sample(sample_size).column('salary')\n",
    "        means = np.append(means, np.mean(sample))\n",
    "    return np.std(means)\n",
    "\n",
    "sample_mean_SDs = make_array()\n",
    "for i in np.arange(50, 1000, 100):\n",
    "    sample_mean_SDs = np.append(sample_mean_SDs, sample_means(i))\n",
    "Table().with_columns(\"SD of sample means\", sample_mean_SDs, \"Sample Size\", np.arange(50, 1000, 100))\\\n",
    ".plot(\"Sample Size\", \"SD of sample means\")"
   ]
  },
  {
   "cell_type": "markdown",
   "id": "1e24d2d8",
   "metadata": {
    "deletable": false,
    "editable": false
   },
   "source": [
    "From these two plots, we can see that the SD of our *sample* approaches the SD of our population as our sample size increases, but the SD of our *sample means* (in other words, the variability of the sample mean) decreases as our sample size increases."
   ]
  },
  {
   "cell_type": "markdown",
   "id": "eb35eb0b",
   "metadata": {
    "deletable": false,
    "editable": false
   },
   "source": [
    "#### Part 2.5 (5 pts)\n"
   ]
  },
  {
   "cell_type": "markdown",
   "id": "2dbe169c",
   "metadata": {
    "deletable": false,
    "editable": false
   },
   "source": [
    " Is there a relationship between the sample size and the standard deviation of the sample mean? Assign `q2_7` to the number corresponding to the statement that answers this question.\n",
    "\n",
    "1. The SD of the sample means is inversely proportional to the square root of sample size.\n",
    "2. The SD of the sample means is directly proportional to the square root of sample size.\n"
   ]
  },
  {
   "cell_type": "code",
   "execution_count": null,
   "id": "6a7809c2",
   "metadata": {
    "deletable": false,
    "tags": []
   },
   "outputs": [],
   "source": [
    "q2_7 = ..."
   ]
  },
  {
   "cell_type": "code",
   "execution_count": null,
   "id": "2b8bc8dd",
   "metadata": {
    "deletable": false,
    "editable": false
   },
   "outputs": [],
   "source": [
    "grader.check(\"q2.5\")"
   ]
  },
  {
   "cell_type": "markdown",
   "id": "6db2ade0",
   "metadata": {
    "deletable": false,
    "editable": false
   },
   "source": [
    "Throughout this lab, we have been taking many random samples from a population. However, all of these principles hold for bootstrapped resamples from a single sample. If your original sample is relatively large, all of your re-samples will also be relatively large, and so the SD of resampled means will be relatively small. \n",
    "\n",
    "In order to change the variability of your sample mean, you’d have to change the size of the original sample from which you are taking bootstrapped resamples."
   ]
  },
  {
   "cell_type": "markdown",
   "id": "386938a8",
   "metadata": {
    "deletable": false,
    "editable": false,
    "tags": []
   },
   "source": [
    "## 3. You're Done!\n"
   ]
  },
  {
   "cell_type": "markdown",
   "id": "a067e617",
   "metadata": {
    "deletable": false,
    "editable": false,
    "tags": []
   },
   "source": [
    "**Important submission information:** Follow these steps to submit your work:\n",
    "* Run the tests and verify that they pass as you expect. \n",
    "* Choose **Save Notebook** from the **File** menu.\n",
    "* **Run the final cell** and click the link below to download the zip file. \n",
    "\n",
    "Once you have downloaded that file, go to [Gradescope](https://www.gradescope.com/) and submit the zip file to the corresponding assignment. The name of this assignment is \"Prelab 5 Autograder\". **Be sure your work is saved before running the last cell!**\n",
    "\n",
    "Once you have submitted, your Gradescope assignment should show you passing all the tests you passed in your assignment notebook."
   ]
  },
  {
   "cell_type": "markdown",
   "id": "d9d9815f",
   "metadata": {
    "deletable": false,
    "editable": false
   },
   "source": [
    "---\n",
    "\n",
    "To double-check your work, the cell below will rerun all of the autograder tests."
   ]
  },
  {
   "cell_type": "code",
   "execution_count": null,
   "id": "2b3b47c9",
   "metadata": {
    "deletable": false,
    "editable": false
   },
   "outputs": [],
   "source": [
    "grader.check_all()"
   ]
  },
  {
   "cell_type": "markdown",
   "id": "5b37859a",
   "metadata": {
    "deletable": false,
    "editable": false
   },
   "source": [
    "## Submission\n",
    "\n",
    "Make sure you have run all cells in your notebook in order before running the cell below, so that all images/graphs appear in the output. The cell below will generate a zip file for you to submit. **Please save before exporting!**"
   ]
  },
  {
   "cell_type": "code",
   "execution_count": null,
   "id": "dc826f31",
   "metadata": {
    "deletable": false,
    "editable": false
   },
   "outputs": [],
   "source": [
    "# Save your notebook first, then run this cell to export your submission.\n",
    "grader.export()"
   ]
  },
  {
   "cell_type": "markdown",
   "id": "7f080275",
   "metadata": {},
   "source": [
    " "
   ]
  }
 ],
 "metadata": {
  "anaconda-cloud": {},
  "celltoolbar": "Edit Metadata",
  "kernelspec": {
   "display_name": "Python 3 (ipykernel)",
   "language": "python",
   "name": "python3"
  },
  "language_info": {
   "codemirror_mode": {
    "name": "ipython",
    "version": 3
   },
   "file_extension": ".py",
   "mimetype": "text/x-python",
   "name": "python",
   "nbconvert_exporter": "python",
   "pygments_lexer": "ipython3",
   "version": "3.9.13"
  },
  "otter": {
   "tests": {
    "q1.2": {
     "name": "q1.2",
     "points": null,
     "suites": [
      {
       "cases": [
        {
         "code": ">>> round(age_mean, 5) == 27.22828\nTrue",
         "hidden": false,
         "locked": false
        },
        {
         "code": ">>> round(age_sd, 5) == 5.81536\nTrue",
         "hidden": false,
         "locked": false
        }
       ],
       "scored": true,
       "setup": "",
       "teardown": "",
       "type": "doctest"
      }
     ]
    },
    "q1.3": {
     "name": "q1.3",
     "points": null,
     "suites": [
      {
       "cases": [
        {
         "code": ">>> round(height_mean, 5) == 64.0494\nTrue",
         "hidden": false,
         "locked": false
        },
        {
         "code": ">>> round(height_sd, 5) == 2.52503\nTrue",
         "hidden": false,
         "locked": false
        }
       ],
       "scored": true,
       "setup": "",
       "teardown": "",
       "type": "doctest"
      }
     ]
    },
    "q2.1": {
     "name": "q2.1",
     "points": null,
     "suites": [
      {
       "cases": [
        {
         "code": ">>> np.random.seed(8) # make sure we get the same answer everytime...\n>>> round(one_sample_mean(salaries, 'salary', 100), 5) == 66965.21\nTrue",
         "hidden": false,
         "locked": false
        }
       ],
       "scored": true,
       "setup": "",
       "teardown": "",
       "type": "doctest"
      }
     ]
    },
    "q2.2": {
     "name": "q2.2",
     "points": null,
     "suites": [
      {
       "cases": [
        {
         "code": ">>> set(q2_4) == set([1, 4, 6, 8])\nTrue",
         "hidden": false,
         "locked": false
        }
       ],
       "scored": true,
       "setup": "",
       "teardown": "",
       "type": "doctest"
      }
     ]
    },
    "q2.3": {
     "name": "q2.3",
     "points": null,
     "suites": [
      {
       "cases": [
        {
         "code": ">>> SD_of_sample_means == 3\nTrue",
         "hidden": false,
         "locked": false
        }
       ],
       "scored": true,
       "setup": "",
       "teardown": "",
       "type": "doctest"
      }
     ]
    },
    "q2.4": {
     "name": "q2.4",
     "points": null,
     "suites": [
      {
       "cases": [
        {
         "code": ">>> set(pop_vs_sample) == set([3,4])\nTrue",
         "hidden": false,
         "locked": false
        }
       ],
       "scored": true,
       "setup": "",
       "teardown": "",
       "type": "doctest"
      }
     ]
    },
    "q2.5": {
     "name": "q2.5",
     "points": null,
     "suites": [
      {
       "cases": [
        {
         "code": ">>> q2_7 == 1\nTrue",
         "hidden": false,
         "locked": false
        }
       ],
       "scored": true,
       "setup": "",
       "teardown": "",
       "type": "doctest"
      }
     ]
    }
   }
  }
 },
 "nbformat": 4,
 "nbformat_minor": 5
}
