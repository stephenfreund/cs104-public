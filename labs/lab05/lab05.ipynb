{
 "cells": [
  {
   "cell_type": "code",
   "execution_count": null,
   "id": "04aa21e5",
   "metadata": {
    "deletable": false,
    "editable": false
   },
   "outputs": [],
   "source": [
    "# Initialize Otter\n",
    "import otter\n",
    "grader = otter.Notebook(\"lab05.ipynb\")"
   ]
  },
  {
   "cell_type": "markdown",
   "id": "5292891c",
   "metadata": {
    "deletable": false,
    "editable": false
   },
   "source": [
    "# Lab 5: Applying Functions and Iteration"
   ]
  },
  {
   "cell_type": "markdown",
   "id": "63e36068",
   "metadata": {
    "deletable": false,
    "editable": false
   },
   "source": [
    "**Helpful Resources:**\n",
    "- [Python Reference](http://www.cs.williams.edu/~cs104/auto/python-library-ref.html): Cheat sheet of helpful library methods.\n",
    "\n",
    "**Recommended Readings**: \n",
    "* [Ch 8.1. Applying Functions](https://www.inferentialthinking.com/chapters/08/1/Applying_a_Function_to_a_Column.html)\n",
    "* [Ch 9.1. Conditionals](https://www.inferentialthinking.com/chapters/09/1/Conditional_Statements.html)\n",
    "* [Ch 9.2. Iteration](https://www.inferentialthinking.com/chapters/09/2/Iteration.html)"
   ]
  },
  {
   "cell_type": "markdown",
   "id": "611aa37c",
   "metadata": {
    "deletable": false,
    "editable": false
   },
   "source": [
    "Please complete this notebook by filling in the cells provided. Before you begin, execute the following cell to setup the notebook by importing some helpful libraries. Each time you start your server, you will need to execute this cell again.  For all problems that you must write explanations and sentences for, you **must** provide your answer in the designated space. **Moreover, throughout this homework and all future ones, please be sure to not re-assign variables throughout the notebook!** For example, if you use `max_temperature` in your answer to one question, do not reassign it later on. Otherwise, you will fail tests that you thought you were passing previously!\n",
    "\n",
    "**Note: This homework has hidden tests on it. That means even though tests may say 100% passed, it doesn't mean your final grade will be 100%. We will be running more tests for correctness once everyone turns in the homework.**"
   ]
  },
  {
   "cell_type": "markdown",
   "id": "2b4bd11d",
   "metadata": {
    "deletable": false,
    "editable": false
   },
   "source": [
    "## 1. Eph Field Hockey (20 pts)\n",
    "\n"
   ]
  },
  {
   "cell_type": "code",
   "execution_count": null,
   "id": "d766c700",
   "metadata": {
    "deletable": false,
    "editable": false
   },
   "outputs": [],
   "source": [
    "# Run this cell to set up the notebook.\n",
    "\n",
    "# These lines import the Numpy and Datascience modules.\n",
    "import numpy as np\n",
    "from datascience import *\n",
    "\n",
    "# These lines make plots look nice and hide some messy Python warnings.\n",
    "import matplotlib\n",
    "%matplotlib inline\n",
    "import matplotlib.pyplot as plt\n",
    "plt.style.use('fivethirtyeight')\n",
    "import warnings\n",
    "warnings.simplefilter('ignore', FutureWarning)\n",
    "warnings.simplefilter('ignore', np.VisibleDeprecationWarning)"
   ]
  },
  {
   "cell_type": "markdown",
   "id": "efa3e4d5",
   "metadata": {
    "deletable": false,
    "editable": false
   },
   "source": [
    "Field Hockey games are divided into four quarters, with an overtime period if a game is tied after four quarters. The number of points the Ephs scored in each quarter, and the number of points their opponent scored in each quarter during their 2021 season are stored in a table called `williams-fh-2021.csv`."
   ]
  },
  {
   "cell_type": "code",
   "execution_count": null,
   "id": "0d8cebe5",
   "metadata": {
    "deletable": false,
    "editable": false
   },
   "outputs": [],
   "source": [
    "# Just run this cell\n",
    "# Read in the cal_fb csv file\n",
    "games = Table().read_table(\"williams-fh-2021.csv\")\n",
    "games.show()"
   ]
  },
  {
   "cell_type": "markdown",
   "id": "46086f0e",
   "metadata": {
    "deletable": false,
    "editable": false
   },
   "source": [
    "Let's start by finding the total points each team scored in a game."
   ]
  },
  {
   "cell_type": "markdown",
   "id": "681c1a0f",
   "metadata": {
    "deletable": false,
    "editable": false
   },
   "source": [
    "#### Part 1.1 (5 pts)\n"
   ]
  },
  {
   "cell_type": "markdown",
   "id": "6157c73e",
   "metadata": {
    "deletable": false,
    "editable": false
   },
   "source": [
    " Write a function called `sum_scores`.  It should take four arguments, where each argument is the team's score for that quarter. It should return the team's total score for that game. \n",
    "\n",
    "*Tip:* Don't overthink this question!\n",
    "\n",
    "\n"
   ]
  },
  {
   "cell_type": "code",
   "execution_count": null,
   "id": "fb913cb6",
   "metadata": {
    "deletable": false,
    "tags": []
   },
   "outputs": [],
   "source": [
    "def sum_scores(...):\n",
    "     '''Returns the total score calculated by adding up the score of each quarter'''\n",
    "     ...\n",
    "\"\"\"; # END PROMPOT\n",
    "\n",
    "sum_scores(14, 7, 3, 0, 5) # Example of how to call your function"
   ]
  },
  {
   "cell_type": "code",
   "execution_count": null,
   "id": "63f96355",
   "metadata": {
    "deletable": false,
    "editable": false
   },
   "outputs": [],
   "source": [
    "grader.check(\"q1.1\")"
   ]
  },
  {
   "cell_type": "markdown",
   "id": "4f148ca6",
   "metadata": {
    "deletable": false,
    "editable": false
   },
   "source": [
    "#### Part 1.2 (5 pts)\n"
   ]
  },
  {
   "cell_type": "markdown",
   "id": "dc63662c",
   "metadata": {
    "deletable": false,
    "editable": false
   },
   "source": [
    "Create a new table `final_scores` with three columns in this *specific* order: `Opponent`, `Ephs Score`, `Opponent Score`. You will have to create the `Ephs Score` and `Opponent Score` columns. Use the function `sum_scores` you just defined in the previous question for this problem. \n",
    "\n",
    "*Hint:* If you want to apply a function that takes in multiple arguments, you can pass multiple column names as arguments in `tbl.apply()`. The column values will be passed into the corresponding arguments of the function. Take a look at the python reference for syntax.\n",
    "\n",
    "*Tip:* If you’re running into issues creating `final_scores`, check that `ephs_scores` and `opponent_scores` output what you want. "
   ]
  },
  {
   "cell_type": "code",
   "execution_count": null,
   "id": "28caa443",
   "metadata": {
    "deletable": false,
    "tags": []
   },
   "outputs": [],
   "source": [
    "ephs_scores = ...\n",
    "opponent_scores = ...\n",
    "final_scores = ...\n",
    "final_scores"
   ]
  },
  {
   "cell_type": "code",
   "execution_count": null,
   "id": "5a2773bf",
   "metadata": {
    "deletable": false,
    "editable": false
   },
   "outputs": [],
   "source": [
    "grader.check(\"q1.2\")"
   ]
  },
  {
   "cell_type": "markdown",
   "id": "9ed80932",
   "metadata": {
    "deletable": false,
    "editable": false
   },
   "source": [
    "We can get specific row objects from a table. You can use `tbl.row(n)` to get the `n`th row of a table. `row.item(\"column_name\")` will allow you to select the element that corresponds to `column_name` in a particular row. Here's an example:"
   ]
  },
  {
   "cell_type": "code",
   "execution_count": null,
   "id": "0694b84f",
   "metadata": {
    "deletable": false,
    "editable": false
   },
   "outputs": [],
   "source": [
    "# Just run this cell\n",
    "games.row(9)"
   ]
  },
  {
   "cell_type": "code",
   "execution_count": null,
   "id": "aabfddb3",
   "metadata": {
    "deletable": false,
    "editable": false
   },
   "outputs": [],
   "source": [
    "# Just run this cell\n",
    "games.row(9).item(\"Ephs 4Q\")"
   ]
  },
  {
   "cell_type": "markdown",
   "id": "9d3dd2aa",
   "metadata": {
    "deletable": false,
    "editable": false
   },
   "source": [
    "#### Part 1.3 (5 pts)\n"
   ]
  },
  {
   "cell_type": "markdown",
   "id": "c4acc3b3",
   "metadata": {
    "deletable": false,
    "editable": false
   },
   "source": [
    "We want to see for a particular game whether or Williams won or lost. Write a function called `did_ephs_win`.  It should take one argument: a **row object** from the `final_scores` table. The `did_ephs_win` function should return either `True` if Williams's score was greater than the Opponent's score, and `False` otherwise.\n",
    "\n",
    "*Note 1*: \"Row object\" means a row from the table that contains all the data for that specific row. It is **not** the index of a row. Do not try and call `final_scores.row(row)` inside of the function.\n",
    "\n",
    "*Note 2*: If you're still confused by row objects, try printing out `final_scores.row(1)` in a new cell to visually see what it looks like! This piece of code is pulling out the row object located at index 1 of the `final_scores` table and returning it. When you display it in a cell, you'll see that it is not located within a table, but is instead a standalone row object!"
   ]
  },
  {
   "cell_type": "code",
   "execution_count": null,
   "id": "29b5fa67",
   "metadata": {
    "deletable": false,
    "tags": []
   },
   "outputs": [],
   "source": [
    "def did_ephs_win(row):\n",
    "    ..."
   ]
  },
  {
   "cell_type": "code",
   "execution_count": null,
   "id": "72b4e9dc",
   "metadata": {
    "deletable": false,
    "editable": false
   },
   "outputs": [],
   "source": [
    "grader.check(\"q1.3\")"
   ]
  },
  {
   "cell_type": "markdown",
   "id": "2a902a59",
   "metadata": {
    "deletable": false,
    "editable": false
   },
   "source": [
    "#### Part 1.4 (5 pts)\n"
   ]
  },
  {
   "cell_type": "markdown",
   "id": "5ae3e5b2",
   "metadata": {
    "deletable": false,
    "editable": false
   },
   "source": [
    "We'll use your functions to compute the outcome of every game in the season. Using the `final_scores` table:\n",
    "1. Assign `ephs_won` to an array of `True` and `False` values that correspond to whether or not Williams won.\n",
    "2. Add the `ephs_won` array to the `final_scores` table in a column named `Won`, and assign this to `final_scores_with_results`.\n",
    "3. Then, respectively assign the number of wins and losses Williams had to `eph_wins` and `eph_losses`.\n",
    "\n",
    "*Hint 1*: `True` and `False` are **not** strings \" \". What data type are they?\n",
    "\n",
    "*Hint 2*: `tbl.num_rows` might be helpful too.\n",
    "\n",
    "*Hint 3*: When you only pass a function name and no column labels through `tbl.apply()`, the function gets applied to every row in `tbl`.\n",
    "\n",
    "\n"
   ]
  },
  {
   "cell_type": "code",
   "execution_count": null,
   "id": "a16050c7",
   "metadata": {
    "deletable": false,
    "tags": []
   },
   "outputs": [],
   "source": [
    "results = ...\n",
    "final_scores_with_results = ...\n",
    "eph_wins = ...\n",
    "eph_losses = ...\n",
    "\n",
    "# Don't delete or edit the following line:\n",
    "print(f\"In the 2019 Season, Williams won {eph_wins} games and lost {eph_losses} games. Go Ephs!\")"
   ]
  },
  {
   "cell_type": "code",
   "execution_count": null,
   "id": "dce9699e",
   "metadata": {
    "deletable": false,
    "editable": false
   },
   "outputs": [],
   "source": [
    "grader.check(\"q1.4\")"
   ]
  },
  {
   "cell_type": "markdown",
   "id": "bc15f170",
   "metadata": {
    "deletable": false,
    "editable": false
   },
   "source": [
    "You're done with the required section of Lab 5! Continue on to the optional section for some more practice with iterations and for loops! \n",
    "\n",
    "Make sure to **run the submit cell located at the bottom of this notebook.**"
   ]
  },
  {
   "cell_type": "markdown",
   "id": "dd74d59f",
   "metadata": {
    "deletable": false,
    "editable": false
   },
   "source": [
    "## 2. Unrolling Loops (Optional) -- This question is awful\n"
   ]
  },
  {
   "cell_type": "markdown",
   "id": "aef0a63b",
   "metadata": {
    "deletable": false,
    "editable": false
   },
   "source": [
    "**The rest of this homework is optional. Do it for your own practice, but it will not be incorporated into the final grading!**\n",
    "\n",
    "\"Unrolling\" a `for` loop means to manually write out all the code that it executes.  The result is code that does the same thing as the loop, but without the structure of the loop.  For example, for the following loop:\n",
    "\n",
    "    for num in np.arange(3):\n",
    "        print(\"The number is\", num)\n",
    "\n",
    "The unrolled version would look like this:\n",
    "\n",
    "    print(\"The number is\", 0)\n",
    "    print(\"The number is\", 1)\n",
    "    print(\"The number is\", 2)\n",
    "\n",
    "\n",
    "Unrolling a `for` loop is a great way to understand what the loop is doing during each step. In this exercise, you'll practice unrolling a `for` loop.\n",
    "\n",
    "\n",
    "In the question below, write code that does the same thing as the given code, but with any `for` loops unrolled.  It's a good idea to run both your answer and the original code to verify that they do the same thing.  (Of course, if the code does something random, you'll get a different random outcome than the original code!)"
   ]
  },
  {
   "cell_type": "markdown",
   "id": "1fa5759a",
   "metadata": {
    "deletable": false,
    "editable": false
   },
   "source": [
    "**Optional Question 1.** Unroll the code below.\n"
   ]
  },
  {
   "cell_type": "code",
   "execution_count": null,
   "id": "b851c1d3",
   "metadata": {
    "deletable": false,
    "editable": false
   },
   "outputs": [],
   "source": [
    "for joke_iteration in np.arange(3):\n",
    "    print(\"Knock, knock.\")\n",
    "    print(\"Who's there?\")\n",
    "    print(\"Banana.\")\n",
    "    print(\"Banana who?\")\n",
    "print(\"Knock, knock.\")\n",
    "print(\"Who's there?\")\n",
    "print(\"Orange.\")\n",
    "print(\"Orange who?\")\n",
    "print(\"Orange you glad I didn't say banana?\")"
   ]
  },
  {
   "cell_type": "code",
   "execution_count": null,
   "id": "c6ca3c7d",
   "metadata": {
    "deletable": false,
    "editable": false
   },
   "outputs": [],
   "source": [
    "...  # SOLUTION\n"
   ]
  },
  {
   "cell_type": "markdown",
   "id": "ac68c066",
   "metadata": {
    "deletable": false,
    "editable": false
   },
   "source": [
    "You're done with Lab 5!  \n",
    "\n",
    "**Important submission information:** Follow these steps to submit your work:\n",
    "* Run the tests and verify that they pass as you expect. \n",
    "* Choose **Save Notebook** from the **File** menu.\n",
    "* **Run the final cell** and click the link below to download the zip file. \n",
    "\n",
    "Once you have downloaded that file, go to [Gradescope](https://www.gradescope.com/) and submit the zip file to the corresponding assignment. The name of this assignment is \"Lab 5\". **Be sure your work is saved before running the last cell!**\n",
    "\n",
    "Once you have submitted, your Gradescope assignment should show you passing all the tests you passed in your assignment notebook."
   ]
  },
  {
   "cell_type": "markdown",
   "id": "56d33ed6",
   "metadata": {
    "deletable": false,
    "editable": false
   },
   "source": [
    "---\n",
    "\n",
    "To double-check your work, the cell below will rerun all of the autograder tests."
   ]
  },
  {
   "cell_type": "code",
   "execution_count": null,
   "id": "99fe14a2",
   "metadata": {
    "deletable": false,
    "editable": false
   },
   "outputs": [],
   "source": [
    "grader.check_all()"
   ]
  },
  {
   "cell_type": "markdown",
   "id": "5e31c55f",
   "metadata": {
    "deletable": false,
    "editable": false
   },
   "source": [
    "## Submission\n",
    "\n",
    "Make sure you have run all cells in your notebook in order before running the cell below, so that all images/graphs appear in the output. The cell below will generate a zip file for you to submit. **Please save before exporting!**"
   ]
  },
  {
   "cell_type": "code",
   "execution_count": null,
   "id": "3122e58c",
   "metadata": {
    "deletable": false,
    "editable": false
   },
   "outputs": [],
   "source": [
    "# Save your notebook first, then run this cell to export your submission.\n",
    "grader.export(pdf=False)"
   ]
  },
  {
   "cell_type": "markdown",
   "id": "0693d84a",
   "metadata": {},
   "source": [
    " "
   ]
  }
 ],
 "metadata": {
  "kernelspec": {
   "display_name": "Python 3 (ipykernel)",
   "language": "python",
   "name": "python3"
  },
  "language_info": {
   "codemirror_mode": {
    "name": "ipython",
    "version": 3
   },
   "file_extension": ".py",
   "mimetype": "text/x-python",
   "name": "python",
   "nbconvert_exporter": "python",
   "pygments_lexer": "ipython3",
   "version": "3.9.13"
  },
  "otter": {
   "tests": {
    "q1.1": {
     "name": "q1.1",
     "points": 5,
     "suites": [
      {
       "cases": [
        {
         "code": ">>> sum_scores(2, 3, 6, 1, 0) == 12\nTrue",
         "hidden": false,
         "locked": false
        },
        {
         "code": ">>> sum_scores(-2, 3, 5, -11, 1) == -4\nTrue",
         "hidden": false,
         "locked": false
        }
       ],
       "scored": true,
       "setup": "",
       "teardown": "",
       "type": "doctest"
      }
     ]
    },
    "q1.2": {
     "name": "q1.2",
     "points": 5,
     "suites": [
      {
       "cases": [
        {
         "code": ">>> final_scores.num_columns == 3\nTrue",
         "hidden": false,
         "locked": false
        },
        {
         "code": ">>> final_scores.labels == ('Opponent', 'Ephs Score', 'Opponent Score')\nTrue",
         "hidden": false,
         "locked": false
        }
       ],
       "scored": true,
       "setup": "",
       "teardown": "",
       "type": "doctest"
      }
     ]
    },
    "q1.3": {
     "name": "q1.3",
     "points": 5,
     "suites": [
      {
       "cases": [
        {
         "code": ">>> did_ephs_win(final_scores.row(0)) == False\nTrue",
         "hidden": false,
         "locked": false
        },
        {
         "code": ">>> did_ephs_win(final_scores.row(1)) == True\nTrue",
         "hidden": false,
         "locked": false
        }
       ],
       "scored": true,
       "setup": "",
       "teardown": "",
       "type": "doctest"
      }
     ]
    },
    "q1.4": {
     "name": "q1.4",
     "points": 5,
     "suites": [
      {
       "cases": [
        {
         "code": ">>> 0 <= eph_wins <= 10\nTrue",
         "hidden": false,
         "locked": false
        },
        {
         "code": ">>> 0 <= eph_losses <= 10\nTrue",
         "hidden": false,
         "locked": false
        }
       ],
       "scored": true,
       "setup": "",
       "teardown": "",
       "type": "doctest"
      }
     ]
    }
   }
  }
 },
 "nbformat": 4,
 "nbformat_minor": 5
}
