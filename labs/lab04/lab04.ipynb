{
 "cells": [
  {
   "cell_type": "code",
   "execution_count": null,
   "id": "e50d7f87",
   "metadata": {
    "deletable": false,
    "editable": false
   },
   "outputs": [],
   "source": [
    "# Initialize Otter\n",
    "import otter\n",
    "grader = otter.Notebook(\"lab04.ipynb\")"
   ]
  },
  {
   "cell_type": "markdown",
   "id": "073ac9d4",
   "metadata": {
    "deletable": false,
    "editable": false
   },
   "source": [
    "# Lab 4: Functions, Tables, and Groups"
   ]
  },
  {
   "cell_type": "markdown",
   "id": "f512f533",
   "metadata": {
    "deletable": false,
    "editable": false
   },
   "source": [
    "**Helpful Resources:**\n",
    "- [Python Reference](http://www.cs.williams.edu/~cs104/python-library-ref.html): Cheat sheet of helpful library methods.\n",
    "\n",
    "**Recommended Readings**: \n",
    "* [Ch 7.2. Visualizing Numerical Distributions](https://www.inferentialthinking.com/chapters/07/2/Visualizing_Numerical_Distributions.html)\n",
    "* [Ch 8. Functions and Tables](https://www.inferentialthinking.com/chapters/08/Functions_and_Tables.html)"
   ]
  },
  {
   "cell_type": "markdown",
   "id": "2a94f458",
   "metadata": {
    "deletable": false,
    "editable": false
   },
   "source": [
    "Please complete this notebook by filling in the cells provided. Before you begin, execute the following cell to setup the notebook by importing some helpful libraries. Each time you start your server, you will need to execute this cell again.\n",
    "\n",
    "For all problems that you must write explanations and sentences for, you **must** provide your answer in the designated space. **Moreover, throughout this homework and all future ones, please be sure to not re-assign variables throughout the notebook!** For example, if you use `max_temperature` in your answer to one question, do not reassign it later on. Otherwise, you will fail tests that you thought you were passing previously!\n",
    "\n",
    "**Note: This homework has hidden tests on it. That means even though tests may say 100% passed, doesn't mean your final grade will be 100%. We will be running more tests for correctness once everyone turns in the homework.**"
   ]
  },
  {
   "cell_type": "markdown",
   "id": "90925fb9",
   "metadata": {
    "deletable": false,
    "editable": false
   },
   "source": [
    "## 1. Burrito-ful San Diego (40 pts)\n",
    "\n"
   ]
  },
  {
   "cell_type": "code",
   "execution_count": null,
   "id": "54529240",
   "metadata": {
    "deletable": false,
    "editable": false
   },
   "outputs": [],
   "source": [
    "# Run this cell to set up the notebook, but please don't change it.\n",
    "\n",
    "# These lines import the Numpy and Datascience modules.\n",
    "import numpy as np\n",
    "from datascience import *\n",
    "\n",
    "# These lines make plots look nice and hide some messy Python warnings.\n",
    "import matplotlib\n",
    "%matplotlib inline\n",
    "import matplotlib.pyplot as plt\n",
    "plt.style.use('fivethirtyeight')\n",
    "import warnings\n",
    "warnings.simplefilter('ignore', FutureWarning)\n",
    "warnings.simplefilter('ignore', np.VisibleDeprecationWarning)"
   ]
  },
  {
   "cell_type": "markdown",
   "id": "8c3b9558",
   "metadata": {
    "deletable": false,
    "editable": false
   },
   "source": [
    "We are trying find the best burritos in San Diego.  We have two comprehensive datasets on many burrito establishments in the San Diego area taken from (and cleaned from): https://www.kaggle.com/srcole/burritos-in-san-diego/data"
   ]
  },
  {
   "cell_type": "markdown",
   "id": "b67f3a76",
   "metadata": {
    "deletable": false,
    "editable": false
   },
   "source": [
    "The following cell reads in a table called `ratings` which contains names of burrito restaurants, their Yelp rating, Google rating, as well as their Overall rating. The `Overall` rating is not an average of the `Yelp` and `Google` ratings, but rather it is the overall rating of the customers that were surveyed in the study above.\n",
    "\n",
    "It also reads in a table called `burritos_types` which contains names of burrito restaurants, their menu items, and the cost of the respective menu item at the restaurant."
   ]
  },
  {
   "cell_type": "code",
   "execution_count": null,
   "id": "0e74cc86",
   "metadata": {
    "deletable": false,
    "editable": false
   },
   "outputs": [],
   "source": [
    "#Just run this cell\n",
    "ratings = Table.read_table(\"ratings.csv\")\n",
    "ratings.show(5)\n",
    "burritos_types = Table.read_table(\"burritos_types.csv\")\n",
    "burritos_types.show(5)"
   ]
  },
  {
   "cell_type": "markdown",
   "id": "017830f2",
   "metadata": {
    "deletable": false,
    "editable": false
   },
   "source": [
    "#### Part 1.1 (5 pts)\n"
   ]
  },
  {
   "cell_type": "markdown",
   "id": "e48b79b2",
   "metadata": {
    "deletable": false,
    "editable": false
   },
   "source": [
    " It would be easier if we could combine the information in both tables. Assign `burritos` to the result of joining the two tables together, so that we have a table with the ratings for every corresponding menu item from every restaurant. Each menu item has the same rating as the restaurant from which it is from. \n",
    "\n",
    "**Note:** It doesn't matter which table you put in as the argument to the table method, either order will work for the autograder tests."
   ]
  },
  {
   "cell_type": "code",
   "execution_count": null,
   "id": "ae231b20",
   "metadata": {
    "deletable": false,
    "tags": []
   },
   "outputs": [],
   "source": [
    "burritos = ...\n",
    "burritos.show(5)"
   ]
  },
  {
   "cell_type": "code",
   "execution_count": null,
   "id": "8fe8475e",
   "metadata": {
    "deletable": false,
    "editable": false
   },
   "outputs": [],
   "source": [
    "grader.check(\"q1.1\")"
   ]
  },
  {
   "cell_type": "markdown",
   "id": "725ae694",
   "metadata": {
    "deletable": false,
    "editable": false
   },
   "source": [
    "<!-- BEGIN QUESTION -->\n",
    "\n",
    "#### Part 1.2 (5 pts)\n"
   ]
  },
  {
   "cell_type": "markdown",
   "id": "f2513a1b",
   "metadata": {
    "deletable": false,
    "editable": false
   },
   "source": [
    " Let's look at how the Yelp scores compare to the Google scores in the `burritos` table. First, assign `yelp_and_google` to a table only containing the columns `Yelp` and `Google`. Then, make a scatter plot with Yelp scores on the x-axis and the Google scores on the y-axis. \n",
    "\n"
   ]
  },
  {
   "cell_type": "code",
   "execution_count": null,
   "id": "01f466f6",
   "metadata": {
    "deletable": false,
    "tags": []
   },
   "outputs": [],
   "source": [
    "yelp_and_google = ...\n",
    "...\n",
    "\n",
    "# Don't change/edit/remove the following line.\n",
    "# To help you make conclusions, we have plotted a straight line on the graph (y=x)\n",
    "plt.plot(np.arange(2.5,5,.5), np.arange(2.5,5,.5));"
   ]
  },
  {
   "cell_type": "markdown",
   "id": "e8ad3eca",
   "metadata": {
    "deletable": false,
    "editable": false
   },
   "source": [
    "<!-- END QUESTION -->\n",
    "\n",
    "<!-- BEGIN QUESTION -->\n",
    "\n",
    "#### Part 1.3 (5 pts)\n"
   ]
  },
  {
   "cell_type": "markdown",
   "id": "8fbdc4f5",
   "metadata": {
    "deletable": false,
    "editable": false
   },
   "source": [
    " Looking at the scatter plot you just made in Part 1.2, do you notice any pattern(s) (i.e. is one of the two types of scores consistently higher than the other one)? If so, describe them **briefly** in the cell below. "
   ]
  },
  {
   "cell_type": "markdown",
   "id": "e4db3386",
   "metadata": {},
   "source": [
    "_Type your answer here, replacing this text._"
   ]
  },
  {
   "cell_type": "markdown",
   "id": "b2964298",
   "metadata": {
    "deletable": false,
    "editable": false
   },
   "source": [
    "<!-- END QUESTION -->\n",
    "\n",
    "You can read how `.group` works in the [textbook](https://www.inferentialthinking.com/chapters/08/2/Classifying_by_One_Variable.html)"
   ]
  },
  {
   "cell_type": "markdown",
   "id": "b773054b",
   "metadata": {
    "deletable": false,
    "editable": false
   },
   "source": [
    "#### Part 1.4 (5 pts)\n"
   ]
  },
  {
   "cell_type": "markdown",
   "id": "e4c03e4e",
   "metadata": {
    "deletable": false,
    "editable": false
   },
   "source": [
    "There are so many types of California burritos in the `burritos` table! We'd like to know which type is the highest rated across all restaurants. *Note: For the sake of these questions, we are treating each menu item's rating the same as its respective restaurant's, as we do not have the rating of every single item at these restaurants. You do not need to worry about this fact, but we thought to mention it!*\n",
    "\n",
    "Create a table that has two columns: the name of the burrito and the average overall rating of that burrito across restaurants. **In your calculations, you should compare burritos that contain the word \"California\".** For example, there's \"California\" burritos, \"California breakfast\" burritos, \"California Surf and Turf\" burritos, etc. \n",
    "\n",
    "*Hint:* If multiple restaurants serve the \"California - Chicken\" burrito, what table method can we use to aggregate those together and find the average overall rating?\n",
    "\n",
    "**Note:** You can break up the solution into multiple lines, as long as you assign the final output table to `california_burritos`! For reference however, we used only one line.\n",
    "\n"
   ]
  },
  {
   "cell_type": "code",
   "execution_count": null,
   "id": "f24d21fa",
   "metadata": {
    "deletable": false,
    "tags": []
   },
   "outputs": [],
   "source": [
    "california_burritos = ...\n",
    "california_burritos"
   ]
  },
  {
   "cell_type": "code",
   "execution_count": null,
   "id": "fe0e0f6c",
   "metadata": {
    "deletable": false,
    "editable": false
   },
   "outputs": [],
   "source": [
    "grader.check(\"q1.4\")"
   ]
  },
  {
   "cell_type": "markdown",
   "id": "964a86c6",
   "metadata": {
    "deletable": false,
    "editable": false
   },
   "source": [
    "#### Part 1.5 (5 pts)\n"
   ]
  },
  {
   "cell_type": "markdown",
   "id": "f30423e4",
   "metadata": {
    "deletable": false,
    "editable": false
   },
   "source": [
    " Given this new table `california_burritos`, we can figure out the name of the California burrito with the highest overall average rating! Assign `best_california_burrito` to a line of code that outputs the string that represents the name of the California burrito with the highest overall average rating. If multiple burritos satisfy this criteria, you can output any one of them. "
   ]
  },
  {
   "cell_type": "code",
   "execution_count": null,
   "id": "36a67b62",
   "metadata": {
    "deletable": false,
    "tags": []
   },
   "outputs": [],
   "source": [
    "best_california_burrito = ...\n",
    "best_california_burrito"
   ]
  },
  {
   "cell_type": "code",
   "execution_count": null,
   "id": "c73e4ed1",
   "metadata": {
    "deletable": false,
    "editable": false
   },
   "outputs": [],
   "source": [
    "grader.check(\"q1.5\")"
   ]
  },
  {
   "cell_type": "markdown",
   "id": "8aa82b28",
   "metadata": {
    "deletable": false,
    "editable": false
   },
   "source": [
    "#### Part 1.6 (5 pts)\n"
   ]
  },
  {
   "cell_type": "markdown",
   "id": "b2b4b53d",
   "metadata": {
    "deletable": false,
    "editable": false
   },
   "source": [
    " Using the `burritos` table, assign `menu_average` to a table that has three columns that uniquely pairs the name of the restaurant, the menu item featured in the review, and the average overall score for that menu item at that restaurant. \n",
    "\n",
    "*Hint:* Use `.group`, and remember that you can group by multiple columns. Here's an example from the [textbook](https://www.inferentialthinking.com/chapters/08/3/Cross-Classifying_by_More_than_One_Variable.html).\n",
    "\n"
   ]
  },
  {
   "cell_type": "code",
   "execution_count": null,
   "id": "3e7424ae",
   "metadata": {
    "deletable": false,
    "tags": []
   },
   "outputs": [],
   "source": [
    "menu_average = ...\n",
    "menu_average"
   ]
  },
  {
   "cell_type": "code",
   "execution_count": null,
   "id": "49b875f6",
   "metadata": {
    "deletable": false,
    "editable": false
   },
   "outputs": [],
   "source": [
    "grader.check(\"q1.6\")"
   ]
  },
  {
   "cell_type": "markdown",
   "id": "e2004fde",
   "metadata": {
    "deletable": false,
    "editable": false
   },
   "source": [
    "<!-- BEGIN QUESTION -->\n",
    "\n",
    "#### Part 1.7 (5 pts)\n"
   ]
  },
  {
   "cell_type": "markdown",
   "id": "2441e32f",
   "metadata": {
    "deletable": false,
    "editable": false
   },
   "source": [
    "We hypothesize that burritos in San Diego are cheaper (and taste better) than the burritos in Williamstown. Plot a histogram that visualizes that distribution of the costs of the burritos from San Diego in the `burritos` table. Also use the provided `bins` variable when making your histogram, so that the histogram is more visually informative. "
   ]
  },
  {
   "cell_type": "code",
   "execution_count": null,
   "id": "ea2bd69f",
   "metadata": {
    "deletable": false,
    "tags": []
   },
   "outputs": [],
   "source": [
    "bins = np.arange(0, 15, 1)\n",
    "\n",
    "# Please also use the provided bins\n",
    "..."
   ]
  },
  {
   "cell_type": "markdown",
   "id": "d4331c1b",
   "metadata": {
    "deletable": false,
    "editable": false
   },
   "source": [
    "<!-- END QUESTION -->\n",
    "\n",
    "#### Part 1.8 (5 pts)\n"
   ]
  },
  {
   "cell_type": "markdown",
   "id": "decc2a59",
   "metadata": {
    "deletable": false,
    "editable": false
   },
   "source": [
    " What percentage of burritos in San Diego are less than $6? Assign `burritos_less_than_6` to your answer, which should be between 0 and 100. You should only use the histogram above to answer the question. Do not use code on the table to to find the answer, just eyeball the heights and use Python to evaluate your arithmetic! \n",
    "\n",
    "Your answer does not have to be exact, but it should be within a couple percentages of our answer."
   ]
  },
  {
   "cell_type": "code",
   "execution_count": null,
   "id": "d35fc655",
   "metadata": {
    "deletable": false,
    "tags": []
   },
   "outputs": [],
   "source": [
    "burritos_less_than_6 = ..."
   ]
  },
  {
   "cell_type": "code",
   "execution_count": null,
   "id": "b32c7133",
   "metadata": {
    "deletable": false,
    "editable": false
   },
   "outputs": [],
   "source": [
    "grader.check(\"q1.8\")"
   ]
  },
  {
   "cell_type": "markdown",
   "id": "cb9486bd",
   "metadata": {
    "deletable": false,
    "editable": false,
    "tags": []
   },
   "source": [
    "## 2. Penguins (30 pts)\n",
    "\n"
   ]
  },
  {
   "cell_type": "markdown",
   "id": "06e1cf3c",
   "metadata": {
    "deletable": false,
    "editable": false
   },
   "source": [
    "This exercise is designed to give you practice using the Table methods `pivot` and `group`."
   ]
  },
  {
   "cell_type": "markdown",
   "id": "8f17197a",
   "metadata": {
    "deletable": false,
    "editable": false
   },
   "source": [
    "We'll use a data from the [palmerpenguins dataset](https://github.com/allisonhorst/palmerpenguins), which captures data for three species of penguins (Adelie, Chinstrap, and Gentoo) on three islands in the Palmer Archipelago, Antarctica (Biscoe, Dream, and Torgersen).  Here's some artwork from the dataset creator showing the three species and what several of the data elements mean:\n",
    "\n",
    "<img width=300 src=\"https://github.com/allisonhorst/palmerpenguins/raw/master/man/figures/lter_penguins.png\"><img width=300 src=\"https://github.com/allisonhorst/palmerpenguins/raw/master/man/figures/culmen_depth.png\">\n",
    "\n",
    "We have lightly cleaned the data to make it easier to work with. Run the following cell to load our data into a table called `penguins`."
   ]
  },
  {
   "cell_type": "code",
   "execution_count": null,
   "id": "f95544c9",
   "metadata": {
    "deletable": false,
    "editable": false
   },
   "outputs": [],
   "source": [
    "penguins = Table.read_table(\"penguins.csv\")\n",
    "penguins"
   ]
  },
  {
   "cell_type": "markdown",
   "id": "db6d313a",
   "metadata": {
    "deletable": false,
    "editable": false
   },
   "source": [
    "#### Part 2.1 (5 pts)\n"
   ]
  },
  {
   "cell_type": "markdown",
   "id": "b809a914",
   "metadata": {
    "deletable": false,
    "editable": false
   },
   "source": [
    "Since we'll be focussing most on bill length for our various penguins, create a new table with three columns labeled \"species\", \"island\", and \"bill length\"."
   ]
  },
  {
   "cell_type": "code",
   "execution_count": null,
   "id": "d9536b37",
   "metadata": {
    "deletable": false,
    "tags": []
   },
   "outputs": [],
   "source": [
    "bill_length = ...\n",
    "bill_length"
   ]
  },
  {
   "cell_type": "code",
   "execution_count": null,
   "id": "d0addcb1",
   "metadata": {
    "deletable": false,
    "editable": false
   },
   "outputs": [],
   "source": [
    "grader.check(\"q2.1\")"
   ]
  },
  {
   "cell_type": "markdown",
   "id": "92cdeb8c",
   "metadata": {
    "deletable": false,
    "editable": false
   },
   "source": [
    "#### Part 2.2 (5 pts)\n"
   ]
  },
  {
   "cell_type": "markdown",
   "id": "959519f0",
   "metadata": {
    "deletable": false,
    "editable": false
   },
   "source": [
    "Set `bill_lengths` to a table with two columns. The first column should be `species` and the second column should be `bill lengths`.  Each row in that second column should contain an *array* of the all of the bill lengths for penguins of the given species. \n",
    "\n",
    "*Hint:* Think about how ```group``` works: it collects values into an array and then applies a function to that array. We have defined two functions below for you, and you will need to use one of them in your call to ```group```."
   ]
  },
  {
   "cell_type": "code",
   "execution_count": null,
   "id": "b434fda6",
   "metadata": {
    "deletable": false,
    "tags": []
   },
   "outputs": [],
   "source": [
    "# Pick one of the two functions defined below in your call to group.\n",
    "def function1(array):\n",
    "    '''Returns the first item'''\n",
    "    return array.item(0)\n",
    "\n",
    "def function2(array):\n",
    "    '''Returns the array that is passed through'''\n",
    "    return array \n",
    "\n",
    "# Make a call to group using one of the functions above when you define job_titles\n",
    "bill_lengths = ...\n",
    "bill_lengths"
   ]
  },
  {
   "cell_type": "code",
   "execution_count": null,
   "id": "c1722f02",
   "metadata": {
    "deletable": false,
    "editable": false
   },
   "outputs": [],
   "source": [
    "grader.check(\"q2.2\")"
   ]
  },
  {
   "cell_type": "markdown",
   "id": "e456346b",
   "metadata": {
    "deletable": false,
    "editable": false
   },
   "source": [
    "<!-- BEGIN QUESTION -->\n",
    "\n",
    "#### Part 2.3 (5 pts)\n"
   ]
  },
  {
   "cell_type": "markdown",
   "id": "55f0e7eb",
   "metadata": {
    "deletable": false,
    "editable": false
   },
   "source": [
    "At the moment, the `bill length` column of the `bill_length` table is not sorted (no particular order). Would the arrays you generated in the `bill lengths` column of the previous question be the same if we had sorted from shortest to longest beak before generating the arrays? Explain your answer.  \n",
    "\n",
    "**Note:** Two arrays are the **same** if they contain the same number of elements and the elements located at corresponding indexes in the two arrays are identical. An example of arrays that are NOT the same: `array([1,2]) != array([2,1])`."
   ]
  },
  {
   "cell_type": "markdown",
   "id": "2120b7ef",
   "metadata": {},
   "source": [
    "_Type your answer here, replacing this text._"
   ]
  },
  {
   "cell_type": "markdown",
   "id": "05f4a5d8",
   "metadata": {
    "deletable": false,
    "editable": false
   },
   "source": [
    "<!-- END QUESTION -->\n",
    "\n",
    "#### Part 2.4 (5 pts)\n"
   ]
  },
  {
   "cell_type": "markdown",
   "id": "c54b57d7",
   "metadata": {
    "deletable": false,
    "editable": false
   },
   "source": [
    "Now create a new table `bill_length_mean` with two columns. The first column should be `species` and the second column should be `bill length mean`.  \n",
    "Each row in that second column should be the *mean* bill length for the given species.  Your answer should be very similar to the second part of this question..."
   ]
  },
  {
   "cell_type": "code",
   "execution_count": null,
   "id": "f67188a9",
   "metadata": {
    "deletable": false,
    "tags": []
   },
   "outputs": [],
   "source": [
    "bill_length_mean = ...\n",
    "bill_length_mean"
   ]
  },
  {
   "cell_type": "code",
   "execution_count": null,
   "id": "10ef21dd",
   "metadata": {
    "deletable": false,
    "editable": false
   },
   "outputs": [],
   "source": [
    "grader.check(\"q2.4\")"
   ]
  },
  {
   "cell_type": "markdown",
   "id": "f80e127b",
   "metadata": {
    "deletable": false,
    "editable": false
   },
   "source": [
    "#### Part 2.5 (5 pts)\n"
   ]
  },
  {
   "cell_type": "markdown",
   "id": "fe1a0dd3",
   "metadata": {
    "deletable": false,
    "editable": false
   },
   "source": [
    "Set `bill_length_ranges` to a table containing islands as the rows and species as the columns. The values in the rows should correspond to a bill length range, where range is defined as the **difference between the longest bill length and shortest bill length for penguins of that species on that island**. \n",
    "\n",
    "*Hint 1:* First you'll need to define a new function `length_range` which takes in an array of compensations and returns the range of compensations in that array.\n",
    "\n",
    "*Hint 2:* What table function allows you to specify the rows and columns of a new table?"
   ]
  },
  {
   "cell_type": "code",
   "execution_count": null,
   "id": "8bd1a3e6",
   "metadata": {
    "deletable": false,
    "tags": []
   },
   "outputs": [],
   "source": [
    "def length_range(array):\n",
    "    return max(array) - min(array)\n",
    "\n",
    "bill_length_ranges = ...\n",
    "bill_length_ranges"
   ]
  },
  {
   "cell_type": "code",
   "execution_count": null,
   "id": "159a70cf",
   "metadata": {
    "deletable": false,
    "editable": false
   },
   "outputs": [],
   "source": [
    "grader.check(\"q2.5\")"
   ]
  },
  {
   "cell_type": "markdown",
   "id": "3f39990f",
   "metadata": {
    "deletable": false,
    "editable": false
   },
   "source": [
    "<!-- BEGIN QUESTION -->\n",
    "\n",
    "#### Part 2.6 (5 pts)\n"
   ]
  },
  {
   "cell_type": "markdown",
   "id": "927713f8",
   "metadata": {
    "deletable": false,
    "editable": false
   },
   "source": [
    "Give an explanation as to why some of the row values are `0` in the `bill_length_ranges` table from the previous question."
   ]
  },
  {
   "cell_type": "markdown",
   "id": "d0e86124",
   "metadata": {},
   "source": [
    "_Type your answer here, replacing this text._"
   ]
  },
  {
   "cell_type": "markdown",
   "id": "b91c7c32",
   "metadata": {
    "deletable": false,
    "editable": false,
    "tags": []
   },
   "source": [
    "<!-- END QUESTION -->\n",
    "\n",
    "## 3. Boston City Employee Salaries (20 pts)\n",
    "\n"
   ]
  },
  {
   "cell_type": "markdown",
   "id": "93874392",
   "metadata": {
    "deletable": false,
    "editable": false
   },
   "source": [
    "We now examine publicly available [City of Boston payroll data for employees](https://data.boston.gov/dataset/418983dc-7cae-42bb-88e4-d56f5adcf869/resource/ec5aaf93-1509-4641-9310-28e62e028457/download/employee-earnings-report-2021.csv) for 2021.  We have filtered it to retain just some of the columns.  The next cell loads it into the table `full_boston`."
   ]
  },
  {
   "cell_type": "code",
   "execution_count": null,
   "id": "207cf29f",
   "metadata": {
    "deletable": false,
    "editable": false
   },
   "outputs": [],
   "source": [
    "full_boston = Table.read_table(\"boston-earnings.csv\")\n",
    "full_boston"
   ]
  },
  {
   "cell_type": "markdown",
   "id": "f83f3b6d",
   "metadata": {
    "deletable": false,
    "editable": false
   },
   "source": [
    "The table has one row for each of the 22,546 city employees in 2021. The first two describe the department and title for each employee.  For example, the employee in the fourth row is a Police Officer in the Boston Police Department.  The next seven columns contain the dollar amounts paid to the employee in the calendar year 2021 for various reasions:\n",
    "\n",
    "* REGULAR: the employees base salary.\n",
    "* RETRO: retroactive pay from earlier work.\n",
    "* OTHER: anything not covered by the other categories.\n",
    "* OVERTIME: work beyond regular hours.\n",
    "* INJURED: pay for time not worked due to injury.\n",
    "* DETAIL: pay for work done as part of special details.\n",
    "* QUINN_EDUCATION_INCENTIVE: an incentive program to encourage police officers to earn degrees in law enforcement and criminal justice.\n",
    "\n",
    "The `TOTAL_GROSS` column is the sum of those seven.  In many cases, especially for police officers and fire fighters, the totall gross compensation is much larger that the regular salary because of over-time and special assignment details.\n",
    "\n",
    "For this homework, we will be using `DEPARTMENT_NAME`, `TITLE`, `REGULAR`, and `TOTAL_GROSS`.  Run the next cell to load those columns into the table `boston`"
   ]
  },
  {
   "cell_type": "code",
   "execution_count": null,
   "id": "c2954a0c",
   "metadata": {
    "deletable": false,
    "editable": false
   },
   "outputs": [],
   "source": [
    "boston = full_boston.select(\"TITLE\", \"DEPARTMENT_NAME\", \"REGULAR\", \"TOTAL_GROSS\")\n",
    "boston"
   ]
  },
  {
   "cell_type": "markdown",
   "id": "04aec50e",
   "metadata": {
    "deletable": false,
    "editable": false
   },
   "source": [
    "#### Part 3.1 (5 pts)\n"
   ]
  },
  {
   "cell_type": "markdown",
   "id": "e41e840d",
   "metadata": {
    "deletable": false,
    "editable": false
   },
   "source": [
    "Create a new table of city employees having gross earnings over $100,000. That table should have two columns, `TITLE` and `TOTAL_GROSS`, and be sorted in decreasing order by the latter."
   ]
  },
  {
   "cell_type": "code",
   "execution_count": null,
   "id": "06ab7adb",
   "metadata": {
    "deletable": false,
    "tags": []
   },
   "outputs": [],
   "source": [
    "over_100k = ...\n",
    "over_100k"
   ]
  },
  {
   "cell_type": "markdown",
   "id": "9a68ccd4",
   "metadata": {
    "deletable": false,
    "editable": false
   },
   "source": [
    "You may be surprised by the two outliers at the top of the list.  A quick [web search](https://www.bostonherald.com/2022/02/26/boston-a-six-figure-jackpot-for-city-employees-2-topped-1m/) sheds some light on those two employees (and may also help you validate your other answers below!)."
   ]
  },
  {
   "cell_type": "code",
   "execution_count": null,
   "id": "a4992656",
   "metadata": {
    "deletable": false,
    "editable": false
   },
   "outputs": [],
   "source": [
    "grader.check(\"q3.1\")"
   ]
  },
  {
   "cell_type": "markdown",
   "id": "ba3b06d0",
   "metadata": {
    "deletable": false,
    "editable": false
   },
   "source": [
    "#### Part 3.2 (5 pts)\n"
   ]
  },
  {
   "cell_type": "markdown",
   "id": "a291d492",
   "metadata": {
    "deletable": false,
    "editable": false
   },
   "source": [
    "We'd now like to know the number of employees with each `TITLE` having gross earnings greater than $100,000.  Use `over_100k` to construct a new table with `TITLE` and `100k Earners` coulumns."
   ]
  },
  {
   "cell_type": "code",
   "execution_count": null,
   "id": "b52f83a0",
   "metadata": {
    "deletable": false,
    "tags": []
   },
   "outputs": [],
   "source": [
    "over_100k_by_title = over_100k.group(\"TITLE\").sort(\"count\", descending=True).relabeled(\"count\", \"100k Earners\")\n",
    "over_100k_by_title"
   ]
  },
  {
   "cell_type": "code",
   "execution_count": null,
   "id": "54cef2f2",
   "metadata": {
    "deletable": false,
    "editable": false
   },
   "outputs": [],
   "source": [
    "grader.check(\"q3.2\")"
   ]
  },
  {
   "cell_type": "markdown",
   "id": "93cba790",
   "metadata": {
    "deletable": false,
    "editable": false
   },
   "source": [
    "#### Part 3.3 (5 pts)\n"
   ]
  },
  {
   "cell_type": "markdown",
   "id": "e3f93add",
   "metadata": {
    "deletable": false,
    "editable": false
   },
   "source": [
    "Now construct one additional table summarizing the total earnings for each department.  Your table should have columns labeled `DEPARTMENT_NAME` and `DEPARTMENT_GROSS`, where the latter is the total gross earnings of all empoloyees in that department.  Short from highest to lowest department gross earnings.\n"
   ]
  },
  {
   "cell_type": "code",
   "execution_count": null,
   "id": "6e78b5dc",
   "metadata": {
    "deletable": false,
    "tags": []
   },
   "outputs": [],
   "source": [
    "dept_gross_earnings = boston.select(\"DEPARTMENT_NAME\", \"TOTAL_GROSS\").group(\"DEPARTMENT_NAME\", sum).sort(\"TOTAL_GROSS sum\", descending=True).relabeled(\"TOTAL_GROSS sum\", \"DEPARTMENT_GROSS\")\n",
    "dept_gross_earnings"
   ]
  },
  {
   "cell_type": "code",
   "execution_count": null,
   "id": "68cc5e05",
   "metadata": {
    "deletable": false,
    "editable": false
   },
   "outputs": [],
   "source": [
    "grader.check(\"q3.3\")"
   ]
  },
  {
   "cell_type": "markdown",
   "id": "a795e33a",
   "metadata": {
    "deletable": false,
    "editable": false
   },
   "source": [
    "<!-- BEGIN QUESTION -->\n",
    "\n",
    "#### Part 3.4 (5 pts)\n"
   ]
  },
  {
   "cell_type": "markdown",
   "id": "0f7e526d",
   "metadata": {
    "deletable": false,
    "editable": false
   },
   "source": [
    "Create a bar chart showing the department gross earnings for the top 15 departments when ranked by gross earnings."
   ]
  },
  {
   "cell_type": "code",
   "execution_count": null,
   "id": "363dcf6e",
   "metadata": {
    "deletable": false,
    "tags": []
   },
   "outputs": [],
   "source": [
    "dept_gross_earnings.take(np.arange(15)).barh(\"DEPARTMENT_NAME\")"
   ]
  },
  {
   "cell_type": "markdown",
   "id": "39b8b668",
   "metadata": {
    "deletable": false,
    "editable": false
   },
   "source": [
    "<!-- END QUESTION -->\n",
    "\n",
    "## 5. Open Ended (15 pts)\n",
    "\n"
   ]
  },
  {
   "cell_type": "markdown",
   "id": "fced4ab8",
   "metadata": {
    "deletable": false,
    "editable": false
   },
   "source": [
    "<!-- BEGIN QUESTION -->\n",
    "\n",
    "#### Part 5.1 (5 pts)\n"
   ]
  },
  {
   "cell_type": "markdown",
   "id": "9bf7f918",
   "metadata": {
    "deletable": false,
    "editable": false
   },
   "source": [
    "Pose an additional question about one of the data sets from this homework, and explain how you can answer that question."
   ]
  },
  {
   "cell_type": "markdown",
   "id": "9ad9806e",
   "metadata": {
    "deletable": false,
    "editable": false
   },
   "source": [
    "<!-- END QUESTION -->\n",
    "\n",
    "<!-- BEGIN QUESTION -->\n",
    "\n",
    "#### Part 5.2 (5 pts)\n"
   ]
  },
  {
   "cell_type": "markdown",
   "id": "7fdcc526",
   "metadata": {
    "deletable": false,
    "editable": false
   },
   "source": [
    "Write the Python code to compute the solution to your question"
   ]
  },
  {
   "cell_type": "code",
   "execution_count": null,
   "id": "79dd9ebd",
   "metadata": {
    "deletable": false,
    "tags": []
   },
   "outputs": [],
   "source": [
    "# Your code goes here.  \n",
    "# If you'd like to divide your work across multiple cells, \n",
    "#  you can create an additional cell by selecting a cell and pressing \"B\"."
   ]
  },
  {
   "cell_type": "markdown",
   "id": "174e0244",
   "metadata": {
    "deletable": false,
    "editable": false
   },
   "source": [
    "<!-- END QUESTION -->\n",
    "\n",
    "You're done with Lab 4!  \n",
    "\n",
    "**Important submission information:** Follow these steps to submit your work:\n",
    "* Run the tests and verify that they pass as you expect. \n",
    "* Choose **Save Notebook** from the **File** menu.\n",
    "* **Run the final cell** and click the link below to download the zip file. \n",
    "\n",
    "Once you have downloaded that file, go to [Gradescope](https://www.gradescope.com/) and submit the zip file to the corresponding assignment. The name of this assignment is \"Lab 4\". **Be sure your work is saved before running the last cell!**\n",
    "\n",
    "Once you have submitted, your Gradescope assignment should show you passing all the tests you passed in your assignment notebook."
   ]
  },
  {
   "cell_type": "markdown",
   "id": "832e0f90",
   "metadata": {
    "deletable": false,
    "editable": false
   },
   "source": [
    "---\n",
    "\n",
    "To double-check your work, the cell below will rerun all of the autograder tests."
   ]
  },
  {
   "cell_type": "code",
   "execution_count": null,
   "id": "db650852",
   "metadata": {
    "deletable": false,
    "editable": false
   },
   "outputs": [],
   "source": [
    "grader.check_all()"
   ]
  },
  {
   "cell_type": "markdown",
   "id": "32cafe54",
   "metadata": {
    "deletable": false,
    "editable": false
   },
   "source": [
    "## Submission\n",
    "\n",
    "Make sure you have run all cells in your notebook in order before running the cell below, so that all images/graphs appear in the output. The cell below will generate a zip file for you to submit. **Please save before exporting!**"
   ]
  },
  {
   "cell_type": "code",
   "execution_count": null,
   "id": "325308bc",
   "metadata": {
    "deletable": false,
    "editable": false
   },
   "outputs": [],
   "source": [
    "# Save your notebook first, then run this cell to export your submission.\n",
    "grader.export()"
   ]
  },
  {
   "cell_type": "markdown",
   "id": "328b068c",
   "metadata": {},
   "source": [
    " "
   ]
  }
 ],
 "metadata": {
  "kernelspec": {
   "display_name": "Python 3 (ipykernel)",
   "language": "python",
   "name": "python3"
  },
  "language_info": {
   "codemirror_mode": {
    "name": "ipython",
    "version": 3
   },
   "file_extension": ".py",
   "mimetype": "text/x-python",
   "name": "python",
   "nbconvert_exporter": "python",
   "pygments_lexer": "ipython3",
   "version": "3.9.13"
  },
  "otter": {
   "tests": {
    "q1.1": {
     "name": "q1.1",
     "points": null,
     "suites": [
      {
       "cases": [
        {
         "code": ">>> set([\"Name\", \"Menu_Item\", \"Yelp\", 'Google', \"Overall\", \"Cost\"]) == set(burritos.labels)\nTrue",
         "hidden": false,
         "locked": false
        },
        {
         "code": ">>> burritos.num_rows == 212\nTrue",
         "hidden": false,
         "locked": false
        }
       ],
       "scored": true,
       "setup": "",
       "teardown": "",
       "type": "doctest"
      }
     ]
    },
    "q1.4": {
     "name": "q1.4",
     "points": null,
     "suites": [
      {
       "cases": [
        {
         "code": ">>> california_burritos.num_columns == 2\nTrue",
         "hidden": false,
         "locked": false
        },
        {
         "code": ">>> california_burritos.num_rows == 19\nTrue",
         "hidden": false,
         "locked": false
        }
       ],
       "scored": true,
       "setup": "",
       "teardown": "",
       "type": "doctest"
      }
     ]
    },
    "q1.5": {
     "name": "q1.5",
     "points": null,
     "suites": [
      {
       "cases": [
        {
         "code": ">>> best_california_burrito in california_burritos.column(\"Menu_Item\")\nTrue",
         "hidden": false,
         "locked": false
        }
       ],
       "scored": true,
       "setup": "",
       "teardown": "",
       "type": "doctest"
      }
     ]
    },
    "q1.6": {
     "name": "q1.6",
     "points": null,
     "suites": [
      {
       "cases": [
        {
         "code": ">>> menu_average.num_columns == 3\nTrue",
         "hidden": false,
         "locked": false
        }
       ],
       "scored": true,
       "setup": "",
       "teardown": "",
       "type": "doctest"
      }
     ]
    },
    "q1.8": {
     "name": "q1.8",
     "points": null,
     "suites": [
      {
       "cases": [
        {
         "code": ">>> 0 <= burritos_less_than_6 <= 100\nTrue",
         "hidden": false,
         "locked": false
        }
       ],
       "scored": true,
       "setup": "",
       "teardown": "",
       "type": "doctest"
      }
     ]
    },
    "q2.1": {
     "name": "q2.1",
     "points": null,
     "suites": [
      {
       "cases": [
        {
         "code": ">>> bill_length.labels == ('species', 'island', 'bill length')\nTrue",
         "hidden": false,
         "locked": false
        }
       ],
       "scored": true,
       "setup": "",
       "teardown": "",
       "type": "doctest"
      }
     ]
    },
    "q2.2": {
     "name": "q2.2",
     "points": null,
     "suites": [
      {
       "cases": [
        {
         "code": ">>> bill_lengths.num_rows == 3\nTrue",
         "hidden": false,
         "locked": false
        }
       ],
       "scored": true,
       "setup": "",
       "teardown": "",
       "type": "doctest"
      }
     ]
    },
    "q2.4": {
     "name": "q2.4",
     "points": null,
     "suites": [
      {
       "cases": [
        {
         "code": ">>> bill_length_mean.num_rows == 3\nTrue",
         "hidden": false,
         "locked": false
        }
       ],
       "scored": true,
       "setup": "",
       "teardown": "",
       "type": "doctest"
      }
     ]
    },
    "q2.5": {
     "name": "q2.5",
     "points": null,
     "suites": [
      {
       "cases": [
        {
         "code": ">>> bill_length_ranges.num_rows == 3\nTrue",
         "hidden": false,
         "locked": false
        },
        {
         "code": ">>> bill_length_ranges.num_columns == 4\nTrue",
         "hidden": false,
         "locked": false
        }
       ],
       "scored": true,
       "setup": "",
       "teardown": "",
       "type": "doctest"
      }
     ]
    },
    "q3.1": {
     "name": "q3.1",
     "points": null,
     "suites": [
      {
       "cases": [
        {
         "code": ">>> over_100k.num_rows == 8708\nTrue",
         "hidden": false,
         "locked": false
        }
       ],
       "scored": true,
       "setup": "",
       "teardown": "",
       "type": "doctest"
      }
     ]
    },
    "q3.2": {
     "name": "q3.2",
     "points": null,
     "suites": [
      {
       "cases": [
        {
         "code": ">>> over_100k.num_rows == 8708\nTrue",
         "hidden": false,
         "locked": false
        }
       ],
       "scored": true,
       "setup": "",
       "teardown": "",
       "type": "doctest"
      }
     ]
    },
    "q3.3": {
     "name": "q3.3",
     "points": null,
     "suites": [
      {
       "cases": [
        {
         "code": ">>> dept_gross_earnings.num_rows == 231\nTrue",
         "hidden": false,
         "locked": false
        },
        {
         "code": ">>> dept_gross_earnings.labels == ('DEPARTMENT_NAME', 'DEPARTMENT_GROSS')\nTrue",
         "hidden": false,
         "locked": false
        }
       ],
       "scored": true,
       "setup": "",
       "teardown": "",
       "type": "doctest"
      }
     ]
    }
   }
  }
 },
 "nbformat": 4,
 "nbformat_minor": 5
}
