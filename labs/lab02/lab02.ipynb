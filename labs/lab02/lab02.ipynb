{
 "cells": [
  {
   "cell_type": "code",
   "execution_count": null,
   "id": "3fd1a3fe",
   "metadata": {
    "deletable": false,
    "editable": false
   },
   "outputs": [],
   "source": [
    "# Initialize Otter\n",
    "import otter\n",
    "grader = otter.Notebook(\"lab02.ipynb\")"
   ]
  },
  {
   "cell_type": "markdown",
   "id": "1849bef3",
   "metadata": {
    "deletable": false,
    "editable": false
   },
   "source": [
    "# Lab 2: Arrays and Tables\n",
    "\n",
    "Please complete this notebook by filling in the cells provided. Before you begin, execute the previous cell to load the provided tests."
   ]
  },
  {
   "cell_type": "markdown",
   "id": "a17d927c",
   "metadata": {
    "deletable": false,
    "editable": false
   },
   "source": [
    "**Helpful Resource:**\n",
    "- [Python Reference](https://www.cs.williams.edu/~cs104/auto/python-library-ref.html): \n",
    "\n",
    "**Recommended Readings:**\n",
    "- [Arrays](https://inferentialthinking.com/chapters/05/1/Arrays.html)\n",
    "- [What is Data Science?](http://www.inferentialthinking.com/chapters/01/what-is-data-science.html)\n",
    "- [Causality and Experiments](http://www.inferentialthinking.com/chapters/02/causality-and-experiments.html) \n",
    "- [Programming in Python](http://www.inferentialthinking.com/chapters/03/programming-in-python.html)\n",
    "\n",
    "For all problems that you must write explanations and sentences for, you **must** provide your answer in the designated space. Moreover, throughout this lab and all future ones, please be sure to not re-assign variables throughout the notebook! For example, if you use `max_temperature` in your answer to one question, do not reassign it later on. Otherwise, you may fail tests that you thought you were passing previously!\n",
    "\n",
    "**Note: We will run more tests than what we provide to you.  You may pass all of tests in this notebook, but your final grade will only be 100% if it passes all of our tests too. We will be running more tests for correctness once everyone turns in the homework."
   ]
  },
  {
   "cell_type": "markdown",
   "id": "d2eb2364",
   "metadata": {
    "deletable": false,
    "editable": false,
    "tags": []
   },
   "source": [
    "## 1. Creating Arrays\n"
   ]
  },
  {
   "cell_type": "code",
   "execution_count": null,
   "id": "e53b70ad",
   "metadata": {
    "deletable": false,
    "editable": false
   },
   "outputs": [],
   "source": [
    "# Run this cell to set up the notebook, but please don't change it.\n",
    "\n",
    "import numpy as np\n",
    "from datascience import *\n",
    "import warnings\n",
    "warnings.simplefilter('ignore', FutureWarning)"
   ]
  },
  {
   "cell_type": "markdown",
   "id": "902ff390",
   "metadata": {
    "deletable": false,
    "editable": false,
    "tags": []
   },
   "source": [
    "#### Part 1.1 (4 points) (1 pts)\n"
   ]
  },
  {
   "cell_type": "markdown",
   "id": "4ef92530",
   "metadata": {
    "deletable": false,
    "editable": false,
    "tags": []
   },
   "source": [
    "Make an array called `numbers` containing the following numbers (in the given order)\n",
    "\n",
    "1. -2\n",
    "2. the floor of 12.6\n",
    "3. 3\n",
    "4. 5 to the power of the ceil of 5.3\n",
    "\n",
    "*Hint:* `floor` and `ceil` are functions in the `math` module. Importing modules is covered in 2.1 of Lab 2!\n",
    "\n",
    "*Note:* Python lists are different/behave differently than NumPy arrays. In Data 8, we use NumPy arrays, so please make an **array**, not a Python list."
   ]
  },
  {
   "cell_type": "code",
   "execution_count": null,
   "id": "6ca12d02",
   "metadata": {
    "deletable": false,
    "tags": []
   },
   "outputs": [],
   "source": [
    "# Our solution involved one extra line of code before creating\n",
    "# numbers.\n",
    "...\n",
    "numbers = ...\n",
    "numbers"
   ]
  },
  {
   "cell_type": "code",
   "execution_count": null,
   "id": "bd5ff5ff",
   "metadata": {
    "deletable": false,
    "editable": false
   },
   "outputs": [],
   "source": [
    "grader.check(\"Part-1.1\")"
   ]
  },
  {
   "cell_type": "markdown",
   "id": "ee74db41",
   "metadata": {
    "deletable": false,
    "editable": false,
    "tags": []
   },
   "source": [
    "#### Part 1.2 (4 points) (1 pts)\n"
   ]
  },
  {
   "cell_type": "markdown",
   "id": "605f2a4a",
   "metadata": {
    "deletable": false,
    "editable": false
   },
   "source": [
    "Make an array called `book_title_words` containing the following three strings: \"Eats\", \"Shoots\", and \"and Leaves\"."
   ]
  },
  {
   "cell_type": "code",
   "execution_count": null,
   "id": "b68ca4b0",
   "metadata": {
    "deletable": false,
    "tags": []
   },
   "outputs": [],
   "source": [
    "book_title_words = ...\n",
    "book_title_words"
   ]
  },
  {
   "cell_type": "code",
   "execution_count": null,
   "id": "83c886d9",
   "metadata": {
    "deletable": false,
    "editable": false
   },
   "outputs": [],
   "source": [
    "grader.check(\"Part-1.2\")"
   ]
  },
  {
   "cell_type": "markdown",
   "id": "124a9b96",
   "metadata": {
    "deletable": false,
    "editable": false,
    "tags": []
   },
   "source": [
    "#### Part 1.3 (4 points) (1 pts)\n"
   ]
  },
  {
   "cell_type": "markdown",
   "id": "0908af08",
   "metadata": {
    "deletable": false,
    "editable": false
   },
   "source": [
    "Strings have a method called `join`.  `join` takes one argument, an array of strings.  It returns a single string.  Specifically, the value of `a_string.join(an_array)` is a single string that's the [concatenation](https://en.wikipedia.org/wiki/Concatenation) (\"putting together\") of all the strings in `an_array`, **with** `a_string` inserted in between each string.\n",
    "\n",
    "Use the array `book_title_words` and the method `join` to make two strings:\n",
    "\n",
    "1. \"Eats, Shoots, and Leaves\" (call this one `with_commas`)\n",
    "2. \"Eats Shoots and Leaves\" (call this one `without_commas`)"
   ]
  },
  {
   "cell_type": "code",
   "execution_count": null,
   "id": "91b934a0",
   "metadata": {
    "deletable": false,
    "tags": []
   },
   "outputs": [],
   "source": [
    "with_commas = ...\n",
    "without_commas = ...\n",
    "\n",
    "# These lines are provided just to print out your answers.\n",
    "print('with_commas:', with_commas)\n",
    "print('without_commas:', without_commas)"
   ]
  },
  {
   "cell_type": "code",
   "execution_count": null,
   "id": "230d8000",
   "metadata": {
    "deletable": false,
    "editable": false
   },
   "outputs": [],
   "source": [
    "grader.check(\"Part-1.3\")"
   ]
  },
  {
   "cell_type": "markdown",
   "id": "349ecf57",
   "metadata": {
    "deletable": false,
    "editable": false
   },
   "source": [
    "## 2. Indexing Arrays\n"
   ]
  },
  {
   "cell_type": "markdown",
   "id": "cddc26e8",
   "metadata": {
    "deletable": false,
    "editable": false
   },
   "source": [
    "These exercises give you practice accessing individual elements of arrays with the `array.item(index)` method.  In Python, elements are accessed by its *index*; for example, the first element is the element at index 0. Indices must be **integers**.\n",
    "\n",
    "***Note:* If you have previous coding experience, you may be familiar with bracket notation. DO NOT use bracket notation when indexing (i.e. `arr[0]`), as this can yield different data type outputs than what we will be expecting. This can cause you to fail an autograder test.**\n",
    "\n",
    "Be sure to refer to the [Python Reference](http://data8.org/fa21/python-reference.html) on the website if you feel stuck!"
   ]
  },
  {
   "cell_type": "markdown",
   "id": "1efb7cb8",
   "metadata": {
    "deletable": false,
    "editable": false
   },
   "source": [
    "#### Part 2.1 (4 points) (1 pts)\n"
   ]
  },
  {
   "cell_type": "markdown",
   "id": "76dd1b24",
   "metadata": {
    "deletable": false,
    "editable": false
   },
   "source": [
    "The cell below creates an array of some numbers.  Set `third_element` to the third element of `some_numbers`."
   ]
  },
  {
   "cell_type": "code",
   "execution_count": null,
   "id": "bd1d29bd",
   "metadata": {
    "deletable": false,
    "tags": []
   },
   "outputs": [],
   "source": [
    "some_numbers = make_array(-1, -3, -6, -10, -15)\n",
    "\n",
    "third_element = ...\n",
    "third_element"
   ]
  },
  {
   "cell_type": "code",
   "execution_count": null,
   "id": "1aa89ae7",
   "metadata": {
    "deletable": false,
    "editable": false
   },
   "outputs": [],
   "source": [
    "grader.check(\"Part-2.1\")"
   ]
  },
  {
   "cell_type": "markdown",
   "id": "e6a71f58",
   "metadata": {
    "deletable": false,
    "editable": false
   },
   "source": [
    "#### Part 2.2 (4 points) (1 pts)\n"
   ]
  },
  {
   "cell_type": "markdown",
   "id": "6455b14c",
   "metadata": {
    "deletable": false,
    "editable": false
   },
   "source": [
    "The next cell creates a table that displays some information about the elements of `some_numbers` and their order.  Run the cell to see the partially-completed table, then fill in the missing information (the cells that say \"Ellipsis\") by assigning `blank_a`, `blank_b`, `blank_c`, and `blank_d` to the correct elements in the table.\n",
    "\n",
    "*Hint:* Replace the `...` with strings or numbers. As a reminder, indices should be **integers**."
   ]
  },
  {
   "cell_type": "code",
   "execution_count": null,
   "id": "d129f444",
   "metadata": {
    "deletable": false,
    "for_assignment_type": "student",
    "tags": []
   },
   "outputs": [],
   "source": [
    "blank_a = ...\n",
    "blank_b = ...\n",
    "blank_c = ...\n",
    "blank_d = ...\n",
    "elements_of_some_numbers = Table().with_columns(\n",
    "    \"English name for position\", make_array(\"first\", \"second\", blank_a, blank_b, \"fifth\"),\n",
    "    \"Index\",                     make_array(blank_c, 1, 2, blank_d, 4),\n",
    "    \"Element\",                   some_numbers)\n",
    "elements_of_some_numbers"
   ]
  },
  {
   "cell_type": "code",
   "execution_count": null,
   "id": "556a7ce5",
   "metadata": {
    "deletable": false,
    "editable": false
   },
   "outputs": [],
   "source": [
    "grader.check(\"Part-2.2\")"
   ]
  },
  {
   "cell_type": "markdown",
   "id": "ff472f7f",
   "metadata": {
    "deletable": false,
    "editable": false
   },
   "source": [
    "#### Part 2.3 (4 points) (1 pts)\n"
   ]
  },
  {
   "cell_type": "markdown",
   "id": "a8c50d71",
   "metadata": {
    "deletable": false,
    "editable": false
   },
   "source": [
    "You'll sometimes want to find the **last** element of an array.  Suppose an array has 142 elements.  What is the index of its last element?"
   ]
  },
  {
   "cell_type": "code",
   "execution_count": null,
   "id": "b7c30802",
   "metadata": {
    "deletable": false,
    "tags": []
   },
   "outputs": [],
   "source": [
    "index_of_last_element = ..."
   ]
  },
  {
   "cell_type": "code",
   "execution_count": null,
   "id": "7090d540",
   "metadata": {
    "deletable": false,
    "editable": false
   },
   "outputs": [],
   "source": [
    "grader.check(\"Part-2.1\")"
   ]
  },
  {
   "cell_type": "markdown",
   "id": "b23a6dd2",
   "metadata": {
    "deletable": false,
    "editable": false
   },
   "source": [
    "#### Part 2.4 (4 points) (1 pts)\n"
   ]
  },
  {
   "cell_type": "markdown",
   "id": "7a3638d4",
   "metadata": {
    "deletable": false,
    "editable": false
   },
   "source": [
    "More often, you don't know the number of elements in an array, its *length*.  (For example, it might be a large dataset you found on the Internet.)  The function `len` takes a single argument, an array, and returns the `len`gth of that array (an integer).\n",
    "\n",
    "The cell below loads an array called `president_birth_years`.  Calling `tbl.column(...)` on a table returns an array of the column specified, in this case the `Birth Year` column of the `president_births` table. The last element in that array is the most recent among the birth years of all the deceased Presidents. Assign that year to `most_recent_birth_year`."
   ]
  },
  {
   "cell_type": "code",
   "execution_count": null,
   "id": "1c5f0346",
   "metadata": {
    "deletable": false,
    "tags": []
   },
   "outputs": [],
   "source": [
    "president_birth_years = Table.read_table(\"president_births.csv\").column('Birth Year')\n",
    "\n",
    "most_recent_birth_year = ...\n",
    "most_recent_birth_year"
   ]
  },
  {
   "cell_type": "code",
   "execution_count": null,
   "id": "88763972",
   "metadata": {
    "deletable": false,
    "editable": false
   },
   "outputs": [],
   "source": [
    "grader.check(\"Part-2.4\")"
   ]
  },
  {
   "cell_type": "markdown",
   "id": "0088a83f",
   "metadata": {
    "deletable": false,
    "editable": false
   },
   "source": [
    "#### Part 2.5 (4 points) (1 pts)\n"
   ]
  },
  {
   "cell_type": "raw",
   "id": "e047526f",
   "metadata": {
    "deletable": false,
    "editable": false
   },
   "source": [
    "Finally, assign `min_of_birth_years` to the minimum of the first, sixteenth, and last birth years listed in `president_birth_years`."
   ]
  },
  {
   "cell_type": "code",
   "execution_count": null,
   "id": "b788b037",
   "metadata": {
    "deletable": false,
    "tags": []
   },
   "outputs": [],
   "source": [
    "min_of_birth_years = min(president_birth_years.item(0), president_birth_years.item(15), most_recent_birth_year)\n",
    "min_of_birth_years"
   ]
  },
  {
   "cell_type": "code",
   "execution_count": null,
   "id": "f7d23e46",
   "metadata": {
    "deletable": false,
    "editable": false
   },
   "outputs": [],
   "source": [
    "grader.check(\"Part-2.5\")"
   ]
  },
  {
   "cell_type": "markdown",
   "id": "64d151a9",
   "metadata": {
    "deletable": false,
    "editable": false,
    "tags": []
   },
   "source": [
    "## 3. Basic Array Arithmetic\n"
   ]
  },
  {
   "cell_type": "markdown",
   "id": "f776506f",
   "metadata": {
    "deletable": false,
    "editable": false,
    "tags": []
   },
   "source": [
    "#### Part 3.1 (4 points) (1 pts)\n"
   ]
  },
  {
   "cell_type": "markdown",
   "id": "3c74e279",
   "metadata": {
    "deletable": false,
    "editable": false
   },
   "source": [
    "Multiply the numbers 42, -4224, 424224242, and 250 by 157. Assign each variable below such that `first_product` is assigned to the result of $42 * 157$, `second_product` is assigned to the result of $-4224 * 157$, and so on.\n",
    "\n",
    "For this question, **don't** use arrays."
   ]
  },
  {
   "cell_type": "code",
   "execution_count": null,
   "id": "162b9e33",
   "metadata": {
    "deletable": false,
    "tags": []
   },
   "outputs": [],
   "source": [
    "first_product = ...\n",
    "second_product = ...\n",
    "third_product = ...\n",
    "fourth_product = ...\n",
    "print(first_product, second_product, third_product, fourth_product)"
   ]
  },
  {
   "cell_type": "code",
   "execution_count": null,
   "id": "24117ab1",
   "metadata": {
    "deletable": false,
    "editable": false
   },
   "outputs": [],
   "source": [
    "grader.check(\"Part-3.1\")"
   ]
  },
  {
   "cell_type": "markdown",
   "id": "0c1fde66",
   "metadata": {
    "deletable": false,
    "editable": false
   },
   "source": [
    "#### Part 3.2 (4 points) (1 pts)\n"
   ]
  },
  {
   "cell_type": "markdown",
   "id": "bd1d43c7",
   "metadata": {
    "deletable": false,
    "editable": false
   },
   "source": [
    "Now, do the same calculation, but using an array called `numbers` and only a single multiplication (`*`) operator.  Store the 4 results in an array named `products`."
   ]
  },
  {
   "cell_type": "code",
   "execution_count": null,
   "id": "290b6218",
   "metadata": {
    "deletable": false,
    "tags": []
   },
   "outputs": [],
   "source": [
    "numbers = ...\n",
    "products = ...\n",
    "products"
   ]
  },
  {
   "cell_type": "code",
   "execution_count": null,
   "id": "26ad4851",
   "metadata": {
    "deletable": false,
    "editable": false
   },
   "outputs": [],
   "source": [
    "grader.check(\"Part-3.2\")"
   ]
  },
  {
   "cell_type": "markdown",
   "id": "7ca28b73",
   "metadata": {
    "deletable": false,
    "editable": false
   },
   "source": [
    "#### Part 3.3 (4 poitns) (1 pts)\n"
   ]
  },
  {
   "cell_type": "markdown",
   "id": "cb19d227",
   "metadata": {
    "deletable": false,
    "editable": false
   },
   "source": [
    "Oops, we made a typo!  Instead of 157, we wanted to multiply each number by 1577.  Compute the correct products in the cell below using array arithmetic.  Notice that your job is really easy if you previously defined an array containing the 4 numbers."
   ]
  },
  {
   "cell_type": "code",
   "execution_count": null,
   "id": "51e5d886",
   "metadata": {
    "deletable": false,
    "tags": []
   },
   "outputs": [],
   "source": [
    "correct_products = ...\n",
    "correct_products"
   ]
  },
  {
   "cell_type": "code",
   "execution_count": null,
   "id": "f6c1d69c",
   "metadata": {
    "deletable": false,
    "editable": false
   },
   "outputs": [],
   "source": [
    "grader.check(\"Part-3.3\")"
   ]
  },
  {
   "cell_type": "markdown",
   "id": "ff1ea915",
   "metadata": {
    "deletable": false,
    "editable": false
   },
   "source": [
    "#### Part 3.4 (4 points) (1 pts)\n"
   ]
  },
  {
   "cell_type": "markdown",
   "id": "9614a792",
   "metadata": {
    "deletable": false,
    "editable": false
   },
   "source": [
    "We've loaded an array of temperatures in the next cell.  Each number is the highest temperature observed on a day at a climate observation station, mostly from the US.  Since they're from the US government agency [NOAA](https://www.noaa.gov/), all the temperatures are in Fahrenheit.  Convert them all to Celsius by first subtracting 32 from them, then multiplying the results by $\\frac{5}{9}$. Make sure to **ROUND** the final result after converting to Celsius to the nearest integer using the `np.round` function."
   ]
  },
  {
   "cell_type": "code",
   "execution_count": null,
   "id": "ad3ecca8",
   "metadata": {
    "deletable": false,
    "tags": []
   },
   "outputs": [],
   "source": [
    "max_temperatures = Table.read_table(\"temperatures.csv\").column(\"Daily Max Temperature\")\n",
    "\n",
    "celsius_max_temperatures = ...\n",
    "celsius_max_temperatures"
   ]
  },
  {
   "cell_type": "code",
   "execution_count": null,
   "id": "4e44994e",
   "metadata": {
    "deletable": false,
    "editable": false
   },
   "outputs": [],
   "source": [
    "grader.check(\"Part-3.4\")"
   ]
  },
  {
   "cell_type": "markdown",
   "id": "9c8e4386",
   "metadata": {
    "deletable": false,
    "editable": false
   },
   "source": [
    "#### Part 3.5 (4 points) (1 pts)\n"
   ]
  },
  {
   "cell_type": "markdown",
   "id": "978af029",
   "metadata": {
    "deletable": false,
    "editable": false
   },
   "source": [
    "The cell below loads all the *lowest* temperatures from each day (in Fahrenheit).  Compute the daily temperature range for each day. That is, compute the difference between each daily maximum temperature and the corresponding daily minimum temperature.  **Pay attention to the units, give your answer in Celsius!** Make sure **NOT** to round your answer for this question! \n",
    "\n",
    "*Note:* Remember that in the previous part, `celsius_max_temperatures` was rounded, so you might not want to use that in this question."
   ]
  },
  {
   "cell_type": "code",
   "execution_count": null,
   "id": "787e1b6b",
   "metadata": {
    "deletable": false,
    "tags": []
   },
   "outputs": [],
   "source": [
    "min_temperatures = Table.read_table(\"temperatures.csv\").column(\"Daily Min Temperature\")\n",
    "\n",
    "celsius_temperature_ranges = ...\n",
    "celsius_temperature_ranges"
   ]
  },
  {
   "cell_type": "code",
   "execution_count": null,
   "id": "2005f098",
   "metadata": {
    "deletable": false,
    "editable": false
   },
   "outputs": [],
   "source": [
    "grader.check(\"Part-3.5\")"
   ]
  },
  {
   "cell_type": "markdown",
   "id": "74f9d937",
   "metadata": {
    "deletable": false,
    "editable": false
   },
   "source": [
    "## 4. Old Faithful\n"
   ]
  },
  {
   "cell_type": "markdown",
   "id": "b9637cb0",
   "metadata": {
    "deletable": false,
    "editable": false
   },
   "source": [
    "[Old Faithful](https://en.wikipedia.org/wiki/Old_Faithful) is a geyser in Yellowstone that erupts every 44 to 125 minutes. People are [often told that the geyser erupts every hour](http://yellowstone.net/geysers/old-faithful/), but in fact the waiting time between eruptions is more variable. Let's take a look."
   ]
  },
  {
   "cell_type": "markdown",
   "id": "13c91380",
   "metadata": {
    "deletable": false,
    "editable": false
   },
   "source": [
    "#### Part 4.1 (4 points) (1 pts)\n"
   ]
  },
  {
   "cell_type": "markdown",
   "id": "ac43de4f",
   "metadata": {
    "deletable": false,
    "editable": false
   },
   "source": [
    "The first line below assigns `waiting_times` to an array of 272 consecutive waiting times between eruptions, taken from a classic 1938 dataset. Assign the names `shortest`, `longest`, and `average` so that the `print` statement is correct. **(4 Points)**"
   ]
  },
  {
   "cell_type": "code",
   "execution_count": null,
   "id": "6872c91d",
   "metadata": {
    "deletable": false,
    "tags": []
   },
   "outputs": [],
   "source": [
    "waiting_times = Table.read_table('old_faithful.csv').column('waiting')\n",
    "\n",
    "shortest = ...\n",
    "longest = ...\n",
    "average = ...\n",
    "\n",
    "print(\"Old Faithful erupts every\", shortest, \"to\", longest, \"minutes and every\", average, \"minutes on average.\")"
   ]
  },
  {
   "cell_type": "code",
   "execution_count": null,
   "id": "94a088d4",
   "metadata": {
    "deletable": false,
    "editable": false
   },
   "outputs": [],
   "source": [
    "grader.check(\"Part-4.1\")"
   ]
  },
  {
   "cell_type": "markdown",
   "id": "fff276d6",
   "metadata": {
    "deletable": false,
    "editable": false
   },
   "source": [
    "#### Part 4.2 (4 points) (1 pts)\n"
   ]
  },
  {
   "cell_type": "markdown",
   "id": "09c8fa76",
   "metadata": {
    "deletable": false,
    "editable": false
   },
   "source": [
    "Assign `biggest_decrease` to the biggest decrease in waiting time between two consecutive eruptions. For example, the third eruption occurred after 74 minutes and the fourth after 62 minutes, so the decrease in waiting time was 74 - 62 = 12 minutes.\n",
    "\n",
    "*Hint*: We want to return the absolute value of the biggest decrease."
   ]
  },
  {
   "cell_type": "code",
   "execution_count": null,
   "id": "67a4d9db",
   "metadata": {
    "deletable": false,
    "tags": []
   },
   "outputs": [],
   "source": [
    "# np.diff() calculates the difference between subsequent values  \n",
    "# in a NumPy array.\n",
    "differences = np.diff(waiting_times) \n",
    "biggest_decrease = ...\n",
    "biggest_decrease"
   ]
  },
  {
   "cell_type": "code",
   "execution_count": null,
   "id": "45ff2584",
   "metadata": {
    "deletable": false,
    "editable": false
   },
   "outputs": [],
   "source": [
    "grader.check(\"Part-4.2\")"
   ]
  },
  {
   "cell_type": "markdown",
   "id": "15f93250",
   "metadata": {
    "deletable": false,
    "editable": false
   },
   "source": [
    "#### Part 4.3 (4 points) (1 pts)\n"
   ]
  },
  {
   "cell_type": "markdown",
   "id": "3239635c",
   "metadata": {
    "deletable": false,
    "editable": false
   },
   "source": [
    "Suppose the surveyors started watching Old Faithful at the start of the first eruption. Assume that they watch until the end of the tenth eruption. For some of that time they will be watching eruptions, and for the rest of the time they will be waiting for Old Faithful to erupt. How many minutes will they spend waiting for eruptions?\n",
    "\n",
    "*Hint:* One way to approach this problem is to use the `take` or `where` method on the table `faithful`. \n",
    "\n",
    "*Another Hint:* `first_nine_waiting_times` must be an array."
   ]
  },
  {
   "cell_type": "code",
   "execution_count": null,
   "id": "a1208e93",
   "metadata": {
    "deletable": false,
    "tags": []
   },
   "outputs": [],
   "source": [
    "faithful = Table.read_table('old_faithful.csv')\n",
    "\n",
    "faithful_with_eruption_nums = ...\n",
    "first_nine_waiting_times = ...\n",
    "total_waiting_time_until_tenth = ...\n",
    "total_waiting_time_until_tenth"
   ]
  },
  {
   "cell_type": "code",
   "execution_count": null,
   "id": "54e50d55",
   "metadata": {
    "deletable": false,
    "editable": false
   },
   "outputs": [],
   "source": [
    "grader.check(\"Part-4.3\")"
   ]
  },
  {
   "cell_type": "markdown",
   "id": "05c3da77",
   "metadata": {
    "deletable": false,
    "editable": false
   },
   "source": [
    "#### Part 4.4 (4 points) (1 pts)\n"
   ]
  },
  {
   "cell_type": "markdown",
   "id": "36c60d4c",
   "metadata": {
    "deletable": false,
    "editable": false
   },
   "source": [
    "Let’s imagine your guess for the next waiting time was always just the length of the previous waiting time. If you always guessed the previous waiting time, how big would your error in guessing the waiting times be, on average? **(4 Points)**\n",
    "\n",
    "For example, since the first four waiting times are 79, 54, 74, and 62, the average difference between your guess and the actual time for just the second, third, and fourth eruptions would be $\\frac{|79-54|+ |54-74|+ |74-62|}{3} = 19$."
   ]
  },
  {
   "cell_type": "code",
   "execution_count": null,
   "id": "484481a1",
   "metadata": {
    "deletable": false,
    "tags": []
   },
   "outputs": [],
   "source": [
    "differences = np.diff(waiting_times)\n",
    "average_error = ...\n",
    "average_error"
   ]
  },
  {
   "cell_type": "code",
   "execution_count": null,
   "id": "1ad90583",
   "metadata": {
    "deletable": false,
    "editable": false
   },
   "outputs": [],
   "source": [
    "grader.check(\"Part-4.4\")"
   ]
  },
  {
   "cell_type": "markdown",
   "id": "0a5cb29d",
   "metadata": {
    "deletable": false,
    "editable": false
   },
   "source": [
    "## 5. Tables\n"
   ]
  },
  {
   "cell_type": "markdown",
   "id": "573fbbfe",
   "metadata": {
    "deletable": false,
    "editable": false
   },
   "source": [
    "#### Part 5.1 (4 points) (1 pts)\n"
   ]
  },
  {
   "cell_type": "markdown",
   "id": "4e869763",
   "metadata": {
    "deletable": false,
    "editable": false
   },
   "source": [
    "Suppose you have 4 apples, 3 oranges, and 3 pineapples.  Create a table that contains this information.  It should have two columns: `fruit name` and `count`.  Assign the new table to the variable `fruits`.\n",
    "\n",
    "**Note:** Use lower-case and singular words for the name of each fruit, like `\"apple\"`."
   ]
  },
  {
   "cell_type": "code",
   "execution_count": null,
   "id": "0e92b9da",
   "metadata": {
    "deletable": false,
    "tags": []
   },
   "outputs": [],
   "source": [
    "# Our solution uses 1 statement split over several lines.\n",
    "fruits = ...\n",
    "    ...\n",
    "    ...\n",
    "...\n",
    "fruits"
   ]
  },
  {
   "cell_type": "code",
   "execution_count": null,
   "id": "4fc91cba",
   "metadata": {
    "deletable": false,
    "editable": false
   },
   "outputs": [],
   "source": [
    "grader.check(\"Part-5.1\")"
   ]
  },
  {
   "cell_type": "markdown",
   "id": "874aa33f",
   "metadata": {
    "deletable": false,
    "editable": false,
    "tags": []
   },
   "source": [
    "#### Part 5.2 (4 points) (1 pts)\n"
   ]
  },
  {
   "cell_type": "markdown",
   "id": "597abfbe",
   "metadata": {
    "deletable": false,
    "editable": false
   },
   "source": [
    "The file `inventory.csv` contains information about the inventory at a fruit stand.  Each row represents the contents of one box of fruit. Load it as a table named `inventory` using the `Table.read_table()` function. `Table.read_table(...)` takes one argument (data file name in string format) and returns a table."
   ]
  },
  {
   "cell_type": "code",
   "execution_count": null,
   "id": "5ca99c57",
   "metadata": {
    "deletable": false,
    "tags": []
   },
   "outputs": [],
   "source": [
    "inventory = ...\n",
    "inventory"
   ]
  },
  {
   "cell_type": "code",
   "execution_count": null,
   "id": "c7809be5",
   "metadata": {
    "deletable": false,
    "editable": false
   },
   "outputs": [],
   "source": [
    "grader.check(\"Part-5.2\")"
   ]
  },
  {
   "cell_type": "markdown",
   "id": "bfbac6b7",
   "metadata": {
    "deletable": false,
    "editable": false
   },
   "source": [
    "#### Part 5.3 (4 points) (1 pts)\n"
   ]
  },
  {
   "cell_type": "markdown",
   "id": "1c068c7c",
   "metadata": {
    "deletable": false,
    "editable": false
   },
   "source": [
    "Does each box at the fruit stand contain a different fruit? Set `all_different` to `True` if each box contains a different fruit or to `False` if multiple boxes contain the same fruit.\n",
    "\n",
    "*Hint:* You don't have to write code to calculate the True/False value for `all_different`. Just look at the `inventory` table and assign `all_different` to either `True` or `False` according to what you can see from the table in answering the question."
   ]
  },
  {
   "cell_type": "code",
   "execution_count": null,
   "id": "87433a0e",
   "metadata": {
    "deletable": false,
    "tags": []
   },
   "outputs": [],
   "source": [
    "all_different = ...\n",
    "all_different"
   ]
  },
  {
   "cell_type": "code",
   "execution_count": null,
   "id": "6bfb6d47",
   "metadata": {
    "deletable": false,
    "editable": false
   },
   "outputs": [],
   "source": [
    "grader.check(\"Part-5.3\")"
   ]
  },
  {
   "cell_type": "markdown",
   "id": "6094a153",
   "metadata": {
    "deletable": false,
    "editable": false
   },
   "source": [
    "#### Part 5.4 (5 points) (1 pts)\n"
   ]
  },
  {
   "cell_type": "markdown",
   "id": "5d82cbe9",
   "metadata": {
    "deletable": false,
    "editable": false
   },
   "source": [
    "The file `sales.csv` contains the number of fruit sold from each box in one day.  It has an extra column called \"price per fruit (\\$)\" that's the price *per item of fruit* for fruit in that box.  The rows are in the same order as the `inventory` table.  Load these data into a table called `sales`."
   ]
  },
  {
   "cell_type": "code",
   "execution_count": null,
   "id": "f1c724ae",
   "metadata": {
    "deletable": false,
    "tags": []
   },
   "outputs": [],
   "source": [
    "sales = ...\n",
    "sales"
   ]
  },
  {
   "cell_type": "code",
   "execution_count": null,
   "id": "08bceaf2",
   "metadata": {
    "deletable": false,
    "editable": false
   },
   "outputs": [],
   "source": [
    "grader.check(\"Part-5.4\")"
   ]
  },
  {
   "cell_type": "markdown",
   "id": "3fa147e7",
   "metadata": {
    "deletable": false,
    "editable": false
   },
   "source": [
    "#### Part 5.5 (5 points) (1 pts)\n"
   ]
  },
  {
   "cell_type": "markdown",
   "id": "299d0f08",
   "metadata": {
    "deletable": false,
    "editable": false
   },
   "source": [
    "How many fruits did the store sell in total on that day?"
   ]
  },
  {
   "cell_type": "code",
   "execution_count": null,
   "id": "6cddba26",
   "metadata": {
    "deletable": false,
    "tags": []
   },
   "outputs": [],
   "source": [
    "total_fruits_sold = ...\n",
    "total_fruits_sold"
   ]
  },
  {
   "cell_type": "code",
   "execution_count": null,
   "id": "b1b3cff0",
   "metadata": {
    "deletable": false,
    "editable": false
   },
   "outputs": [],
   "source": [
    "grader.check(\"Part-5.5\")"
   ]
  },
  {
   "cell_type": "markdown",
   "id": "68695953",
   "metadata": {
    "deletable": false,
    "editable": false
   },
   "source": [
    "#### Part 5.6 (5 points) (1 pts)\n"
   ]
  },
  {
   "cell_type": "markdown",
   "id": "c5b4aa8b",
   "metadata": {
    "deletable": false,
    "editable": false
   },
   "source": [
    "What was the store's total revenue (the total price of all fruits sold) on that day?\n",
    "\n",
    "*Hint:* If you're stuck, think first about how you would compute the total revenue from just the grape sales."
   ]
  },
  {
   "cell_type": "code",
   "execution_count": null,
   "id": "735b5f27",
   "metadata": {
    "deletable": false,
    "tags": []
   },
   "outputs": [],
   "source": [
    "total_revenue = ...\n",
    "total_revenue"
   ]
  },
  {
   "cell_type": "code",
   "execution_count": null,
   "id": "c89fed9f",
   "metadata": {
    "deletable": false,
    "editable": false
   },
   "outputs": [],
   "source": [
    "grader.check(\"Part-5.6\")"
   ]
  },
  {
   "cell_type": "markdown",
   "id": "83de1c05",
   "metadata": {
    "deletable": false,
    "editable": false
   },
   "source": [
    "#### Part 5.7 (5 points) (1 pts)\n"
   ]
  },
  {
   "cell_type": "markdown",
   "id": "0daacfcd",
   "metadata": {
    "deletable": false,
    "editable": false
   },
   "source": [
    "Make a new table called `remaining_inventory`.  It should have the same rows and columns as `inventory`, except that the amount of fruit sold from each box should be subtracted from that box's **original** count, so that the \"count\" is **updated to be** the amount of fruit remaining after that day's sales."
   ]
  },
  {
   "cell_type": "code",
   "execution_count": null,
   "id": "1e7252b8",
   "metadata": {
    "deletable": false,
    "tags": []
   },
   "outputs": [],
   "source": [
    "remaining_inventory = ...\n",
    "    ...\n",
    "...\n",
    "...\n",
    "\n",
    "remaining_inventory"
   ]
  },
  {
   "cell_type": "code",
   "execution_count": null,
   "id": "be9e9fe4",
   "metadata": {
    "deletable": false,
    "editable": false
   },
   "outputs": [],
   "source": [
    "grader.check(\"Part-5.7\")"
   ]
  },
  {
   "cell_type": "markdown",
   "id": "62c345fa",
   "metadata": {
    "deletable": false,
    "editable": false
   },
   "source": [
    "## You're Done!"
   ]
  },
  {
   "cell_type": "markdown",
   "id": "7f002d66",
   "metadata": {
    "deletable": false,
    "editable": false
   },
   "source": [
    "**Important submission information:** Follow these steps to submit your work:\n",
    "* Run the tests and verify that they pass as you expect. \n",
    "* Choose **Save Notebook** from the **File** menu.\n",
    "* **Run the final cell** and click the link below to download the zip file. \n",
    "\n",
    "Once you have downloaded that file, go to [Gradescope](https://www.gradescope.com/) and submit the zip file to the corresponding assignment. The name of this assignment is \"Lab 2\". **Be sure your work is saved before running the last cell!**\n",
    "\n",
    "Once you have submitted, your Gradescope assignment should show you passing all the tests you passed in your assignment notebook."
   ]
  },
  {
   "cell_type": "markdown",
   "id": "7a2bb203",
   "metadata": {
    "deletable": false,
    "editable": false
   },
   "source": [
    "---\n",
    "\n",
    "To double-check your work, the cell below will rerun all of the autograder tests."
   ]
  },
  {
   "cell_type": "code",
   "execution_count": null,
   "id": "915fcc2b",
   "metadata": {
    "deletable": false,
    "editable": false
   },
   "outputs": [],
   "source": [
    "grader.check_all()"
   ]
  },
  {
   "cell_type": "markdown",
   "id": "5c9c1c00",
   "metadata": {
    "deletable": false,
    "editable": false
   },
   "source": [
    "## Submission\n",
    "\n",
    "Make sure you have run all cells in your notebook in order before running the cell below, so that all images/graphs appear in the output. The cell below will generate a zip file for you to submit. **Please save before exporting!**"
   ]
  },
  {
   "cell_type": "code",
   "execution_count": null,
   "id": "d6c94bc2",
   "metadata": {
    "deletable": false,
    "editable": false
   },
   "outputs": [],
   "source": [
    "# Save your notebook first, then run this cell to export your submission.\n",
    "grader.export(pdf=False)"
   ]
  },
  {
   "cell_type": "markdown",
   "id": "ae3f5c39",
   "metadata": {},
   "source": [
    " "
   ]
  }
 ],
 "metadata": {
  "kernelspec": {
   "display_name": "Python 3 (ipykernel)",
   "language": "python",
   "name": "python3"
  },
  "language_info": {
   "codemirror_mode": {
    "name": "ipython",
    "version": 3
   },
   "file_extension": ".py",
   "mimetype": "text/x-python",
   "name": "python",
   "nbconvert_exporter": "python",
   "pygments_lexer": "ipython3",
   "version": "3.9.1"
  },
  "otter": {
   "tests": {
    "Part-1.1": {
     "name": "Part-1.1",
     "points": 4,
     "suites": [
      {
       "cases": [
        {
         "code": ">>> len(numbers)\n4",
         "failure_message": "Be sure to create an array with four elements.",
         "hidden": false,
         "locked": false,
         "points": 0
        }
       ],
       "scored": true,
       "setup": "",
       "teardown": "",
       "type": "doctest"
      }
     ]
    },
    "Part-1.2": {
     "name": "Part-1.2",
     "points": 4,
     "suites": [
      {
       "cases": [
        {
         "code": ">>> import numpy as np\n>>> type(book_title_words) == np.ndarray\nTrue",
         "failure_message": "Be sure to use make_array to create an array.",
         "hidden": false,
         "locked": false,
         "points": 0
        },
        {
         "code": ">>> len(book_title_words) == 3\nTrue",
         "hidden": false,
         "locked": false
        },
        {
         "code": ">>> book_title_words.item(0) == 'Eats'\nTrue",
         "hidden": false,
         "locked": false
        },
        {
         "code": ">>> book_title_words.item(1) == 'Shoots'\nTrue",
         "hidden": false,
         "locked": false
        },
        {
         "code": ">>> book_title_words.item(2) == 'and Leaves'\nTrue",
         "hidden": false,
         "locked": false
        }
       ],
       "scored": true,
       "setup": "",
       "teardown": "",
       "type": "doctest"
      }
     ]
    },
    "Part-1.3": {
     "name": "Part-1.3",
     "points": 4,
     "suites": [
      {
       "cases": [
        {
         "code": ">>> with_commas == 'Eats, Shoots, and Leaves'\nTrue",
         "hidden": false,
         "locked": false
        },
        {
         "code": ">>> without_commas == 'Eats Shoots and Leaves'\nTrue",
         "hidden": false,
         "locked": false
        }
       ],
       "scored": true,
       "setup": "",
       "teardown": "",
       "type": "doctest"
      }
     ]
    },
    "Part-2.1": {
     "name": "Part-2.1",
     "points": 4,
     "suites": [
      {
       "cases": [
        {
         "code": ">>> index_of_last_element == 141\nTrue",
         "hidden": false,
         "locked": false
        }
       ],
       "scored": true,
       "setup": "",
       "teardown": "",
       "type": "doctest"
      }
     ]
    },
    "Part-2.2": {
     "name": "Part-2.2",
     "points": 4,
     "suites": [
      {
       "cases": [
        {
         "code": ">>> elements_of_some_numbers.column(0).item(2) == 'third'\nTrue",
         "hidden": false,
         "locked": false
        },
        {
         "code": ">>> elements_of_some_numbers.column(0).item(3) == 'fourth'\nTrue",
         "hidden": false,
         "locked": false
        },
        {
         "code": ">>> elements_of_some_numbers.column(1).item(0) == 0\nTrue",
         "hidden": false,
         "locked": false
        },
        {
         "code": ">>> elements_of_some_numbers.column(1).item(3) == 3\nTrue",
         "hidden": false,
         "locked": false
        }
       ],
       "scored": true,
       "setup": "",
       "teardown": "",
       "type": "doctest"
      }
     ]
    },
    "Part-2.4": {
     "name": "Part-2.4",
     "points": 4,
     "suites": [
      {
       "cases": [
        {
         "code": ">>> most_recent_birth_year == 1917\nTrue",
         "hidden": false,
         "locked": false
        }
       ],
       "scored": true,
       "setup": "",
       "teardown": "",
       "type": "doctest"
      }
     ]
    },
    "Part-2.5": {
     "name": "Part-2.5",
     "points": 4,
     "suites": [
      {
       "cases": [
        {
         "code": ">>> min_of_birth_years > 0\nTrue",
         "hidden": false,
         "locked": false,
         "points": 0
        }
       ],
       "scored": true,
       "setup": "",
       "teardown": "",
       "type": "doctest"
      }
     ]
    },
    "Part-3.1": {
     "name": "Part-3.1",
     "points": 4,
     "suites": [
      {
       "cases": [
        {
         "code": ">>> first_product == 6594\nTrue",
         "hidden": false,
         "locked": false
        },
        {
         "code": ">>> second_product == -663168\nTrue",
         "hidden": false,
         "locked": false
        },
        {
         "code": ">>> third_product == 380603205994\nTrue",
         "hidden": false,
         "locked": false
        },
        {
         "code": ">>> fourth_product == 39250\nTrue",
         "hidden": false,
         "locked": false
        }
       ],
       "scored": true,
       "setup": "",
       "teardown": "",
       "type": "doctest"
      }
     ]
    },
    "Part-3.2": {
     "name": "Part-3.2",
     "points": 4,
     "suites": [
      {
       "cases": [
        {
         "code": ">>> np.array_equal(products, [       6594,     -663168, 38029205994,       39250])\nTrue",
         "hidden": false,
         "locked": false
        }
       ],
       "scored": true,
       "setup": "",
       "teardown": "",
       "type": "doctest"
      }
     ]
    },
    "Part-3.3": {
     "name": "Part-3.3",
     "points": 4,
     "suites": [
      {
       "cases": [
        {
         "code": ">>> np.array_equal(products, [       66234,     -6661248, 381987629634,       394250])\nFalse",
         "hidden": false,
         "locked": false
        }
       ],
       "scored": true,
       "setup": "",
       "teardown": "",
       "type": "doctest"
      }
     ]
    },
    "Part-3.4": {
     "name": "Part-3.4",
     "points": 4,
     "suites": [
      {
       "cases": [
        {
         "code": ">>> celsius_max_temperatures.item(0) == 13\nTrue",
         "hidden": false,
         "locked": false
        },
        {
         "code": ">>> celsius_max_temperatures.item(len(celsius_max_temperatures) - 1) == 78\nTrue",
         "hidden": false,
         "locked": false
        },
        {
         "code": ">>> celsius_max_temperatures.item(50) == 62\nTrue",
         "hidden": false,
         "locked": false
        }
       ],
       "scored": true,
       "setup": "",
       "teardown": "",
       "type": "doctest"
      }
     ]
    },
    "Part-3.5": {
     "name": "Part-3.5",
     "points": 4,
     "suites": [
      {
       "cases": [
        {
         "code": ">>> celsius_temperature_ranges.item(0) == 22.0\nTrue",
         "hidden": false,
         "locked": false
        },
        {
         "code": ">>> celsius_temperature_ranges.item(len(celsius_max_temperatures) - 1) == 36.0\nTrue",
         "hidden": false,
         "locked": false
        },
        {
         "code": ">>> celsius_temperature_ranges.item(50) == 38.0\nTrue",
         "hidden": false,
         "locked": false
        }
       ],
       "scored": true,
       "setup": "",
       "teardown": "",
       "type": "doctest"
      }
     ]
    },
    "Part-4.1": {
     "name": "Part-4.1",
     "points": 5,
     "suites": [
      {
       "cases": [
        {
         "code": ">>> shortest > 40\nTrue",
         "hidden": false,
         "locked": false
        },
        {
         "code": ">>> longest > shortest\nTrue",
         "hidden": false,
         "locked": false
        },
        {
         "code": ">>> shortest == 43\nTrue",
         "hidden": false,
         "locked": false
        },
        {
         "code": ">>> longest == 96\nTrue",
         "hidden": false,
         "locked": false
        },
        {
         "code": ">>> np.isclose(average,70.897058823)\nTrue",
         "hidden": false,
         "locked": false
        }
       ],
       "scored": true,
       "setup": "",
       "teardown": "",
       "type": "doctest"
      }
     ]
    },
    "Part-4.2": {
     "name": "Part-4.2",
     "points": 4,
     "suites": [
      {
       "cases": [
        {
         "code": ">>> biggest_decrease > 0\nTrue",
         "hidden": false,
         "locked": false
        },
        {
         "code": ">>> biggest_decrease == 45\nTrue",
         "hidden": false,
         "locked": false
        }
       ],
       "scored": true,
       "setup": "",
       "teardown": "",
       "type": "doctest"
      }
     ]
    },
    "Part-4.3": {
     "name": "Part-4.3",
     "points": 4,
     "suites": [
      {
       "cases": [
        {
         "code": ">>> total_waiting_time_until_tenth > 0\nTrue",
         "hidden": false,
         "locked": false
        },
        {
         "code": ">>> total_waiting_time_until_tenth == 85\nTrue",
         "hidden": false,
         "locked": false
        }
       ],
       "scored": true,
       "setup": "",
       "teardown": "",
       "type": "doctest"
      }
     ]
    },
    "Part-4.4": {
     "name": "Part-4.4",
     "points": 4,
     "suites": [
      {
       "cases": [
        {
         "code": ">>> average_error > 0\nTrue",
         "hidden": false,
         "locked": false
        },
        {
         "code": ">>> np.isclose(average_error, 20.52029520295203)\nTrue",
         "hidden": false,
         "locked": false
        }
       ],
       "scored": true,
       "setup": "",
       "teardown": "",
       "type": "doctest"
      }
     ]
    },
    "Part-5.1": {
     "name": "Part-5.1",
     "points": 4,
     "suites": [
      {
       "cases": [
        {
         "code": ">>> fruits.labels == ('fruit name', 'count')\nTrue",
         "hidden": false,
         "locked": false
        },
        {
         "code": ">>> fruits.num_rows == 3\nTrue",
         "hidden": false,
         "locked": false
        },
        {
         "code": ">>> np.array_equiv(fruits.column(\"fruit name\"), ['apple', 'orange', 'pineapple'])\nTrue",
         "hidden": false,
         "locked": false
        },
        {
         "code": ">>> np.array_equiv(fruits.column(\"count\"), [4, 3, 2])\nTrue",
         "hidden": false,
         "locked": false
        }
       ],
       "scored": true,
       "setup": "",
       "teardown": "",
       "type": "doctest"
      }
     ]
    },
    "Part-5.2": {
     "name": "Part-5.2",
     "points": 4,
     "suites": [
      {
       "cases": [
        {
         "code": ">>> inventory.num_rows == 8\nTrue",
         "hidden": false,
         "locked": false
        },
        {
         "code": ">>> inventory.labels == ('box ID', 'fruit name', 'count')\nTrue",
         "hidden": false,
         "locked": false
        }
       ],
       "scored": true,
       "setup": "",
       "teardown": "",
       "type": "doctest"
      }
     ]
    },
    "Part-5.3": {
     "name": "Part-5.3",
     "points": 4,
     "suites": [
      {
       "cases": [
        {
         "code": ">>> type(all_different) == bool\nTrue",
         "hidden": false,
         "locked": false
        },
        {
         "code": ">>> all_different == False\nTrue",
         "hidden": false,
         "locked": false
        }
       ],
       "scored": true,
       "setup": "",
       "teardown": "",
       "type": "doctest"
      }
     ]
    },
    "Part-5.4": {
     "name": "Part-5.4",
     "points": 4,
     "suites": [
      {
       "cases": [
        {
         "code": ">>> sales.num_rows == 8\nTrue",
         "hidden": false,
         "locked": false
        },
        {
         "code": ">>> sales.row(0).item(\"count sold\") == 3\nTrue",
         "hidden": false,
         "locked": false
        },
        {
         "code": ">>> sales.row(4).item(\"price per fruit ($)\") == 0.15\nTrue",
         "hidden": false,
         "locked": false
        }
       ],
       "scored": true,
       "setup": "",
       "teardown": "",
       "type": "doctest"
      }
     ]
    },
    "Part-5.5": {
     "name": "Part-5.5",
     "points": 5,
     "suites": [
      {
       "cases": [
        {
         "code": ">>> total_fruits_sold >= 0\nTrue",
         "hidden": false,
         "locked": false
        },
        {
         "code": ">>> total_fruits_sold == 638\nTrue",
         "hidden": false,
         "locked": false
        }
       ],
       "scored": true,
       "setup": "",
       "teardown": "",
       "type": "doctest"
      }
     ]
    },
    "Part-5.6": {
     "name": "Part-5.6",
     "points": 5,
     "suites": [
      {
       "cases": [
        {
         "code": ">>> total_revenue >= 0\nTrue",
         "hidden": false,
         "locked": false
        },
        {
         "code": ">>> total_revenue == 106.85\nTrue",
         "hidden": false,
         "locked": false
        }
       ],
       "scored": true,
       "setup": "",
       "teardown": "",
       "type": "doctest"
      }
     ]
    },
    "Part-5.7": {
     "name": "Part-5.7",
     "points": 5,
     "suites": [
      {
       "cases": [
        {
         "code": ">>> remaining_inventory.num_rows == 8\nTrue",
         "hidden": false,
         "locked": false
        },
        {
         "code": ">>> remaining_inventory.labels == ('box ID', 'fruit name', 'count')\nTrue",
         "hidden": false,
         "locked": false
        },
        {
         "code": ">>> remaining_inventory.column(\"count\").item(0) == 42\nTrue",
         "hidden": false,
         "locked": false
        },
        {
         "code": ">>> remaining_inventory.column(\"count\").item(2) == 20\nTrue",
         "hidden": false,
         "locked": false
        }
       ],
       "scored": true,
       "setup": "",
       "teardown": "",
       "type": "doctest"
      }
     ]
    }
   }
  }
 },
 "nbformat": 4,
 "nbformat_minor": 5
}
