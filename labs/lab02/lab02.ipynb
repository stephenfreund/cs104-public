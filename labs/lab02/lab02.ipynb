{
 "cells": [
  {
   "cell_type": "raw",
   "id": "f0459f74-40b9-48dc-97c2-d4b227628993",
   "metadata": {},
   "source": [
    "solutions_pdf: true\n",
    "template_pdf: true\n",
    "colab: false\n",
    "export_cell:\n",
    "    pdf: true\n",
    "generate: \n",
    "    show_hidden: true\n",
    "    pdf: true\n",
    "    filtering: true\n",
    "    zips: false\n",
    "    points: 5\n",
    "files:\n",
    "    - inventory.csv\n",
    "    - old_faithful.csv\n",
    "    - president_births.csv\n",
    "    - sales.csv\n",
    "    - temperatures.csv"
   ]
  },
  {
   "cell_type": "markdown",
   "id": "40cc21c6",
   "metadata": {},
   "source": [
    "# Lab 2: Arrays and Tables\n",
    "\n",
    "Please complete this notebook by filling in the cells provided. Before you begin, execute the previous cell to load the provided tests."
   ]
  },
  {
   "cell_type": "markdown",
   "id": "1ceb0658",
   "metadata": {},
   "source": [
    "**Helpful Resource:**\n",
    "- [Python Reference](https://www.cs.williams.edu/~cs104/auto/python-library-ref.html): \n",
    "\n",
    "**Recommended Readings:**\n",
    "- [Arrays](https://inferentialthinking.com/chapters/05/1/Arrays.html)\n",
    "- [What is Data Science?](http://www.inferentialthinking.com/chapters/01/what-is-data-science.html)\n",
    "- [Causality and Experiments](http://www.inferentialthinking.com/chapters/02/causality-and-experiments.html) \n",
    "- [Programming in Python](http://www.inferentialthinking.com/chapters/03/programming-in-python.html)\n",
    "\n",
    "For all problems that you must write explanations and sentences for, you **must** provide your answer in the designated space. Moreover, throughout this lab and all future ones, please be sure to not re-assign variables throughout the notebook! For example, if you use `max_temperature` in your answer to one question, do not reassign it later on. Otherwise, you may fail tests that you thought you were passing previously!\n",
    "\n",
    "**Note: We will run more tests than what we provide to you.  You may pass all of tests in this notebook, but your final grade will only be 100% if it passes all of our tests too. We will be running more tests for correctness once everyone turns in the homework."
   ]
  },
  {
   "cell_type": "markdown",
   "id": "c797eba3",
   "metadata": {
    "tags": []
   },
   "source": [
    "## 1. Creating Arrays"
   ]
  },
  {
   "cell_type": "code",
   "execution_count": null,
   "id": "1907af19",
   "metadata": {},
   "outputs": [],
   "source": [
    "# Run this cell to set up the notebook, but please don't change it.\n",
    "\n",
    "import numpy as np\n",
    "from datascience import *\n",
    "import warnings\n",
    "warnings.simplefilter('ignore', FutureWarning)"
   ]
  },
  {
   "cell_type": "raw",
   "id": "d7bc0805-3fc2-4dc2-b3e9-3929a56719ad",
   "metadata": {},
   "source": [
    "# BQ"
   ]
  },
  {
   "cell_type": "markdown",
   "id": "9dc39fe5-ac6a-4d24-973e-d07adbcd8aa5",
   "metadata": {
    "tags": []
   },
   "source": [
    "#### Part 1.1"
   ]
  },
  {
   "cell_type": "markdown",
   "id": "4ce0472c-7af0-4660-a87d-6f344bb16f09",
   "metadata": {
    "tags": []
   },
   "source": [
    "Make an array called `numbers` containing the following numbers (in the given order)\n",
    "\n",
    "1. -2\n",
    "2. the floor of 12.6\n",
    "3. 3\n",
    "4. 5 to the power of the ceil of 5.3\n",
    "\n",
    "*Hint:* `floor` and `ceil` are functions in the `math` module. Importing modules is covered in 2.1 of Lab 2!\n",
    "\n",
    "*Note:* Python lists are different/behave differently than NumPy arrays. In Data 8, we use NumPy arrays, so please make an **array**, not a Python list."
   ]
  },
  {
   "cell_type": "raw",
   "id": "995eea50-a277-41aa-9c1a-f00d8c68f3f9",
   "metadata": {},
   "source": [
    "# BS"
   ]
  },
  {
   "cell_type": "code",
   "execution_count": null,
   "id": "f9c56b70",
   "metadata": {},
   "outputs": [],
   "source": [
    "# Our solution involved one extra line of code before creating\n",
    "# numbers.\n",
    "import math # SOLUTION\n",
    "numbers = make_array(-2, math.floor(12.5), 3, 5 ** math.ceil(5.3)) # SOLUTION\n",
    "numbers"
   ]
  },
  {
   "cell_type": "raw",
   "id": "0cd05f40-b355-4099-b458-9980ac191fc3",
   "metadata": {},
   "source": [
    "# ES;BT"
   ]
  },
  {
   "cell_type": "code",
   "execution_count": null,
   "id": "130e42cb-e080-4165-af12-26ccafe7209e",
   "metadata": {},
   "outputs": [],
   "source": [
    "\"\"\" # BEGIN TEST CONFIG\n",
    "points: 0\n",
    "hidden: false\n",
    "failure_message: Be sure to create an array with four elements.\n",
    "\"\"\" # END TEST CONFIG\n",
    "len(numbers)"
   ]
  },
  {
   "cell_type": "code",
   "execution_count": null,
   "id": "a41a4dd9-05a2-41c0-87a0-a622517bf679",
   "metadata": {},
   "outputs": [],
   "source": [
    "# HIDDEN \n",
    "numbers.item(0) == -2"
   ]
  },
  {
   "cell_type": "code",
   "execution_count": null,
   "id": "ecb34116-c22d-4607-9876-deaa3da4fa77",
   "metadata": {},
   "outputs": [],
   "source": [
    "# HIDDEN\n",
    "numbers.item(1) == 12"
   ]
  },
  {
   "cell_type": "code",
   "execution_count": null,
   "id": "46a290bd-7c61-436d-8039-fcf36fcac8a8",
   "metadata": {},
   "outputs": [],
   "source": [
    "# HIDDEN\n",
    "numbers.item(2) == 3"
   ]
  },
  {
   "cell_type": "code",
   "execution_count": null,
   "id": "975973fe-cab4-4fbb-b71f-48013d8f416d",
   "metadata": {},
   "outputs": [],
   "source": [
    "# HIDDEN\n",
    "numbers.item(3) == 15625"
   ]
  },
  {
   "cell_type": "raw",
   "id": "74f20f13-e1f0-4b63-b0f8-ca1ae4665a0c",
   "metadata": {},
   "source": [
    "# ET;EQ"
   ]
  },
  {
   "cell_type": "raw",
   "id": "e64fbfd8-768f-42a0-a0e3-4d213527f459",
   "metadata": {},
   "source": [
    "# BQ"
   ]
  },
  {
   "cell_type": "markdown",
   "id": "e319bc5a-19d0-4ca0-a81a-38d0118b1673",
   "metadata": {
    "tags": []
   },
   "source": [
    "#### Part 1.2"
   ]
  },
  {
   "cell_type": "markdown",
   "id": "0f1babaa-fced-448d-81d4-b4c359ab4017",
   "metadata": {},
   "source": [
    "Make an array called `book_title_words` containing the following three strings: \"Eats\", \"Shoots\", and \"and Leaves\"."
   ]
  },
  {
   "cell_type": "raw",
   "id": "b95aae27-93c1-4165-869e-0de24179cbeb",
   "metadata": {},
   "source": [
    "# BS"
   ]
  },
  {
   "cell_type": "code",
   "execution_count": null,
   "id": "01ec5a46",
   "metadata": {},
   "outputs": [],
   "source": [
    "book_title_words = make_array(\"Eats\", \"Shoots\", \"and Leaves\") # SOLUTION\n",
    "book_title_words"
   ]
  },
  {
   "cell_type": "raw",
   "id": "ba2b1d9d-7473-4a5c-ad50-8983b441cc6b",
   "metadata": {},
   "source": [
    "# ES"
   ]
  },
  {
   "cell_type": "raw",
   "id": "4faa9e83-a763-4c00-addf-91320008eefe",
   "metadata": {},
   "source": [
    "# BT"
   ]
  },
  {
   "cell_type": "code",
   "execution_count": null,
   "id": "357617ca-bb55-4105-a05e-efb3e68fe52e",
   "metadata": {},
   "outputs": [],
   "source": [
    "\"\"\" # BEGIN TEST CONFIG\n",
    "points: 0\n",
    "hidden: false\n",
    "failure_message: Be sure to use make_array to create an array.\n",
    "\"\"\" # END TEST CONFIG\n",
    "import numpy as np\n",
    "type(book_title_words) == np.ndarray"
   ]
  },
  {
   "cell_type": "code",
   "execution_count": null,
   "id": "461499b2-08de-4a27-8f0b-eaeaa2454ca5",
   "metadata": {},
   "outputs": [],
   "source": [
    "len(book_title_words) == 3"
   ]
  },
  {
   "cell_type": "code",
   "execution_count": null,
   "id": "7dc0bbf7-866d-42bb-929e-246c7d390e9e",
   "metadata": {},
   "outputs": [],
   "source": [
    "book_title_words.item(0) == 'Eats'"
   ]
  },
  {
   "cell_type": "code",
   "execution_count": null,
   "id": "f33cb391-d7f6-45b6-89bb-ed93130fc30e",
   "metadata": {},
   "outputs": [],
   "source": [
    "book_title_words.item(1) == 'Shoots'"
   ]
  },
  {
   "cell_type": "code",
   "execution_count": null,
   "id": "7c0874be-b2b1-4882-8f35-86e2770261e1",
   "metadata": {},
   "outputs": [],
   "source": [
    "book_title_words.item(2) == 'and Leaves'"
   ]
  },
  {
   "cell_type": "raw",
   "id": "0c34342b-858e-4840-ac29-b4a9dd05e62b",
   "metadata": {},
   "source": [
    "# ET"
   ]
  },
  {
   "cell_type": "raw",
   "id": "e703559a-d097-4ff5-8782-9907c0c7ca66",
   "metadata": {},
   "source": [
    "# EQ"
   ]
  },
  {
   "cell_type": "raw",
   "id": "35f39828-6a56-4824-9b2c-0d6344b9fe0a",
   "metadata": {},
   "source": [
    "# BQ"
   ]
  },
  {
   "cell_type": "markdown",
   "id": "ae0530f3-e654-4a1b-8b1c-4e1db9adc8fe",
   "metadata": {
    "tags": []
   },
   "source": [
    "#### Part 1.3"
   ]
  },
  {
   "cell_type": "markdown",
   "id": "71c8cbee",
   "metadata": {},
   "source": [
    "Strings have a method called `join`.  `join` takes one argument, an array of strings.  It returns a single string.  Specifically, the value of `a_string.join(an_array)` is a single string that's the [concatenation](https://en.wikipedia.org/wiki/Concatenation) (\"putting together\") of all the strings in `an_array`, **with** `a_string` inserted in between each string.\n",
    "\n",
    "Use the array `book_title_words` and the method `join` to make two strings:\n",
    "\n",
    "1. \"Eats, Shoots, and Leaves\" (call this one `with_commas`)\n",
    "2. \"Eats Shoots and Leaves\" (call this one `without_commas`)"
   ]
  },
  {
   "cell_type": "raw",
   "id": "d6cc2604-389c-4ff0-904a-096d33e6a173",
   "metadata": {},
   "source": [
    "# BS"
   ]
  },
  {
   "cell_type": "code",
   "execution_count": null,
   "id": "ec1d0943",
   "metadata": {},
   "outputs": [],
   "source": [
    "with_commas = \", \".join(book_title_words) # SOLUTION\n",
    "without_commas = \" \".join(book_title_words) # SOLUTION\n",
    "\n",
    "# These lines are provided just to print out your answers.\n",
    "print('with_commas:', with_commas)\n",
    "print('without_commas:', without_commas)"
   ]
  },
  {
   "cell_type": "raw",
   "id": "440c3cff-c6c1-4a6a-b752-566ef7982521",
   "metadata": {},
   "source": [
    "# ES"
   ]
  },
  {
   "cell_type": "raw",
   "id": "8e00a747-9e2e-48fa-941e-e71aae264714",
   "metadata": {},
   "source": [
    "# BT"
   ]
  },
  {
   "cell_type": "code",
   "execution_count": null,
   "id": "cfffb7c9-5174-4f5d-aff8-bd58340c0b2c",
   "metadata": {},
   "outputs": [],
   "source": [
    "with_commas == 'Eats, Shoots, and Leaves'"
   ]
  },
  {
   "cell_type": "code",
   "execution_count": null,
   "id": "25a159a4-aacb-4aaf-8dc3-d0af17d4aa77",
   "metadata": {},
   "outputs": [],
   "source": [
    "without_commas == 'Eats Shoots and Leaves'"
   ]
  },
  {
   "cell_type": "raw",
   "id": "cec58214-c5d2-4039-b431-8d4cb8690b49",
   "metadata": {},
   "source": [
    "# ET"
   ]
  },
  {
   "cell_type": "raw",
   "id": "ab31c74e-f949-4127-972c-22be32555ecf",
   "metadata": {},
   "source": [
    "# EQ"
   ]
  },
  {
   "cell_type": "markdown",
   "id": "a9b221a7",
   "metadata": {},
   "source": [
    "## 2. Indexing Arrays"
   ]
  },
  {
   "cell_type": "markdown",
   "id": "537ebad0",
   "metadata": {},
   "source": [
    "These exercises give you practice accessing individual elements of arrays with the `array.item(index)` method.  In Python, elements are accessed by its *index*; for example, the first element is the element at index 0. Indices must be **integers**.\n",
    "\n",
    "***Note:* If you have previous coding experience, you may be familiar with bracket notation. DO NOT use bracket notation when indexing (i.e. `arr[0]`), as this can yield different data type outputs than what we will be expecting. This can cause you to fail an autograder test.**\n",
    "\n",
    "Be sure to refer to the [Python Reference](http://data8.org/fa21/python-reference.html) on the website if you feel stuck!"
   ]
  },
  {
   "cell_type": "raw",
   "id": "62190063-5346-48db-8df3-c63f351dbcc5",
   "metadata": {},
   "source": [
    "# BQ"
   ]
  },
  {
   "cell_type": "markdown",
   "id": "cb5fa7f4-3d57-4e0b-bc44-079f1eac5d29",
   "metadata": {},
   "source": [
    "#### Part 2.1"
   ]
  },
  {
   "cell_type": "markdown",
   "id": "88231451",
   "metadata": {},
   "source": [
    "The cell below creates an array of some numbers.  Set `third_element` to the third element of `some_numbers`."
   ]
  },
  {
   "cell_type": "raw",
   "id": "3aa0826e-1cd8-4d46-ba6f-06c631ce866a",
   "metadata": {},
   "source": [
    "# BS"
   ]
  },
  {
   "cell_type": "code",
   "execution_count": null,
   "id": "f1e6bb5e",
   "metadata": {},
   "outputs": [],
   "source": [
    "some_numbers = make_array(-1, -3, -6, -10, -15)\n",
    "\n",
    "third_element = some_numbers.item(2) # SOLUTION\n",
    "third_element"
   ]
  },
  {
   "cell_type": "raw",
   "id": "d310aefa-2bf3-4c03-bbfe-779b391e40a4",
   "metadata": {},
   "source": [
    "# ES"
   ]
  },
  {
   "cell_type": "raw",
   "id": "dcb20a96-f56f-4234-afb1-d862d300ad2f",
   "metadata": {},
   "source": [
    "# BT"
   ]
  },
  {
   "cell_type": "code",
   "execution_count": null,
   "id": "9f4720be-70fe-41a8-9fde-2067e1e3c3f3",
   "metadata": {},
   "outputs": [],
   "source": [
    "\"\"\" # BEGIN TEST CONFIG\n",
    "points: 0\n",
    "hidden: false\n",
    "failure_message: Remember that indices start at 0...\n",
    "\"\"\" # END TEST CONFIG\n",
    "third_element != -3"
   ]
  },
  {
   "cell_type": "code",
   "execution_count": null,
   "id": "25307df8-1499-4047-9a07-10b61266cc94",
   "metadata": {},
   "outputs": [],
   "source": [
    "# HIDDEN\n",
    "third_element == -6"
   ]
  },
  {
   "cell_type": "raw",
   "id": "20015d81-7aeb-4ff1-940a-997826e09419",
   "metadata": {},
   "source": [
    "# ET"
   ]
  },
  {
   "cell_type": "raw",
   "id": "bf30a310-8c82-4211-ac74-2d79ae1e886d",
   "metadata": {},
   "source": [
    "# EQ"
   ]
  },
  {
   "cell_type": "raw",
   "id": "ac0b21f9-efa4-4703-9465-dbcddaff0b83",
   "metadata": {},
   "source": [
    "# BQ"
   ]
  },
  {
   "cell_type": "markdown",
   "id": "93c32e68-329c-403d-9608-f4dcfcf9c126",
   "metadata": {},
   "source": [
    "#### Part 2.2"
   ]
  },
  {
   "cell_type": "markdown",
   "id": "c9862d5f",
   "metadata": {},
   "source": [
    "The next cell creates a table that displays some information about the elements of `some_numbers` and their order.  Run the cell to see the partially-completed table, then fill in the missing information (the cells that say \"Ellipsis\") by assigning `blank_a`, `blank_b`, `blank_c`, and `blank_d` to the correct elements in the table.\n",
    "\n",
    "*Hint:* Replace the `...` with strings or numbers. As a reminder, indices should be **integers**."
   ]
  },
  {
   "cell_type": "raw",
   "id": "5b2ab035-07fc-4259-8f5a-aa00836d1621",
   "metadata": {},
   "source": [
    "# BS"
   ]
  },
  {
   "cell_type": "code",
   "execution_count": null,
   "id": "439fd9ec",
   "metadata": {
    "for_assignment_type": "student"
   },
   "outputs": [],
   "source": [
    "blank_a = \"third\" # SOLUTION\n",
    "blank_b = \"fourth\" # SOLUTION\n",
    "blank_c = 0 # SOLUTION\n",
    "blank_d = 3 # SOLUTION\n",
    "elements_of_some_numbers = Table().with_columns(\n",
    "    \"English name for position\", make_array(\"first\", \"second\", blank_a, blank_b, \"fifth\"),\n",
    "    \"Index\",                     make_array(blank_c, 1, 2, blank_d, 4),\n",
    "    \"Element\",                   some_numbers)\n",
    "elements_of_some_numbers"
   ]
  },
  {
   "cell_type": "raw",
   "id": "b11964d5-e7a8-4dbe-bac7-d6095f4b89fd",
   "metadata": {},
   "source": [
    "# ES"
   ]
  },
  {
   "cell_type": "raw",
   "id": "b4c51007-9b73-40f4-98e1-9e76dc157141",
   "metadata": {},
   "source": [
    "# BT"
   ]
  },
  {
   "cell_type": "code",
   "execution_count": null,
   "id": "72280ce1-ec13-4ecf-a8cb-2ccc6691322e",
   "metadata": {},
   "outputs": [],
   "source": [
    "elements_of_some_numbers.column(0).item(2) == 'third'"
   ]
  },
  {
   "cell_type": "code",
   "execution_count": null,
   "id": "f36ee039-8cf3-47ec-b46d-6b983338e0df",
   "metadata": {},
   "outputs": [],
   "source": [
    "elements_of_some_numbers.column(0).item(3) == 'fourth'"
   ]
  },
  {
   "cell_type": "code",
   "execution_count": null,
   "id": "481d63b7-dd45-441e-ad27-967bd7889fac",
   "metadata": {},
   "outputs": [],
   "source": [
    "elements_of_some_numbers.column(1).item(0) == 0"
   ]
  },
  {
   "cell_type": "code",
   "execution_count": null,
   "id": "ea02911b-85e0-4faa-b9dc-6def1dc992f6",
   "metadata": {},
   "outputs": [],
   "source": [
    "elements_of_some_numbers.column(1).item(3) == 3"
   ]
  },
  {
   "cell_type": "raw",
   "id": "8d452037-a5b8-4163-a892-066b1dff1105",
   "metadata": {},
   "source": [
    "# ET"
   ]
  },
  {
   "cell_type": "raw",
   "id": "f13b703a-4cbe-4076-ba50-5255391b1d49",
   "metadata": {},
   "source": [
    "# EQ"
   ]
  },
  {
   "cell_type": "raw",
   "id": "f63c3570-83b3-49aa-8133-d01133af8429",
   "metadata": {},
   "source": [
    "# BQ"
   ]
  },
  {
   "cell_type": "markdown",
   "id": "f1d8c12e-e232-4299-af35-55f0b11f4e2a",
   "metadata": {},
   "source": [
    "#### Part 2.3"
   ]
  },
  {
   "cell_type": "markdown",
   "id": "7e152631",
   "metadata": {},
   "source": [
    "You'll sometimes want to find the **last** element of an array.  Suppose an array has 142 elements.  What is the index of its last element?"
   ]
  },
  {
   "cell_type": "raw",
   "id": "c55cfacc-009a-45fd-ba0b-986e1bd00890",
   "metadata": {},
   "source": [
    "# BS"
   ]
  },
  {
   "cell_type": "code",
   "execution_count": null,
   "id": "24985e41",
   "metadata": {},
   "outputs": [],
   "source": [
    "index_of_last_element = 141 # SOLUTION"
   ]
  },
  {
   "cell_type": "raw",
   "id": "77256086-ad30-4652-8895-0eaaece1ddde",
   "metadata": {},
   "source": [
    "# ES"
   ]
  },
  {
   "cell_type": "raw",
   "id": "25044e9e-64b9-4429-a1c6-b95f914274e5",
   "metadata": {},
   "source": [
    "# BT"
   ]
  },
  {
   "cell_type": "code",
   "execution_count": null,
   "id": "e71f2ed6-75b0-4e1a-87ef-370ed5719597",
   "metadata": {},
   "outputs": [],
   "source": [
    "index_of_last_element == 141"
   ]
  },
  {
   "cell_type": "raw",
   "id": "c37c6e0d-cfb7-4628-b671-8542a70b3bea",
   "metadata": {},
   "source": [
    "# ET"
   ]
  },
  {
   "cell_type": "raw",
   "id": "70dd72fa-f612-401d-9d1d-b14f0fed6fc8",
   "metadata": {},
   "source": [
    "# EQ"
   ]
  },
  {
   "cell_type": "raw",
   "id": "a9b0338a-3e8e-4519-8085-9d3529855776",
   "metadata": {},
   "source": [
    "# BQ"
   ]
  },
  {
   "cell_type": "markdown",
   "id": "0e6b0573-2af5-4287-9d0e-d4e53f643256",
   "metadata": {},
   "source": [
    "#### Part 2.4"
   ]
  },
  {
   "cell_type": "markdown",
   "id": "ae3bed55",
   "metadata": {},
   "source": [
    "More often, you don't know the number of elements in an array, its *length*.  (For example, it might be a large dataset you found on the Internet.)  The function `len` takes a single argument, an array, and returns the `len`gth of that array (an integer).\n",
    "\n",
    "The cell below loads an array called `president_birth_years`.  Calling `tbl.column(...)` on a table returns an array of the column specified, in this case the `Birth Year` column of the `president_births` table. The last element in that array is the most recent among the birth years of all the deceased Presidents. Assign that year to `most_recent_birth_year`."
   ]
  },
  {
   "cell_type": "raw",
   "id": "6f5f03af-1ad3-44da-9c5d-9e21fef867e1",
   "metadata": {},
   "source": [
    "# BS"
   ]
  },
  {
   "cell_type": "code",
   "execution_count": null,
   "id": "47ab263a",
   "metadata": {},
   "outputs": [],
   "source": [
    "president_birth_years = Table.read_table(\"president_births.csv\").column('Birth Year')\n",
    "\n",
    "most_recent_birth_year = president_birth_years.item(len(president_birth_years) - 1) # SOLUTION\n",
    "most_recent_birth_year"
   ]
  },
  {
   "cell_type": "raw",
   "id": "b58b5699-5742-4ef6-89c2-46e54e414afe",
   "metadata": {},
   "source": [
    "# ES"
   ]
  },
  {
   "cell_type": "raw",
   "id": "446e054a-bd5c-491e-911a-63fcb0f9b602",
   "metadata": {},
   "source": [
    "# BT"
   ]
  },
  {
   "cell_type": "code",
   "execution_count": null,
   "id": "92a94b16-6765-4ae8-a01c-391ef4bffa77",
   "metadata": {},
   "outputs": [],
   "source": [
    "most_recent_birth_year == 1917"
   ]
  },
  {
   "cell_type": "raw",
   "id": "f75ef849-ffff-4c0f-8299-4ee2aaceed7d",
   "metadata": {},
   "source": [
    "# ET"
   ]
  },
  {
   "cell_type": "raw",
   "id": "56424ba5-1583-4139-b551-cb918a75d866",
   "metadata": {},
   "source": [
    "# EQ"
   ]
  },
  {
   "cell_type": "raw",
   "id": "0bc642c0-e25e-4533-b99f-3c86dc8285fb",
   "metadata": {},
   "source": [
    "# BQ"
   ]
  },
  {
   "cell_type": "markdown",
   "id": "8d562113-152b-4a43-9142-3d9593fd9f14",
   "metadata": {},
   "source": [
    "#### Part 2.5"
   ]
  },
  {
   "cell_type": "raw",
   "id": "5efb5ab1-3497-4c59-b1d8-c54e6044f1fe",
   "metadata": {},
   "source": [
    "Finally, assign `min_of_birth_years` to the minimum of the first, sixteenth, and last birth years listed in `president_birth_years`."
   ]
  },
  {
   "cell_type": "raw",
   "id": "0ff54dbf-6f62-4ced-a4cf-881da8f6306e",
   "metadata": {},
   "source": [
    "# BS"
   ]
  },
  {
   "cell_type": "code",
   "execution_count": null,
   "id": "94c8c9bb",
   "metadata": {},
   "outputs": [],
   "source": [
    "min_of_birth_years = min(president_birth_years.item(0), president_birth_years.item(15), most_recent_birth_year)\n",
    "min_of_birth_years"
   ]
  },
  {
   "cell_type": "raw",
   "id": "01ae222e-1353-424f-9c66-dbbba212c85e",
   "metadata": {},
   "source": [
    "# ES"
   ]
  },
  {
   "cell_type": "raw",
   "id": "f74a97ac-8b92-4b7d-9e9b-8579bd643353",
   "metadata": {},
   "source": [
    "# BT"
   ]
  },
  {
   "cell_type": "code",
   "execution_count": null,
   "id": "05e2e170",
   "metadata": {},
   "outputs": [],
   "source": [
    "\"\"\" # BEGIN TEST CONFIG\n",
    "points: 0\n",
    "hidden: false\n",
    "\"\"\" # END TEST CONFIG\n",
    "min_of_birth_years > 0"
   ]
  },
  {
   "cell_type": "code",
   "execution_count": null,
   "id": "33bb188a-2096-4c75-a1d3-70a4754a5922",
   "metadata": {},
   "outputs": [],
   "source": [
    "# HIDDEN\n",
    "min_of_birth_years == 1732"
   ]
  },
  {
   "cell_type": "raw",
   "id": "38d35fa9-3231-4ba3-9ea9-8a473ad3b23c",
   "metadata": {},
   "source": [
    "# ET"
   ]
  },
  {
   "cell_type": "raw",
   "id": "d71da0ff-0b89-4339-af10-821f6c1dbfa9",
   "metadata": {},
   "source": [
    "# EQ"
   ]
  },
  {
   "cell_type": "markdown",
   "id": "3fad692c-b43e-490d-bb76-af58e8a0fbf6",
   "metadata": {
    "tags": []
   },
   "source": [
    "## 3. Basic Array Arithmetic"
   ]
  },
  {
   "cell_type": "raw",
   "id": "5596e429-4702-451d-9c99-4202b1d09e0f",
   "metadata": {},
   "source": [
    "# BQ"
   ]
  },
  {
   "cell_type": "markdown",
   "id": "1ca738d3-11a9-4279-8551-cccd0dd205ac",
   "metadata": {
    "tags": []
   },
   "source": [
    "#### Part 3.1"
   ]
  },
  {
   "cell_type": "markdown",
   "id": "d9cecad4-4532-4347-8cff-fd2d7bb4e67e",
   "metadata": {},
   "source": [
    "Multiply the numbers 42, -4224, 424224242, and 250 by 157. Assign each variable below such that `first_product` is assigned to the result of $42 * 157$, `second_product` is assigned to the result of $-4224 * 157$, and so on.\n",
    "\n",
    "For this question, **don't** use arrays."
   ]
  },
  {
   "cell_type": "raw",
   "id": "7fab3cae-b796-459a-b969-47f6f94195c7",
   "metadata": {},
   "source": [
    "# BS"
   ]
  },
  {
   "cell_type": "code",
   "execution_count": null,
   "id": "3601c774-b7dd-40f6-9396-464b6309b10d",
   "metadata": {},
   "outputs": [],
   "source": [
    "first_product = 42 * 157 # SOLUTION\n",
    "second_product = -4224 * 157 # SOLUTION\n",
    "third_product = 2424224242 * 157 # SOLUTION\n",
    "fourth_product = 250 * 157 # SOLUTION\n",
    "print(first_product, second_product, third_product, fourth_product)"
   ]
  },
  {
   "cell_type": "raw",
   "id": "9da9e6a6-60db-4206-85be-30a10cdf678e",
   "metadata": {},
   "source": [
    "# ES"
   ]
  },
  {
   "cell_type": "raw",
   "id": "b07f9fbf-93c1-458e-aa13-9c7f7637782e",
   "metadata": {},
   "source": [
    "# BT"
   ]
  },
  {
   "cell_type": "code",
   "execution_count": null,
   "id": "9e2a821a-95f6-4ffc-8565-f34c6d58c19e",
   "metadata": {},
   "outputs": [],
   "source": [
    "first_product == 6594"
   ]
  },
  {
   "cell_type": "code",
   "execution_count": null,
   "id": "5eacf1a9-4bcf-458e-8498-85737a5694fd",
   "metadata": {},
   "outputs": [],
   "source": [
    "second_product == -663168"
   ]
  },
  {
   "cell_type": "code",
   "execution_count": null,
   "id": "929f743f-6ce6-4140-a1f1-d87c89f358af",
   "metadata": {},
   "outputs": [],
   "source": [
    "third_product == 380603205994"
   ]
  },
  {
   "cell_type": "code",
   "execution_count": null,
   "id": "9115262a-2f13-42b7-a993-0f1af23160ca",
   "metadata": {},
   "outputs": [],
   "source": [
    "fourth_product == 39250"
   ]
  },
  {
   "cell_type": "raw",
   "id": "e8bcca73-0a93-4192-ac01-9a209e94319a",
   "metadata": {},
   "source": [
    "# ET"
   ]
  },
  {
   "cell_type": "raw",
   "id": "cfd5d8de-b4af-4726-b69b-a6f96c1390bc",
   "metadata": {},
   "source": [
    "# EQ"
   ]
  },
  {
   "cell_type": "raw",
   "id": "de000399-5c06-41cc-85c4-5231e440fc97",
   "metadata": {},
   "source": [
    "# BQ"
   ]
  },
  {
   "cell_type": "markdown",
   "id": "93c3a7cc-8a03-40a3-9cee-14bd9b80e784",
   "metadata": {},
   "source": [
    "#### Part 3.2"
   ]
  },
  {
   "cell_type": "markdown",
   "id": "64e3e21e-07e1-4960-a308-1e230ff17c4a",
   "metadata": {},
   "source": [
    "Now, do the same calculation, but using an array called `numbers` and only a single multiplication (`*`) operator.  Store the 4 results in an array named `products`."
   ]
  },
  {
   "cell_type": "raw",
   "id": "74e486c1-5bf5-45c3-983b-70641058289f",
   "metadata": {},
   "source": [
    "# BS"
   ]
  },
  {
   "cell_type": "code",
   "execution_count": null,
   "id": "c82c7ccd-7bcd-48b5-b79c-00f02a0c786b",
   "metadata": {},
   "outputs": [],
   "source": [
    "numbers = make_array(42, -4224, 242224242, 250) # SOLUTION\n",
    "products = numbers * 157 # SOLUTION\n",
    "products"
   ]
  },
  {
   "cell_type": "raw",
   "id": "90077478-80d6-4129-b656-c44366d0f58c",
   "metadata": {},
   "source": [
    "# ES"
   ]
  },
  {
   "cell_type": "raw",
   "id": "101c83dd-2b4d-42ec-a8e0-4536f751bdd3",
   "metadata": {},
   "source": [
    "# BT"
   ]
  },
  {
   "cell_type": "code",
   "execution_count": null,
   "id": "5a6cbc5d-a3ca-4a9c-9467-90cb78f766d6",
   "metadata": {},
   "outputs": [],
   "source": [
    "np.array_equal(products, [       6594,     -663168, 38029205994,       39250])"
   ]
  },
  {
   "cell_type": "raw",
   "id": "5d98a2d8-b003-4d61-8255-30c18ce75179",
   "metadata": {},
   "source": [
    "# ET"
   ]
  },
  {
   "cell_type": "raw",
   "id": "a37f10c3-854d-4cab-84ec-5ab81e01adf7",
   "metadata": {},
   "source": [
    "# EQ"
   ]
  },
  {
   "cell_type": "raw",
   "id": "99f9d9f5-7586-4abc-9394-7d94dddbeb66",
   "metadata": {},
   "source": [
    "# BQ"
   ]
  },
  {
   "cell_type": "markdown",
   "id": "2e26b139-ce20-4537-a6c8-9db69633145b",
   "metadata": {},
   "source": [
    "#### Part 3.3 (4 poitns)"
   ]
  },
  {
   "cell_type": "markdown",
   "id": "73cadf50-4f4e-4d2d-9260-f7f38e66abb1",
   "metadata": {},
   "source": [
    "Oops, we made a typo!  Instead of 157, we wanted to multiply each number by 1577.  Compute the correct products in the cell below using array arithmetic.  Notice that your job is really easy if you previously defined an array containing the 4 numbers."
   ]
  },
  {
   "cell_type": "raw",
   "id": "78abdc48-63c4-45f9-946b-277d6e651808",
   "metadata": {
    "tags": []
   },
   "source": [
    "# BS"
   ]
  },
  {
   "cell_type": "code",
   "execution_count": null,
   "id": "6523381b-4e3c-42d8-8d10-6bca86e1a44c",
   "metadata": {},
   "outputs": [],
   "source": [
    "correct_products = numbers * 1577 # SOLUTION\n",
    "correct_products"
   ]
  },
  {
   "cell_type": "raw",
   "id": "40ab3d23-a806-4895-8517-3cd70bce3a23",
   "metadata": {},
   "source": [
    "# ES"
   ]
  },
  {
   "cell_type": "raw",
   "id": "3bf02220-b1f9-492a-8ac7-673074014729",
   "metadata": {},
   "source": [
    "# BT"
   ]
  },
  {
   "cell_type": "code",
   "execution_count": null,
   "id": "d811795b-9784-4339-9303-8c30d12a30cf",
   "metadata": {},
   "outputs": [],
   "source": [
    "np.array_equal(products, [       66234,     -6661248, 381987629634,       394250])"
   ]
  },
  {
   "cell_type": "raw",
   "id": "24a97586-7924-4c49-bf8c-f945e6b2615e",
   "metadata": {},
   "source": [
    "# ET"
   ]
  },
  {
   "cell_type": "raw",
   "id": "fdef53bf-63dd-4c78-ba59-0862e604e30b",
   "metadata": {},
   "source": [
    "# EQ"
   ]
  },
  {
   "cell_type": "raw",
   "id": "b58a3043-93b9-4fc5-b4a4-1dfb8f36cd7e",
   "metadata": {},
   "source": [
    "# BQ"
   ]
  },
  {
   "cell_type": "markdown",
   "id": "b6eb9902-ff18-47f9-9841-663504abfbf6",
   "metadata": {},
   "source": [
    "#### Part 3.4"
   ]
  },
  {
   "cell_type": "markdown",
   "id": "b0f92a11-48f8-4d3d-8317-fc74de3b1864",
   "metadata": {},
   "source": [
    "We've loaded an array of temperatures in the next cell.  Each number is the highest temperature observed on a day at a climate observation station, mostly from the US.  Since they're from the US government agency [NOAA](https://www.noaa.gov/), all the temperatures are in Fahrenheit.  Convert them all to Celsius by first subtracting 32 from them, then multiplying the results by $\\frac{5}{9}$. Make sure to **ROUND** the final result after converting to Celsius to the nearest integer using the `np.round` function."
   ]
  },
  {
   "cell_type": "raw",
   "id": "3e487a1f-aeba-4d93-b0d5-fbe57cee21b4",
   "metadata": {},
   "source": [
    "# BS"
   ]
  },
  {
   "cell_type": "code",
   "execution_count": null,
   "id": "1df23fbf-ac56-4f5d-9fb6-a8cc4771b735",
   "metadata": {},
   "outputs": [],
   "source": [
    "max_temperatures = Table.read_table(\"temperatures.csv\").column(\"Daily Max Temperature\")\n",
    "\n",
    "celsius_max_temperatures = np.round(9 / 5 * max_temperatures - 32) # SOLUTION\n",
    "celsius_max_temperatures"
   ]
  },
  {
   "cell_type": "raw",
   "id": "c7f24fec-228f-4fd7-b375-331ce6cfe974",
   "metadata": {},
   "source": [
    "# ES"
   ]
  },
  {
   "cell_type": "raw",
   "id": "423515e3-ff61-43ce-86a3-97fe7ac32a4e",
   "metadata": {},
   "source": [
    "# BT"
   ]
  },
  {
   "cell_type": "code",
   "execution_count": null,
   "id": "6eb7924c-51b8-4c3b-9f27-8763401b75b8",
   "metadata": {},
   "outputs": [],
   "source": [
    "celsius_max_temperatures.item(0) == 13"
   ]
  },
  {
   "cell_type": "code",
   "execution_count": null,
   "id": "a7eb25f4-0023-4ee0-a2e0-1bf4aa6788a1",
   "metadata": {},
   "outputs": [],
   "source": [
    "celsius_max_temperatures.item(len(celsius_max_temperatures) - 1) == 78"
   ]
  },
  {
   "cell_type": "code",
   "execution_count": null,
   "id": "fbb908ad-1083-4e14-bdc4-70f1e0c2e97f",
   "metadata": {},
   "outputs": [],
   "source": [
    "celsius_max_temperatures.item(50) == 62"
   ]
  },
  {
   "cell_type": "raw",
   "id": "f8a9dd82-068a-4e30-8ceb-52513d9326e8",
   "metadata": {},
   "source": [
    "# ET"
   ]
  },
  {
   "cell_type": "raw",
   "id": "a32b0ff4-0650-4e4b-8e23-134c6dd039fe",
   "metadata": {},
   "source": [
    "# EQ"
   ]
  },
  {
   "cell_type": "raw",
   "id": "a33137df-f59b-41e1-aa45-ce88548d517e",
   "metadata": {},
   "source": [
    "# BQ"
   ]
  },
  {
   "cell_type": "markdown",
   "id": "e9cd4a2e-f417-44c1-add8-c26a8ebc1292",
   "metadata": {},
   "source": [
    "#### Part 3.5 "
   ]
  },
  {
   "cell_type": "markdown",
   "id": "c4511d8f-ead8-4555-9c81-973e26663ff8",
   "metadata": {},
   "source": [
    "The cell below loads all the *lowest* temperatures from each day (in Fahrenheit).  Compute the daily temperature range for each day. That is, compute the difference between each daily maximum temperature and the corresponding daily minimum temperature.  **Pay attention to the units, give your answer in Celsius!** Make sure **NOT** to round your answer for this question! \n",
    "\n",
    "*Note:* Remember that in the previous part, `celsius_max_temperatures` was rounded, so you might not want to use that in this question."
   ]
  },
  {
   "cell_type": "raw",
   "id": "0a52a2ed-116b-43df-b89d-56b2a9367df4",
   "metadata": {},
   "source": [
    "# BS"
   ]
  },
  {
   "cell_type": "code",
   "execution_count": null,
   "id": "a102d821-2217-4a44-861b-2ebaeb1e36aa",
   "metadata": {},
   "outputs": [],
   "source": [
    "min_temperatures = Table.read_table(\"temperatures.csv\").column(\"Daily Min Temperature\")\n",
    "\n",
    "celsius_temperature_ranges = np.round(9 / 5 * (max_temperatures - min_temperatures)) # SOLUTION\n",
    "celsius_temperature_ranges"
   ]
  },
  {
   "cell_type": "raw",
   "id": "8fa01b60-ac64-420e-8c64-847f5791d41f",
   "metadata": {},
   "source": [
    "# ES"
   ]
  },
  {
   "cell_type": "raw",
   "id": "a2669f7f-2d78-4226-95d0-a8dffba7aeb5",
   "metadata": {
    "tags": []
   },
   "source": [
    "# BT"
   ]
  },
  {
   "cell_type": "code",
   "execution_count": null,
   "id": "035a8f10-19e1-4f41-a832-47e931fe1391",
   "metadata": {},
   "outputs": [],
   "source": [
    "celsius_temperature_ranges.item(0) == 22.0"
   ]
  },
  {
   "cell_type": "code",
   "execution_count": null,
   "id": "6c1e7201-f85c-4fd1-b093-b86b70f91131",
   "metadata": {},
   "outputs": [],
   "source": [
    "celsius_temperature_ranges.item(len(celsius_max_temperatures) - 1) == 36.0"
   ]
  },
  {
   "cell_type": "code",
   "execution_count": null,
   "id": "23830460-007b-4422-971e-71a4e6c674c8",
   "metadata": {},
   "outputs": [],
   "source": [
    "celsius_temperature_ranges.item(50) == 38.0"
   ]
  },
  {
   "cell_type": "raw",
   "id": "f3fc2b87-bf3e-402d-9c7a-92f8a796ea02",
   "metadata": {},
   "source": [
    "# ET"
   ]
  },
  {
   "cell_type": "raw",
   "id": "e56d149b-d636-4f2a-a7a5-78d2f730b81a",
   "metadata": {},
   "source": [
    "# EQ"
   ]
  },
  {
   "cell_type": "markdown",
   "id": "5393e348-8add-45a6-a7a8-2e2cf662344e",
   "metadata": {},
   "source": [
    "## 4. Old Faithful"
   ]
  },
  {
   "cell_type": "markdown",
   "id": "405b733a-b20f-4ac8-b08e-7a6596ea753e",
   "metadata": {},
   "source": [
    "[Old Faithful](https://en.wikipedia.org/wiki/Old_Faithful) is a geyser in Yellowstone that erupts every 44 to 125 minutes. People are [often told that the geyser erupts every hour](http://yellowstone.net/geysers/old-faithful/), but in fact the waiting time between eruptions is more variable. Let's take a look."
   ]
  },
  {
   "cell_type": "raw",
   "id": "1b85f078-5ccf-4452-9048-d32af393dd78",
   "metadata": {},
   "source": [
    "# BQ"
   ]
  },
  {
   "cell_type": "markdown",
   "id": "17985c64-9966-468e-bb03-0b70a3690dad",
   "metadata": {},
   "source": [
    "#### Part 4.1"
   ]
  },
  {
   "cell_type": "markdown",
   "id": "f76ea4ec-0411-4bb3-8d7d-e9c719fa688d",
   "metadata": {},
   "source": [
    "The first line below assigns `waiting_times` to an array of 272 consecutive waiting times between eruptions, taken from a classic 1938 dataset. Assign the names `shortest`, `longest`, and `average` so that the `print` statement is correct. **(4 Points)**"
   ]
  },
  {
   "cell_type": "raw",
   "id": "75dbe322-96c0-4dcd-9778-84ca032ec806",
   "metadata": {},
   "source": [
    "# BS"
   ]
  },
  {
   "cell_type": "code",
   "execution_count": null,
   "id": "c0e92ef7-4c4c-47a7-a081-dcfb54a654c7",
   "metadata": {},
   "outputs": [],
   "source": [
    "waiting_times = Table.read_table('old_faithful.csv').column('waiting')\n",
    "\n",
    "shortest = min(waiting_times) # SOLUTION\n",
    "longest = max(waiting_times) # SOLUTION\n",
    "average = np.mean(waiting_times) # SOLUTION\n",
    "\n",
    "print(\"Old Faithful erupts every\", shortest, \"to\", longest, \"minutes and every\", average, \"minutes on average.\")"
   ]
  },
  {
   "cell_type": "raw",
   "id": "7285a5a5-347a-46a7-a7d3-cbac93dc23b6",
   "metadata": {},
   "source": [
    "# ES"
   ]
  },
  {
   "cell_type": "raw",
   "id": "8282d424-9a11-46bc-9b44-1368018af209",
   "metadata": {},
   "source": [
    "# BT"
   ]
  },
  {
   "cell_type": "code",
   "execution_count": null,
   "id": "fbbd97bf-70f0-48b7-a04f-18b27ad312d5",
   "metadata": {},
   "outputs": [],
   "source": [
    "shortest > 40"
   ]
  },
  {
   "cell_type": "code",
   "execution_count": null,
   "id": "28937811-1d99-47de-8963-dca13ced60b3",
   "metadata": {},
   "outputs": [],
   "source": [
    "longest > shortest"
   ]
  },
  {
   "cell_type": "code",
   "execution_count": null,
   "id": "68b0b3c8-e0f4-429e-819a-1344ec5905ff",
   "metadata": {},
   "outputs": [],
   "source": [
    "shortest == 43"
   ]
  },
  {
   "cell_type": "code",
   "execution_count": null,
   "id": "7b007fcf-ede5-4dd9-83dc-268b852c8947",
   "metadata": {},
   "outputs": [],
   "source": [
    "longest == 96"
   ]
  },
  {
   "cell_type": "code",
   "execution_count": null,
   "id": "d9aaea5f-66f1-4de5-9971-5a75fe450ac2",
   "metadata": {},
   "outputs": [],
   "source": [
    "np.isclose(average,70.897058823)"
   ]
  },
  {
   "cell_type": "raw",
   "id": "51e6d5c9-0e07-40e5-b045-14f895219eee",
   "metadata": {},
   "source": [
    "# ET"
   ]
  },
  {
   "cell_type": "raw",
   "id": "ca04075b-65ee-4cf6-9cdc-f28e9e4e2742",
   "metadata": {},
   "source": [
    "# EQ"
   ]
  },
  {
   "cell_type": "raw",
   "id": "ad56e45a-e03c-4989-9c82-c94670025204",
   "metadata": {},
   "source": [
    "# BQ"
   ]
  },
  {
   "cell_type": "markdown",
   "id": "815ca5bf-6e84-4a36-8781-c21a0152fc54",
   "metadata": {},
   "source": [
    "#### Part 4.2"
   ]
  },
  {
   "cell_type": "markdown",
   "id": "a9b9230c-46ca-487e-b67b-b9b46cdb3732",
   "metadata": {},
   "source": [
    "Assign `biggest_decrease` to the biggest decrease in waiting time between two consecutive eruptions. For example, the third eruption occurred after 74 minutes and the fourth after 62 minutes, so the decrease in waiting time was 74 - 62 = 12 minutes.\n",
    "\n",
    "*Hint*: We want to return the absolute value of the biggest decrease."
   ]
  },
  {
   "cell_type": "raw",
   "id": "6895ccc5-88c6-4cd8-a8c3-88355b02261a",
   "metadata": {},
   "source": [
    "# BS"
   ]
  },
  {
   "cell_type": "code",
   "execution_count": null,
   "id": "72f94d73-35bc-4e16-a79c-b396c626a57f",
   "metadata": {},
   "outputs": [],
   "source": [
    "# np.diff() calculates the difference between subsequent values  \n",
    "# in a NumPy array.\n",
    "differences = np.diff(waiting_times) \n",
    "biggest_decrease = abs(min(differences)) # SOLUTION\n",
    "biggest_decrease"
   ]
  },
  {
   "cell_type": "raw",
   "id": "7bfbb818-fdb3-4d11-b4d6-4e6bbe7ffa48",
   "metadata": {},
   "source": [
    "# ES"
   ]
  },
  {
   "cell_type": "raw",
   "id": "5e1758e9-0394-4108-8f3d-43cbf0616de9",
   "metadata": {},
   "source": [
    "# BT"
   ]
  },
  {
   "cell_type": "code",
   "execution_count": null,
   "id": "acdd67e7-09a2-49b2-b8b6-5a0f67e0b09a",
   "metadata": {},
   "outputs": [],
   "source": [
    "biggest_decrease > 0"
   ]
  },
  {
   "cell_type": "code",
   "execution_count": null,
   "id": "71d12f91-38a6-419e-bc55-6ccf9b2999e9",
   "metadata": {},
   "outputs": [],
   "source": [
    "biggest_decrease == 45"
   ]
  },
  {
   "cell_type": "raw",
   "id": "d681b47d-5b64-4784-853e-90ed04cd5cf5",
   "metadata": {},
   "source": [
    "# ET"
   ]
  },
  {
   "cell_type": "raw",
   "id": "27869112-049c-4d5b-ab15-d17b9bd5fefb",
   "metadata": {},
   "source": [
    "# EQ"
   ]
  },
  {
   "cell_type": "raw",
   "id": "a890dbb8-9a25-454c-9b09-0d86da690056",
   "metadata": {},
   "source": [
    "# BQ"
   ]
  },
  {
   "cell_type": "markdown",
   "id": "c93b1ff2-58ba-4cb1-8366-688f51f2049d",
   "metadata": {},
   "source": [
    "#### Part 4.3"
   ]
  },
  {
   "cell_type": "markdown",
   "id": "f88b24ba-1b29-42f2-b5d5-4470e34e44b4",
   "metadata": {},
   "source": [
    "Suppose the surveyors started watching Old Faithful at the start of the first eruption. Assume that they watch until the end of the tenth eruption. For some of that time they will be watching eruptions, and for the rest of the time they will be waiting for Old Faithful to erupt. How many minutes will they spend waiting for eruptions?\n",
    "\n",
    "*Hint:* One way to approach this problem is to use the `take` or `where` method on the table `faithful`. \n",
    "\n",
    "*Another Hint:* `first_nine_waiting_times` must be an array."
   ]
  },
  {
   "cell_type": "raw",
   "id": "2e58c76b-d47a-40e3-b816-1b352268b1ee",
   "metadata": {},
   "source": [
    "# BS"
   ]
  },
  {
   "cell_type": "code",
   "execution_count": null,
   "id": "c57d8afd-cee9-484f-a5e7-68d0cd1bf7a3",
   "metadata": {},
   "outputs": [],
   "source": [
    "faithful = Table.read_table('old_faithful.csv')\n",
    "\n",
    "faithful_with_eruption_nums = faithful.take(9) # SOLUTION\n",
    "first_nine_waiting_times = faithful_with_eruption_nums.column(\"waiting\") # SOLUTION\n",
    "total_waiting_time_until_tenth = sum(first_nine_waiting_times) # SOLUTION\n",
    "total_waiting_time_until_tenth"
   ]
  },
  {
   "cell_type": "raw",
   "id": "426f6512-98bf-44f9-a60c-6e4c6f2fdefb",
   "metadata": {},
   "source": [
    "# ES"
   ]
  },
  {
   "cell_type": "raw",
   "id": "460add11-3d93-4351-9397-f2d393cb6417",
   "metadata": {},
   "source": [
    "# BT"
   ]
  },
  {
   "cell_type": "code",
   "execution_count": null,
   "id": "57796c8c-b4b7-48d4-a433-c6bc75370fa9",
   "metadata": {},
   "outputs": [],
   "source": [
    "total_waiting_time_until_tenth > 0"
   ]
  },
  {
   "cell_type": "code",
   "execution_count": null,
   "id": "0bf022c1-d480-43b4-bcc8-ba5afb946c3f",
   "metadata": {},
   "outputs": [],
   "source": [
    "total_waiting_time_until_tenth == 85"
   ]
  },
  {
   "cell_type": "raw",
   "id": "f436d399-6d44-44a2-be28-3bde8c26a368",
   "metadata": {},
   "source": [
    "# ET"
   ]
  },
  {
   "cell_type": "raw",
   "id": "31a21f4b-628d-4398-9963-8efaa957bdb1",
   "metadata": {},
   "source": [
    "# EQ"
   ]
  },
  {
   "cell_type": "raw",
   "id": "e508e29f-dd2e-4a3b-a554-454a23540865",
   "metadata": {},
   "source": [
    "# BQ"
   ]
  },
  {
   "cell_type": "markdown",
   "id": "b62fd34a-3974-43b8-a4be-58379564bde7",
   "metadata": {},
   "source": [
    "#### Part 4.4"
   ]
  },
  {
   "cell_type": "markdown",
   "id": "129bb192-18d3-4ca5-a1de-d0a7bb039a46",
   "metadata": {},
   "source": [
    "Let’s imagine your guess for the next waiting time was always just the length of the previous waiting time. If you always guessed the previous waiting time, how big would your error in guessing the waiting times be, on average? **(4 Points)**\n",
    "\n",
    "For example, since the first four waiting times are 79, 54, 74, and 62, the average difference between your guess and the actual time for just the second, third, and fourth eruptions would be $\\frac{|79-54|+ |54-74|+ |74-62|}{3} = 19$."
   ]
  },
  {
   "cell_type": "raw",
   "id": "c33c16ec-6e23-4fec-ab1b-71ffaa4df197",
   "metadata": {},
   "source": [
    "# BS"
   ]
  },
  {
   "cell_type": "code",
   "execution_count": null,
   "id": "0c0845cf-6b30-441e-a607-76ba8c3f1269",
   "metadata": {},
   "outputs": [],
   "source": [
    "differences = np.diff(waiting_times)\n",
    "average_error = sum(abs(differences)) / len(differences) # SOLUTION\n",
    "average_error"
   ]
  },
  {
   "cell_type": "raw",
   "id": "6a5214e6-7efa-46ac-9a39-42c0acb2b7ce",
   "metadata": {},
   "source": [
    "# ES"
   ]
  },
  {
   "cell_type": "raw",
   "id": "f89bf1c0-1de7-4661-a52c-f14e166dd6c8",
   "metadata": {},
   "source": [
    "# BT"
   ]
  },
  {
   "cell_type": "code",
   "execution_count": null,
   "id": "c171e575-afd5-438e-9821-7ee0836c0550",
   "metadata": {},
   "outputs": [],
   "source": [
    "average_error > 0"
   ]
  },
  {
   "cell_type": "code",
   "execution_count": null,
   "id": "3d16d66c-3ce1-46f0-b956-968448b4856a",
   "metadata": {},
   "outputs": [],
   "source": [
    "np.isclose(average_error, 20.52029520295203)"
   ]
  },
  {
   "cell_type": "raw",
   "id": "7d487092-bf3b-4b97-9798-18fe31686ece",
   "metadata": {},
   "source": [
    "# ET"
   ]
  },
  {
   "cell_type": "raw",
   "id": "2467343d-c4e8-49f6-9176-28a27bcb20da",
   "metadata": {},
   "source": [
    "# EQ"
   ]
  },
  {
   "cell_type": "markdown",
   "id": "6b52e11d-a09e-46f3-b632-1f6dd42ff01c",
   "metadata": {},
   "source": [
    "## 5. Tables"
   ]
  },
  {
   "cell_type": "raw",
   "id": "a52a046f-427e-49ec-8eb9-15cff16a6ae8",
   "metadata": {},
   "source": [
    "# BQ"
   ]
  },
  {
   "cell_type": "markdown",
   "id": "545246a4-7cdb-4e83-b83c-c303ebcdd2f1",
   "metadata": {},
   "source": [
    "#### Part 5.1"
   ]
  },
  {
   "cell_type": "markdown",
   "id": "b4ee144c-ad2a-439c-b987-a953b34aaf6f",
   "metadata": {},
   "source": [
    "Suppose you have 4 apples, 3 oranges, and 3 pineapples.  Create a table that contains this information.  It should have two columns: `fruit name` and `count`.  Assign the new table to the variable `fruits`.\n",
    "\n",
    "**Note:** Use lower-case and singular words for the name of each fruit, like `\"apple\"`."
   ]
  },
  {
   "cell_type": "raw",
   "id": "8014faef-2eff-4802-84cc-c4e5b905cdd1",
   "metadata": {},
   "source": [
    "# BS"
   ]
  },
  {
   "cell_type": "code",
   "execution_count": null,
   "id": "dc25f8e0-120e-401d-8589-c259266587f8",
   "metadata": {},
   "outputs": [],
   "source": [
    "# Our solution uses 1 statement split over several lines.\n",
    "fruits = Table().with_columns({  # SOLUTION\n",
    "    \"fruit name\" : make_array(\"apple\", \"orange\", \"pineapple\"), # SOLUTION\n",
    "    \"count\": make_array(4,3,2) # SOLUTION\n",
    "}) # SOLUTION\n",
    "fruits"
   ]
  },
  {
   "cell_type": "raw",
   "id": "61977bbc-0931-4a92-9e57-ccabe3823be3",
   "metadata": {},
   "source": [
    "# ES"
   ]
  },
  {
   "cell_type": "raw",
   "id": "d7bdd8ee-2ea9-4cf9-83d0-eba2a88c3fcf",
   "metadata": {
    "tags": []
   },
   "source": [
    "# BT"
   ]
  },
  {
   "cell_type": "code",
   "execution_count": null,
   "id": "7f5d06c5-2956-42aa-ab6d-4ced73aa37f5",
   "metadata": {},
   "outputs": [],
   "source": [
    "fruits.labels == ('fruit name', 'count')"
   ]
  },
  {
   "cell_type": "code",
   "execution_count": null,
   "id": "bb3fbf83-1b09-4f51-b09a-fb8848609830",
   "metadata": {},
   "outputs": [],
   "source": [
    "fruits.num_rows == 3"
   ]
  },
  {
   "cell_type": "code",
   "execution_count": null,
   "id": "6014a8be-9b81-46f7-ae4f-dd6a62826510",
   "metadata": {},
   "outputs": [],
   "source": [
    "np.array_equiv(fruits.column(\"fruit name\"), ['apple', 'orange', 'pineapple'])"
   ]
  },
  {
   "cell_type": "code",
   "execution_count": null,
   "id": "ce03beb5-a69e-4b05-a1ed-78ff2db9acae",
   "metadata": {},
   "outputs": [],
   "source": [
    "np.array_equiv(fruits.column(\"count\"), [4, 3, 2])"
   ]
  },
  {
   "cell_type": "raw",
   "id": "325d5d9e-d28a-4ac1-a8b7-2c5593ee84d1",
   "metadata": {},
   "source": [
    "# ET"
   ]
  },
  {
   "cell_type": "raw",
   "id": "dd4a1373-6bf9-42a9-8406-db4d26c4fde3",
   "metadata": {},
   "source": [
    "# EQ"
   ]
  },
  {
   "cell_type": "raw",
   "id": "5bc7eb05-737f-4746-87ff-b2d403a6147a",
   "metadata": {},
   "source": [
    "# BQ"
   ]
  },
  {
   "cell_type": "markdown",
   "id": "9cd2fd9c-389a-4460-8b0d-b3ee99c38461",
   "metadata": {
    "tags": []
   },
   "source": [
    "#### Part 5.2"
   ]
  },
  {
   "cell_type": "markdown",
   "id": "8e584348-5ca4-416e-864e-92332887f2b4",
   "metadata": {},
   "source": [
    "The file `inventory.csv` contains information about the inventory at a fruit stand.  Each row represents the contents of one box of fruit. Load it as a table named `inventory` using the `Table.read_table()` function. `Table.read_table(...)` takes one argument (data file name in string format) and returns a table."
   ]
  },
  {
   "cell_type": "raw",
   "id": "f62350b7-af47-4084-b4fd-dca892b178ae",
   "metadata": {},
   "source": [
    "# BS"
   ]
  },
  {
   "cell_type": "code",
   "execution_count": null,
   "id": "9582e268-bf8b-4b95-b4c0-2b0c1a5b32a3",
   "metadata": {},
   "outputs": [],
   "source": [
    "inventory = Table.read_table('inventory.csv') # SOLUTION\n",
    "inventory"
   ]
  },
  {
   "cell_type": "raw",
   "id": "239bfcef-804d-40dd-acb5-32b710abed9e",
   "metadata": {},
   "source": [
    "# ES"
   ]
  },
  {
   "cell_type": "raw",
   "id": "67f73748-36a3-4d08-ab5b-f27592c9aeee",
   "metadata": {
    "tags": []
   },
   "source": [
    "# BT"
   ]
  },
  {
   "cell_type": "code",
   "execution_count": null,
   "id": "ec96a790-425e-4924-afc1-8e1f9e21ea18",
   "metadata": {},
   "outputs": [],
   "source": [
    "inventory.num_rows == 8"
   ]
  },
  {
   "cell_type": "code",
   "execution_count": null,
   "id": "b25415e1-11a2-4b7d-beda-f45f75715aac",
   "metadata": {},
   "outputs": [],
   "source": [
    "inventory.labels == ('box ID', 'fruit name', 'count')"
   ]
  },
  {
   "cell_type": "raw",
   "id": "84e008aa-7ff0-4db8-bbbf-192f6d5663f1",
   "metadata": {},
   "source": [
    "# ET"
   ]
  },
  {
   "cell_type": "raw",
   "id": "20a633a8-a16f-4909-b520-5ecba232ef24",
   "metadata": {},
   "source": [
    "# EQ"
   ]
  },
  {
   "cell_type": "raw",
   "id": "fda4572a-257f-4d36-94f7-97e7518ea6b1",
   "metadata": {},
   "source": [
    "# BQ"
   ]
  },
  {
   "cell_type": "markdown",
   "id": "2f1030b9-5db6-4d6e-955e-68fc66099a41",
   "metadata": {},
   "source": [
    "#### Part 5.3"
   ]
  },
  {
   "cell_type": "markdown",
   "id": "211c5860-1891-47ca-ba62-ae89be93b6cb",
   "metadata": {},
   "source": [
    "Does each box at the fruit stand contain a different fruit? Set `all_different` to `True` if each box contains a different fruit or to `False` if multiple boxes contain the same fruit.\n",
    "\n",
    "*Hint:* You don't have to write code to calculate the True/False value for `all_different`. Just look at the `inventory` table and assign `all_different` to either `True` or `False` according to what you can see from the table in answering the question."
   ]
  },
  {
   "cell_type": "raw",
   "id": "2c6d0ab0-a8fd-40dd-bd8b-0c3f213f5ce9",
   "metadata": {},
   "source": [
    "# BS"
   ]
  },
  {
   "cell_type": "code",
   "execution_count": null,
   "id": "f829ad00-ccfa-48f1-8de7-f21abc3cbfed",
   "metadata": {},
   "outputs": [],
   "source": [
    "all_different = False # SOLUTION\n",
    "all_different"
   ]
  },
  {
   "cell_type": "raw",
   "id": "67241998-b231-4970-8b97-8f87c3110f37",
   "metadata": {},
   "source": [
    "# ES"
   ]
  },
  {
   "cell_type": "raw",
   "id": "52c9e82e-bedb-4022-94e7-89486522d74a",
   "metadata": {
    "tags": []
   },
   "source": [
    "# BT"
   ]
  },
  {
   "cell_type": "code",
   "execution_count": null,
   "id": "e9e6ed92-8f49-4cd7-87b5-295f37b806b0",
   "metadata": {},
   "outputs": [],
   "source": [
    "type(all_different) == bool"
   ]
  },
  {
   "cell_type": "code",
   "execution_count": null,
   "id": "96e0432e-d9b8-45c7-a530-ff34e35c8408",
   "metadata": {
    "tags": []
   },
   "outputs": [],
   "source": [
    "all_different == False"
   ]
  },
  {
   "cell_type": "raw",
   "id": "aa2f76f7-56a1-4f71-b98e-59603663fe00",
   "metadata": {},
   "source": [
    "# ET"
   ]
  },
  {
   "cell_type": "raw",
   "id": "9a055a27-3890-4c74-b264-d69f0a611a0b",
   "metadata": {},
   "source": [
    "# EQ"
   ]
  },
  {
   "cell_type": "raw",
   "id": "41eb046a-154b-486a-914e-8e6fe9c58827",
   "metadata": {},
   "source": [
    "# BQ"
   ]
  },
  {
   "cell_type": "markdown",
   "id": "50ccd52a-126b-4b69-882f-5cdecfda4fd4",
   "metadata": {},
   "source": [
    "#### Part 5.4"
   ]
  },
  {
   "cell_type": "markdown",
   "id": "c8ed921d-07c0-4d1c-bbfa-edd43fa760a4",
   "metadata": {},
   "source": [
    "The file `sales.csv` contains the number of fruit sold from each box in one day.  It has an extra column called \"price per fruit (\\$)\" that's the price *per item of fruit* for fruit in that box.  The rows are in the same order as the `inventory` table.  Load these data into a table called `sales`."
   ]
  },
  {
   "cell_type": "raw",
   "id": "76deac60-14da-4335-bb09-ea6e7b7806af",
   "metadata": {},
   "source": [
    "# BS"
   ]
  },
  {
   "cell_type": "code",
   "execution_count": null,
   "id": "4aaa1cf7-5949-40cb-9bc3-96b41bf006ee",
   "metadata": {},
   "outputs": [],
   "source": [
    "sales = Table.read_table(\"sales.csv\") # SOLUTION\n",
    "sales"
   ]
  },
  {
   "cell_type": "raw",
   "id": "47974c4a-e1b7-4672-b718-ececcaee324e",
   "metadata": {},
   "source": [
    "# ES"
   ]
  },
  {
   "cell_type": "raw",
   "id": "bd43072d-e951-408e-899a-50072a8219e6",
   "metadata": {},
   "source": [
    "# BT"
   ]
  },
  {
   "cell_type": "code",
   "execution_count": null,
   "id": "13fc9e3d-d293-4ec4-828c-4d46d94e59e4",
   "metadata": {},
   "outputs": [],
   "source": [
    "sales.num_rows == 8"
   ]
  },
  {
   "cell_type": "code",
   "execution_count": null,
   "id": "03150165-9905-426d-b4c5-04c171aa511d",
   "metadata": {},
   "outputs": [],
   "source": [
    "sales.row(0).item(\"count sold\") == 3"
   ]
  },
  {
   "cell_type": "code",
   "execution_count": null,
   "id": "473b5eb2-202f-4bc7-92d0-a112862e71d7",
   "metadata": {},
   "outputs": [],
   "source": [
    "sales.row(4).item(\"price per fruit ($)\") == 0.15"
   ]
  },
  {
   "cell_type": "raw",
   "id": "ebdbb53a-e2f7-4685-aee5-4318fe967a21",
   "metadata": {},
   "source": [
    "# ET"
   ]
  },
  {
   "cell_type": "raw",
   "id": "95c3a0dd-6661-43d7-8e70-1d85fe7ce335",
   "metadata": {},
   "source": [
    "# EQ"
   ]
  },
  {
   "cell_type": "raw",
   "id": "10b76c6b-472d-495a-b1ff-5ca1ca5f0cec",
   "metadata": {},
   "source": [
    "# BQ"
   ]
  },
  {
   "cell_type": "markdown",
   "id": "4ae63e77-c86b-45ed-9996-1f3f7e8b812a",
   "metadata": {},
   "source": [
    "#### Part 5.5"
   ]
  },
  {
   "cell_type": "markdown",
   "id": "e0758c69-a50d-4b47-8bc7-31dcd0705b2a",
   "metadata": {},
   "source": [
    "How many fruits did the store sell in total on that day?"
   ]
  },
  {
   "cell_type": "raw",
   "id": "b3a8ae49-77a2-47ed-9d08-8536370cd49f",
   "metadata": {},
   "source": [
    "# BS"
   ]
  },
  {
   "cell_type": "code",
   "execution_count": null,
   "id": "482a2785-1389-461b-b042-ad9f6454ce63",
   "metadata": {},
   "outputs": [],
   "source": [
    "total_fruits_sold = sum(sales.column(\"count sold\")) # SOLUTION\n",
    "total_fruits_sold"
   ]
  },
  {
   "cell_type": "raw",
   "id": "ecdb6b31-8ea5-4623-bcd2-8833b93a0a5c",
   "metadata": {},
   "source": [
    "# ES"
   ]
  },
  {
   "cell_type": "raw",
   "id": "7d35d53e-ffb9-4188-a488-3e12b271f0ea",
   "metadata": {
    "tags": []
   },
   "source": [
    "# BT"
   ]
  },
  {
   "cell_type": "code",
   "execution_count": null,
   "id": "863b0d0e-3542-4fc8-8fb7-49baec987a68",
   "metadata": {},
   "outputs": [],
   "source": [
    "total_fruits_sold >= 0"
   ]
  },
  {
   "cell_type": "code",
   "execution_count": null,
   "id": "6f428431-7e2a-44a5-ac3d-482471a5ad94",
   "metadata": {},
   "outputs": [],
   "source": [
    "total_fruits_sold == 638"
   ]
  },
  {
   "cell_type": "raw",
   "id": "17a4324f-2619-4b12-adf0-e3d71705786e",
   "metadata": {},
   "source": [
    "# ET"
   ]
  },
  {
   "cell_type": "raw",
   "id": "b2cdd739-e3a2-4eec-b056-f5a41f1ec171",
   "metadata": {},
   "source": [
    "# EQ"
   ]
  },
  {
   "cell_type": "raw",
   "id": "bb4b528e-a73b-44d1-bba3-3a8c12b667af",
   "metadata": {},
   "source": [
    "# BQ"
   ]
  },
  {
   "cell_type": "markdown",
   "id": "a51d77df-6382-4e2d-bc86-5f3d800ee109",
   "metadata": {},
   "source": [
    "#### Part 5.6"
   ]
  },
  {
   "cell_type": "markdown",
   "id": "ff00fe98-517b-4ad9-81e7-e713c6858ecf",
   "metadata": {},
   "source": [
    "What was the store's total revenue (the total price of all fruits sold) on that day?\n",
    "\n",
    "*Hint:* If you're stuck, think first about how you would compute the total revenue from just the grape sales."
   ]
  },
  {
   "cell_type": "raw",
   "id": "647193cb-7722-49cf-a423-24ceaf70a48e",
   "metadata": {},
   "source": [
    "# BS"
   ]
  },
  {
   "cell_type": "code",
   "execution_count": null,
   "id": "6f2a5c25-c600-47c3-882b-b72dad5aff17",
   "metadata": {},
   "outputs": [],
   "source": [
    "total_revenue = sum(sales.column(\"count sold\") * sales.column(\"price per fruit ($)\")) # SOLUTION\n",
    "total_revenue"
   ]
  },
  {
   "cell_type": "raw",
   "id": "588d06de-ee61-4018-8922-9f60808c3e42",
   "metadata": {},
   "source": [
    "# ES"
   ]
  },
  {
   "cell_type": "raw",
   "id": "5c49835c-cf2e-440d-976a-5dd155e6309a",
   "metadata": {},
   "source": [
    "# BT"
   ]
  },
  {
   "cell_type": "code",
   "execution_count": null,
   "id": "275b56cf-bbc0-4b0a-99fe-f4feb89ea009",
   "metadata": {},
   "outputs": [],
   "source": [
    "total_revenue >= 0"
   ]
  },
  {
   "cell_type": "code",
   "execution_count": null,
   "id": "230cdec5-fe0e-481e-ad65-196a3576a807",
   "metadata": {},
   "outputs": [],
   "source": [
    "total_revenue == 106.85"
   ]
  },
  {
   "cell_type": "raw",
   "id": "4fa89c07-8e96-42fd-a051-e9fe5738baad",
   "metadata": {},
   "source": [
    "# ET"
   ]
  },
  {
   "cell_type": "raw",
   "id": "a9955857-0d3e-483d-8016-e93db9e5afc4",
   "metadata": {},
   "source": [
    "# EQ"
   ]
  },
  {
   "cell_type": "raw",
   "id": "1812d988-2496-4dfd-a5ff-4d2418e0a10b",
   "metadata": {},
   "source": [
    "# BQ"
   ]
  },
  {
   "cell_type": "markdown",
   "id": "2101ff37-01ec-4397-8357-f7d1c2f6dcdc",
   "metadata": {},
   "source": [
    "#### Part 5.7"
   ]
  },
  {
   "cell_type": "markdown",
   "id": "6bcbf9f3-313d-48fe-9f04-4f80e24a08ed",
   "metadata": {},
   "source": [
    "Make a new table called `remaining_inventory`.  It should have the same rows and columns as `inventory`, except that the amount of fruit sold from each box should be subtracted from that box's **original** count, so that the \"count\" is **updated to be** the amount of fruit remaining after that day's sales."
   ]
  },
  {
   "cell_type": "raw",
   "id": "85eced64-0713-456e-bcd4-2b15bd415717",
   "metadata": {},
   "source": [
    "# BS"
   ]
  },
  {
   "cell_type": "code",
   "execution_count": null,
   "id": "a5a97ed4-1b83-4bf2-acfb-7dc4321381a4",
   "metadata": {
    "tags": []
   },
   "outputs": [],
   "source": [
    "remaining_inventory = inventory.with_columns({  # SOLUTION \n",
    "    \"count\": inventory.column(\"count\") - sales.column(\"count sold\") # SOLUTION\n",
    "}) # SOLUTION\n",
    "# SOLUTION\n",
    "\n",
    "remaining_inventory"
   ]
  },
  {
   "cell_type": "raw",
   "id": "50401c05-6488-48da-81b9-52ed41c03532",
   "metadata": {},
   "source": [
    "# ES"
   ]
  },
  {
   "cell_type": "raw",
   "id": "e0aff8e1-e348-48e5-af07-394b45ed0ace",
   "metadata": {
    "tags": []
   },
   "source": [
    "# BT"
   ]
  },
  {
   "cell_type": "code",
   "execution_count": null,
   "id": "2fd28539-5ec3-44d2-a50e-5e13ec0a4f3d",
   "metadata": {},
   "outputs": [],
   "source": [
    "remaining_inventory.num_rows == 8"
   ]
  },
  {
   "cell_type": "code",
   "execution_count": null,
   "id": "1a275a2b-4bee-4f1a-b32b-9abadb724c5c",
   "metadata": {},
   "outputs": [],
   "source": [
    "remaining_inventory.labels == ('box ID', 'fruit name', 'count')"
   ]
  },
  {
   "cell_type": "code",
   "execution_count": null,
   "id": "6e3b141a-753f-4a06-86f1-259a6b820df0",
   "metadata": {},
   "outputs": [],
   "source": [
    "remaining_inventory.column(\"count\").item(0) == 42"
   ]
  },
  {
   "cell_type": "code",
   "execution_count": null,
   "id": "7c746814-8c46-4b99-890a-2769683e9ab0",
   "metadata": {
    "tags": []
   },
   "outputs": [],
   "source": [
    "remaining_inventory.column(\"count\").item(2) == 20"
   ]
  },
  {
   "cell_type": "raw",
   "id": "bf480004-e397-4a46-9c29-2d71e0b36d6b",
   "metadata": {},
   "source": [
    "# ET"
   ]
  },
  {
   "cell_type": "raw",
   "id": "95304d3d-1312-4c8d-91f7-73734f5a6010",
   "metadata": {},
   "source": [
    "# EQ"
   ]
  },
  {
   "cell_type": "markdown",
   "id": "23e8245b-33a5-47dd-ab55-692c0c81eaf2",
   "metadata": {},
   "source": [
    "## You're Done!"
   ]
  },
  {
   "cell_type": "markdown",
   "id": "d033d9dd",
   "metadata": {},
   "source": [
    "**Important submission information:** Follow these steps to submit your work:\n",
    "* Run the tests and verify that they pass as you expect. \n",
    "* Choose **Save Notebook** from the **File** menu.\n",
    "* **Run the final cell** and click the link below to download the zip file. \n",
    "\n",
    "Once you have downloaded that file, go to [Gradescope](https://www.gradescope.com/) and submit the zip file to the corresponding assignment. The name of this assignment is \"Lab 2\". **Be sure your work is saved before running the last cell!**\n",
    "\n",
    "Once you have submitted, your Gradescope assignment should show you passing all the tests you passed in your assignment notebook."
   ]
  }
 ],
 "metadata": {
  "kernelspec": {
   "display_name": "Python 3 (ipykernel)",
   "language": "python",
   "name": "python3"
  },
  "language_info": {
   "codemirror_mode": {
    "name": "ipython",
    "version": 3
   },
   "file_extension": ".py",
   "mimetype": "text/x-python",
   "name": "python",
   "nbconvert_exporter": "python",
   "pygments_lexer": "ipython3",
   "version": "3.9.1"
  }
 },
 "nbformat": 4,
 "nbformat_minor": 5
}
