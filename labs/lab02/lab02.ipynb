{
 "cells": [
  {
   "cell_type": "code",
   "execution_count": null,
   "id": "b8d4e3e0",
   "metadata": {
    "deletable": false,
    "editable": false
   },
   "outputs": [],
   "source": [
    "# Initialize Otter\n",
    "import otter\n",
    "grader = otter.Notebook(\"lab02.ipynb\")"
   ]
  },
  {
   "cell_type": "markdown",
   "id": "6e08450c",
   "metadata": {
    "deletable": false,
    "editable": false,
    "tags": []
   },
   "source": [
    "# Lab 2: Arrays and Tables"
   ]
  },
  {
   "cell_type": "markdown",
   "id": "24c00673",
   "metadata": {
    "deletable": false,
    "editable": false
   },
   "source": [
    "**Helpful Resources:**\n",
    "- [Python Reference](http://www.cs.williams.edu/~cs104/python-library-ref.html): Cheat sheet of helpful library methods.\n",
    "\n",
    "**Readings:**\n",
    "- [Ch 4. Datatypes](https://inferentialthinking.com/chapters/04/Data_Types.html)\n",
    "- [Ch 5.1. Arrays](https://inferentialthinking.com/chapters/05/1/Arrays.html) \n",
    "- [Ch 6. Tables](https://inferentialthinking.com/chapters/06/Tables.html)"
   ]
  },
  {
   "cell_type": "markdown",
   "id": "2e148eb4",
   "metadata": {
    "deletable": false,
    "editable": false,
    "tags": []
   },
   "source": [
    "Please complete this notebook by filling in the cells provided. Before you begin, execute the previous cell to load the provided tests.\n",
    "\n",
    "For all problems that you must write explanations and sentences for, you **must** provide your answer in the designated space. Moreover, throughout this homework and all future ones, please be sure to not re-assign variables throughout the notebook! For example, if you use `max_temperature` in your answer to one question, do not reassign it later on. Otherwise, you will fail tests that you thought you were passing previously!\n",
    "\n",
    "**Note: This homework has hidden tests on it. That means even though tests may say 100% passed, doesn't mean your final grade will be 100%. We will be running more tests for correctness once everyone turns in the homework.**"
   ]
  },
  {
   "cell_type": "code",
   "execution_count": null,
   "id": "820aa91f",
   "metadata": {
    "deletable": false,
    "editable": false
   },
   "outputs": [],
   "source": [
    "# Run this cell to set up the notebook, but please don't change it.\n",
    "\n",
    "# These lines import the Numpy and Datascience modules.\n",
    "import numpy as np\n",
    "from datascience import *\n",
    "\n",
    "# These lines make plots look nice and hide some messy Python warnings.\n",
    "import matplotlib\n",
    "%matplotlib inline\n",
    "import matplotlib.pyplot as plt\n",
    "plt.style.use('fivethirtyeight')\n",
    "import warnings\n",
    "warnings.simplefilter('ignore', FutureWarning)\n",
    "warnings.simplefilter('ignore', np.VisibleDeprecationWarning)"
   ]
  },
  {
   "cell_type": "markdown",
   "id": "988afa90",
   "metadata": {
    "deletable": false,
    "editable": false,
    "tags": []
   },
   "source": [
    "## 1. Table Review and Analyzing a Dataset (10 pts)\n",
    "\n",
    "\n",
    "Now that you're familiar with table operations, let’s answer an interesting question about a dataset!  Run the cell below to load the `imdb` table. It contains information about the 250 highest-rated movies on IMDb."
   ]
  },
  {
   "cell_type": "code",
   "execution_count": null,
   "id": "4b1c8487",
   "metadata": {
    "deletable": false,
    "editable": false
   },
   "outputs": [],
   "source": [
    "# Just run this cell\n",
    "\n",
    "imdb = Table.read_table('imdb.csv')\n",
    "imdb"
   ]
  },
  {
   "cell_type": "markdown",
   "id": "b9b319ae",
   "metadata": {
    "deletable": false,
    "editable": false
   },
   "source": [
    "Often, we want to perform multiple operations - sorting, filtering, or others - in order to turn a table we have into something more useful. You can do these operations one by one, e.g.\n",
    "\n",
    "```\n",
    "first_step = original_tbl.where(“col1”, are.equal_to(12))\n",
    "second_step = first_step.sort(‘col2’, descending=True)\n",
    "```\n",
    "\n",
    "However, since the value of the expression `original_tbl.where(“col1”, are.equal_to(12))` is itself a table, you can just call a table method on it:\n",
    "\n",
    "```\n",
    "original_tbl.where(“col1”, are.equal_to(12)).sort(‘col2’, descending=True)\n",
    "```\n",
    "You should organize your work in the way that makes the most sense to you, using informative names for any intermediate tables you create. "
   ]
  },
  {
   "cell_type": "markdown",
   "id": "f97372c4",
   "metadata": {
    "deletable": false,
    "editable": false
   },
   "source": [
    "#### Part 1.1 (5 pts)\n"
   ]
  },
  {
   "cell_type": "markdown",
   "id": "904fa4c4",
   "metadata": {
    "deletable": false,
    "editable": false
   },
   "source": [
    "Create a table of movies released between 2010 and 2016 (inclusive) with ratings above 8. The table should only contain the columns `Title` and `Rating`, **in that order**.\n",
    "\n",
    "Assign the table to the name `above_eight`.\n",
    "\n",
    "*Hint:* Think about the steps you need to take, and try to put them in an order that make sense. Feel free to create intermediate tables for each step, but please make sure you assign your final table the name `above_eight`!\n"
   ]
  },
  {
   "cell_type": "code",
   "execution_count": null,
   "id": "24b94f88",
   "metadata": {
    "deletable": false,
    "tags": []
   },
   "outputs": [],
   "source": [
    "above_eight = ...\n",
    "above_eight"
   ]
  },
  {
   "cell_type": "code",
   "execution_count": null,
   "id": "ae413303",
   "metadata": {
    "deletable": false,
    "editable": false
   },
   "outputs": [],
   "source": [
    "grader.check(\"q1.1\")"
   ]
  },
  {
   "cell_type": "markdown",
   "id": "3d8791e9",
   "metadata": {
    "deletable": false,
    "editable": false
   },
   "source": [
    "#### Part 1.2 (5 pts)\n"
   ]
  },
  {
   "cell_type": "markdown",
   "id": "1b5b4265",
   "metadata": {
    "deletable": false,
    "editable": false
   },
   "source": [
    "Use `num_rows` (and arithmetic) to find the *proportion* of movies in the dataset that were released 1900-1999, and the *proportion* of movies in the dataset that were released in the year 2000 or later.\n",
    "\n",
    "Assign `proportion_in_20th_century` to the proportion of movies in the dataset that were released 1900-1999, and `proportion_in_21st_century` to the proportion of movies in the dataset that were released in the year 2000 or later.\n",
    "\n",
    "*Hint:* The *proportion* of movies released in the 1900's is the *number* of movies released in the 1900's, divided by the *total number* of movies.\n"
   ]
  },
  {
   "cell_type": "code",
   "execution_count": null,
   "id": "0ce0935f",
   "metadata": {
    "deletable": false,
    "tags": []
   },
   "outputs": [],
   "source": [
    "num_movies_in_dataset = ...\n",
    "num_in_20th_century = ...\n",
    "num_in_21st_century = ...\n",
    "proportion_in_20th_century = ...\n",
    "proportion_in_21st_century = ...\n",
    "print(\"Proportion in 20th century:\", proportion_in_20th_century)\n",
    "print(\"Proportion in 21st century:\", proportion_in_21st_century)"
   ]
  },
  {
   "cell_type": "code",
   "execution_count": null,
   "id": "873a7d87",
   "metadata": {
    "deletable": false,
    "editable": false
   },
   "outputs": [],
   "source": [
    "grader.check(\"q1.2\")"
   ]
  },
  {
   "cell_type": "markdown",
   "id": "51efd786",
   "metadata": {
    "deletable": false,
    "editable": false,
    "tags": []
   },
   "source": [
    "## 2. Creating Arrays (15 pts)\n",
    "\n"
   ]
  },
  {
   "cell_type": "markdown",
   "id": "4df5423c",
   "metadata": {
    "deletable": false,
    "editable": false,
    "tags": []
   },
   "source": [
    "#### Part 2.1 (5 pts)\n"
   ]
  },
  {
   "cell_type": "markdown",
   "id": "5cf849d0",
   "metadata": {
    "deletable": false,
    "editable": false,
    "tags": []
   },
   "source": [
    "Make an array called `numbers` containing the following numbers (in the given order)\n",
    "\n",
    "1. -2\n",
    "2. the floor of 12.6\n",
    "3. 3\n",
    "4. 5 to the power of the ceil of 5.3\n",
    "\n",
    "*Hint:* `floor` and `ceil` are functions in the `math` module. Importing modules is covered in 2.1 of Lab 2!\n",
    "\n",
    "*Note:* Python lists are different/behave differently than NumPy arrays. In Data 8, we use NumPy arrays, so please make an **array**, not a Python list."
   ]
  },
  {
   "cell_type": "code",
   "execution_count": null,
   "id": "64c37f08",
   "metadata": {
    "deletable": false,
    "tags": []
   },
   "outputs": [],
   "source": [
    "# Our solution involved one extra line of code before creating\n",
    "# numbers.\n",
    "...\n",
    "numbers = ...\n",
    "numbers"
   ]
  },
  {
   "cell_type": "code",
   "execution_count": null,
   "id": "45e15ae0",
   "metadata": {
    "deletable": false,
    "editable": false
   },
   "outputs": [],
   "source": [
    "grader.check(\"q2.1\")"
   ]
  },
  {
   "cell_type": "markdown",
   "id": "c304f672",
   "metadata": {
    "deletable": false,
    "editable": false,
    "tags": []
   },
   "source": [
    "#### Part 2.2 (5 pts)\n"
   ]
  },
  {
   "cell_type": "markdown",
   "id": "2dd7ce44",
   "metadata": {
    "deletable": false,
    "editable": false
   },
   "source": [
    "Make an array called `book_title_words` containing the following three strings: \"Eats\", \"Shoots\", and \"and Leaves\"."
   ]
  },
  {
   "cell_type": "code",
   "execution_count": null,
   "id": "955e12be",
   "metadata": {
    "deletable": false,
    "tags": []
   },
   "outputs": [],
   "source": [
    "book_title_words = ...\n",
    "book_title_words"
   ]
  },
  {
   "cell_type": "code",
   "execution_count": null,
   "id": "0ccfa95e",
   "metadata": {
    "deletable": false,
    "editable": false
   },
   "outputs": [],
   "source": [
    "grader.check(\"q2.2\")"
   ]
  },
  {
   "cell_type": "markdown",
   "id": "b4c8e2e9",
   "metadata": {
    "deletable": false,
    "editable": false,
    "tags": []
   },
   "source": [
    "#### Part 2.3 (5 pts)\n"
   ]
  },
  {
   "cell_type": "markdown",
   "id": "c44ce01f",
   "metadata": {
    "deletable": false,
    "editable": false
   },
   "source": [
    "Strings have a method called `join`.  `join` takes one argument, an array of strings.  It returns a single string.  Specifically, the value of `a_string.join(an_array)` is a single string that's the [concatenation](https://en.wikipedia.org/wiki/Concatenation) (\"putting together\") of all the strings in `an_array`, **with** `a_string` inserted in between each string.\n",
    "\n",
    "Use the array `book_title_words` and the method `join` to make two strings:\n",
    "\n",
    "1. \"Eats, Shoots, and Leaves\" (call this one `with_commas`)\n",
    "2. \"Eats Shoots and Leaves\" (call this one `without_commas`)"
   ]
  },
  {
   "cell_type": "code",
   "execution_count": null,
   "id": "df976dfb",
   "metadata": {
    "deletable": false,
    "tags": []
   },
   "outputs": [],
   "source": [
    "with_commas = ...\n",
    "without_commas = ...\n",
    "\n",
    "# These lines are provided just to print out your answers.\n",
    "print('with_commas:', with_commas)\n",
    "print('without_commas:', without_commas)"
   ]
  },
  {
   "cell_type": "code",
   "execution_count": null,
   "id": "2f7a729d",
   "metadata": {
    "deletable": false,
    "editable": false
   },
   "outputs": [],
   "source": [
    "grader.check(\"q2.3\")"
   ]
  },
  {
   "cell_type": "markdown",
   "id": "c119a3bb",
   "metadata": {
    "deletable": false,
    "editable": false
   },
   "source": [
    "## 3. Indexing Arrays (25 pts)\n",
    "\n"
   ]
  },
  {
   "cell_type": "markdown",
   "id": "db6fc22c",
   "metadata": {
    "deletable": false,
    "editable": false
   },
   "source": [
    "These exercises give you practice accessing individual elements of arrays with the `array.item(index)` method.  In Python, elements are accessed by its *index*; for example, the first element is the element at index 0. Indices must be **integers**.\n",
    "\n",
    "***Note:* If you have previous coding experience, you may be familiar with bracket notation. DO NOT use bracket notation when indexing (i.e. `arr[0]`), as this can yield different data type outputs than what we will be expecting. This can cause you to fail an autograder test.**\n",
    "\n",
    "Be sure to refer to the [Python Reference](http://data8.org/fa21/python-reference.html) on the website if you feel stuck!"
   ]
  },
  {
   "cell_type": "markdown",
   "id": "33e14410",
   "metadata": {
    "deletable": false,
    "editable": false
   },
   "source": [
    "#### Part 3.1 (5 pts)\n"
   ]
  },
  {
   "cell_type": "markdown",
   "id": "82c130a0",
   "metadata": {
    "deletable": false,
    "editable": false
   },
   "source": [
    "The cell below creates an array of some numbers.  Set `third_element` to the third element of `some_numbers`."
   ]
  },
  {
   "cell_type": "code",
   "execution_count": null,
   "id": "3f849082",
   "metadata": {
    "deletable": false,
    "tags": []
   },
   "outputs": [],
   "source": [
    "some_numbers = make_array(-1, -3, -6, -10, -15)\n",
    "\n",
    "third_element = ...\n",
    "third_element"
   ]
  },
  {
   "cell_type": "code",
   "execution_count": null,
   "id": "935190fb",
   "metadata": {
    "deletable": false,
    "editable": false
   },
   "outputs": [],
   "source": [
    "grader.check(\"q3.1\")"
   ]
  },
  {
   "cell_type": "markdown",
   "id": "a15ba92c",
   "metadata": {
    "deletable": false,
    "editable": false
   },
   "source": [
    "#### Part 3.2 (5 pts)\n"
   ]
  },
  {
   "cell_type": "markdown",
   "id": "951f7f85",
   "metadata": {
    "deletable": false,
    "editable": false
   },
   "source": [
    "The next cell creates a table that displays some information about the elements of `some_numbers` and their order.  Run the cell to see the partially-completed table, then fill in the missing information (the cells that say \"Ellipsis\") by assigning `blank_a`, `blank_b`, `blank_c`, and `blank_d` to the correct elements in the table.\n",
    "\n",
    "*Hint:* Replace the `...` with strings or numbers. As a reminder, indices should be **integers**."
   ]
  },
  {
   "cell_type": "code",
   "execution_count": null,
   "id": "dee35403",
   "metadata": {
    "deletable": false,
    "for_assignment_type": "student",
    "tags": []
   },
   "outputs": [],
   "source": [
    "blank_a = ...\n",
    "blank_b = ...\n",
    "blank_c = ...\n",
    "blank_d = ...\n",
    "elements_of_some_numbers = Table().with_columns(\n",
    "    \"English name for position\", make_array(\"first\", \"second\", blank_a, blank_b, \"fifth\"),\n",
    "    \"Index\",                     make_array(blank_c, 1, 2, blank_d, 4),\n",
    "    \"Element\",                   some_numbers)\n",
    "elements_of_some_numbers"
   ]
  },
  {
   "cell_type": "code",
   "execution_count": null,
   "id": "f76f85de",
   "metadata": {
    "deletable": false,
    "editable": false
   },
   "outputs": [],
   "source": [
    "grader.check(\"q3.2\")"
   ]
  },
  {
   "cell_type": "markdown",
   "id": "d03582e0",
   "metadata": {
    "deletable": false,
    "editable": false
   },
   "source": [
    "#### Part 3.3 (5 pts)\n"
   ]
  },
  {
   "cell_type": "markdown",
   "id": "229f405c",
   "metadata": {
    "deletable": false,
    "editable": false
   },
   "source": [
    "You'll sometimes want to find the **last** element of an array.  Suppose an array has 142 elements.  What is the index of its last element?"
   ]
  },
  {
   "cell_type": "code",
   "execution_count": null,
   "id": "60ffd8d1",
   "metadata": {
    "deletable": false,
    "tags": []
   },
   "outputs": [],
   "source": [
    "index_of_last_element = ..."
   ]
  },
  {
   "cell_type": "code",
   "execution_count": null,
   "id": "fe752b82",
   "metadata": {
    "deletable": false,
    "editable": false
   },
   "outputs": [],
   "source": [
    "grader.check(\"q3.3\")"
   ]
  },
  {
   "cell_type": "markdown",
   "id": "e8d57f1a",
   "metadata": {
    "deletable": false,
    "editable": false
   },
   "source": [
    "#### Part 3.4 (5 pts)\n"
   ]
  },
  {
   "cell_type": "markdown",
   "id": "5f5c0c75",
   "metadata": {
    "deletable": false,
    "editable": false
   },
   "source": [
    "More often, you don't know the number of elements in an array, its *length*.  (For example, it might be a large dataset you found on the Internet.)  The function `len` takes a single argument, an array, and returns the `len`gth of that array (an integer).\n",
    "\n",
    "The cell below loads an array called `president_birth_years`.  Calling `tbl.column(...)` on a table returns an array of the column specified, in this case the `Birth Year` column of the `president_births` table. The last element in that array is the most recent among the birth years of all the deceased Presidents. Assign that year to `most_recent_birth_year`."
   ]
  },
  {
   "cell_type": "code",
   "execution_count": null,
   "id": "61552241",
   "metadata": {
    "deletable": false,
    "tags": []
   },
   "outputs": [],
   "source": [
    "president_birth_years = Table.read_table(\"president_births.csv\").column('Birth Year')\n",
    "\n",
    "most_recent_birth_year = ...\n",
    "most_recent_birth_year"
   ]
  },
  {
   "cell_type": "code",
   "execution_count": null,
   "id": "a7275b7c",
   "metadata": {
    "deletable": false,
    "editable": false
   },
   "outputs": [],
   "source": [
    "grader.check(\"q3.4\")"
   ]
  },
  {
   "cell_type": "markdown",
   "id": "cf59a311",
   "metadata": {
    "deletable": false,
    "editable": false
   },
   "source": [
    "#### Part 3.5 (5 pts)\n"
   ]
  },
  {
   "cell_type": "markdown",
   "id": "934eae22",
   "metadata": {
    "deletable": false,
    "editable": false
   },
   "source": [
    "Finally, assign `min_of_birth_years` to the minimum of the first, sixteenth, and last birth years listed in `president_birth_years`."
   ]
  },
  {
   "cell_type": "code",
   "execution_count": null,
   "id": "c963fd52",
   "metadata": {
    "deletable": false,
    "tags": []
   },
   "outputs": [],
   "source": [
    "min_of_birth_years = min(president_birth_years.item(0), president_birth_years.item(15), most_recent_birth_year)\n",
    "min_of_birth_years"
   ]
  },
  {
   "cell_type": "code",
   "execution_count": null,
   "id": "13fae3d9",
   "metadata": {
    "deletable": false,
    "editable": false
   },
   "outputs": [],
   "source": [
    "grader.check(\"q3.5\")"
   ]
  },
  {
   "cell_type": "markdown",
   "id": "1783f643",
   "metadata": {
    "deletable": false,
    "editable": false,
    "tags": []
   },
   "source": [
    "## 4. Basic Array Arithmetic (25 pts)\n",
    "\n"
   ]
  },
  {
   "cell_type": "markdown",
   "id": "3a5de99e",
   "metadata": {
    "deletable": false,
    "editable": false,
    "tags": []
   },
   "source": [
    "#### Part 4.1 (5 pts)\n"
   ]
  },
  {
   "cell_type": "markdown",
   "id": "fc265d75",
   "metadata": {
    "deletable": false,
    "editable": false
   },
   "source": [
    "Multiply the numbers 42, -4224, 424224242, and 250 by 157. Assign each variable below such that `first_product` is assigned to the result of $42 * 157$, `second_product` is assigned to the result of $-4224 * 157$, and so on.\n",
    "\n",
    "For this question, **don't** use arrays."
   ]
  },
  {
   "cell_type": "code",
   "execution_count": null,
   "id": "662127b6",
   "metadata": {
    "deletable": false,
    "tags": []
   },
   "outputs": [],
   "source": [
    "first_product = ...\n",
    "second_product = ...\n",
    "third_product = ...\n",
    "fourth_product = ...\n",
    "print(first_product, second_product, third_product, fourth_product)"
   ]
  },
  {
   "cell_type": "code",
   "execution_count": null,
   "id": "e1cb2dff",
   "metadata": {
    "deletable": false,
    "editable": false
   },
   "outputs": [],
   "source": [
    "grader.check(\"q4.1\")"
   ]
  },
  {
   "cell_type": "markdown",
   "id": "b087d6d8",
   "metadata": {
    "deletable": false,
    "editable": false
   },
   "source": [
    "#### Part 4.2 (5 pts)\n"
   ]
  },
  {
   "cell_type": "markdown",
   "id": "af068198",
   "metadata": {
    "deletable": false,
    "editable": false
   },
   "source": [
    "Now, do the same calculation, but using an array called `numbers` and only a single multiplication (`*`) operator.  Store the 4 results in an array named `products`."
   ]
  },
  {
   "cell_type": "code",
   "execution_count": null,
   "id": "38daf8a9",
   "metadata": {
    "deletable": false,
    "tags": []
   },
   "outputs": [],
   "source": [
    "numbers = ...\n",
    "products = ...\n",
    "products"
   ]
  },
  {
   "cell_type": "code",
   "execution_count": null,
   "id": "c11b6243",
   "metadata": {
    "deletable": false,
    "editable": false
   },
   "outputs": [],
   "source": [
    "grader.check(\"q4.2\")"
   ]
  },
  {
   "cell_type": "markdown",
   "id": "3cb63df2",
   "metadata": {
    "deletable": false,
    "editable": false
   },
   "source": [
    "#### Part 4.3 (5 pts)\n"
   ]
  },
  {
   "cell_type": "markdown",
   "id": "a19afbae",
   "metadata": {
    "deletable": false,
    "editable": false
   },
   "source": [
    "Oops, we made a typo!  Instead of 157, we wanted to multiply each number by 1577.  Compute the correct products in the cell below using array arithmetic.  Notice that your job is really easy if you previously defined an array containing the 4 numbers."
   ]
  },
  {
   "cell_type": "code",
   "execution_count": null,
   "id": "1ee22ff9",
   "metadata": {
    "deletable": false,
    "tags": []
   },
   "outputs": [],
   "source": [
    "correct_products = ...\n",
    "correct_products"
   ]
  },
  {
   "cell_type": "code",
   "execution_count": null,
   "id": "f5f58bca",
   "metadata": {
    "deletable": false,
    "editable": false
   },
   "outputs": [],
   "source": [
    "grader.check(\"q4.3\")"
   ]
  },
  {
   "cell_type": "markdown",
   "id": "831aece3",
   "metadata": {
    "deletable": false,
    "editable": false
   },
   "source": [
    "#### Part 4.4 (5 pts)\n"
   ]
  },
  {
   "cell_type": "markdown",
   "id": "650eb845",
   "metadata": {
    "deletable": false,
    "editable": false
   },
   "source": [
    "We've loaded an array of temperatures in the next cell.  Each number is the highest temperature observed on a day at a climate observation station, mostly from the US.  Since they're from the US government agency [NOAA](https://www.noaa.gov/), all the temperatures are in Fahrenheit.  Convert them all to Celsius by first subtracting 32 from them, then multiplying the results by $\\frac{5}{9}$. Make sure to **ROUND** the final result after converting to Celsius to the nearest integer using the `np.round` function."
   ]
  },
  {
   "cell_type": "code",
   "execution_count": null,
   "id": "1dce0ba5",
   "metadata": {
    "deletable": false,
    "tags": []
   },
   "outputs": [],
   "source": [
    "max_temperatures = Table.read_table(\"temperatures.csv\").column(\"Daily Max Temperature\")\n",
    "\n",
    "celsius_max_temperatures = ...\n",
    "celsius_max_temperatures"
   ]
  },
  {
   "cell_type": "code",
   "execution_count": null,
   "id": "8140ada1",
   "metadata": {
    "deletable": false,
    "editable": false
   },
   "outputs": [],
   "source": [
    "grader.check(\"q4.4\")"
   ]
  },
  {
   "cell_type": "markdown",
   "id": "f6f25f55",
   "metadata": {
    "deletable": false,
    "editable": false
   },
   "source": [
    "#### Part 4.5 (5 pts)\n"
   ]
  },
  {
   "cell_type": "markdown",
   "id": "759bf67b",
   "metadata": {
    "deletable": false,
    "editable": false
   },
   "source": [
    "The cell below loads all the *lowest* temperatures from each day (in Fahrenheit).  Compute the daily temperature range for each day. That is, compute the difference between each daily maximum temperature and the corresponding daily minimum temperature.  **Pay attention to the units, give your answer in Celsius!** Make sure **NOT** to round your answer for this question! \n",
    "\n",
    "*Note:* Remember that in the previous part, `celsius_max_temperatures` was rounded, so you might not want to use that in this question."
   ]
  },
  {
   "cell_type": "code",
   "execution_count": null,
   "id": "56f32050",
   "metadata": {
    "deletable": false,
    "tags": []
   },
   "outputs": [],
   "source": [
    "min_temperatures = Table.read_table(\"temperatures.csv\").column(\"Daily Min Temperature\")\n",
    "\n",
    "celsius_temperature_ranges = ...\n",
    "celsius_temperature_ranges"
   ]
  },
  {
   "cell_type": "code",
   "execution_count": null,
   "id": "997a5eff",
   "metadata": {
    "deletable": false,
    "editable": false
   },
   "outputs": [],
   "source": [
    "grader.check(\"q4.5\")"
   ]
  },
  {
   "cell_type": "markdown",
   "id": "20fcd770",
   "metadata": {
    "deletable": false,
    "editable": false
   },
   "source": [
    "## 5. Old Faithful (20 pts)\n",
    "\n"
   ]
  },
  {
   "cell_type": "markdown",
   "id": "4ce59e2b",
   "metadata": {
    "deletable": false,
    "editable": false
   },
   "source": [
    "[Old Faithful](https://en.wikipedia.org/wiki/Old_Faithful) is a geyser in Yellowstone that erupts every 44 to 125 minutes. People are [often told that the geyser erupts every hour](http://yellowstone.net/geysers/old-faithful/), but in fact the waiting time between eruptions is more variable. Let's take a look."
   ]
  },
  {
   "cell_type": "markdown",
   "id": "0c3b1a0c",
   "metadata": {
    "deletable": false,
    "editable": false
   },
   "source": [
    "#### Part 5.1 (5 pts)\n"
   ]
  },
  {
   "cell_type": "markdown",
   "id": "d314f8cd",
   "metadata": {
    "deletable": false,
    "editable": false
   },
   "source": [
    "The first line below assigns `waiting_times` to an array of 272 consecutive waiting times between eruptions, taken from a classic 1938 dataset. Assign the names `shortest`, `longest`, and `average` so that the `print` statement is correct. **(4 Points)**"
   ]
  },
  {
   "cell_type": "code",
   "execution_count": null,
   "id": "f236d59f",
   "metadata": {
    "deletable": false,
    "tags": []
   },
   "outputs": [],
   "source": [
    "waiting_times = Table.read_table('old_faithful.csv').column('waiting')\n",
    "\n",
    "shortest = ...\n",
    "longest = ...\n",
    "average = ...\n",
    "\n",
    "print(\"Old Faithful erupts every\", shortest, \"to\", longest, \"minutes and every\", average, \"minutes on average.\")"
   ]
  },
  {
   "cell_type": "code",
   "execution_count": null,
   "id": "0ba411f4",
   "metadata": {
    "deletable": false,
    "editable": false
   },
   "outputs": [],
   "source": [
    "grader.check(\"q5.1\")"
   ]
  },
  {
   "cell_type": "markdown",
   "id": "0d4bf5ba",
   "metadata": {
    "deletable": false,
    "editable": false
   },
   "source": [
    "#### Part 5.2 (5 pts)\n"
   ]
  },
  {
   "cell_type": "markdown",
   "id": "41437f75",
   "metadata": {
    "deletable": false,
    "editable": false
   },
   "source": [
    "Assign `biggest_decrease` to the biggest decrease in waiting time between two consecutive eruptions. For example, the third eruption occurred after 74 minutes and the fourth after 62 minutes, so the decrease in waiting time was 74 - 62 = 12 minutes.\n",
    "\n",
    "*Hint*: We want to return the absolute value of the biggest decrease."
   ]
  },
  {
   "cell_type": "code",
   "execution_count": null,
   "id": "63289adb",
   "metadata": {
    "deletable": false,
    "tags": []
   },
   "outputs": [],
   "source": [
    "# np.diff() calculates the difference between subsequent values  \n",
    "# in a NumPy array.\n",
    "differences = np.diff(waiting_times) \n",
    "biggest_decrease = ...\n",
    "biggest_decrease"
   ]
  },
  {
   "cell_type": "code",
   "execution_count": null,
   "id": "15017621",
   "metadata": {
    "deletable": false,
    "editable": false
   },
   "outputs": [],
   "source": [
    "grader.check(\"q5.2\")"
   ]
  },
  {
   "cell_type": "markdown",
   "id": "8cb3a9c3",
   "metadata": {
    "deletable": false,
    "editable": false
   },
   "source": [
    "#### Part 5.3 (5 pts)\n"
   ]
  },
  {
   "cell_type": "markdown",
   "id": "40b71690",
   "metadata": {
    "deletable": false,
    "editable": false
   },
   "source": [
    "Suppose the surveyors started watching Old Faithful at the start of the first eruption. Assume that they watch until the end of the tenth eruption. For some of that time they will be watching eruptions, and for the rest of the time they will be waiting for Old Faithful to erupt. How many minutes will they spend waiting for eruptions?\n",
    "\n",
    "*Hint:* One way to approach this problem is to use the `take` or `where` method on the table `faithful`. \n",
    "\n",
    "*Another Hint:* `first_nine_waiting_times` must be an array."
   ]
  },
  {
   "cell_type": "code",
   "execution_count": null,
   "id": "5840b2f6",
   "metadata": {
    "deletable": false,
    "tags": []
   },
   "outputs": [],
   "source": [
    "faithful = Table.read_table('old_faithful.csv')\n",
    "\n",
    "faithful_with_eruption_nums = ...\n",
    "first_nine_waiting_times = ...\n",
    "total_waiting_time_until_tenth = ...\n",
    "total_waiting_time_until_tenth"
   ]
  },
  {
   "cell_type": "code",
   "execution_count": null,
   "id": "5869e8a7",
   "metadata": {
    "deletable": false,
    "editable": false
   },
   "outputs": [],
   "source": [
    "grader.check(\"q5.3\")"
   ]
  },
  {
   "cell_type": "markdown",
   "id": "25f4a0fe",
   "metadata": {
    "deletable": false,
    "editable": false
   },
   "source": [
    "#### Part 5.4 (5 pts)\n"
   ]
  },
  {
   "cell_type": "markdown",
   "id": "42d1ae63",
   "metadata": {
    "deletable": false,
    "editable": false
   },
   "source": [
    "Let’s imagine your guess for the next waiting time was always just the length of the previous waiting time. If you always guessed the previous waiting time, how big would your error in guessing the waiting times be, on average? **(4 Points)**\n",
    "\n",
    "For example, since the first four waiting times are 79, 54, 74, and 62, the average difference between your guess and the actual time for just the second, third, and fourth eruptions would be $\\frac{|79-54|+ |54-74|+ |74-62|}{3} = 19$."
   ]
  },
  {
   "cell_type": "code",
   "execution_count": null,
   "id": "b3168827",
   "metadata": {
    "deletable": false,
    "tags": []
   },
   "outputs": [],
   "source": [
    "differences = np.diff(waiting_times)\n",
    "average_error = ...\n",
    "average_error"
   ]
  },
  {
   "cell_type": "code",
   "execution_count": null,
   "id": "d04c4c2d",
   "metadata": {
    "deletable": false,
    "editable": false
   },
   "outputs": [],
   "source": [
    "grader.check(\"q5.4\")"
   ]
  },
  {
   "cell_type": "markdown",
   "id": "21367b84",
   "metadata": {
    "deletable": false,
    "editable": false
   },
   "source": [
    "## 6. Manipulating Tables (35 pts)\n",
    "\n"
   ]
  },
  {
   "cell_type": "markdown",
   "id": "d515d738",
   "metadata": {
    "deletable": false,
    "editable": false
   },
   "source": [
    "#### Part 6.1 (5 pts)\n"
   ]
  },
  {
   "cell_type": "markdown",
   "id": "3a78c0ec",
   "metadata": {
    "deletable": false,
    "editable": false
   },
   "source": [
    "Suppose you have 4 apples, 3 oranges, and 3 pineapples.  Create a table that contains this information.  It should have two columns: `fruit name` and `count`.  Assign the new table to the variable `fruits`.\n",
    "\n",
    "**Note:** Use lower-case and singular words for the name of each fruit, like `\"apple\"`."
   ]
  },
  {
   "cell_type": "code",
   "execution_count": null,
   "id": "db5b5511",
   "metadata": {
    "deletable": false,
    "tags": []
   },
   "outputs": [],
   "source": [
    "# Our solution uses 1 statement split over several lines.\n",
    "fruits = ...\n",
    "    ...\n",
    "    ...\n",
    "...\n",
    "fruits"
   ]
  },
  {
   "cell_type": "code",
   "execution_count": null,
   "id": "f0d081b4",
   "metadata": {
    "deletable": false,
    "editable": false
   },
   "outputs": [],
   "source": [
    "grader.check(\"q6.1\")"
   ]
  },
  {
   "cell_type": "markdown",
   "id": "76d328af",
   "metadata": {
    "deletable": false,
    "editable": false,
    "tags": []
   },
   "source": [
    "#### Part 6.2 (5 pts)\n"
   ]
  },
  {
   "cell_type": "markdown",
   "id": "23ee6615",
   "metadata": {
    "deletable": false,
    "editable": false
   },
   "source": [
    "The file `inventory.csv` contains information about the inventory at a fruit stand.  Each row represents the contents of one box of fruit. Load it as a table named `inventory` using the `Table.read_table()` function. `Table.read_table(...)` takes one argument (data file name in string format) and returns a table."
   ]
  },
  {
   "cell_type": "code",
   "execution_count": null,
   "id": "a8502958",
   "metadata": {
    "deletable": false,
    "tags": []
   },
   "outputs": [],
   "source": [
    "inventory = ...\n",
    "inventory"
   ]
  },
  {
   "cell_type": "code",
   "execution_count": null,
   "id": "c09c6a0a",
   "metadata": {
    "deletable": false,
    "editable": false
   },
   "outputs": [],
   "source": [
    "grader.check(\"q6.2\")"
   ]
  },
  {
   "cell_type": "markdown",
   "id": "cd035399",
   "metadata": {
    "deletable": false,
    "editable": false
   },
   "source": [
    "#### Part 6.3 (5 pts)\n"
   ]
  },
  {
   "cell_type": "markdown",
   "id": "56bf2d9c",
   "metadata": {
    "deletable": false,
    "editable": false
   },
   "source": [
    "Does each box at the fruit stand contain a different fruit? Set `all_different` to `True` if each box contains a different fruit or to `False` if multiple boxes contain the same fruit.\n",
    "\n",
    "*Hint:* You don't have to write code to calculate the True/False value for `all_different`. Just look at the `inventory` table and assign `all_different` to either `True` or `False` according to what you can see from the table in answering the question."
   ]
  },
  {
   "cell_type": "code",
   "execution_count": null,
   "id": "37e34960",
   "metadata": {
    "deletable": false,
    "tags": []
   },
   "outputs": [],
   "source": [
    "all_different = ...\n",
    "all_different"
   ]
  },
  {
   "cell_type": "code",
   "execution_count": null,
   "id": "b91d5639",
   "metadata": {
    "deletable": false,
    "editable": false
   },
   "outputs": [],
   "source": [
    "grader.check(\"q6.3\")"
   ]
  },
  {
   "cell_type": "markdown",
   "id": "ca5b874e",
   "metadata": {
    "deletable": false,
    "editable": false
   },
   "source": [
    "#### Part 6.4 (5 pts)\n"
   ]
  },
  {
   "cell_type": "markdown",
   "id": "accb6a70",
   "metadata": {
    "deletable": false,
    "editable": false
   },
   "source": [
    "The file `sales.csv` contains the number of fruit sold from each box in one day.  It has an extra column called \"price per fruit (\\$)\" that's the price *per item of fruit* for fruit in that box.  The rows are in the same order as the `inventory` table.  Load these data into a table called `sales`."
   ]
  },
  {
   "cell_type": "code",
   "execution_count": null,
   "id": "aaf230c1",
   "metadata": {
    "deletable": false,
    "tags": []
   },
   "outputs": [],
   "source": [
    "sales = ...\n",
    "sales"
   ]
  },
  {
   "cell_type": "code",
   "execution_count": null,
   "id": "e3aba0f0",
   "metadata": {
    "deletable": false,
    "editable": false
   },
   "outputs": [],
   "source": [
    "grader.check(\"q6.4\")"
   ]
  },
  {
   "cell_type": "markdown",
   "id": "fab924af",
   "metadata": {
    "deletable": false,
    "editable": false
   },
   "source": [
    "#### Part 6.5 (5 pts)\n"
   ]
  },
  {
   "cell_type": "markdown",
   "id": "c856cfdd",
   "metadata": {
    "deletable": false,
    "editable": false
   },
   "source": [
    "How many fruits did the store sell in total on that day?"
   ]
  },
  {
   "cell_type": "code",
   "execution_count": null,
   "id": "282ba19e",
   "metadata": {
    "deletable": false,
    "tags": []
   },
   "outputs": [],
   "source": [
    "total_fruits_sold = ...\n",
    "total_fruits_sold"
   ]
  },
  {
   "cell_type": "code",
   "execution_count": null,
   "id": "332ab9bd",
   "metadata": {
    "deletable": false,
    "editable": false
   },
   "outputs": [],
   "source": [
    "grader.check(\"q6.5\")"
   ]
  },
  {
   "cell_type": "markdown",
   "id": "e3ac938e",
   "metadata": {
    "deletable": false,
    "editable": false
   },
   "source": [
    "#### Part 6.6 (5 pts)\n"
   ]
  },
  {
   "cell_type": "markdown",
   "id": "101caa36",
   "metadata": {
    "deletable": false,
    "editable": false
   },
   "source": [
    "What was the store's total revenue (the total price of all fruits sold) on that day?\n",
    "\n",
    "*Hint:* If you're stuck, think first about how you would compute the total revenue from just the grape sales."
   ]
  },
  {
   "cell_type": "code",
   "execution_count": null,
   "id": "03b9253a",
   "metadata": {
    "deletable": false,
    "tags": []
   },
   "outputs": [],
   "source": [
    "total_revenue = ...\n",
    "total_revenue"
   ]
  },
  {
   "cell_type": "code",
   "execution_count": null,
   "id": "3b934a4a",
   "metadata": {
    "deletable": false,
    "editable": false
   },
   "outputs": [],
   "source": [
    "grader.check(\"q6.6\")"
   ]
  },
  {
   "cell_type": "markdown",
   "id": "ee67579e",
   "metadata": {
    "deletable": false,
    "editable": false
   },
   "source": [
    "#### Part 6.7 (5 pts)\n"
   ]
  },
  {
   "cell_type": "markdown",
   "id": "b4108998",
   "metadata": {
    "deletable": false,
    "editable": false
   },
   "source": [
    "Make a new table called `remaining_inventory`.  It should have the same rows and columns as `inventory`, except that the amount of fruit sold from each box should be subtracted from that box's **original** count, so that the \"count\" is **updated to be** the amount of fruit remaining after that day's sales."
   ]
  },
  {
   "cell_type": "code",
   "execution_count": null,
   "id": "2c946544",
   "metadata": {
    "deletable": false,
    "tags": []
   },
   "outputs": [],
   "source": [
    "remaining_inventory = ...\n",
    "    ...\n",
    "...\n",
    "...\n",
    "\n",
    "remaining_inventory"
   ]
  },
  {
   "cell_type": "code",
   "execution_count": null,
   "id": "98559b1d",
   "metadata": {
    "deletable": false,
    "editable": false
   },
   "outputs": [],
   "source": [
    "grader.check(\"q6.7\")"
   ]
  },
  {
   "cell_type": "markdown",
   "id": "e733dd3f",
   "metadata": {
    "deletable": false,
    "editable": false
   },
   "source": [
    "## 7. You're Done!\n"
   ]
  },
  {
   "cell_type": "markdown",
   "id": "2404b586",
   "metadata": {
    "deletable": false,
    "editable": false
   },
   "source": [
    "**Important submission information:** Follow these steps to submit your work:\n",
    "* Run the tests and verify that they pass as you expect. \n",
    "* Choose **Save Notebook** from the **File** menu.\n",
    "* **Run the final cell** and click the link below to download the zip file. \n",
    "\n",
    "Once you have downloaded that file, go to [Gradescope](https://www.gradescope.com/) and submit the zip file to the corresponding assignment. The name of this assignment is \"Lab 2 Autograder\". **Be sure your work is saved before running the last cell!**\n",
    "\n",
    "Once you have submitted, your Gradescope assignment should show you passing all the tests you passed in your assignment notebook."
   ]
  },
  {
   "cell_type": "markdown",
   "id": "d2bfea1d",
   "metadata": {
    "deletable": false,
    "editable": false
   },
   "source": [
    "---\n",
    "\n",
    "To double-check your work, the cell below will rerun all of the autograder tests."
   ]
  },
  {
   "cell_type": "code",
   "execution_count": null,
   "id": "3f3fbb01",
   "metadata": {
    "deletable": false,
    "editable": false
   },
   "outputs": [],
   "source": [
    "grader.check_all()"
   ]
  },
  {
   "cell_type": "markdown",
   "id": "a5b31878",
   "metadata": {
    "deletable": false,
    "editable": false
   },
   "source": [
    "## Submission\n",
    "\n",
    "Make sure you have run all cells in your notebook in order before running the cell below, so that all images/graphs appear in the output. The cell below will generate a zip file for you to submit. **Please save before exporting!**"
   ]
  },
  {
   "cell_type": "code",
   "execution_count": null,
   "id": "cc142947",
   "metadata": {
    "deletable": false,
    "editable": false
   },
   "outputs": [],
   "source": [
    "# Save your notebook first, then run this cell to export your submission.\n",
    "grader.export()"
   ]
  },
  {
   "cell_type": "markdown",
   "id": "26be877d",
   "metadata": {},
   "source": [
    " "
   ]
  }
 ],
 "metadata": {
  "kernelspec": {
   "display_name": "Python 3 (ipykernel)",
   "language": "python",
   "name": "python3"
  },
  "language_info": {
   "codemirror_mode": {
    "name": "ipython",
    "version": 3
   },
   "file_extension": ".py",
   "mimetype": "text/x-python",
   "name": "python",
   "nbconvert_exporter": "python",
   "pygments_lexer": "ipython3",
   "version": "3.9.13"
  },
  "otter": {
   "tests": {
    "q1.1": {
     "name": "q1.1",
     "points": null,
     "suites": [
      {
       "cases": [
        {
         "code": ">>> type(above_eight) == tables.Table\nTrue",
         "hidden": false,
         "locked": false
        },
        {
         "code": ">>> above_eight.num_rows == 30\nTrue",
         "hidden": false,
         "locked": false
        },
        {
         "code": ">>> # Make sure your columns are in the right order!\n>>> # First column should be 'Title', second column should be 'Rating'\n>>> print(above_eight.sort(0).take([17]))\nTitle     | Rating\nSpotlight | 8.03928\n",
         "hidden": false,
         "locked": false
        }
       ],
       "scored": true,
       "setup": "",
       "teardown": "",
       "type": "doctest"
      }
     ]
    },
    "q1.2": {
     "name": "q1.2",
     "points": null,
     "suites": [
      {
       "cases": [
        {
         "code": ">>> proportion_in_20th_century == 0.616\nTrue",
         "hidden": false,
         "locked": false
        },
        {
         "code": ">>> proportion_in_21st_century == 0.384\nTrue",
         "hidden": false,
         "locked": false
        }
       ],
       "scored": true,
       "setup": "",
       "teardown": "",
       "type": "doctest"
      }
     ]
    },
    "q2.1": {
     "name": "q2.1",
     "points": null,
     "suites": [
      {
       "cases": [
        {
         "code": ">>> len(numbers)\n4",
         "failure_message": "Be sure to create an array with four elements.",
         "hidden": false,
         "locked": false,
         "points": 0
        }
       ],
       "scored": true,
       "setup": "",
       "teardown": "",
       "type": "doctest"
      }
     ]
    },
    "q2.2": {
     "name": "q2.2",
     "points": null,
     "suites": [
      {
       "cases": [
        {
         "code": ">>> import numpy as np\n>>> type(book_title_words) == np.ndarray\nTrue",
         "failure_message": "Be sure to use make_array to create an array.",
         "hidden": false,
         "locked": false,
         "points": 0
        },
        {
         "code": ">>> len(book_title_words) == 3\nTrue",
         "hidden": false,
         "locked": false
        },
        {
         "code": ">>> book_title_words.item(0) == 'Eats'\nTrue",
         "hidden": false,
         "locked": false
        },
        {
         "code": ">>> book_title_words.item(1) == 'Shoots'\nTrue",
         "hidden": false,
         "locked": false
        },
        {
         "code": ">>> book_title_words.item(2) == 'and Leaves'\nTrue",
         "hidden": false,
         "locked": false
        }
       ],
       "scored": true,
       "setup": "",
       "teardown": "",
       "type": "doctest"
      }
     ]
    },
    "q2.3": {
     "name": "q2.3",
     "points": null,
     "suites": [
      {
       "cases": [
        {
         "code": ">>> with_commas == 'Eats, Shoots, and Leaves'\nTrue",
         "hidden": false,
         "locked": false
        },
        {
         "code": ">>> without_commas == 'Eats Shoots and Leaves'\nTrue",
         "hidden": false,
         "locked": false
        }
       ],
       "scored": true,
       "setup": "",
       "teardown": "",
       "type": "doctest"
      }
     ]
    },
    "q3.1": {
     "name": "q3.1",
     "points": null,
     "suites": [
      {
       "cases": [
        {
         "code": ">>> third_element != -3\nTrue",
         "failure_message": "Remember that indices start at 0...",
         "hidden": false,
         "locked": false,
         "points": 0
        }
       ],
       "scored": true,
       "setup": "",
       "teardown": "",
       "type": "doctest"
      }
     ]
    },
    "q3.2": {
     "name": "q3.2",
     "points": null,
     "suites": [
      {
       "cases": [
        {
         "code": ">>> elements_of_some_numbers.column(0).item(2) == 'third'\nTrue",
         "hidden": false,
         "locked": false
        },
        {
         "code": ">>> elements_of_some_numbers.column(0).item(3) == 'fourth'\nTrue",
         "hidden": false,
         "locked": false
        },
        {
         "code": ">>> elements_of_some_numbers.column(1).item(0) == 0\nTrue",
         "hidden": false,
         "locked": false
        },
        {
         "code": ">>> elements_of_some_numbers.column(1).item(3) == 3\nTrue",
         "hidden": false,
         "locked": false
        }
       ],
       "scored": true,
       "setup": "",
       "teardown": "",
       "type": "doctest"
      }
     ]
    },
    "q3.3": {
     "name": "q3.3",
     "points": null,
     "suites": [
      {
       "cases": [
        {
         "code": ">>> index_of_last_element == 141\nTrue",
         "hidden": false,
         "locked": false
        }
       ],
       "scored": true,
       "setup": "",
       "teardown": "",
       "type": "doctest"
      }
     ]
    },
    "q3.4": {
     "name": "q3.4",
     "points": null,
     "suites": [
      {
       "cases": [
        {
         "code": ">>> most_recent_birth_year == 1917\nTrue",
         "hidden": false,
         "locked": false
        }
       ],
       "scored": true,
       "setup": "",
       "teardown": "",
       "type": "doctest"
      }
     ]
    },
    "q3.5": {
     "name": "q3.5",
     "points": null,
     "suites": [
      {
       "cases": [
        {
         "code": ">>> min_of_birth_years > 0\nTrue",
         "hidden": false,
         "locked": false,
         "points": 0
        }
       ],
       "scored": true,
       "setup": "",
       "teardown": "",
       "type": "doctest"
      }
     ]
    },
    "q4.1": {
     "name": "q4.1",
     "points": null,
     "suites": [
      {
       "cases": [
        {
         "code": ">>> first_product == 6594\nTrue",
         "hidden": false,
         "locked": false
        },
        {
         "code": ">>> second_product == -663168\nTrue",
         "hidden": false,
         "locked": false
        },
        {
         "code": ">>> third_product == 380603205994\nTrue",
         "hidden": false,
         "locked": false
        },
        {
         "code": ">>> fourth_product == 39250\nTrue",
         "hidden": false,
         "locked": false
        }
       ],
       "scored": true,
       "setup": "",
       "teardown": "",
       "type": "doctest"
      }
     ]
    },
    "q4.2": {
     "name": "q4.2",
     "points": null,
     "suites": [
      {
       "cases": [
        {
         "code": ">>> np.array_equal(products, [       6594,     -663168, 38029205994,       39250])\nTrue",
         "hidden": false,
         "locked": false
        }
       ],
       "scored": true,
       "setup": "",
       "teardown": "",
       "type": "doctest"
      }
     ]
    },
    "q4.3": {
     "name": "q4.3",
     "points": null,
     "suites": [
      {
       "cases": [
        {
         "code": ">>> np.array_equal(products, [       66234,     -6661248, 381987629634,       394250])\nFalse",
         "hidden": false,
         "locked": false
        }
       ],
       "scored": true,
       "setup": "",
       "teardown": "",
       "type": "doctest"
      }
     ]
    },
    "q4.4": {
     "name": "q4.4",
     "points": null,
     "suites": [
      {
       "cases": [
        {
         "code": ">>> celsius_max_temperatures.item(0) == 13\nTrue",
         "hidden": false,
         "locked": false
        },
        {
         "code": ">>> celsius_max_temperatures.item(len(celsius_max_temperatures) - 1) == 78\nTrue",
         "hidden": false,
         "locked": false
        },
        {
         "code": ">>> celsius_max_temperatures.item(50) == 62\nTrue",
         "hidden": false,
         "locked": false
        }
       ],
       "scored": true,
       "setup": "",
       "teardown": "",
       "type": "doctest"
      }
     ]
    },
    "q4.5": {
     "name": "q4.5",
     "points": null,
     "suites": [
      {
       "cases": [
        {
         "code": ">>> celsius_temperature_ranges.item(0) == 22.0\nTrue",
         "hidden": false,
         "locked": false
        },
        {
         "code": ">>> celsius_temperature_ranges.item(len(celsius_max_temperatures) - 1) == 36.0\nTrue",
         "hidden": false,
         "locked": false
        },
        {
         "code": ">>> celsius_temperature_ranges.item(50) == 38.0\nTrue",
         "hidden": false,
         "locked": false
        }
       ],
       "scored": true,
       "setup": "",
       "teardown": "",
       "type": "doctest"
      }
     ]
    },
    "q5.1": {
     "name": "q5.1",
     "points": null,
     "suites": [
      {
       "cases": [
        {
         "code": ">>> shortest > 40\nTrue",
         "hidden": false,
         "locked": false
        },
        {
         "code": ">>> longest > shortest\nTrue",
         "hidden": false,
         "locked": false
        },
        {
         "code": ">>> shortest == 43\nTrue",
         "hidden": false,
         "locked": false
        },
        {
         "code": ">>> longest == 96\nTrue",
         "hidden": false,
         "locked": false
        },
        {
         "code": ">>> np.isclose(average,70.897058823)\nTrue",
         "hidden": false,
         "locked": false
        }
       ],
       "scored": true,
       "setup": "",
       "teardown": "",
       "type": "doctest"
      }
     ]
    },
    "q5.2": {
     "name": "q5.2",
     "points": null,
     "suites": [
      {
       "cases": [
        {
         "code": ">>> biggest_decrease > 0\nTrue",
         "hidden": false,
         "locked": false
        },
        {
         "code": ">>> biggest_decrease == 45\nTrue",
         "hidden": false,
         "locked": false
        }
       ],
       "scored": true,
       "setup": "",
       "teardown": "",
       "type": "doctest"
      }
     ]
    },
    "q5.3": {
     "name": "q5.3",
     "points": null,
     "suites": [
      {
       "cases": [
        {
         "code": ">>> total_waiting_time_until_tenth > 0\nTrue",
         "hidden": false,
         "locked": false
        },
        {
         "code": ">>> total_waiting_time_until_tenth == 85\nTrue",
         "hidden": false,
         "locked": false
        }
       ],
       "scored": true,
       "setup": "",
       "teardown": "",
       "type": "doctest"
      }
     ]
    },
    "q5.4": {
     "name": "q5.4",
     "points": null,
     "suites": [
      {
       "cases": [
        {
         "code": ">>> average_error > 0\nTrue",
         "hidden": false,
         "locked": false
        },
        {
         "code": ">>> np.isclose(average_error, 20.52029520295203)\nTrue",
         "hidden": false,
         "locked": false
        }
       ],
       "scored": true,
       "setup": "",
       "teardown": "",
       "type": "doctest"
      }
     ]
    },
    "q6.1": {
     "name": "q6.1",
     "points": null,
     "suites": [
      {
       "cases": [
        {
         "code": ">>> fruits.labels == ('fruit name', 'count')\nTrue",
         "hidden": false,
         "locked": false
        },
        {
         "code": ">>> fruits.num_rows == 3\nTrue",
         "hidden": false,
         "locked": false
        },
        {
         "code": ">>> np.array_equiv(fruits.column(\"fruit name\"), ['apple', 'orange', 'pineapple'])\nTrue",
         "hidden": false,
         "locked": false
        },
        {
         "code": ">>> np.array_equiv(fruits.column(\"count\"), [4, 3, 2])\nTrue",
         "hidden": false,
         "locked": false
        }
       ],
       "scored": true,
       "setup": "",
       "teardown": "",
       "type": "doctest"
      }
     ]
    },
    "q6.2": {
     "name": "q6.2",
     "points": null,
     "suites": [
      {
       "cases": [
        {
         "code": ">>> inventory.num_rows == 8\nTrue",
         "hidden": false,
         "locked": false
        },
        {
         "code": ">>> inventory.labels == ('box ID', 'fruit name', 'count')\nTrue",
         "hidden": false,
         "locked": false
        }
       ],
       "scored": true,
       "setup": "",
       "teardown": "",
       "type": "doctest"
      }
     ]
    },
    "q6.3": {
     "name": "q6.3",
     "points": null,
     "suites": [
      {
       "cases": [
        {
         "code": ">>> type(all_different) == bool\nTrue",
         "hidden": false,
         "locked": false
        },
        {
         "code": ">>> all_different == False\nTrue",
         "hidden": false,
         "locked": false
        }
       ],
       "scored": true,
       "setup": "",
       "teardown": "",
       "type": "doctest"
      }
     ]
    },
    "q6.4": {
     "name": "q6.4",
     "points": null,
     "suites": [
      {
       "cases": [
        {
         "code": ">>> sales.num_rows == 8\nTrue",
         "hidden": false,
         "locked": false
        },
        {
         "code": ">>> sales.row(0).item(\"count sold\") == 3\nTrue",
         "hidden": false,
         "locked": false
        },
        {
         "code": ">>> sales.row(4).item(\"price per fruit ($)\") == 0.15\nTrue",
         "hidden": false,
         "locked": false
        }
       ],
       "scored": true,
       "setup": "",
       "teardown": "",
       "type": "doctest"
      }
     ]
    },
    "q6.5": {
     "name": "q6.5",
     "points": null,
     "suites": [
      {
       "cases": [
        {
         "code": ">>> total_fruits_sold >= 0\nTrue",
         "hidden": false,
         "locked": false
        },
        {
         "code": ">>> total_fruits_sold == 638\nTrue",
         "hidden": false,
         "locked": false
        }
       ],
       "scored": true,
       "setup": "",
       "teardown": "",
       "type": "doctest"
      }
     ]
    },
    "q6.6": {
     "name": "q6.6",
     "points": null,
     "suites": [
      {
       "cases": [
        {
         "code": ">>> total_revenue >= 0\nTrue",
         "hidden": false,
         "locked": false
        },
        {
         "code": ">>> total_revenue == 106.85\nTrue",
         "hidden": false,
         "locked": false
        }
       ],
       "scored": true,
       "setup": "",
       "teardown": "",
       "type": "doctest"
      }
     ]
    },
    "q6.7": {
     "name": "q6.7",
     "points": null,
     "suites": [
      {
       "cases": [
        {
         "code": ">>> remaining_inventory.num_rows == 8\nTrue",
         "hidden": false,
         "locked": false
        },
        {
         "code": ">>> remaining_inventory.labels == ('box ID', 'fruit name', 'count')\nTrue",
         "hidden": false,
         "locked": false
        },
        {
         "code": ">>> remaining_inventory.column(\"count\").item(0) == 42\nTrue",
         "hidden": false,
         "locked": false
        },
        {
         "code": ">>> remaining_inventory.column(\"count\").item(2) == 20\nTrue",
         "hidden": false,
         "locked": false
        }
       ],
       "scored": true,
       "setup": "",
       "teardown": "",
       "type": "doctest"
      }
     ]
    }
   }
  }
 },
 "nbformat": 4,
 "nbformat_minor": 5
}
