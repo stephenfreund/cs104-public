{
 "cells": [
  {
   "cell_type": "code",
   "execution_count": null,
   "id": "ed80f446",
   "metadata": {
    "deletable": false,
    "editable": false
   },
   "outputs": [],
   "source": [
    "# Initialize Otter\n",
    "import otter\n",
    "grader = otter.Notebook(\"project1.ipynb\")"
   ]
  },
  {
   "cell_type": "markdown",
   "id": "887fe4bf",
   "metadata": {
    "deletable": false,
    "editable": false
   },
   "source": [
    "# Project 1: World Progress"
   ]
  },
  {
   "cell_type": "markdown",
   "id": "8e6414d6",
   "metadata": {
    "deletable": false,
    "editable": false
   },
   "source": [
    "In this project, you'll explore data from [Gapminder.org](http://gapminder.org), a website dedicated to providing a fact-based view of the world and how it has changed. That site includes several data visualizations and presentations, but also publishes the raw data that we will use in this project to recreate and extend some of their most famous visualizations.\n",
    "\n",
    "The Gapminder website collects data from many sources and compiles them into tables that describe many countries around the world. All of the data they aggregate are published in the [Systema Globalis](https://github.com/open-numbers/ddf--gapminder--systema_globalis/blob/master/README.md). Their goal is \"to compile all public statistics; Social, Economic and Environmental; into a comparable total dataset.\" All data sets in this project are copied directly from the Systema Globalis without any changes."
   ]
  },
  {
   "cell_type": "markdown",
   "id": "7b2946d2",
   "metadata": {
    "deletable": false,
    "editable": false
   },
   "source": [
    "### Logistics\n",
    "\n",
    "**Deadline.**  This project is due at **11:59pm PT on Friday 10/1**. Projects will be accepted up to 2 days (48 hours) late. Projects submitted fewer than 24 hours after the deadline will receive 2/3 credit, and projects submitted between 24 and 48 hours after the deadline will receive 1/3 credit. Projects submitted 48 hours or more after the deadline will receive no credit. It's **much** better to be early than late, so start working now.\n",
    "\n",
    "**Checkpoint.**  For full credit on the checkpoint, you must complete the first 8 questions, pass all public autograder tests for those sections, and submit to the Gradescope Project 1 Checkpoint assignment by **11:59pm PT on Friday, 9/24**. **This is worth 5% of your entire project grade**. After you've submitted the checkpoint, you may still change your answers before the project deadline - only your final submission, to the Project 1 assignment, will be graded for correctness. You will have some lab time to work on these questions, but we recommend that you start the project before lab and leave time to finish the checkpoint afterward.\n",
    "\n",
    "**Partners.** You may work with one other partner; your partner must be from your assigned lab section. **Only one of you is allowed to submit the project. If both partners submit, you will be docked 10% of your project grade. On Gradescope, the person who submits should also designate their partner so that both of you receive credit.** Once you submit, click into your submission, and there will be an option to Add Group Member in the top right corner. You may also reference [this walkthrough video](https://drive.google.com/file/d/1POtij6KECSBjCUeOC_F0Lt3ZmKN7LKIq/view?usp=sharing) on how to add partners on Gradescope.\n",
    "\n",
    "\n",
    "**Rules.** Don't share your code with anybody but your partner. You are welcome to discuss questions with other students, but don't share the answers. The experience of solving the problems in this project will prepare you for exams (and life). If someone asks you for the answer, resist! Instead, you can demonstrate how you would solve a similar problem.\n",
    "\n",
    "**Support.** You are not alone! Come to office hours, post on Ed, and talk to your classmates. If you want to ask about the details of your solution to a problem, make a private Ed post and the staff will respond. If you're ever feeling overwhelmed or don't know how to make progress, email your TA or tutor for help. You can find contact information for the staff on the [course website](http://data8.org/fa21/staff.html).\n",
    "\n",
    "**Tests.** The tests that are given are **not comprehensive** and passing the tests for a question **does not** mean that you answered the question correctly. Tests usually only check that your table has the correct column labels. However, more tests will be applied to verify the correctness of your submission in order to assign your final score, so be careful and check your work! You might want to create your own checks along the way to see if your answers make sense. Additionally, before you submit, make sure that none of your cells take a very long time to run (several minutes).\n",
    "\n",
    "**Free Response Questions:** Make sure that you put the answers to the written questions in the indicated cell we provide. **Every free response question should include an explanation** that adequately answers the question.\n",
    "\n",
    "**Tabular Thinking Guide:** Feel free to reference [Tabular Thinking Guide](https://drive.google.com/file/d/1NvbBECCBdI0Ku380oPcTUOcpjH3RI230/view) for extra guidance.\n",
    "\n",
    "**Advice.** Develop your answers incrementally. To perform a complicated table manipulation, break it up into steps, perform each step on a different line, give a new name to each result, and check that each intermediate result is what you expect. You can add any additional names or functions you want to the provided cells. Make sure that you are using distinct and meaningful variable names throughout the notebook. Along that line, **DO NOT** reuse the variable names that we use when we grade your answers. For example, in Question 1 of the Global Poverty section we ask you to assign an answer to `latest`. Do not reassign the variable name `latest` to anything else in your notebook, otherwise there is the chance that our tests grade against what `latest` was reassigned to.\n",
    "\n",
    "You **never** have to use just one line in this project or any others. Use intermediate variables and multiple lines as much as you would like!\n",
    "\n",
    "---\n",
    "\n",
    "To get started, load `datascience`, `numpy`, and `plots`."
   ]
  },
  {
   "cell_type": "code",
   "execution_count": null,
   "id": "3efcfe64",
   "metadata": {
    "deletable": false,
    "editable": false
   },
   "outputs": [],
   "source": [
    "# Run this cell to set up the notebook, but please don't change it.\n",
    "\n",
    "# These lines import the NumPy and Datascience modules.\n",
    "from datascience import *\n",
    "import numpy as np\n",
    "\n",
    "# These lines do some fancy plotting magic.\n",
    "%matplotlib inline\n",
    "import matplotlib.pyplot as plots\n",
    "plots.style.use('fivethirtyeight')\n",
    "\n",
    "from ipywidgets import interact, interactive, fixed, interact_manual\n",
    "import ipywidgets as widgets"
   ]
  },
  {
   "cell_type": "markdown",
   "id": "6ae3dfd8",
   "metadata": {
    "deletable": false,
    "editable": false
   },
   "source": [
    "## 1. Global Population Growth (75 pts)\n",
    "\n"
   ]
  },
  {
   "cell_type": "markdown",
   "id": "91228c44",
   "metadata": {
    "deletable": false,
    "editable": false
   },
   "source": [
    "The global population of humans reached 1 billion around 1800, 3 billion around 1960, and 7 billion around 2011. The potential impact of exponential population growth has concerned scientists, economists, and politicians alike.\n",
    "\n",
    "The UN Population Division estimates that the world population will likely continue to grow throughout the 21st century, but at a slower rate, perhaps reaching 11 billion by 2100. However, the UN does not rule out scenarios of more extreme growth.\n",
    "\n",
    "<a href=\"http://www.pewresearch.org/fact-tank/2015/06/08/scientists-more-worried-than-public-about-worlds-growing-population/ft_15-06-04_popcount/\"> \n",
    " <img src=\"pew_population_projection.png\"/> \n",
    "</a>\n",
    "\n",
    "In this part of the project, we will examine some of the factors that influence population growth and how they have been changing over the years and around the world. There are two main sub-parts of this analysis.\n",
    "\n",
    "- First, we will examine the data for one country, Bangladesh. We will see how factors such as life expectancy, fertility rate, and child mortality have changed over time in Bangladesh, and how they are related to the rate of population growth.\n",
    "- Next, we will examine whether the changes we have observed for Bangladesh are particular to that country or whether they reflect general patterns observable in other countries too. We will study aspects of world population growth and see how they have been changing.\n",
    "\n",
    "The first table we will consider contains the total population of each country over time. Run the cell below."
   ]
  },
  {
   "cell_type": "code",
   "execution_count": null,
   "id": "3d161cd4",
   "metadata": {
    "deletable": false,
    "editable": false
   },
   "outputs": [],
   "source": [
    "population = Table.read_table('population.csv').where(\"time\", are.below(2021))\n",
    "population.show(3)"
   ]
  },
  {
   "cell_type": "markdown",
   "id": "72088564",
   "metadata": {
    "deletable": false,
    "editable": false
   },
   "source": [
    "**Note:** The population csv file can also be found [here](https://github.com/open-numbers/ddf--gapminder--systema_globalis/blob/master/countries-etc-datapoints/ddf--datapoints--population_total--by--geo--time.csv)."
   ]
  },
  {
   "cell_type": "markdown",
   "id": "80c4afde",
   "metadata": {
    "deletable": false,
    "editable": false
   },
   "source": [
    "### Bangladesh\n",
    "\n",
    "The nation of [Bangladesh](https://en.wikipedia.org/wiki/Bangladesh#People's_Republic_of_Bangladesh) was established as a parliamentary democracy after the Bangladesh Liberation War ended in 1971. The war-ravaged fledgling nation was almost immediately faced with floods and famine. In this section of the project, we will examine aspects of the development of Bangladesh since that time.\n",
    "\n",
    "In the `population` table, the `geo` column contains three-letter codes established by the [International Organization for Standardization](https://en.wikipedia.org/wiki/International_Organization_for_Standardization) (ISO) in the [Alpha-3](https://en.wikipedia.org/wiki/ISO_3166-1_alpha-3#Current_codes) standard. We will begin by taking a close look at Bangladesh. Use the Alpha-3 link to find the 3-letter code for Bangladesh."
   ]
  },
  {
   "cell_type": "markdown",
   "id": "9a73ae0a",
   "metadata": {
    "deletable": false,
    "editable": false
   },
   "source": [
    "#### Part 1.1 (5 pts)\n"
   ]
  },
  {
   "cell_type": "markdown",
   "id": "d8fca49b",
   "metadata": {
    "deletable": false,
    "editable": false
   },
   "source": [
    " Create a table called `b_pop` that has two columns labeled `time` and `population_total`. The first column should contain the years from 1970 through 2020 (including both 1970 and 2020) and the second should contain the population of Bangladesh in each of those years.\n",
    "\n"
   ]
  },
  {
   "cell_type": "code",
   "execution_count": null,
   "id": "3ce0a1df",
   "metadata": {
    "deletable": false,
    "editable": true,
    "tags": []
   },
   "outputs": [],
   "source": [
    "b_pop = ...\n",
    "b_pop"
   ]
  },
  {
   "cell_type": "code",
   "execution_count": null,
   "id": "0c0f1764",
   "metadata": {
    "deletable": false,
    "editable": false
   },
   "outputs": [],
   "source": [
    "grader.check(\"q1.1\")"
   ]
  },
  {
   "cell_type": "markdown",
   "id": "0251cb61",
   "metadata": {
    "deletable": false,
    "editable": false
   },
   "source": [
    "Run the following cell to create a table called `b_five` that has the population of Bangladesh every five years. At a glance, it appears that the population of Bangladesh has been growing quickly indeed!"
   ]
  },
  {
   "cell_type": "code",
   "execution_count": null,
   "id": "fc985270",
   "metadata": {
    "deletable": false,
    "editable": false
   },
   "outputs": [],
   "source": [
    "b_pop.set_format('population_total', NumberFormatter)\n",
    "\n",
    "fives = np.arange(1970, 2021, 5) # 1970, 1975, 1980, ...  # SOLUTION\n",
    "b_five = b_pop.sort('time').where('time', are.contained_in(fives))\n",
    "b_five.show()"
   ]
  },
  {
   "cell_type": "markdown",
   "id": "b93fbf78",
   "metadata": {
    "deletable": false,
    "editable": false
   },
   "source": [
    "#### Part 1.2 (5 pts)\n"
   ]
  },
  {
   "cell_type": "markdown",
   "id": "e463909b",
   "metadata": {
    "deletable": false,
    "editable": false
   },
   "source": [
    " Assign `initial` to an array that contains the population for every five year interval from 1970 to 2015 (inclusive). Then, assign `changed` to an array that contains the population for every five year interval from 1975 to 2020 (inclusive). The first array should include both 1970 and 2015, and the second array should include both 1975 and 2020. You should use the `b_five` table to create both arrays, by first filtering the table to only contain the relevant years.\n",
    "\n",
    "The annual growth rate for a time period is equal to:\n",
    "\n",
    "$$(\\frac{\\text{Population at end of period}}{\\text{Population at start of period}}^{\\frac{1}{\\text{number of years}}} )-1$$\n",
    "\n",
    "We have provided the code below that uses  `initial` and `changed` in order to add a column to `b_five` called `annual_growth`. Don't worry about the calculation of the growth rates; run the test below to test your solution.\n",
    "\n",
    "If you are interested in how we came up with the formula for growth rates, consult the [growth rates](https://inferentialthinking.com/chapters/03/2/1/Growth.html) section of the textbook.\n",
    "\n"
   ]
  },
  {
   "cell_type": "code",
   "execution_count": null,
   "id": "06a5965f",
   "metadata": {
    "deletable": false,
    "editable": true,
    "tags": []
   },
   "outputs": [],
   "source": [
    "initial = ...\n",
    "changed = ...\n",
    "\n",
    "b_1970_through_2015 = b_five.where('time', are.below_or_equal_to(2015)) \n",
    "b_five_growth = b_1970_through_2015.with_column('annual_growth', (changed/initial)**0.2-1)\n",
    "b_five_growth.set_format('annual_growth', PercentFormatter)"
   ]
  },
  {
   "cell_type": "code",
   "execution_count": null,
   "id": "9e9261be",
   "metadata": {
    "deletable": false,
    "editable": false
   },
   "outputs": [],
   "source": [
    "grader.check(\"q1.2\")"
   ]
  },
  {
   "cell_type": "markdown",
   "id": "44943937",
   "metadata": {
    "deletable": false,
    "editable": false
   },
   "source": [
    "While the population has grown every five years since 1970, the annual growth rate decreased dramatically from 1985 to 2015. Let's look at some other information in order to develop a possible explanation. Run the next cell to load three additional tables of measurements about countries over time."
   ]
  },
  {
   "cell_type": "code",
   "execution_count": null,
   "id": "6c1fe840",
   "metadata": {
    "deletable": false,
    "editable": false
   },
   "outputs": [],
   "source": [
    "life_expectancy = Table.read_table('life_expectancy.csv').where('time', are.below(2021))\n",
    "child_mortality = Table.read_table('child_mortality.csv').relabel(2, 'child_mortality_under_5_per_1000_born').where('time', are.below(2021))\n",
    "fertility = Table.read_table('fertility.csv').where('time', are.below(2021))"
   ]
  },
  {
   "cell_type": "markdown",
   "id": "cd43f866",
   "metadata": {
    "deletable": false,
    "editable": false
   },
   "source": [
    "The `life_expectancy` table contains a statistic that is often used to measure how long people live, called *life expectancy at birth*. This number, for a country in a given year, [does not measure how long babies born in that year are expected to live](http://blogs.worldbank.org/opendata/what-does-life-expectancy-birth-really-mean). Instead, it measures how long someone would live, on average, if the *mortality conditions* in that year persisted throughout their lifetime. These \"mortality conditions\" describe what fraction of people at each age survived the year. So, it is a way of measuring the proportion of people that are staying alive, aggregated over different age groups in the population."
   ]
  },
  {
   "cell_type": "markdown",
   "id": "fe911101",
   "metadata": {
    "deletable": false,
    "editable": false
   },
   "source": [
    "Run the following cells below to see `life_expectancy`, `child_mortality`, and `fertility`. Refer back to these tables as they will be helpful for answering further questions!"
   ]
  },
  {
   "cell_type": "code",
   "execution_count": null,
   "id": "70c7bf85",
   "metadata": {
    "deletable": false,
    "editable": false
   },
   "outputs": [],
   "source": [
    "life_expectancy.show(3)"
   ]
  },
  {
   "cell_type": "code",
   "execution_count": null,
   "id": "bac5898b",
   "metadata": {
    "deletable": false,
    "editable": false
   },
   "outputs": [],
   "source": [
    "child_mortality.show(3)"
   ]
  },
  {
   "cell_type": "code",
   "execution_count": null,
   "id": "11f6e555",
   "metadata": {
    "deletable": false,
    "editable": false
   },
   "outputs": [],
   "source": [
    "fertility.show(3)"
   ]
  },
  {
   "cell_type": "markdown",
   "id": "d5444e20",
   "metadata": {
    "deletable": false,
    "editable": false
   },
   "source": [
    "<!-- BEGIN QUESTION -->\n",
    "\n",
    "#### Part 1.3 (5 pts)\n"
   ]
  },
  {
   "cell_type": "markdown",
   "id": "1c0ffdfc",
   "metadata": {
    "deletable": false,
    "editable": false
   },
   "source": [
    " Perhaps population is growing more slowly because people aren't living as long. Use the `life_expectancy` table to draw a line graph with the years 1970 and later on the horizontal axis that shows how the *life expectancy at birth* has changed in Bangladesh.\n",
    "\n"
   ]
  },
  {
   "cell_type": "code",
   "execution_count": null,
   "id": "90c32333",
   "metadata": {
    "deletable": false,
    "editable": true,
    "tags": []
   },
   "outputs": [],
   "source": [
    "#Fill in code here\n",
    "life_expectancy.where(\"geo\", \"bgd\").where(\"time\", are.between_or_equal_to(1970, 2020)).plot(\"time\", \"life_expectancy_years\")\n",
    "  ...\n"
   ]
  },
  {
   "cell_type": "markdown",
   "id": "a2dc5218",
   "metadata": {
    "deletable": false,
    "editable": false
   },
   "source": [
    "<!-- END QUESTION -->\n",
    "\n",
    "<!-- BEGIN QUESTION -->\n",
    "\n",
    "#### Part 1.4 (5 pts)\n"
   ]
  },
  {
   "cell_type": "markdown",
   "id": "3ee221d2",
   "metadata": {
    "deletable": false,
    "editable": false
   },
   "source": [
    " Assuming everything else stays the same, do the trends in life expectancy in the graph above directly explain why the population growth rate decreased from 1985 to 2015 in Bangladesh? Why or why not? \n",
    "\n",
    "Hint: What happened in Bangladesh in 1991, and does that event explain the overall change in population growth rate? This [webpage](https://en.wikipedia.org/wiki/1991_Bangladesh_cyclone) provides relevant context.\n",
    "\n"
   ]
  },
  {
   "cell_type": "markdown",
   "id": "9082b434",
   "metadata": {},
   "source": [
    "_Type your answer here, replacing this text._"
   ]
  },
  {
   "cell_type": "markdown",
   "id": "0d7cb0fc",
   "metadata": {
    "deletable": false,
    "editable": false
   },
   "source": [
    "<!-- END QUESTION -->\n",
    "\n",
    "The `fertility` table contains a statistic that is often used to measure how many babies are being born, the *total fertility rate*. This number describes the [number of children a woman would have in her lifetime](https://www.measureevaluation.org/prh/rh_indicators/specific/fertility/total-fertility-rate), on average, if the current rates of birth by age of the mother persisted throughout her child bearing years, assuming she survived through age 49. "
   ]
  },
  {
   "cell_type": "markdown",
   "id": "4ac4e955",
   "metadata": {
    "deletable": false,
    "editable": false
   },
   "source": [
    "<!-- BEGIN QUESTION -->\n",
    "\n",
    "#### Part 1.5 (5 pts)\n"
   ]
  },
  {
   "cell_type": "markdown",
   "id": "823d617a",
   "metadata": {
    "deletable": false,
    "editable": false
   },
   "source": [
    " Complete the function `fertility_over_time`. It takes the Alpha-3 code of a country as `country_code` and a `start` year. It returns a two-column table with labels `Year` and `Children per woman` that can be used to generate a line chart of the country's fertility rate each year, starting at the `start` year. The plot should include the `start` year and all later years that appear in the `fertility` table. \n",
    "\n",
    "Then, determine the Alpha-3 code for Bangladesh. The code for Bangladesh and the year 1970 are used in the call to your `fertility_over_time` function in order to plot how Bangladesh's fertility rate has changed since 1970. Note that the function `fertility_over_time` should not return the plot itself. **The expression that draws the line plot is provided for you; please don't change it.**\n",
    "\n"
   ]
  },
  {
   "cell_type": "code",
   "execution_count": null,
   "id": "54ce389a",
   "metadata": {
    "deletable": false,
    "editable": true,
    "tags": []
   },
   "outputs": [],
   "source": [
    "def fertility_over_time(country_code, start):\n",
    "    \"\"\"Create a two-column table that describes a country's total fertility rate each year.\"\"\"\n",
    "    country_fertility = ...\n",
    "    country_fertility_after_start = ...\n",
    "    cleaned_table = ...\n",
    "    ...\n",
    "\n",
    "bangladesh_code = ...\n",
    "fertility_over_time(bangladesh_code, 1970).plot(0, 1) # You should *not* change this line."
   ]
  },
  {
   "cell_type": "code",
   "execution_count": null,
   "id": "0e1c0d9b",
   "metadata": {
    "deletable": false,
    "editable": false
   },
   "outputs": [],
   "source": [
    "grader.check(\"q1.5\")"
   ]
  },
  {
   "cell_type": "markdown",
   "id": "59e1496b",
   "metadata": {
    "deletable": false,
    "editable": false
   },
   "source": [
    "<!-- END QUESTION -->\n",
    "\n",
    "<!-- BEGIN QUESTION -->\n",
    "\n",
    "#### Part 1.6 (5 pts)\n"
   ]
  },
  {
   "cell_type": "markdown",
   "id": "460dafff",
   "metadata": {
    "deletable": false,
    "editable": false
   },
   "source": [
    " Assuming everything else is constant, do the trends in fertility in the graph above help directly explain why the population growth rate decreased from 1980 to 2020 in Bangladesh? Why or why not?\n",
    "\n"
   ]
  },
  {
   "cell_type": "markdown",
   "id": "51f604a8",
   "metadata": {},
   "source": [
    "_Type your answer here, replacing this text._"
   ]
  },
  {
   "cell_type": "markdown",
   "id": "50fc5d78",
   "metadata": {
    "deletable": false,
    "editable": false
   },
   "source": [
    "<!-- END QUESTION -->\n",
    "\n",
    "It has been [observed](https://www.ageing.ox.ac.uk/download/143) that lower fertility rates are often associated with lower child mortality rates. The link has been attributed to family planning: if parents can expect that their children will all survive into adulthood, then they will choose to have fewer children. In the reverse direction, having fewer children may allow families to devote more resources to each child, reducing child mortality. We can see if this association is evident in Bangladesh by plotting the relationship between total fertility rate and [child mortality rate per 1000 children](https://en.wikipedia.org/wiki/Child_mortality)."
   ]
  },
  {
   "cell_type": "markdown",
   "id": "39d63947",
   "metadata": {
    "deletable": false,
    "editable": false
   },
   "source": [
    "#### Part 1.7 (5 pts)\n"
   ]
  },
  {
   "cell_type": "markdown",
   "id": "e560732c",
   "metadata": {
    "deletable": false,
    "editable": false
   },
   "source": [
    " Using both the `fertility` and `child_mortality` tables, draw a scatter diagram that has Bangladesh's total fertility on the horizontal axis and its child mortality on the vertical axis with one point for each year, starting with 1970.\n",
    "\n",
    "**The code that draws the scatter diagram is provided for you; please don't change it.** Instead, create a table called `post_1969_fertility_and_child_mortality` with the appropriate column labels and data in order to generate the chart correctly. Use the label `Children per woman` to describe total fertility and the label `Child deaths per 1000 born` to describe child mortality.\n",
    "\n",
    "*Hint*: Do not drop the `time` column or you will get an error in the scatterplot in the next cell!\n",
    "\n"
   ]
  },
  {
   "cell_type": "code",
   "execution_count": null,
   "id": "f28f0858",
   "metadata": {
    "deletable": false,
    "editable": true,
    "tags": []
   },
   "outputs": [],
   "source": [
    "bgd_fertility = ...\n",
    "bgd_child_mortality = ...\n",
    "fertility_and_child_mortality = ...\n",
    "post_1969_fertility_and_child_mortality = ...\n",
    "\n",
    "# Don't change anything below this line!\n",
    "x_births = post_1969_fertility_and_child_mortality.column(\"Children per woman\")\n",
    "y_deaths = post_1969_fertility_and_child_mortality.column(\"Child deaths per 1000 born\")\n",
    "time_colors = post_1969_fertility_and_child_mortality.column(\"time\")\n",
    "\n",
    "plots.figure(figsize=(6,6))\n",
    "plots.scatter(x_births, y_deaths, c=time_colors, cmap=\"Blues_r\")\n",
    "plots.colorbar()                  \n",
    "plots.xlabel(\"Children per woman\")\n",
    "plots.ylabel(\"Child deaths per 1000 born\");"
   ]
  },
  {
   "cell_type": "code",
   "execution_count": null,
   "id": "71c9a994",
   "metadata": {
    "deletable": false,
    "editable": false
   },
   "outputs": [],
   "source": [
    "grader.check(\"q1.7\")"
   ]
  },
  {
   "cell_type": "markdown",
   "id": "8faea261",
   "metadata": {
    "deletable": false,
    "editable": false
   },
   "source": [
    "The plot above uses **color** to encode data about the `time` column from the table `post_1969_fertility_and_child_mortality`. The colors, ranging from dark blue to white, represent the passing of time between the 1970s to the 2020s. For example, a point on the scatter plot representing data from the 1970s would appear as **dark blue** and a point from the 2010s would appear as **light blue**.\n"
   ]
  },
  {
   "cell_type": "markdown",
   "id": "27219bf5",
   "metadata": {
    "deletable": false,
    "editable": false
   },
   "source": [
    "<!-- BEGIN QUESTION -->\n",
    "\n",
    "#### Part 1.8 (5 pts)\n"
   ]
  },
  {
   "cell_type": "markdown",
   "id": "cd9d3597",
   "metadata": {
    "deletable": false,
    "editable": false
   },
   "source": [
    " In one or two sentences, describe the association (if any) that is illustrated by this scatter diagram. Does the diagram show that reduced child mortality *causes* parents to choose to have fewer children?\n",
    "\n"
   ]
  },
  {
   "cell_type": "markdown",
   "id": "65079c80",
   "metadata": {},
   "source": [
    "_Type your answer here, replacing this text._"
   ]
  },
  {
   "cell_type": "markdown",
   "id": "3da0771d",
   "metadata": {
    "deletable": false,
    "editable": false
   },
   "source": [
    "<!-- END QUESTION -->\n",
    "\n",
    "### Checkpoint (due Friday 9/24 by 11:59 PM PT)\n",
    "**Congratulations, you have reached the checkpoint! Run the following cells and submit to the Gradescope assignment corresponding to the checkpoint: <u>Project 1 Checkpoint</u>**"
   ]
  },
  {
   "cell_type": "markdown",
   "id": "247a1592",
   "metadata": {
    "deletable": false,
    "editable": false
   },
   "source": [
    "--- \n",
    "\n",
    "To double check your work, the cell below will rerun all of the autograder tests for Section 1. "
   ]
  },
  {
   "cell_type": "code",
   "execution_count": null,
   "id": "58796755",
   "metadata": {
    "deletable": false,
    "editable": false
   },
   "outputs": [],
   "source": [
    "# checkpoint_tests = [\"q1_1\", \"q1_2\", \"q1_5\", \"q1_7\"]\n",
    "# for test in checkpoint_tests:\n",
    "#     display(grader.check(test))"
   ]
  },
  {
   "cell_type": "markdown",
   "id": "ae009a6a",
   "metadata": {
    "deletable": false,
    "editable": false
   },
   "source": [
    "Submission\n",
    "\n",
    "Make sure you have run all cells in your notebook in order before running the cell below, so that all images/graphs appear in the output. The cell below will generate a zip file for you to submit. **Please save before exporting!**"
   ]
  },
  {
   "cell_type": "code",
   "execution_count": null,
   "id": "0d117432",
   "metadata": {
    "deletable": false,
    "editable": false
   },
   "outputs": [],
   "source": [
    "# # Save your notebook first, then run this cell to export your submission.\n",
    "# grader.export(pdf=False)"
   ]
  },
  {
   "cell_type": "markdown",
   "id": "00875652",
   "metadata": {
    "deletable": false,
    "editable": false
   },
   "source": [
    "### The World\n",
    "\n",
    "The change observed in Bangladesh since 1970 can also be observed in many other developing countries: health services improve, life expectancy increases, and child mortality decreases. At the same time, the fertility rate often plummets, and so the population growth rate decreases despite increasing longevity."
   ]
  },
  {
   "cell_type": "markdown",
   "id": "bfbc5cfe",
   "metadata": {
    "deletable": false,
    "editable": false
   },
   "source": [
    "Run the cell below to generate two overlaid histograms, one for 1962 and one for 2010, that show the distributions of total fertility rates for these two years among all 201 countries in the `fertility` table."
   ]
  },
  {
   "cell_type": "code",
   "execution_count": null,
   "id": "6c176643",
   "metadata": {
    "deletable": false,
    "editable": false
   },
   "outputs": [],
   "source": [
    "Table().with_columns(\n",
    "    '1962', fertility.where('time', 1962).column(2),\n",
    "    '2010', fertility.where('time', 2010).column(2)\n",
    ").hist(bins=np.arange(0, 10, 0.5), unit='child per woman')\n",
    "_ = plots.xlabel('Children per woman')\n",
    "_ = plots.ylabel('Percent per children per woman')\n",
    "_ = plots.xticks(np.arange(10))"
   ]
  },
  {
   "cell_type": "markdown",
   "id": "32d0b23d",
   "metadata": {
    "deletable": false,
    "editable": false
   },
   "source": [
    "#### Part 1.9 (5 pts)\n"
   ]
  },
  {
   "cell_type": "markdown",
   "id": "10a36a26",
   "metadata": {
    "deletable": false,
    "editable": false
   },
   "source": [
    " Assign `fertility_statements` to an array of the numbers of each statement below that can be correctly inferred from these histograms.\n",
    "\n",
    "1. About the same number of countries had a fertility rate between 3.5 and 4.5 in both 1962 and 2010.\n",
    "1. In 1962, less than 20% of countries had a fertility rate below 3.\n",
    "1. At least half of countries had a fertility rate between 5 and 8 in 1962.\n",
    "1. In 2010, about 40% of countries had a fertility rate between 1.5 and 2.\n",
    "1. At least half of countries had a fertility rate below 3 in 2010.\n",
    "1. More countries had a fertility rate above 3 in 1962 than in 2010.\n",
    "\n"
   ]
  },
  {
   "cell_type": "code",
   "execution_count": null,
   "id": "598899e2",
   "metadata": {
    "deletable": false,
    "editable": true,
    "tags": []
   },
   "outputs": [],
   "source": [
    "fertility_statements = ...\n"
   ]
  },
  {
   "cell_type": "code",
   "execution_count": null,
   "id": "dcd9e541",
   "metadata": {
    "deletable": false,
    "editable": false
   },
   "outputs": [],
   "source": [
    "grader.check(\"q1.9\")"
   ]
  },
  {
   "cell_type": "markdown",
   "id": "2ce71d59",
   "metadata": {
    "deletable": false,
    "editable": false
   },
   "source": [
    "<!-- BEGIN QUESTION -->\n",
    "\n",
    "#### Part 1.10 (5 pts)\n"
   ]
  },
  {
   "cell_type": "markdown",
   "id": "1c63a250",
   "metadata": {
    "deletable": false,
    "editable": false
   },
   "source": [
    " Draw a line plot of the world population from 1800 through 2020 (inclusive of both endpoints). The world population is the sum of all of the countries' populations. You should use the `population` table defined earlier in the project. \n",
    "\n"
   ]
  },
  {
   "cell_type": "code",
   "execution_count": null,
   "id": "efb477b1",
   "metadata": {
    "deletable": false,
    "editable": true,
    "tags": []
   },
   "outputs": [],
   "source": [
    "#Fill in code here\n",
    "..."
   ]
  },
  {
   "cell_type": "markdown",
   "id": "7637252c",
   "metadata": {
    "deletable": false,
    "editable": false
   },
   "source": [
    "<!-- END QUESTION -->\n",
    "\n",
    "#### Part 1.11 (5 pts)\n"
   ]
  },
  {
   "cell_type": "markdown",
   "id": "3669bb02",
   "metadata": {
    "deletable": false,
    "editable": false
   },
   "source": [
    " Create a function `stats_for_year` that takes a `year` and returns a table of statistics. The table it returns should have four columns: `geo`, `population_total`, `children_per_woman_total_fertility`, and `child_mortality_under_5_per_1000_born`. Each row should contain one unique Alpha-3 country code and three statistics: population, fertility rate, and child mortality for that `year` from the `population`, `fertility` and `child_mortality` tables. Only include rows for which all three statistics are available for the country and year.\n",
    "\n",
    "In addition, restrict the result to country codes that appears in `big_50`, an array of the 50 most populous countries in 2020. This restriction will speed up computations later in the project.\n",
    "\n",
    "After you write `stats_for_year`, try calling `stats_for_year` on any year between 1960 and 2020. Try to understand the output of stats_for_year.\n",
    "\n",
    "*Hint*: The tests for this question are quite comprehensive, so if you pass the tests, your function is probably correct. However, without calling your function yourself and looking at the output, it will be very difficult to understand any problems you have, so try your best to write the function correctly and check that it works before you rely on the `grader` tests to confirm your work.\n",
    "\n",
    "*Hint*: What do all three tables have in common (pay attention to column names)?\n",
    "\n"
   ]
  },
  {
   "cell_type": "code",
   "execution_count": null,
   "id": "2c845f25",
   "metadata": {
    "deletable": false,
    "editable": true,
    "tags": []
   },
   "outputs": [],
   "source": [
    "# We first create a population table that only includes the \n",
    "# 50 countries with the largest 2020 populations. We focus on \n",
    "# these 50 countries only so that plotting later will run faster.\n",
    "big_50 = population.where('time', are.equal_to(2020)).sort(\"population_total\", descending=True).take(np.arange(50)).column('geo')\n",
    "population_of_big_50 = population.where('time', are.above(1959)).where('geo', are.contained_in(big_50))\n",
    "\n",
    "def stats_for_year(year):\n",
    "    \"\"\"Return a table of the stats for each country that year.\"\"\"\n",
    "    p = population_of_big_50.where('time', are.equal_to(year)).drop('time')\n",
    "    f = fertility.where('time', are.equal_to(year)).drop('time')\n",
    "    c = child_mortality.where('time', are.equal_to(year)).drop('time')\n",
    "    ...\n",
    "\n",
    "...\n"
   ]
  },
  {
   "cell_type": "code",
   "execution_count": null,
   "id": "be54e48c",
   "metadata": {
    "deletable": false,
    "editable": false
   },
   "outputs": [],
   "source": [
    "grader.check(\"q1.11\")"
   ]
  },
  {
   "cell_type": "markdown",
   "id": "48b7e9f4",
   "metadata": {
    "deletable": false,
    "editable": false,
    "tags": []
   },
   "source": [
    "#### Part 1.12 (5 pts)\n"
   ]
  },
  {
   "cell_type": "markdown",
   "id": "069551d7",
   "metadata": {
    "deletable": false,
    "editable": false
   },
   "source": [
    "Create a table called `pop_by_decade` with two columns called `decade` and `population`, in this order. It has a row for each year that starts a decade, in increasing order starting with 1960 and ending with 2020. For example, 1960 is the start of the 1960's decade. The `population` column contains the total population of all countries included in the result of `stats_for_year(year)` for the first `year` of the decade. You should see that these countries contain most of the world's population.\n",
    "\n",
    "One approach is to first define a function `pop_for_year` that computes this total population, then `apply` it to the `decade` column.  The `stats_for_year` function from the previous question may be useful here."
   ]
  },
  {
   "cell_type": "code",
   "execution_count": null,
   "id": "9185daa5",
   "metadata": {
    "deletable": false,
    "editable": true,
    "tags": []
   },
   "outputs": [],
   "source": [
    "def pop_for_year(year):\n",
    "    \"\"\"Return the total population for the specified year.\"\"\"\n",
    "    ...\n"
   ]
  },
  {
   "cell_type": "code",
   "execution_count": null,
   "id": "3151b0ed",
   "metadata": {
    "deletable": false,
    "editable": false
   },
   "outputs": [],
   "source": [
    "grader.check(\"q1.12\")"
   ]
  },
  {
   "cell_type": "markdown",
   "id": "c4e8fc9d",
   "metadata": {
    "deletable": false,
    "editable": false,
    "tags": []
   },
   "source": [
    "#### Part 1.13 (5 pts)\n"
   ]
  },
  {
   "cell_type": "markdown",
   "id": "c63a371c",
   "metadata": {
    "deletable": false,
    "editable": false
   },
   "source": [
    "Now that you've defined your helper function, define the `pop_by_decade` table."
   ]
  },
  {
   "cell_type": "code",
   "execution_count": null,
   "id": "823cc0b4",
   "metadata": {
    "deletable": false,
    "editable": true,
    "tags": []
   },
   "outputs": [],
   "source": [
    "decades = Table().with_column('decade', np.arange(1960, 2021, 10))\n",
    "\n",
    "pop_by_decade = ...\n",
    "pop_by_decade.set_format(1, NumberFormatter)"
   ]
  },
  {
   "cell_type": "code",
   "execution_count": null,
   "id": "8a53c9ae",
   "metadata": {
    "deletable": false,
    "editable": false
   },
   "outputs": [],
   "source": [
    "grader.check(\"q1.13\")"
   ]
  },
  {
   "cell_type": "markdown",
   "id": "748faed1",
   "metadata": {
    "deletable": false,
    "editable": false
   },
   "source": [
    "The `countries` table describes various characteristics of countries. The `country` column contains the same codes as the `geo` column in each of the other data tables (`population`, `fertility`, and `child_mortality`). The `world_6region` column classifies each country into a region of the world. Run the cell below to inspect the data."
   ]
  },
  {
   "cell_type": "code",
   "execution_count": null,
   "id": "e859297a",
   "metadata": {
    "deletable": false,
    "editable": false
   },
   "outputs": [],
   "source": [
    "countries = Table.read_table('countries.csv').where('country', are.contained_in(population.group('geo').column('geo')))\n",
    "countries.select('country', 'name', 'world_6region')"
   ]
  },
  {
   "cell_type": "markdown",
   "id": "b6120ee7",
   "metadata": {
    "deletable": false,
    "editable": false
   },
   "source": [
    "#### Part 1.14 (5 pts)\n"
   ]
  },
  {
   "cell_type": "markdown",
   "id": "6478e62f",
   "metadata": {
    "deletable": false,
    "editable": false
   },
   "source": [
    " Create a table called `region_counts`. It should contain two columns called `region` and `count`. The `region` column should contain regions of the world, and the `count` column should contain the number of countries in each region that appears in the result of `stats_for_year(2020)`. \n",
    "\n",
    "For example, one row would have `south_asia` as its `region` value and an integer as its `count` value: the number of large South Asian countries for which we have population, fertility, and child mortality numbers from 2020.\n",
    "\n",
    "*Hint*: You may have to relabel a column to name it `region`. \n",
    "\n"
   ]
  },
  {
   "cell_type": "code",
   "execution_count": null,
   "id": "b55a37b3",
   "metadata": {
    "deletable": false,
    "editable": true,
    "tags": []
   },
   "outputs": [],
   "source": [
    "stats_for_2020 = ...\n",
    "region_counts = ...\n",
    "region_counts"
   ]
  },
  {
   "cell_type": "code",
   "execution_count": null,
   "id": "84191ca6",
   "metadata": {
    "deletable": false,
    "editable": false
   },
   "outputs": [],
   "source": [
    "grader.check(\"q1.14\")"
   ]
  },
  {
   "cell_type": "markdown",
   "id": "519251ba",
   "metadata": {
    "deletable": false,
    "editable": false
   },
   "source": [
    "The following scatter diagram compares total fertility rate and child mortality rate for each country in 1960. The area of each dot represents the population of the country, and the color represents its region of the world. Run the cell. Do you think you can identify any of the dots?"
   ]
  },
  {
   "cell_type": "code",
   "execution_count": null,
   "id": "e62f0ea6",
   "metadata": {
    "deletable": false,
    "editable": false
   },
   "outputs": [],
   "source": [
    "from functools import lru_cache as cache\n",
    "\n",
    "# This cache annotation makes sure that if the same year\n",
    "# is passed as an argument twice, the work of computing\n",
    "# the result is only carried out once.\n",
    "@cache(None)\n",
    "def stats_relabeled(year):\n",
    "    \"\"\"Relabeled and cached version of stats_for_year.\"\"\"\n",
    "    return stats_for_year(year).relabel(2, 'Children per woman').relabel(3, 'Child deaths per 1000 born')\n",
    "\n",
    "def fertility_vs_child_mortality(year):\n",
    "    \"\"\"Draw a color scatter diagram comparing child mortality and fertility.\"\"\"\n",
    "    with_region = stats_relabeled(year).join('geo', countries.select('country', 'world_6region'), 'country')\n",
    "    with_region.scatter(2, 3, sizes=1, group=4, s=500)\n",
    "    plots.xlim(0,10)\n",
    "    plots.ylim(-50, 500)\n",
    "    plots.title(year)\n",
    "    plots.show()\n",
    "\n",
    "fertility_vs_child_mortality(1960)"
   ]
  },
  {
   "cell_type": "markdown",
   "id": "94722229",
   "metadata": {
    "deletable": false,
    "editable": false
   },
   "source": [
    "#### Part 1.15 (5 pts)\n"
   ]
  },
  {
   "cell_type": "markdown",
   "id": "cb9f1610",
   "metadata": {
    "deletable": false,
    "editable": false
   },
   "source": [
    " Assign `scatter_statements` to an array of the numbers of each statement below that can be inferred from this scatter diagram for 1960. \n",
    "1. As a whole, the `europe_central_asia` region had the lowest child mortality rate.\n",
    "1. The lowest child mortality rate of any country was from an `east_asia_pacific` country.\n",
    "1. Most countries had a fertility rate above 5.\n",
    "1. There was an association between child mortality and fertility.\n",
    "1. The two largest countries by population also had the two highest child mortality rates.\n",
    "\n"
   ]
  },
  {
   "cell_type": "code",
   "execution_count": null,
   "id": "988f9091",
   "metadata": {
    "deletable": false,
    "editable": true,
    "tags": []
   },
   "outputs": [],
   "source": [
    "scatter_statements = ...\n"
   ]
  },
  {
   "cell_type": "code",
   "execution_count": null,
   "id": "6c85310d",
   "metadata": {
    "deletable": false,
    "editable": false
   },
   "outputs": [],
   "source": [
    "grader.check(\"q1.15\")"
   ]
  },
  {
   "cell_type": "markdown",
   "id": "bd33cb4f",
   "metadata": {
    "deletable": false,
    "editable": false
   },
   "source": [
    "The result of the cell below is interactive. Drag the slider to the right to see how countries have changed over time. You'll find that the great divide between so-called \"Western\" and \"developing\" countries that existed in the 1960's has nearly disappeared. This shift in fertility rates is the reason that the global population is expected to grow more slowly in the 21st century than it did in the 19th and 20th centuries.\n",
    "\n",
    "**Note:** Don't worry if a red warning pops up when running the cell below. You'll still be able to run the cell!"
   ]
  },
  {
   "cell_type": "code",
   "execution_count": null,
   "id": "4e2961b1",
   "metadata": {
    "deletable": false,
    "editable": false
   },
   "outputs": [],
   "source": [
    "import ipywidgets as widgets\n",
    "\n",
    "_ = widgets.interact(fertility_vs_child_mortality, \n",
    "                     year=widgets.IntSlider(min=1960, max=2020, value=1960))"
   ]
  },
  {
   "cell_type": "markdown",
   "id": "4693a6c4",
   "metadata": {
    "deletable": false,
    "editable": false
   },
   "source": [
    "Now is a great time to take a break and watch the same data presented by [Hans Rosling in a 2010 TEDx talk](https://www.gapminder.org/videos/reducing-child-mortality-a-moral-and-environmental-imperative) with smoother animation and witty commentary."
   ]
  },
  {
   "cell_type": "markdown",
   "id": "89300d4c",
   "metadata": {
    "deletable": false,
    "editable": false
   },
   "source": [
    "## 2. Global Poverty (35 pts)\n",
    "\n"
   ]
  },
  {
   "cell_type": "markdown",
   "id": "133f8091",
   "metadata": {
    "deletable": false,
    "editable": false
   },
   "source": [
    "In 1800, 85% of the world's 1 billion people lived in [extreme poverty](https://en.wikipedia.org/wiki/Extreme_poverty), defined by the United Nations as \"a condition characterized by severe deprivation of basic human needs, including food, safe drinking water, sanitation facilities, health, shelter, education and information.\" At the time when the data in this project were gathered, a common definition of extreme poverty was a person living on less than \\$1.25 a day.\n",
    "\n",
    "In 2018, the proportion of people living in extreme poverty was estimated to be [about 9\\%](https://unstats.un.org/sdgs/report/2019/goal-01/). Although the world rate of extreme poverty has declined consistently for hundreds of years, the number of people living in extreme poverty is still over 600 million. The United Nations adopted an [ambitious goal](http://www.un.org/sustainabledevelopment/poverty/): \"By 2030, eradicate extreme poverty for all people everywhere.\" In this part of the project we will examine aspects of global poverty that might affect whether the goal is achievable."
   ]
  },
  {
   "cell_type": "markdown",
   "id": "8c03c036",
   "metadata": {
    "deletable": false,
    "editable": false
   },
   "source": [
    "First, load the population and poverty rate by country and year and the country descriptions. While the `population` table has values for every recent year for many countries, the `poverty` table only includes certain years for each country in which a measurement of the rate of extreme poverty was available."
   ]
  },
  {
   "cell_type": "code",
   "execution_count": null,
   "id": "69f4cedb",
   "metadata": {
    "deletable": false,
    "editable": false
   },
   "outputs": [],
   "source": [
    "population = Table.read_table('population.csv')\n",
    "countries = Table.read_table('countries.csv').where('country', are.contained_in(population.group('geo').column('geo')))\n",
    "poverty = Table.read_table('poverty.csv')\n",
    "poverty.show(3)"
   ]
  },
  {
   "cell_type": "markdown",
   "id": "2075285d",
   "metadata": {
    "deletable": false,
    "editable": false
   },
   "source": [
    "#### Part 2.1 (5 pts)\n"
   ]
  },
  {
   "cell_type": "markdown",
   "id": "25ac40bc",
   "metadata": {
    "deletable": false,
    "editable": false
   },
   "source": [
    " Assign `latest_poverty` to a three-column table with one row for each country that appears in the `poverty` table. The first column should contain the 3-letter code for the country. The second column should contain the most recent year for which an extreme poverty rate is available for the country. The third column should contain the poverty rate in that year. **Do not change the last line, so that the labels of your table are set correctly.**\n",
    "\n",
    "*Hint*: think about how ```group``` works: it does a sequential search of the table (from top to bottom) and collects values in the array in the order in which they appear, and then applies a function to that array. The `first` function may be helpful, but you are not required to use it.\n",
    "\n"
   ]
  },
  {
   "cell_type": "code",
   "execution_count": null,
   "id": "c003d838",
   "metadata": {
    "deletable": false,
    "editable": true,
    "tags": []
   },
   "outputs": [],
   "source": [
    "def first(values):\n",
    "    return values.item(0)\n",
    "\n",
    "latest_poverty = ...\n",
    "latest_poverty = latest_poverty.relabeled(0, 'geo').relabeled(1, 'time').relabeled(2, 'poverty_percent') # You should *not* change this line.\n",
    "latest_poverty"
   ]
  },
  {
   "cell_type": "code",
   "execution_count": null,
   "id": "40add03f",
   "metadata": {
    "deletable": false,
    "editable": false
   },
   "outputs": [],
   "source": [
    "grader.check(\"q2.1\")"
   ]
  },
  {
   "cell_type": "markdown",
   "id": "0aef1ca3",
   "metadata": {
    "deletable": false,
    "editable": false
   },
   "source": [
    "#### Part 2.2 (5 pts)\n"
   ]
  },
  {
   "cell_type": "markdown",
   "id": "a071fd05",
   "metadata": {
    "deletable": false,
    "editable": false
   },
   "source": [
    " Using both `latest_poverty` and `population`, create a four-column table called `recent_poverty_total` with one row for each country in `latest_poverty`. The four columns should have the following labels and contents:\n",
    "1. `geo` contains the 3-letter country code,\n",
    "1. `poverty_percent` contains the most recent poverty percent,\n",
    "1. `population_total` contains the population of the country in 2010,\n",
    "1. `poverty_total` contains the number of people in poverty **rounded to the nearest integer**, based on the 2010 population and most recent poverty rate.\n",
    "\n",
    "*Hint*: You are not required to use `poverty_and_pop`, and you are always welcome to add any additional names. \n"
   ]
  },
  {
   "cell_type": "code",
   "execution_count": null,
   "id": "dcd65294",
   "metadata": {
    "deletable": false,
    "editable": true,
    "tags": []
   },
   "outputs": [],
   "source": [
    "poverty_and_pop = ...\n",
    "recent_poverty_total = ...\n",
    "recent_poverty_total"
   ]
  },
  {
   "cell_type": "code",
   "execution_count": null,
   "id": "09215802",
   "metadata": {
    "deletable": false,
    "editable": false
   },
   "outputs": [],
   "source": [
    "grader.check(\"q2.2\")"
   ]
  },
  {
   "cell_type": "markdown",
   "id": "02fffc81",
   "metadata": {
    "deletable": false,
    "editable": false
   },
   "source": [
    "#### Part 2.3 (5 pts)\n"
   ]
  },
  {
   "cell_type": "markdown",
   "id": "0d0d92f1",
   "metadata": {
    "deletable": false,
    "editable": false
   },
   "source": [
    " Assign the name `poverty_percent` to the known percentage of the world’s 2010 population that were living in extreme poverty. Assume that the `poverty_total` numbers in the `recent_poverty_total` table describe **all** people in 2010 living in extreme poverty. You should get a number that is above the 2018 global estimate of 9%, since many country-specific poverty rates are older than 2018.\n",
    "\n",
    "*Hint*: The sum of the `population_total` column in the `recent_poverty_total` table is not the world population, because only a subset of the world's countries are included in the `recent_poverty_total` table (only some countries have known poverty rates). Use the `population` table to compute the world's 2010 total population.\n",
    "\n",
    "*Hint*: We are computing a percentage (value between 0 and 100), not a proportion (value between 0 and 1).\n",
    "\n"
   ]
  },
  {
   "cell_type": "code",
   "execution_count": null,
   "id": "c6146ca4",
   "metadata": {
    "deletable": false,
    "editable": true,
    "tags": []
   },
   "outputs": [],
   "source": [
    "poverty_percent = ...\n",
    "poverty_percent"
   ]
  },
  {
   "cell_type": "code",
   "execution_count": null,
   "id": "47e6a223",
   "metadata": {
    "deletable": false,
    "editable": false
   },
   "outputs": [],
   "source": [
    "grader.check(\"q2.3\")"
   ]
  },
  {
   "cell_type": "markdown",
   "id": "c073c089",
   "metadata": {
    "deletable": false,
    "editable": false
   },
   "source": [
    "The `countries` table includes not only the name and region of countries, but also their positions on the globe."
   ]
  },
  {
   "cell_type": "code",
   "execution_count": null,
   "id": "2dc68184",
   "metadata": {
    "deletable": false,
    "editable": false
   },
   "outputs": [],
   "source": [
    "countries.select('country', 'name', 'world_4region', 'latitude', 'longitude')"
   ]
  },
  {
   "cell_type": "markdown",
   "id": "d5b68d3f",
   "metadata": {
    "deletable": false,
    "editable": false
   },
   "source": [
    "#### Part 2.4 (5 pts)\n"
   ]
  },
  {
   "cell_type": "markdown",
   "id": "4d99e029",
   "metadata": {
    "deletable": false,
    "editable": false
   },
   "source": [
    " Using both `countries` and `recent_poverty_total`, create a five-column table called `poverty_map` with one row for every country in `recent_poverty_total`.  The five columns should have the following labels and contents:\n",
    "1. `latitude` contains the country's latitude,\n",
    "1. `longitude` contains the country's longitude,\n",
    "1. `name` contains the country's name,\n",
    "1. `region` contains the country's region from the `world_4region` column of `countries`,\n",
    "1. `poverty_total` contains the country's poverty total.\n",
    "\n"
   ]
  },
  {
   "cell_type": "code",
   "execution_count": null,
   "id": "c28b3d66",
   "metadata": {
    "deletable": false,
    "editable": true,
    "tags": []
   },
   "outputs": [],
   "source": [
    "poverty_map = ...\n",
    "poverty_map"
   ]
  },
  {
   "cell_type": "code",
   "execution_count": null,
   "id": "d1452d5a",
   "metadata": {
    "deletable": false,
    "editable": false
   },
   "outputs": [],
   "source": [
    "grader.check(\"q2.4\")"
   ]
  },
  {
   "cell_type": "markdown",
   "id": "a53dfb45",
   "metadata": {
    "deletable": false,
    "editable": false
   },
   "source": [
    "Run the cell below to draw a map of the world in which the areas of circles represent the number of people living in extreme poverty. Double-click on the map to zoom in."
   ]
  },
  {
   "cell_type": "code",
   "execution_count": null,
   "id": "28a7e57b",
   "metadata": {
    "deletable": false,
    "editable": false
   },
   "outputs": [],
   "source": [
    "# It may take a few seconds to generate this map.\n",
    "colors = {'africa': 'blue', 'europe': 'black', 'asia': 'red', 'americas': 'green'}\n",
    "scaled = poverty_map.with_columns(\n",
    "    'labels', poverty_map.column('name'),\n",
    "    'colors', poverty_map.apply(colors.get, 'region'),\n",
    "    'areas', 1e-4 * poverty_map.column('poverty_total')\n",
    ").drop('name', 'region', 'poverty_total')\n",
    "\n",
    "Circle.map_table(scaled)"
   ]
  },
  {
   "cell_type": "markdown",
   "id": "817424c2",
   "metadata": {
    "deletable": false,
    "editable": false
   },
   "source": [
    "Although people lived in extreme poverty throughout the world in 2010 (with more than 5 million in the United States), the largest numbers were in Asia and Africa."
   ]
  },
  {
   "cell_type": "markdown",
   "id": "abb674f7",
   "metadata": {
    "deletable": false,
    "editable": false
   },
   "source": [
    "#### Part 2.5 (5 pts)\n"
   ]
  },
  {
   "cell_type": "markdown",
   "id": "b1cd3d50",
   "metadata": {
    "deletable": false,
    "editable": false
   },
   "source": [
    " Assign `largest` to a two-column table with the `name` (not the 3-letter code) and `poverty_total` of the 10 countries with the largest number of people living in extreme poverty.\n",
    "\n",
    "*Hint*: How can we use `take` and `np.arange` in conjunction with each other?\n",
    "\n"
   ]
  },
  {
   "cell_type": "code",
   "execution_count": null,
   "id": "c6ef81d0",
   "metadata": {
    "deletable": false,
    "editable": true,
    "tags": []
   },
   "outputs": [],
   "source": [
    "largest = ...\n",
    "largest.set_format('poverty_total', NumberFormatter)"
   ]
  },
  {
   "cell_type": "code",
   "execution_count": null,
   "id": "2bcc6304",
   "metadata": {
    "deletable": false,
    "editable": false
   },
   "outputs": [],
   "source": [
    "grader.check(\"q2.5\")"
   ]
  },
  {
   "cell_type": "markdown",
   "id": "17158edd",
   "metadata": {
    "deletable": false,
    "editable": false
   },
   "source": [
    "<!-- BEGIN QUESTION -->\n",
    "\n",
    "#### Part 2.6 (5 pts)\n"
   ]
  },
  {
   "cell_type": "markdown",
   "id": "24835965",
   "metadata": {
    "deletable": false,
    "editable": false
   },
   "source": [
    "It is important to study the absolute number of people living in poverty, not just the percent. The absolute number is an important factor in determining the amount of resources needed to support people living in poverty. \n",
    "\n",
    "You will now write a function called `poverty_timeline` that takes **the name of a country** as its argument  (not the Alpha-3 country code). It should draw a line plot of the number of people living in poverty in that country with time on the horizontal axis. The line plot should have a point for each row in the `poverty` table for that country. To compute the population living in poverty from a poverty percentage, multiply by the population of the country **in that year**.\n",
    "\n",
    "Before you begin, write out a generalized process for answering this question. What should this function output, and what steps will you take within the function?\n",
    "\n"
   ]
  },
  {
   "cell_type": "markdown",
   "id": "319b7587",
   "metadata": {},
   "source": [
    "_Type your answer here, replacing this text._"
   ]
  },
  {
   "cell_type": "markdown",
   "id": "86bf73f6",
   "metadata": {
    "deletable": false,
    "editable": false
   },
   "source": [
    "<!-- END QUESTION -->\n",
    "\n",
    "#### Part 2.7 (5 pts)\n"
   ]
  },
  {
   "cell_type": "markdown",
   "id": "93ac0269",
   "metadata": {
    "deletable": false,
    "editable": false
   },
   "source": [
    " Now, we'll actually write the function called `poverty_timeline`. Recall that `poverty_timeline` takes **the name of a country** as its argument (not the Alpha-3 country code). It should draw a line plot of the number of people living in poverty in that country with time on the horizontal axis. The line plot should have a point for each row in the `poverty` table for that country. To compute the population living in poverty from a poverty percentage, multiply by the population of the country **in that year**.\n",
    "\n",
    "*Hint:* This question is long. Feel free to create cells and experiment. You can create cells by going to the toolbar and hitting the `+` button, or by going to the `Insert` tab."
   ]
  },
  {
   "cell_type": "code",
   "execution_count": null,
   "id": "7f615c4c",
   "metadata": {
    "deletable": false,
    "editable": true,
    "tags": []
   },
   "outputs": [],
   "source": [
    "def poverty_timeline(country):\n",
    "    '''Draw a timeline of people living in extreme poverty in a country.'''\n",
    "    geo = ...\n",
    "    # This solution will take multiple lines of code. Use as many as you need\n",
    "    table = ...\n",
    "    table = table.with_column(\"poverty_total\", table.column(\"extreme_poverty_percent_people_below_125_a_day\") / 100 * table.column(\"population_total\"))\n",
    "    table.plot(\"time\", \"poverty_total\")\n",
    "    # Don't change anything below this line. \n",
    "    plots.title(country)\n",
    "    plots.ylim(bottom=0)\n",
    "    plots.show() # This should be the last line of your function. "
   ]
  },
  {
   "cell_type": "markdown",
   "id": "bbb4997e",
   "metadata": {
    "deletable": false,
    "editable": false
   },
   "source": [
    "Finally, draw the line plots below to see how the world is changing. Pay attention to the axes! You can check your work by comparing your graphs to the ones on [gapminder.org](https://www.gapminder.org/tools/#$state$entities$show$country$/$in@=ind;;;;&marker$axis_y$which=number_of_people_in_poverty&scaleType=linear&spaceRef:null;;;&chart-type=linechart).\n",
    "\n"
   ]
  },
  {
   "cell_type": "code",
   "execution_count": null,
   "id": "4cc71a9d",
   "metadata": {
    "deletable": false,
    "editable": false
   },
   "outputs": [],
   "source": [
    "poverty_timeline('India')\n",
    "poverty_timeline('Nigeria')\n",
    "poverty_timeline('China')\n",
    "poverty_timeline('Colombia')\n",
    "poverty_timeline('United States')"
   ]
  },
  {
   "cell_type": "markdown",
   "id": "5259762c",
   "metadata": {
    "deletable": false,
    "editable": false
   },
   "source": [
    "Although the number of people living in extreme poverty increased in some countries including Nigeria and the United States, the decreases in other countries, most notably the massive decreases in China and India, have shaped the overall trend that extreme poverty is decreasing worldwide, both in percentage and in absolute number. \n",
    "\n",
    "To learn more, watch [Hans Rosling in a 2015 film](https://www.gapminder.org/videos/dont-panic-end-poverty/) about the UN goal of eradicating extreme poverty from the world. \n",
    "\n",
    "Below, we've also added an interactive dropdown menu for you to visualize `poverty_timeline` graphs for other countries. Note that each dropdown menu selection may take a few seconds to run."
   ]
  },
  {
   "cell_type": "code",
   "execution_count": null,
   "id": "7448674b",
   "metadata": {
    "deletable": false,
    "editable": false
   },
   "outputs": [],
   "source": [
    "# Just run this cell\n",
    "\n",
    "all_countries = poverty_map.column('name')\n",
    "_ = widgets.interact(poverty_timeline, country=list(all_countries))"
   ]
  },
  {
   "cell_type": "markdown",
   "id": "5838b12c",
   "metadata": {
    "deletable": false,
    "editable": false
   },
   "source": [
    "**You're finished!** Congratulations on discovering many important facts about global poverty and demonstrating your mastery of table manipulation and data visualization. Time to submit."
   ]
  },
  {
   "cell_type": "markdown",
   "id": "6cb9b631",
   "metadata": {
    "deletable": false,
    "editable": false
   },
   "source": [
    "---\n",
    "\n",
    "To double-check your work, the cell below will rerun all of the autograder tests."
   ]
  },
  {
   "cell_type": "code",
   "execution_count": null,
   "id": "620a41ea",
   "metadata": {
    "deletable": false,
    "editable": false
   },
   "outputs": [],
   "source": [
    "grader.check_all()"
   ]
  },
  {
   "cell_type": "markdown",
   "id": "9f3e9a09",
   "metadata": {
    "deletable": false,
    "editable": false
   },
   "source": [
    "## Submission\n",
    "\n",
    "Make sure you have run all cells in your notebook in order before running the cell below, so that all images/graphs appear in the output. The cell below will generate a zip file for you to submit. **Please save before exporting!**"
   ]
  },
  {
   "cell_type": "code",
   "execution_count": null,
   "id": "73bd75ac",
   "metadata": {
    "deletable": false,
    "editable": false
   },
   "outputs": [],
   "source": [
    "# Save your notebook first, then run this cell to export your submission.\n",
    "grader.export()"
   ]
  },
  {
   "cell_type": "markdown",
   "id": "a39d0050",
   "metadata": {},
   "source": [
    " "
   ]
  }
 ],
 "metadata": {
  "kernelspec": {
   "display_name": "Python 3 (ipykernel)",
   "language": "python",
   "name": "python3"
  },
  "language_info": {
   "codemirror_mode": {
    "name": "ipython",
    "version": 3
   },
   "file_extension": ".py",
   "mimetype": "text/x-python",
   "name": "python",
   "nbconvert_exporter": "python",
   "pygments_lexer": "ipython3",
   "version": "3.9.13"
  },
  "otter": {
   "tests": {
    "q1.1": {
     "name": "q1.1",
     "points": null,
     "suites": [
      {
       "cases": [
        {
         "code": ">>> b_pop.labels == ('time', 'population_total')\nTrue",
         "hidden": false,
         "locked": false
        },
        {
         "code": ">>> all(b_pop.sort(\"time\").column(\"time\") == np.arange(1970, 2021))\nTrue",
         "hidden": false,
         "locked": false
        }
       ],
       "scored": true,
       "setup": "",
       "teardown": "",
       "type": "doctest"
      }
     ]
    },
    "q1.11": {
     "name": "q1.11",
     "points": null,
     "suites": [
      {
       "cases": [
        {
         "code": ">>> stats_for_year(1990).labels == ('geo', 'population_total', 'children_per_woman_total_fertility', 'child_mortality_under_5_per_1000_born')\nTrue",
         "hidden": false,
         "locked": false
        },
        {
         "code": ">>> stats_for_year(1990).num_rows == 50\nTrue",
         "hidden": false,
         "locked": false
        },
        {
         "code": ">>> print(stats_for_year(1960).sort('geo').take(np.arange(5, 50, 5)))\ngeo  | population_total | children_per_woman_total_fertility | child_mortality_under_5_per_1000_born\ncan  | 17847404         | 3.88                               | 32.6\ndza  | 11057864         | 7.52                               | 242.54\ngbr  | 52370595         | 2.69                               | 26.56\nirq  | 7289753          | 6.25                               | 191.93\nmar  | 12328532         | 7.04                               | 237.06\nnga  | 45138460         | 6.35                               | 339.85\npol  | 29614201         | 3.11                               | 65.03\ntur  | 27472339         | 6.37                               | 258.29\nuzb  | 8526299          | 6.26                               | 169.4\n",
         "hidden": false,
         "locked": false
        },
        {
         "code": ">>> print(stats_for_year(2010).sort('geo').take(np.arange(3, 50, 5)))\ngeo  | population_total | children_per_woman_total_fertility | child_mortality_under_5_per_1000_born\nbgd  | 147575433        | 2.28                               | 49.1\ncol  | 45222699         | 2.01                               | 18.47\neth  | 87639962         | 4.92                               | 82.94\nind  | 1234281163       | 2.6                                | 58.23\nken  | 42030684         | 4.37                               | 56.54\nmoz  | 23531567         | 5.56                               | 104.53\nper  | 29027680         | 2.55                               | 20.13\nsdn  | 34545014         | 4.88                               | 75.92\nukr  | 45792086         | 1.45                               | 11.72\nyem  | 23154854         | 4.67                               | 55.96\n",
         "hidden": false,
         "locked": false
        }
       ],
       "scored": true,
       "setup": "",
       "teardown": "",
       "type": "doctest"
      }
     ]
    },
    "q1.12": {
     "name": "q1.12",
     "points": null,
     "suites": [
      {
       "cases": [
        {
         "code": ">>> pop_for_year(1972) == 3355562066\nTrue",
         "hidden": false,
         "locked": false
        },
        {
         "code": ">>> pop_for_year(2020) == 6765161289\nTrue",
         "hidden": false,
         "locked": false
        },
        {
         "code": ">>> pop_for_year(1989) == 4576679948\nTrue",
         "hidden": false,
         "locked": false
        },
        {
         "code": ">>> pop_for_year(2002) == 5514129422\nTrue",
         "hidden": false,
         "locked": false
        }
       ],
       "scored": true,
       "setup": "",
       "teardown": "",
       "type": "doctest"
      }
     ]
    },
    "q1.13": {
     "name": "q1.13",
     "points": null,
     "suites": [
      {
       "cases": [
        {
         "code": ">>> pop_by_decade.labels == ('decade', 'population')\nTrue",
         "hidden": false,
         "locked": false
        },
        {
         "code": ">>> pop_by_decade.column(0).item(0) == 1960\nTrue",
         "hidden": false,
         "locked": false
        }
       ],
       "scored": true,
       "setup": "",
       "teardown": "",
       "type": "doctest"
      }
     ]
    },
    "q1.14": {
     "name": "q1.14",
     "points": null,
     "suites": [
      {
       "cases": [
        {
         "code": ">>> sum(region_counts.column('count')) == 50\nTrue",
         "hidden": false,
         "locked": false
        },
        {
         "code": ">>> print(region_counts)\nregion                   | count\namerica                  | 8\neast_asia_pacific        | 9\neurope_central_asia      | 10\nmiddle_east_north_africa | 7\nsouth_asia               | 5\nsub_saharan_africa       | 11\n",
         "hidden": false,
         "locked": false
        }
       ],
       "scored": true,
       "setup": "",
       "teardown": "",
       "type": "doctest"
      }
     ]
    },
    "q1.15": {
     "name": "q1.15",
     "points": null,
     "suites": [
      {
       "cases": [
        {
         "code": ">>> all(x in range(1, 6) for x in set(scatter_statements))\nTrue",
         "hidden": false,
         "locked": false
        }
       ],
       "scored": true,
       "setup": "",
       "teardown": "",
       "type": "doctest"
      }
     ]
    },
    "q1.2": {
     "name": "q1.2",
     "points": null,
     "suites": [
      {
       "cases": [
        {
         "code": ">>> first = round(b_five_growth.sort(0).column(2).item(0), 8)\n>>> 0.005 <= first <= 0.5\nTrue",
         "hidden": false,
         "locked": false
        },
        {
         "code": ">>> 0.01 < max(b_five_growth.column(2)) < 0.03\nTrue",
         "hidden": false,
         "locked": false
        },
        {
         "code": ">>> round(first, 5) == 0.01754\nTrue",
         "hidden": false,
         "locked": false
        },
        {
         "code": ">>> round(max(b_five_growth.column(2)), 5) == 0.0265\nTrue",
         "hidden": false,
         "locked": false
        }
       ],
       "scored": true,
       "setup": "",
       "teardown": "",
       "type": "doctest"
      }
     ]
    },
    "q1.5": {
     "name": "q1.5",
     "points": null,
     "suites": [
      {
       "cases": [
        {
         "code": ">>> fertility_over_time('usa', 2010).labels == ('Year', 'Children per woman')\nTrue",
         "hidden": false,
         "locked": false
        },
        {
         "code": ">>> all(fertility_over_time('usa', 2010).column('Year') == np.arange(2010, 2021))\nTrue",
         "hidden": false,
         "locked": false
        },
        {
         "code": ">>> all(fertility_over_time('usa', 2005).column('Year') == np.arange(2005, 2021))\nTrue",
         "hidden": false,
         "locked": false
        }
       ],
       "scored": true,
       "setup": "",
       "teardown": "",
       "type": "doctest"
      }
     ]
    },
    "q1.7": {
     "name": "q1.7",
     "points": null,
     "suites": [
      {
       "cases": [
        {
         "code": "...  all([label in post_1969_fertility_and_child_mortality.labels for label in ['Children per woman', 'Child deaths per 1000 born']])\nTrue",
         "hidden": false,
         "locked": false
        }
       ],
       "scored": true,
       "setup": "",
       "teardown": "",
       "type": "doctest"
      }
     ]
    },
    "q1.9": {
     "name": "q1.9",
     "points": null,
     "suites": [
      {
       "cases": [
        {
         "code": ">>> # Please use a list of integers from 1 to 6\n>>> all(x in range(1, 7) for x in set(fertility_statements))\nTrue",
         "hidden": false,
         "locked": false
        }
       ],
       "scored": true,
       "setup": "",
       "teardown": "",
       "type": "doctest"
      }
     ]
    },
    "q2.1": {
     "name": "q2.1",
     "points": null,
     "suites": [
      {
       "cases": [
        {
         "code": ">>> latest_poverty.labels == ('geo', 'time', 'poverty_percent')\nTrue",
         "hidden": false,
         "locked": false
        },
        {
         "code": ">>> latest_poverty.num_rows == 145\nTrue",
         "hidden": false,
         "locked": false
        }
       ],
       "scored": true,
       "setup": "",
       "teardown": "",
       "type": "doctest"
      }
     ]
    },
    "q2.2": {
     "name": "q2.2",
     "points": null,
     "suites": [
      {
       "cases": [
        {
         "code": ">>> recent_poverty_total.labels == ('geo', 'poverty_percent', 'population_total', 'poverty_total')\nTrue",
         "hidden": false,
         "locked": false
        },
        {
         "code": ">>> recent_poverty_total.where('geo', 'aus').column(2).item(0) == 22154687\nTrue",
         "hidden": false,
         "locked": false
        },
        {
         "code": ">>> # The number of people estimated to be living in extreme poverty\n>>> # in Australia should be 301,304. That's 22,154,687 * 0.0136\n>>> # rounded to the nearest integer.\n>>> float(recent_poverty_total.where('geo', 'aus').column(3).item(0)) == 30130374.0\nFalse",
         "hidden": false,
         "locked": false
        }
       ],
       "scored": true,
       "setup": "",
       "teardown": "",
       "type": "doctest"
      }
     ]
    },
    "q2.3": {
     "name": "q2.3",
     "points": null,
     "suites": [
      {
       "cases": [
        {
         "code": ">>> 10 <= poverty_percent <= 20\nTrue",
         "hidden": false,
         "locked": false
        }
       ],
       "scored": true,
       "setup": "",
       "teardown": "",
       "type": "doctest"
      }
     ]
    },
    "q2.4": {
     "name": "q2.4",
     "points": null,
     "suites": [
      {
       "cases": [
        {
         "code": ">>> # Check your column labels and spelling\n>>> poverty_map.labels == ('latitude', 'longitude', 'name', 'region', 'poverty_total')\nTrue",
         "hidden": false,
         "locked": false
        },
        {
         "code": ">>> # Something is wrong with your region column.\n>>> list(np.sort(np.unique(poverty_map.column('region')))) == ['africa', 'americas', 'asia', 'europe']\nTrue",
         "hidden": false,
         "locked": false
        }
       ],
       "scored": true,
       "setup": "",
       "teardown": "",
       "type": "doctest"
      }
     ]
    },
    "q2.5": {
     "name": "q2.5",
     "points": null,
     "suites": [
      {
       "cases": [
        {
         "code": ">>> # India is the country with the largest number of people living\n>>> # in extreme poverty.\n>>> largest.column(0).item(0) == 'India'\nTrue",
         "hidden": false,
         "locked": false
        },
        {
         "code": ">>> largest.num_rows == 10\nTrue",
         "hidden": false,
         "locked": false
        }
       ],
       "scored": true,
       "setup": "",
       "teardown": "",
       "type": "doctest"
      }
     ]
    }
   }
  },
  "widgets": {
   "application/vnd.jupyter.widget-state+json": {
    "state": {
     "15c0c8836e904de7b3cd5b52b0582d91": {
      "model_module": "@jupyter-widgets/base",
      "model_module_version": "1.2.0",
      "model_name": "LayoutModel",
      "state": {
       "_model_module": "@jupyter-widgets/base",
       "_model_module_version": "1.2.0",
       "_model_name": "LayoutModel",
       "_view_count": null,
       "_view_module": "@jupyter-widgets/base",
       "_view_module_version": "1.2.0",
       "_view_name": "LayoutView",
       "align_content": null,
       "align_items": null,
       "align_self": null,
       "border": null,
       "bottom": null,
       "display": null,
       "flex": null,
       "flex_flow": null,
       "grid_area": null,
       "grid_auto_columns": null,
       "grid_auto_flow": null,
       "grid_auto_rows": null,
       "grid_column": null,
       "grid_gap": null,
       "grid_row": null,
       "grid_template_areas": null,
       "grid_template_columns": null,
       "grid_template_rows": null,
       "height": null,
       "justify_content": null,
       "justify_items": null,
       "left": null,
       "margin": null,
       "max_height": null,
       "max_width": null,
       "min_height": null,
       "min_width": null,
       "object_fit": null,
       "object_position": null,
       "order": null,
       "overflow": null,
       "overflow_x": null,
       "overflow_y": null,
       "padding": null,
       "right": null,
       "top": null,
       "visibility": null,
       "width": null
      }
     },
     "175ed731da11461da8835cc1e952af26": {
      "model_module": "@jupyter-widgets/output",
      "model_module_version": "1.0.0",
      "model_name": "OutputModel",
      "state": {
       "_dom_classes": [],
       "_model_module": "@jupyter-widgets/output",
       "_model_module_version": "1.0.0",
       "_model_name": "OutputModel",
       "_view_count": null,
       "_view_module": "@jupyter-widgets/output",
       "_view_module_version": "1.0.0",
       "_view_name": "OutputView",
       "layout": "IPY_MODEL_b4b14a5c32194a2eaa2d0d65f3b74a9c",
       "msg_id": "",
       "outputs": []
      }
     },
     "3a8f03c91f984294982bd3a8daf38967": {
      "model_module": "@jupyter-widgets/base",
      "model_module_version": "1.2.0",
      "model_name": "LayoutModel",
      "state": {
       "_model_module": "@jupyter-widgets/base",
       "_model_module_version": "1.2.0",
       "_model_name": "LayoutModel",
       "_view_count": null,
       "_view_module": "@jupyter-widgets/base",
       "_view_module_version": "1.2.0",
       "_view_name": "LayoutView",
       "align_content": null,
       "align_items": null,
       "align_self": null,
       "border": null,
       "bottom": null,
       "display": null,
       "flex": null,
       "flex_flow": null,
       "grid_area": null,
       "grid_auto_columns": null,
       "grid_auto_flow": null,
       "grid_auto_rows": null,
       "grid_column": null,
       "grid_gap": null,
       "grid_row": null,
       "grid_template_areas": null,
       "grid_template_columns": null,
       "grid_template_rows": null,
       "height": null,
       "justify_content": null,
       "justify_items": null,
       "left": null,
       "margin": null,
       "max_height": null,
       "max_width": null,
       "min_height": null,
       "min_width": null,
       "object_fit": null,
       "object_position": null,
       "order": null,
       "overflow": null,
       "overflow_x": null,
       "overflow_y": null,
       "padding": null,
       "right": null,
       "top": null,
       "visibility": null,
       "width": null
      }
     },
     "5dd78ce16787434496cb9abc812e6f12": {
      "model_module": "@jupyter-widgets/controls",
      "model_module_version": "1.5.0",
      "model_name": "SliderStyleModel",
      "state": {
       "_model_module": "@jupyter-widgets/controls",
       "_model_module_version": "1.5.0",
       "_model_name": "SliderStyleModel",
       "_view_count": null,
       "_view_module": "@jupyter-widgets/base",
       "_view_module_version": "1.2.0",
       "_view_name": "StyleView",
       "description_width": "",
       "handle_color": null
      }
     },
     "602afd91ad6447ca9cf4648e407ee930": {
      "model_module": "@jupyter-widgets/controls",
      "model_module_version": "1.5.0",
      "model_name": "DropdownModel",
      "state": {
       "_dom_classes": [],
       "_model_module": "@jupyter-widgets/controls",
       "_model_module_version": "1.5.0",
       "_model_name": "DropdownModel",
       "_options_labels": [
        "Angola",
        "Albania",
        "Argentina",
        "Armenia",
        "Australia",
        "Austria",
        "Azerbaijan",
        "Burundi",
        "Belgium",
        "Benin",
        "Burkina Faso",
        "Bangladesh",
        "Bulgaria",
        "Bosnia and Herzegovina",
        "Belarus",
        "Belize",
        "Bolivia",
        "Brazil",
        "Bhutan",
        "Botswana",
        "Central African Republic",
        "Canada",
        "Switzerland",
        "Chile",
        "China",
        "Cote d'Ivoire",
        "Cameroon",
        "Congo, Dem. Rep.",
        "Congo, Rep.",
        "Colombia",
        "Comoros",
        "Cape Verde",
        "Costa Rica",
        "Czech Republic",
        "Germany",
        "Djibouti",
        "Denmark",
        "Dominican Republic",
        "Algeria",
        "Ecuador",
        "Egypt",
        "Spain",
        "Estonia",
        "Ethiopia",
        "Finland",
        "Fiji",
        "France",
        "Micronesia, Fed. Sts.",
        "Gabon",
        "United Kingdom",
        "Georgia",
        "Ghana",
        "Guinea",
        "Gambia",
        "Guinea-Bissau",
        "Greece",
        "Guatemala",
        "Guyana",
        "Honduras",
        "Croatia",
        "Haiti",
        "Hungary",
        "Indonesia",
        "India",
        "Ireland",
        "Iran",
        "Iraq",
        "Israel",
        "Italy",
        "Jamaica",
        "Jordan",
        "Japan",
        "Kazakhstan",
        "Kenya",
        "Kyrgyz Republic",
        "Cambodia",
        "Lao",
        "Liberia",
        "St. Lucia",
        "Sri Lanka",
        "Lesotho",
        "Lithuania",
        "Latvia",
        "Morocco",
        "Moldova",
        "Madagascar",
        "Maldives",
        "Mexico",
        "North Macedonia",
        "Mali",
        "Montenegro",
        "Mozambique",
        "Mauritania",
        "Malawi",
        "Malaysia",
        "Namibia",
        "Niger",
        "Nigeria",
        "Nicaragua",
        "Netherlands",
        "Norway",
        "Nepal",
        "Pakistan",
        "Panama",
        "Peru",
        "Philippines",
        "Papua New Guinea",
        "Poland",
        "Paraguay",
        "Palestine",
        "Romania",
        "Russia",
        "Rwanda",
        "Sudan",
        "Senegal",
        "Sierra Leone",
        "El Salvador",
        "Serbia",
        "Sao Tome and Principe",
        "Suriname",
        "Slovak Republic",
        "Slovenia",
        "Sweden",
        "Swaziland",
        "Seychelles",
        "Syria",
        "Chad",
        "Togo",
        "Thailand",
        "Tajikistan",
        "Turkmenistan",
        "Timor-Leste",
        "Trinidad and Tobago",
        "Tunisia",
        "Turkey",
        "Tanzania",
        "Uganda",
        "Ukraine",
        "Uruguay",
        "United States",
        "Venezuela",
        "Vietnam",
        "Yemen",
        "South Africa",
        "Zambia"
       ],
       "_view_count": null,
       "_view_module": "@jupyter-widgets/controls",
       "_view_module_version": "1.5.0",
       "_view_name": "DropdownView",
       "description": "country",
       "description_tooltip": null,
       "disabled": false,
       "index": 0,
       "layout": "IPY_MODEL_99d3de2f011f4b3389a75ce014d35ef4",
       "style": "IPY_MODEL_8a90a315ab05496dbf6065cf19e0e45a"
      }
     },
     "686cafef64384ada9cf342212adf9837": {
      "model_module": "@jupyter-widgets/base",
      "model_module_version": "1.2.0",
      "model_name": "LayoutModel",
      "state": {
       "_model_module": "@jupyter-widgets/base",
       "_model_module_version": "1.2.0",
       "_model_name": "LayoutModel",
       "_view_count": null,
       "_view_module": "@jupyter-widgets/base",
       "_view_module_version": "1.2.0",
       "_view_name": "LayoutView",
       "align_content": null,
       "align_items": null,
       "align_self": null,
       "border": null,
       "bottom": null,
       "display": null,
       "flex": null,
       "flex_flow": null,
       "grid_area": null,
       "grid_auto_columns": null,
       "grid_auto_flow": null,
       "grid_auto_rows": null,
       "grid_column": null,
       "grid_gap": null,
       "grid_row": null,
       "grid_template_areas": null,
       "grid_template_columns": null,
       "grid_template_rows": null,
       "height": null,
       "justify_content": null,
       "justify_items": null,
       "left": null,
       "margin": null,
       "max_height": null,
       "max_width": null,
       "min_height": null,
       "min_width": null,
       "object_fit": null,
       "object_position": null,
       "order": null,
       "overflow": null,
       "overflow_x": null,
       "overflow_y": null,
       "padding": null,
       "right": null,
       "top": null,
       "visibility": null,
       "width": null
      }
     },
     "6ae295c9bb644b7a90408f7992f1e5da": {
      "model_module": "@jupyter-widgets/controls",
      "model_module_version": "1.5.0",
      "model_name": "VBoxModel",
      "state": {
       "_dom_classes": [
        "widget-interact"
       ],
       "_model_module": "@jupyter-widgets/controls",
       "_model_module_version": "1.5.0",
       "_model_name": "VBoxModel",
       "_view_count": null,
       "_view_module": "@jupyter-widgets/controls",
       "_view_module_version": "1.5.0",
       "_view_name": "VBoxView",
       "box_style": "",
       "children": [
        "IPY_MODEL_602afd91ad6447ca9cf4648e407ee930",
        "IPY_MODEL_175ed731da11461da8835cc1e952af26"
       ],
       "layout": "IPY_MODEL_686cafef64384ada9cf342212adf9837"
      }
     },
     "859dd296af0748f69bbcd98099fd6089": {
      "model_module": "@jupyter-widgets/base",
      "model_module_version": "1.2.0",
      "model_name": "LayoutModel",
      "state": {
       "_model_module": "@jupyter-widgets/base",
       "_model_module_version": "1.2.0",
       "_model_name": "LayoutModel",
       "_view_count": null,
       "_view_module": "@jupyter-widgets/base",
       "_view_module_version": "1.2.0",
       "_view_name": "LayoutView",
       "align_content": null,
       "align_items": null,
       "align_self": null,
       "border": null,
       "bottom": null,
       "display": null,
       "flex": null,
       "flex_flow": null,
       "grid_area": null,
       "grid_auto_columns": null,
       "grid_auto_flow": null,
       "grid_auto_rows": null,
       "grid_column": null,
       "grid_gap": null,
       "grid_row": null,
       "grid_template_areas": null,
       "grid_template_columns": null,
       "grid_template_rows": null,
       "height": null,
       "justify_content": null,
       "justify_items": null,
       "left": null,
       "margin": null,
       "max_height": null,
       "max_width": null,
       "min_height": null,
       "min_width": null,
       "object_fit": null,
       "object_position": null,
       "order": null,
       "overflow": null,
       "overflow_x": null,
       "overflow_y": null,
       "padding": null,
       "right": null,
       "top": null,
       "visibility": null,
       "width": null
      }
     },
     "8a90a315ab05496dbf6065cf19e0e45a": {
      "model_module": "@jupyter-widgets/controls",
      "model_module_version": "1.5.0",
      "model_name": "DescriptionStyleModel",
      "state": {
       "_model_module": "@jupyter-widgets/controls",
       "_model_module_version": "1.5.0",
       "_model_name": "DescriptionStyleModel",
       "_view_count": null,
       "_view_module": "@jupyter-widgets/base",
       "_view_module_version": "1.2.0",
       "_view_name": "StyleView",
       "description_width": ""
      }
     },
     "99d3de2f011f4b3389a75ce014d35ef4": {
      "model_module": "@jupyter-widgets/base",
      "model_module_version": "1.2.0",
      "model_name": "LayoutModel",
      "state": {
       "_model_module": "@jupyter-widgets/base",
       "_model_module_version": "1.2.0",
       "_model_name": "LayoutModel",
       "_view_count": null,
       "_view_module": "@jupyter-widgets/base",
       "_view_module_version": "1.2.0",
       "_view_name": "LayoutView",
       "align_content": null,
       "align_items": null,
       "align_self": null,
       "border": null,
       "bottom": null,
       "display": null,
       "flex": null,
       "flex_flow": null,
       "grid_area": null,
       "grid_auto_columns": null,
       "grid_auto_flow": null,
       "grid_auto_rows": null,
       "grid_column": null,
       "grid_gap": null,
       "grid_row": null,
       "grid_template_areas": null,
       "grid_template_columns": null,
       "grid_template_rows": null,
       "height": null,
       "justify_content": null,
       "justify_items": null,
       "left": null,
       "margin": null,
       "max_height": null,
       "max_width": null,
       "min_height": null,
       "min_width": null,
       "object_fit": null,
       "object_position": null,
       "order": null,
       "overflow": null,
       "overflow_x": null,
       "overflow_y": null,
       "padding": null,
       "right": null,
       "top": null,
       "visibility": null,
       "width": null
      }
     },
     "b4b14a5c32194a2eaa2d0d65f3b74a9c": {
      "model_module": "@jupyter-widgets/base",
      "model_module_version": "1.2.0",
      "model_name": "LayoutModel",
      "state": {
       "_model_module": "@jupyter-widgets/base",
       "_model_module_version": "1.2.0",
       "_model_name": "LayoutModel",
       "_view_count": null,
       "_view_module": "@jupyter-widgets/base",
       "_view_module_version": "1.2.0",
       "_view_name": "LayoutView",
       "align_content": null,
       "align_items": null,
       "align_self": null,
       "border": null,
       "bottom": null,
       "display": null,
       "flex": null,
       "flex_flow": null,
       "grid_area": null,
       "grid_auto_columns": null,
       "grid_auto_flow": null,
       "grid_auto_rows": null,
       "grid_column": null,
       "grid_gap": null,
       "grid_row": null,
       "grid_template_areas": null,
       "grid_template_columns": null,
       "grid_template_rows": null,
       "height": null,
       "justify_content": null,
       "justify_items": null,
       "left": null,
       "margin": null,
       "max_height": null,
       "max_width": null,
       "min_height": null,
       "min_width": null,
       "object_fit": null,
       "object_position": null,
       "order": null,
       "overflow": null,
       "overflow_x": null,
       "overflow_y": null,
       "padding": null,
       "right": null,
       "top": null,
       "visibility": null,
       "width": null
      }
     },
     "c8c41ac04f8b4167a984ca84d574da74": {
      "model_module": "@jupyter-widgets/controls",
      "model_module_version": "1.5.0",
      "model_name": "VBoxModel",
      "state": {
       "_dom_classes": [
        "widget-interact"
       ],
       "_model_module": "@jupyter-widgets/controls",
       "_model_module_version": "1.5.0",
       "_model_name": "VBoxModel",
       "_view_count": null,
       "_view_module": "@jupyter-widgets/controls",
       "_view_module_version": "1.5.0",
       "_view_name": "VBoxView",
       "box_style": "",
       "children": [
        "IPY_MODEL_f327e1c7ea954d4bb5e51447523d702d",
        "IPY_MODEL_ff6fcc51a8d24fbc96481b2a02d879ec"
       ],
       "layout": "IPY_MODEL_859dd296af0748f69bbcd98099fd6089"
      }
     },
     "f327e1c7ea954d4bb5e51447523d702d": {
      "model_module": "@jupyter-widgets/controls",
      "model_module_version": "1.5.0",
      "model_name": "IntSliderModel",
      "state": {
       "_dom_classes": [],
       "_model_module": "@jupyter-widgets/controls",
       "_model_module_version": "1.5.0",
       "_model_name": "IntSliderModel",
       "_view_count": null,
       "_view_module": "@jupyter-widgets/controls",
       "_view_module_version": "1.5.0",
       "_view_name": "IntSliderView",
       "continuous_update": true,
       "description": "year",
       "description_tooltip": null,
       "disabled": false,
       "layout": "IPY_MODEL_3a8f03c91f984294982bd3a8daf38967",
       "max": 2020,
       "min": 1960,
       "orientation": "horizontal",
       "readout": true,
       "readout_format": "d",
       "step": 1,
       "style": "IPY_MODEL_5dd78ce16787434496cb9abc812e6f12",
       "value": 1960
      }
     },
     "ff6fcc51a8d24fbc96481b2a02d879ec": {
      "model_module": "@jupyter-widgets/output",
      "model_module_version": "1.0.0",
      "model_name": "OutputModel",
      "state": {
       "_dom_classes": [],
       "_model_module": "@jupyter-widgets/output",
       "_model_module_version": "1.0.0",
       "_model_name": "OutputModel",
       "_view_count": null,
       "_view_module": "@jupyter-widgets/output",
       "_view_module_version": "1.0.0",
       "_view_name": "OutputView",
       "layout": "IPY_MODEL_15c0c8836e904de7b3cd5b52b0582d91",
       "msg_id": "",
       "outputs": []
      }
     }
    },
    "version_major": 2,
    "version_minor": 0
   }
  }
 },
 "nbformat": 4,
 "nbformat_minor": 5
}
