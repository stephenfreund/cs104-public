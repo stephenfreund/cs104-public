{
 "cells": [
  {
   "cell_type": "code",
   "execution_count": null,
   "id": "ef84b008",
   "metadata": {
    "deletable": false,
    "editable": false
   },
   "outputs": [],
   "source": [
    "# Initialize Otter\n",
    "import otter\n",
    "grader = otter.Notebook(\"lab07.ipynb\")"
   ]
  },
  {
   "cell_type": "markdown",
   "id": "ff76b42c",
   "metadata": {
    "deletable": false,
    "editable": false
   },
   "source": [
    "# Lab 7: Testing Hypotheses"
   ]
  },
  {
   "cell_type": "markdown",
   "id": "2655169c",
   "metadata": {
    "deletable": false,
    "editable": false
   },
   "source": [
    "**Helpful Resources:**\n",
    "- [Python Reference](http://www.cs.williams.edu/~cs104/python-library-ref.html): Cheat sheet of helpful library methods.\n",
    "\n",
    "**Recommended Readings**: \n",
    "* [Ch 11. Testing Hypotheses](https://www.inferentialthinking.com/chapters/11/Testing_Hypotheses.html)\n",
    "* [Ch 12.1. A/B Testing](https://inferentialthinking.com/chapters/12/1/AB_Testing.html)"
   ]
  },
  {
   "cell_type": "markdown",
   "id": "73b6012c",
   "metadata": {
    "deletable": false,
    "editable": false
   },
   "source": [
    "Please complete this notebook by filling in the cells provided. Before you begin, execute the following cell to setup the notebook by importing some helpful libraries. Each time you start your server, you will need to execute this cell again.  For all problems that you must write explanations and sentences for, you **must** provide your answer in the designated space. **Moreover, throughout this homework and all future ones, please be sure to not re-assign variables throughout the notebook!** For example, if you use `max_temperature` in your answer to one question, do not reassign it later on. Otherwise, you will fail tests that you thought you were passing previously!\n",
    "\n",
    "**Note: This homework has hidden tests on it. That means even though tests may say 100% passed, it doesn't mean your final grade will be 100%. We will be running more tests for correctness once everyone turns in the homework.**"
   ]
  },
  {
   "cell_type": "code",
   "execution_count": null,
   "id": "bb91343a",
   "metadata": {
    "deletable": false,
    "editable": false
   },
   "outputs": [],
   "source": [
    "# Run this cell to set up the notebook, but please don't change it.\n",
    "\n",
    "# These lines import the Numpy and Datascience modules.\n",
    "import numpy as np\n",
    "from datascience import *\n",
    "\n",
    "# These lines make plots look nice and hide some messy Python warnings.\n",
    "import matplotlib\n",
    "%matplotlib inline\n",
    "import matplotlib.pyplot as plt\n",
    "plt.style.use('fivethirtyeight')\n",
    "import warnings\n",
    "warnings.simplefilter('ignore', FutureWarning)\n",
    "warnings.simplefilter('ignore', np.VisibleDeprecationWarning)"
   ]
  },
  {
   "cell_type": "markdown",
   "id": "f09848d0",
   "metadata": {
    "deletable": false,
    "editable": false
   },
   "source": [
    "## 1. Vaccinations Across The Nation (45 pts)\n",
    "\n"
   ]
  },
  {
   "cell_type": "markdown",
   "id": "8b07de3d",
   "metadata": {
    "deletable": false,
    "editable": false
   },
   "source": [
    "A vaccination clinic has two types of vaccines against a disease. Each person who comes in to be vaccinated gets either Vaccine 1 or Vaccine 2. One week, everyone who came in on Monday, Wednesday, and Friday was given Vaccine 1. Everyone who came in on Tuesday and Thursday was given Vaccine 2. The clinic is closed on weekends.\n",
    "\n",
    "Doctor Adhikari at the clinic said, \"Oh wow, it's just like tossing a coin that lands heads with chance $\\frac{3}{5}$. Heads you get Vaccine 1 and Tails you get Vaccine 2.\"\n",
    "\n",
    "But Doctor Wagner said, \"No, it's not. We're not doing anything like tossing a coin.\"\n",
    "\n",
    "That week, the clinic gave Vaccine 1 to 211 people and Vaccine 2 to 107 people. Conduct a test of hypotheses to see which doctor's position is better supported by the data."
   ]
  },
  {
   "cell_type": "markdown",
   "id": "73e8f9c3",
   "metadata": {
    "deletable": false,
    "editable": false
   },
   "source": [
    "#### Part 1.1 (5 pts)\n"
   ]
  },
  {
   "cell_type": "markdown",
   "id": "8a747c3f",
   "metadata": {
    "deletable": false,
    "editable": false
   },
   "source": [
    " Given the information above, what was the sample size, and what was the percentage of people who got **Vaccine 1?** \n",
    "\n",
    "*Note*: Your percent should be a number between 0 and 100.\n",
    "\n"
   ]
  },
  {
   "cell_type": "code",
   "execution_count": null,
   "id": "5b2d9363",
   "metadata": {
    "deletable": false,
    "tags": []
   },
   "outputs": [],
   "source": [
    "sample_size = ...\n",
    "percent_V1 = ...\n",
    "\n",
    "print(f\"Sample Size: {sample_size}\")\n",
    "print(f\"Vaccine 1 Percent: {percent_V1}\")"
   ]
  },
  {
   "cell_type": "code",
   "execution_count": null,
   "id": "67b1595e",
   "metadata": {
    "deletable": false,
    "editable": false
   },
   "outputs": [],
   "source": [
    "grader.check(\"q1.1\")"
   ]
  },
  {
   "cell_type": "markdown",
   "id": "201bfba0",
   "metadata": {
    "deletable": false,
    "editable": false
   },
   "source": [
    "<!-- BEGIN QUESTION -->\n",
    "\n",
    "#### Part 1.2 (5 pts)\n"
   ]
  },
  {
   "cell_type": "markdown",
   "id": "88f26895",
   "metadata": {
    "deletable": false,
    "editable": false
   },
   "source": [
    " State the null hypothesis. It should reflect the position of either Dr. Adhikari or Dr. Wagner. \n",
    "\n"
   ]
  },
  {
   "cell_type": "markdown",
   "id": "7ab58496",
   "metadata": {},
   "source": [
    "_Type your answer here, replacing this text._"
   ]
  },
  {
   "cell_type": "markdown",
   "id": "2bead0ea",
   "metadata": {
    "deletable": false,
    "editable": false
   },
   "source": [
    "<!-- END QUESTION -->\n",
    "\n",
    "<!-- BEGIN QUESTION -->\n",
    "\n",
    "#### Part 1.3 (5 pts)\n"
   ]
  },
  {
   "cell_type": "markdown",
   "id": "27dac3f3",
   "metadata": {
    "deletable": false,
    "editable": false
   },
   "source": [
    " State the alternative hypothesis. It should reflect the position of the doctor you did not choose to represent in Question 1.2. \n",
    "\n"
   ]
  },
  {
   "cell_type": "markdown",
   "id": "2dd246c3",
   "metadata": {},
   "source": [
    "_Type your answer here, replacing this text._"
   ]
  },
  {
   "cell_type": "markdown",
   "id": "b01f6897",
   "metadata": {
    "deletable": false,
    "editable": false
   },
   "source": [
    "<!-- END QUESTION -->\n",
    "\n",
    "#### Part 1.4 (5 pts)\n"
   ]
  },
  {
   "cell_type": "markdown",
   "id": "97ea83cd",
   "metadata": {
    "deletable": false,
    "editable": false
   },
   "source": [
    " One of the test statistics below is appropriate for testing these hypotheses. Assign the variable `valid_test_stat` to the number corresponding to the correct test statistic. \n",
    "\n",
    "1. percent of heads - 60\n",
    "2. percent of heads - 50\n",
    "3. |percent of heads - 60|\n",
    "4. |percent of heads - 50|\n",
    "\n"
   ]
  },
  {
   "cell_type": "code",
   "execution_count": null,
   "id": "7b310234",
   "metadata": {
    "deletable": false,
    "tags": []
   },
   "outputs": [],
   "source": [
    "valid_test_stat = ...\n",
    "valid_test_stat"
   ]
  },
  {
   "cell_type": "code",
   "execution_count": null,
   "id": "6612a8ee",
   "metadata": {
    "deletable": false,
    "editable": false
   },
   "outputs": [],
   "source": [
    "grader.check(\"q1.4\")"
   ]
  },
  {
   "cell_type": "markdown",
   "id": "2b6d1c0e",
   "metadata": {
    "deletable": false,
    "editable": false
   },
   "source": [
    "#### Part 1.5 (5 pts)\n"
   ]
  },
  {
   "cell_type": "markdown",
   "id": "a4182962",
   "metadata": {
    "deletable": false,
    "editable": false
   },
   "source": [
    " Using your answer from Questions 1.1 and 1.4, find the observed value of the test statistic and assign it to the variable `observed_statistic`. \n",
    "\n"
   ]
  },
  {
   "cell_type": "code",
   "execution_count": null,
   "id": "d73f7748",
   "metadata": {
    "deletable": false,
    "tags": []
   },
   "outputs": [],
   "source": [
    "observed_statistic = ...\n",
    "observed_statistic"
   ]
  },
  {
   "cell_type": "code",
   "execution_count": null,
   "id": "5d59bf83",
   "metadata": {
    "deletable": false,
    "editable": false
   },
   "outputs": [],
   "source": [
    "grader.check(\"q1.5\")"
   ]
  },
  {
   "cell_type": "markdown",
   "id": "77a4f626",
   "metadata": {
    "deletable": false,
    "editable": false
   },
   "source": [
    "#### Part 1.6 (5 pts)\n"
   ]
  },
  {
   "cell_type": "markdown",
   "id": "3a0243e7",
   "metadata": {
    "deletable": false,
    "editable": false
   },
   "source": [
    " In order to perform this hypothesis test, you must simulate the test statistic. From the three options below, pick the assumption that is needed for this simulation. Assign `assumption_needed` to an integer corresponding to the assumption. \n",
    "\n",
    "1. The statistic must be simulated under the null hypothesis.\n",
    "2. The statistic must be simulated under the alternative hypothesis.\n",
    "3. No assumptions are needed. We can just simulate the statistic.\n",
    "\n"
   ]
  },
  {
   "cell_type": "code",
   "execution_count": null,
   "id": "629cd4a5",
   "metadata": {
    "deletable": false,
    "tags": []
   },
   "outputs": [],
   "source": [
    "assumption_needed = ...\n",
    "assumption_needed"
   ]
  },
  {
   "cell_type": "code",
   "execution_count": null,
   "id": "27e9ba8b",
   "metadata": {
    "deletable": false,
    "editable": false
   },
   "outputs": [],
   "source": [
    "grader.check(\"q1.6\")"
   ]
  },
  {
   "cell_type": "markdown",
   "id": "5905a0f7",
   "metadata": {
    "deletable": false,
    "editable": false
   },
   "source": [
    "<!-- BEGIN QUESTION -->\n",
    "\n",
    "#### Part 1.7 (5 pts)\n"
   ]
  },
  {
   "cell_type": "markdown",
   "id": "a00cb24a",
   "metadata": {
    "deletable": false,
    "editable": false
   },
   "source": [
    " Simulate 20,000 values of the test statistic under the assumption you picked in Question 1.6.  \n",
    "\n",
    "As usual, start by defining a function that simulates one value of the statistic. Your function should use `sample_proportions`. Then write a `for` loop to simulate multiple values, and collect them in the array `simulated_statistics`. \n",
    "\n",
    "Use as many lines of code as you need. We have included the code that visualizes the distribution of the simulated values. The red dot represents the observed statistic you found in Question 1.5.\n",
    "\n"
   ]
  },
  {
   "cell_type": "code",
   "execution_count": null,
   "id": "651aef80",
   "metadata": {
    "deletable": false,
    "tags": []
   },
   "outputs": [],
   "source": [
    "def one_simulated_statistic():\n",
    "...\n",
    "\n",
    "print(one_simulated_statistic())\n",
    "\n",
    "num_simulations = 20000\n",
    "\n",
    "simulated_statistics = ...  \n",
    "for ... in ...:  \n",
    "    ...  \n",
    "simulated_statistics"
   ]
  },
  {
   "cell_type": "code",
   "execution_count": null,
   "id": "e5e2d41f",
   "metadata": {
    "deletable": false,
    "tags": []
   },
   "outputs": [],
   "source": [
    "# Run this cell to produce a histogram of the simulated statistics\n",
    "\n",
    "Table().with_columns('Simulated Statistic', simulated_statistics).hist()\n",
    "plt.scatter(observed_statistic, -0.002, color='red', s=40);"
   ]
  },
  {
   "cell_type": "markdown",
   "id": "513a9308",
   "metadata": {
    "deletable": false,
    "editable": false
   },
   "source": [
    "<!-- END QUESTION -->\n",
    "\n",
    "#### Part 1.8 (5 pts)\n"
   ]
  },
  {
   "cell_type": "markdown",
   "id": "52e19057",
   "metadata": {
    "deletable": false,
    "editable": false
   },
   "source": [
    " Using `simulated_statistics`, `observed_statistic`, and `num_simulations`, find the empirical p-value based on the simulation. \n",
    "\n"
   ]
  },
  {
   "cell_type": "code",
   "execution_count": null,
   "id": "7e7b870d",
   "metadata": {
    "deletable": false,
    "tags": []
   },
   "outputs": [],
   "source": [
    "p_value = ...\n",
    "p_value"
   ]
  },
  {
   "cell_type": "code",
   "execution_count": null,
   "id": "693580f8",
   "metadata": {
    "deletable": false,
    "editable": false
   },
   "outputs": [],
   "source": [
    "grader.check(\"q1.8\")"
   ]
  },
  {
   "cell_type": "markdown",
   "id": "edcf2a5f",
   "metadata": {
    "deletable": false,
    "editable": false
   },
   "source": [
    "#### Part 1.9 (5 pts)\n"
   ]
  },
  {
   "cell_type": "markdown",
   "id": "3095ad7d",
   "metadata": {
    "deletable": false,
    "editable": false
   },
   "source": [
    " Assign `correct_doctor` to the number corresponding to the correct statement below. Use the 5% cutoff for the p-value. \n",
    "\n",
    "1. The data support Dr. Adhikari's position more than they support Dr. Wagner's.\n",
    "2. The data support Dr. Wagner's position more than they support Dr. Adhikari's.\n",
    "\n",
    "As a reminder, here are the two claims made by Dr. Adhikari and Dr. Wagner:\n",
    "> **Doctor Adhikari:** \"Oh wow, it's just like tossing a coin that lands heads with chance $\\frac{3}{5}$. Heads you get Vaccine 1 and Tails you get Vaccine 2.\"\n",
    "\n",
    ">**Doctor Wagner:** \"No, it's not. We're not doing anything like tossing a coin.\"\n",
    "\n"
   ]
  },
  {
   "cell_type": "code",
   "execution_count": null,
   "id": "8c71008c",
   "metadata": {
    "deletable": false,
    "tags": []
   },
   "outputs": [],
   "source": [
    "correct_doctor = ...\n",
    "correct_doctor"
   ]
  },
  {
   "cell_type": "code",
   "execution_count": null,
   "id": "11147a59",
   "metadata": {
    "deletable": false,
    "editable": false
   },
   "outputs": [],
   "source": [
    "grader.check(\"q1.9\")"
   ]
  },
  {
   "cell_type": "markdown",
   "id": "3237756f",
   "metadata": {
    "deletable": false,
    "editable": false
   },
   "source": [
    "## 2. Using TVD as a Test Statistic (25 pts)\n",
    "\n",
    "\n",
    "Before beginning this section, please read [this section](https://inferentialthinking.com/chapters/11/2/Multiple_Categories.html#a-new-statistic-the-distance-between-two-distributions) of the textbook on TVD!"
   ]
  },
  {
   "cell_type": "markdown",
   "id": "70474736",
   "metadata": {
    "deletable": false,
    "editable": false
   },
   "source": [
    "Total variation distance (TVD) is a special type of test statistic that we use when we want to compare two distributions of categorical data. It is often used when we observe that a set of observed proportions/probabilities is different than what we expect under the null model. \n",
    "\n",
    "Consider a six-sided die that we roll 6,000 times. If the die is fair, we would expect that each face comes up $\\frac{1}{6}$ of the time. By random chance, a fair die won't always result in equal proportions (that is, we won't get exactly 1000 of each face). However, if we suspect that the die might be unfair based on the data, we can conduct a hypothesis test using TVD to compare the expected [$\\frac{1}{6}$, $\\frac{1}{6}$, $\\frac{1}{6}$, $\\frac{1}{6}$, $\\frac{1}{6}$, $\\frac{1}{6}$] distribution to what is actually observed.\n",
    "\n",
    "**Run the cell below to load in the `covid` table.**  This table is based on data downloaded from the [CDC Data Catalog](https://data.cdc.gov/browse) in May, 2022, when COVID-related deaths in the U.S. reached one million.  The table shows the Race and Hispanic Origin of a random sample of 100 people who have passed away from COVID.  It also shows the distribution of the U.S. population across those categories."
   ]
  },
  {
   "cell_type": "code",
   "execution_count": null,
   "id": "3475273e",
   "metadata": {
    "deletable": false,
    "editable": false
   },
   "outputs": [],
   "source": [
    "# I like this question, but it's a bit morbid...  Better categorical data?\n",
    "covid = Table.read_table(\"covid-deaths.csv\")\n",
    "covid.show()"
   ]
  },
  {
   "cell_type": "markdown",
   "id": "a6ed1b8c",
   "metadata": {
    "deletable": false,
    "editable": false
   },
   "source": [
    "Example Table"
   ]
  },
  {
   "cell_type": "markdown",
   "id": "c49a7b60",
   "metadata": {
    "deletable": false,
    "editable": false
   },
   "source": [
    "<!-- BEGIN QUESTION -->\n",
    "\n",
    "#### Part 2.1 (5 pts)\n"
   ]
  },
  {
   "cell_type": "markdown",
   "id": "98beb93f",
   "metadata": {
    "deletable": false,
    "editable": false
   },
   "source": [
    "We wish to test whether some groups listed in the table have disproportionate death rates.  Define the null hypothesis, alternative hypothesis, and test statistic in the cell below.\n",
    "\n",
    "*Note:* Please format your answer as follows:\n",
    "- Null Hypothesis: ...  \n",
    "- Alternative Hypothesis: ...  \n",
    "- Test Statistic: ...  \n",
    "\n"
   ]
  },
  {
   "cell_type": "markdown",
   "id": "67562f1d",
   "metadata": {},
   "source": [
    "_Type your answer here, replacing this text._"
   ]
  },
  {
   "cell_type": "markdown",
   "id": "44bf4fb0",
   "metadata": {
    "deletable": false,
    "editable": false
   },
   "source": [
    "<!-- END QUESTION -->\n",
    "\n",
    "#### Part 2.2 (5 pts)\n"
   ]
  },
  {
   "cell_type": "markdown",
   "id": "770701bd",
   "metadata": {
    "deletable": false,
    "editable": false
   },
   "source": [
    " Write a function `calculate_tvd` that takes in the observed distribution (`obs_dist`) and expected distribution under the null hypothesis (`null_dist`) and calculates the total variation distance. Use this function to set `observed_tvd` to be equal to the observed test statistic. \n",
    "\n"
   ]
  },
  {
   "cell_type": "code",
   "execution_count": null,
   "id": "bf9e77f8",
   "metadata": {
    "deletable": false,
    "tags": []
   },
   "outputs": [],
   "source": [
    "def calculate_tvd(obs_dist, null_dist):\n",
    "    ...\n",
    "    \n",
    "observed_tvd = ...\n",
    "observed_tvd"
   ]
  },
  {
   "cell_type": "markdown",
   "id": "0d2d6b88",
   "metadata": {
    "deletable": false,
    "editable": false
   },
   "source": [
    "#### Part 2.3 (5 pts)\n"
   ]
  },
  {
   "cell_type": "markdown",
   "id": "8f791ab3",
   "metadata": {
    "deletable": false,
    "editable": false
   },
   "source": [
    " Create an array called `simulated_tvds` that contains 10,000 simulated values under the null hypothesis.\n",
    "\n",
    "*Hint:* The `sample_proportions` function may be helpful to you. Refer to the [Python Reference sheet](http://data8.org/fa21/python-reference.html#:~:text=sample_proportions(sample_size%2C%20model_proportions)) to read up on it!"
   ]
  },
  {
   "cell_type": "code",
   "execution_count": null,
   "id": "1b93d1b1",
   "metadata": {
    "deletable": false,
    "tags": []
   },
   "outputs": [],
   "source": [
    "num_simulations = 5000\n",
    "\n",
    "simulated_tvds = ...\n",
    "for ... in ...:  \n",
    "    ...  "
   ]
  },
  {
   "cell_type": "markdown",
   "id": "38dc65e3",
   "metadata": {
    "deletable": false,
    "editable": false
   },
   "source": [
    "Run the cell below to plot a histogram of your simulated test statistics, as well as the observed value of the test statistic."
   ]
  },
  {
   "cell_type": "code",
   "execution_count": null,
   "id": "09c93752",
   "metadata": {
    "deletable": false,
    "editable": false
   },
   "outputs": [],
   "source": [
    "Table().with_column(\"Simulated TVDs\", simulated_tvds).hist()\n",
    "plt.scatter(observed_tvd, -0.02, color='red', s=70, zorder=2);\n",
    "plt.show();"
   ]
  },
  {
   "cell_type": "markdown",
   "id": "cf0332cb",
   "metadata": {
    "deletable": false,
    "editable": false
   },
   "source": [
    "#### Part 2.4 (5 pts)\n"
   ]
  },
  {
   "cell_type": "markdown",
   "id": "eaa5e196",
   "metadata": {
    "deletable": false,
    "editable": false
   },
   "source": [
    " Use your simulated statistics to calculate the p-value of your test. Make sure that this number is consistent with what you observed in the histogram above. \n",
    "\n"
   ]
  },
  {
   "cell_type": "code",
   "execution_count": null,
   "id": "9ecf1417",
   "metadata": {
    "deletable": false,
    "tags": []
   },
   "outputs": [],
   "source": [
    "p_value_tvd = ...\n",
    "p_value_tvd"
   ]
  },
  {
   "cell_type": "markdown",
   "id": "8ded8bf7",
   "metadata": {
    "deletable": false,
    "editable": false
   },
   "source": [
    "<!-- BEGIN QUESTION -->\n",
    "\n",
    "#### Part 2.5 (5 pts)\n"
   ]
  },
  {
   "cell_type": "markdown",
   "id": "d04d68e7",
   "metadata": {
    "deletable": false,
    "editable": false
   },
   "source": [
    " What can you conclude about COVID deaths from this question? Explain your answer using the results of your hypothesis test. Assume a p-value cutoff of 5%. \n",
    "\n"
   ]
  },
  {
   "cell_type": "markdown",
   "id": "ca20d5a4",
   "metadata": {},
   "source": [
    "_Type your answer here, replacing this text._"
   ]
  },
  {
   "cell_type": "markdown",
   "id": "cb929a09",
   "metadata": {
    "deletable": false,
    "editable": false
   },
   "source": [
    "<!-- END QUESTION -->\n",
    "\n",
    "## 3. Who is Older? (55 pts)\n",
    "\n",
    "\n",
    "Data scientists have drawn a simple random sample of size 500 from a large population of adults. Each member of the population happened to identify as either \"male\" or \"female\". Data was collected on several attributes of the sampled people, including age. The table `sampled_ages` contains one row for each person in the sample, with columns containing the individual's gender identity."
   ]
  },
  {
   "cell_type": "code",
   "execution_count": null,
   "id": "cd07b907",
   "metadata": {
    "deletable": false,
    "editable": false
   },
   "outputs": [],
   "source": [
    "sampled_ages = Table.read_table('age.csv')\n",
    "sampled_ages.show(5)"
   ]
  },
  {
   "cell_type": "markdown",
   "id": "bd26d5fb",
   "metadata": {
    "deletable": false,
    "editable": false
   },
   "source": [
    "#### Part 3.1 (5 pts)\n"
   ]
  },
  {
   "cell_type": "markdown",
   "id": "bb6d0201",
   "metadata": {
    "deletable": false,
    "editable": false
   },
   "source": [
    " How many females were there in our sample? Keep in mind that `group` sorts categories in alphabetical order. \n",
    "\n"
   ]
  },
  {
   "cell_type": "code",
   "execution_count": null,
   "id": "6a407a87",
   "metadata": {
    "deletable": false,
    "tags": []
   },
   "outputs": [],
   "source": [
    "num_females = ...\n",
    "num_females"
   ]
  },
  {
   "cell_type": "code",
   "execution_count": null,
   "id": "b4542089",
   "metadata": {
    "deletable": false,
    "editable": false
   },
   "outputs": [],
   "source": [
    "grader.check(\"q3.1\")"
   ]
  },
  {
   "cell_type": "markdown",
   "id": "8fee14c6",
   "metadata": {
    "deletable": false,
    "editable": false
   },
   "source": [
    "#### Part 3.2 (5 pts)\n"
   ]
  },
  {
   "cell_type": "markdown",
   "id": "9f26e2fc",
   "metadata": {
    "deletable": false,
    "editable": false
   },
   "source": [
    " Complete the cell below so that `avg_male_vs_female` evaluates to `True` if the sampled males are older than the sampled females on average, and `False` otherwise. Use Python code to achieve this. \n",
    "\n"
   ]
  },
  {
   "cell_type": "code",
   "execution_count": null,
   "id": "6296c307",
   "metadata": {
    "deletable": false,
    "tags": []
   },
   "outputs": [],
   "source": [
    "group_mean_tbl = ...\n",
    "group_means = ...\n",
    "avg_male_vs_female = ...\n",
    "avg_male_vs_female\n"
   ]
  },
  {
   "cell_type": "code",
   "execution_count": null,
   "id": "f647958c",
   "metadata": {
    "deletable": false,
    "editable": false
   },
   "outputs": [],
   "source": [
    "grader.check(\"q3.2\")"
   ]
  },
  {
   "cell_type": "markdown",
   "id": "c37350ae",
   "metadata": {
    "deletable": false,
    "editable": false
   },
   "source": [
    "#### Part 3.3 (5 pts)\n"
   ]
  },
  {
   "cell_type": "markdown",
   "id": "4676c649",
   "metadata": {
    "deletable": false,
    "editable": false
   },
   "source": [
    " The data scientists want to use the data to test whether males are older than females or, in other words, whether the ages of the two groups have the same distribution. One of the following statements is their null hypothesis and another is their alternative hypothesis. Assign `null_statement_number` and `alternative_statement_number` to the numbers of the correct statements in the code cell below. \n",
    "\n",
    "1. In the sample, the males and females have the same distribution of ages; the sample averages of the two groups are different due to chance.\n",
    "2. In the population, the males and females have the same distribution of ages; the sample averages of the two groups are different due to chance.\n",
    "3. The age distributions of males and females in the population are different due to chance.\n",
    "4. The males in the sample are older than the females, on average.\n",
    "5. The males in the population are older than the females, on average.\n",
    "6. The average ages of the males and females in the population are different.\n",
    "\n"
   ]
  },
  {
   "cell_type": "code",
   "execution_count": null,
   "id": "8a005936",
   "metadata": {
    "deletable": false,
    "tags": []
   },
   "outputs": [],
   "source": [
    "null_statement_number = ...\n",
    "alternative_statement_number = ...\n"
   ]
  },
  {
   "cell_type": "code",
   "execution_count": null,
   "id": "157bc104",
   "metadata": {
    "deletable": false,
    "editable": false
   },
   "outputs": [],
   "source": [
    "grader.check(\"q3.3\")"
   ]
  },
  {
   "cell_type": "markdown",
   "id": "b205a06d",
   "metadata": {
    "deletable": false,
    "editable": false
   },
   "source": [
    "#### Part 3.4 (5 pts)\n"
   ]
  },
  {
   "cell_type": "markdown",
   "id": "dacbedde",
   "metadata": {
    "deletable": false,
    "editable": false
   },
   "source": [
    " The data scientists have decided to use a permutation test. Assign `permutation_test_reason` to the number corresponding to the reason they made this choice. \n",
    "\n",
    "1. Since a person's age can't be related to their gender under the null hypothesis, it doesn't matter who is labeled \"male\" and who is labeled \"female\", so you can use permutations.\n",
    "2. Under the null hypothesis, permuting the labels in the `sampled_ages` table is equivalent to drawing a new random sample with the same number of males and females as in the original sample.\n",
    "3. Under the null hypothesis, permuting the rows of `sampled_ages` table is equivalent to drawing a new random sample with the same number of males and females as in the original sample.\n",
    "\n"
   ]
  },
  {
   "cell_type": "code",
   "execution_count": null,
   "id": "3fb4f4eb",
   "metadata": {
    "deletable": false,
    "tags": []
   },
   "outputs": [],
   "source": [
    "permutation_test_reason = ...\n",
    "permutation_test_reason"
   ]
  },
  {
   "cell_type": "code",
   "execution_count": null,
   "id": "cc592c19",
   "metadata": {
    "deletable": false,
    "editable": false
   },
   "outputs": [],
   "source": [
    "grader.check(\"q3.4\")"
   ]
  },
  {
   "cell_type": "markdown",
   "id": "ff6641b0",
   "metadata": {
    "deletable": false,
    "editable": false
   },
   "source": [
    "#### Part 3.5 (5 pts)\n"
   ]
  },
  {
   "cell_type": "markdown",
   "id": "23fcd63e",
   "metadata": {
    "deletable": false,
    "editable": false
   },
   "source": [
    " To test their hypotheses, the data scientists have followed our textbook's advice and chosen a test statistic where the following statement is true: Large values of the test statistic favor the alternative hypothesis.\n",
    "\n",
    "The data scientists' test statistic is one of the two options below. Which one is it? Assign the appropriate number to the variable `correct_test_stat`. \n",
    "\n",
    "1. \"male age average - female age average\" in a sample created by randomly shuffling the male/female labels\n",
    "2. \"|male age average - female age average|\" in a sample created by randomly shuffling the male/female labels\n",
    "\n"
   ]
  },
  {
   "cell_type": "code",
   "execution_count": null,
   "id": "a09c4d6f",
   "metadata": {
    "deletable": false,
    "tags": []
   },
   "outputs": [],
   "source": [
    "correct_test_stat = ...\n",
    "correct_test_stat"
   ]
  },
  {
   "cell_type": "code",
   "execution_count": null,
   "id": "97220bcd",
   "metadata": {
    "deletable": false,
    "editable": false
   },
   "outputs": [],
   "source": [
    "grader.check(\"q3.5\")"
   ]
  },
  {
   "cell_type": "markdown",
   "id": "4bca33d9",
   "metadata": {
    "deletable": false,
    "editable": false
   },
   "source": [
    "#### Part 3.6 (5 pts)\n"
   ]
  },
  {
   "cell_type": "markdown",
   "id": "b43a5270",
   "metadata": {
    "deletable": false,
    "editable": false
   },
   "source": [
    " Complete the cell below so that `observed_statistic_ab` evaluates to the observed value of the data scientists' test statistic. Use as many lines of code as you need, and remember that you can use any quantity, table, or array that you created earlier. \n",
    "\n"
   ]
  },
  {
   "cell_type": "code",
   "execution_count": null,
   "id": "5dd942de",
   "metadata": {
    "deletable": false,
    "tags": []
   },
   "outputs": [],
   "source": [
    "observed_statistic_ab = ...\n",
    "observed_statistic_ab"
   ]
  },
  {
   "cell_type": "markdown",
   "id": "453452f2",
   "metadata": {
    "deletable": false,
    "editable": false
   },
   "source": [
    "#### Part 3.7 (5 pts)\n"
   ]
  },
  {
   "cell_type": "markdown",
   "id": "c8e0c2f1",
   "metadata": {
    "deletable": false,
    "editable": false
   },
   "source": [
    " Assign `shuffled_labels` to an array of shuffled male/female labels. The rest of the code puts the array in a table along with the data in `sampled_ages`. \n",
    "\n"
   ]
  },
  {
   "cell_type": "code",
   "execution_count": null,
   "id": "40242932",
   "metadata": {
    "deletable": false,
    "tags": []
   },
   "outputs": [],
   "source": [
    "shuffled_labels = ...\n",
    "original_with_shuffled_labels = sampled_ages.with_columns('Shuffled Label', shuffled_labels)\n",
    "original_with_shuffled_labels"
   ]
  },
  {
   "cell_type": "markdown",
   "id": "189681fc",
   "metadata": {
    "deletable": false,
    "editable": false
   },
   "source": [
    "#### Part 3.8 (5 pts)\n"
   ]
  },
  {
   "cell_type": "markdown",
   "id": "34a0c46c",
   "metadata": {
    "deletable": false,
    "editable": false
   },
   "source": [
    " [Pretend this is a midterm problem and solve it without doing the calculation in a code cell.] The comparison below uses the array `shuffled_labels` from Question 3.7 and the count `num_females` from Question 3.1. \n",
    "\n",
    "For this comparison, assign the correct number from one of the following options to the variable `correct_q8`.\n",
    "\n",
    "`comp = np.count_nonzero(shuffled_labels == 'female') == num_females`\n",
    "\n",
    "1. `comp` is set to `True`.\n",
    "2. `comp` is set to `False`.\n",
    "3. `comp` is set to `True`, or `False`, depending on how the shuffle came out.\n",
    "\n"
   ]
  },
  {
   "cell_type": "code",
   "execution_count": null,
   "id": "5acaea2e",
   "metadata": {
    "deletable": false,
    "tags": []
   },
   "outputs": [],
   "source": [
    "correct_q8 = ...\n",
    "correct_q8"
   ]
  },
  {
   "cell_type": "markdown",
   "id": "989d48f0",
   "metadata": {
    "deletable": false,
    "editable": false
   },
   "source": [
    "#### Part 3.9 (5 pts)\n"
   ]
  },
  {
   "cell_type": "markdown",
   "id": "7335ad70",
   "metadata": {
    "deletable": false,
    "editable": false
   },
   "source": [
    " Define a function `simulate_one_statistic` that takes no arguments and returns one simulated value of the test statistic. We've given you a skeleton, but feel free to approach this question in a way that makes sense to you. Use as many lines of code as you need. Refer to the code you have previously written in this problem, as you might be able to re-use some of it. "
   ]
  },
  {
   "cell_type": "code",
   "execution_count": null,
   "id": "b24467f1",
   "metadata": {
    "deletable": false,
    "tags": []
   },
   "outputs": [],
   "source": [
    "def simulate_one_statistic():\n",
    "    \"Returns one value of our simulated test statistic\"\n",
    "    shuffled_labels = ...\n",
    "    shuffled_tbl = ...\n",
    "    group_mean_tbl = ...\n",
    "    group_means = ...\n",
    "    return group_means.item(1) - group_means.item(0)"
   ]
  },
  {
   "cell_type": "markdown",
   "id": "1ce5c085",
   "metadata": {
    "deletable": false,
    "editable": false
   },
   "source": [
    "After you have defined your function, run the following cell a few times to see how the statistic varies."
   ]
  },
  {
   "cell_type": "code",
   "execution_count": null,
   "id": "6d2bf61c",
   "metadata": {
    "deletable": false,
    "editable": false
   },
   "outputs": [],
   "source": [
    "simulate_one_statistic()"
   ]
  },
  {
   "cell_type": "markdown",
   "id": "044a9c88",
   "metadata": {
    "deletable": false,
    "editable": false
   },
   "source": [
    "#### Part 3.10 (5 pts)\n"
   ]
  },
  {
   "cell_type": "markdown",
   "id": "9a320ee0",
   "metadata": {
    "deletable": false,
    "editable": false
   },
   "source": [
    "Complete the cell to simulate 3,000 values of the statistic. We have included the code that draws the empirical distribution of the statistic and shows the value of `observed_statistic_ab` from Question 3.6. \n",
    "\n",
    "*Note:* This cell will take around a minute to run."
   ]
  },
  {
   "cell_type": "code",
   "execution_count": null,
   "id": "c4afcfe2",
   "metadata": {
    "deletable": false,
    "tags": []
   },
   "outputs": [],
   "source": [
    "repetitions = 3000\n",
    "\n",
    "simulated_statistics_ab = ...\n",
    "\n",
    "Table().with_columns('Simulated Statistic', simulated_statistics_ab).hist()\n",
    "plt.scatter(observed_statistic_ab, -0.002, color='red', s=70);"
   ]
  },
  {
   "cell_type": "markdown",
   "id": "0a9d9a5c",
   "metadata": {
    "deletable": false,
    "editable": false
   },
   "source": [
    "#### Part 3.11 (5 pts)\n"
   ]
  },
  {
   "cell_type": "markdown",
   "id": "26e12956",
   "metadata": {
    "deletable": false,
    "editable": false
   },
   "source": [
    " Use the simulation to find an empirical approximation to the p-value. Assign `p_val` to the appropriate p-value from this simulation. Then, assign `conclusion` to either `null_hyp` or `alt_hyp`.  \n",
    "\n",
    "*Note:* Assume that we use the 5% cutoff for the p-value.\n",
    "\n"
   ]
  },
  {
   "cell_type": "code",
   "execution_count": null,
   "id": "cd4bb350",
   "metadata": {
    "deletable": false,
    "tags": []
   },
   "outputs": [],
   "source": [
    "# These are variables provided for you to use.\n",
    "null_hyp = 'The data are consistent with the null hypothesis.'\n",
    "alt_hyp = 'The data support the alternative more than the null.'\n",
    "\n",
    "p_val = ...\n",
    "conclusion = ...\n",
    "\n",
    "p_val, conclusion # Do not change this line"
   ]
  },
  {
   "cell_type": "markdown",
   "id": "9498284d",
   "metadata": {
    "deletable": false,
    "editable": false
   },
   "source": [
    "## 4. Generalizing Our Code for TVD Tests (25 pts)\n",
    "\n"
   ]
  },
  {
   "cell_type": "markdown",
   "id": "bcbb4551",
   "metadata": {
    "deletable": false,
    "editable": false
   },
   "source": [
    "In the examples above, you wrote specialized code to answer each question we asked.  As you may have noticed, the code you write to answer similar questions is often quite similar.  A key aspects of developing programming skills is to write code that is reusable so that you never have to start from scratch or repeat code you've already written.  We'll develop some general code for working with TVDs here, in the context of M&Ms...\n",
    "\n",
    "M&Ms come in six colors -- red, orange, yellow, green, blue, and brown.  However, the distributed of colors in a bag is not uniform.  Some colors are present more frequently.  Further, the color distribution has changed over time, and the factories now produce M&M bags with different distributions.  **Run the cell below to load the `colors` table.**"
   ]
  },
  {
   "cell_type": "code",
   "execution_count": null,
   "id": "df426df2",
   "metadata": {
    "deletable": false,
    "editable": false
   },
   "outputs": [],
   "source": [
    "colors = Table.read_table(\"m-and-ms.csv\")\n",
    "colors.show()"
   ]
  },
  {
   "cell_type": "markdown",
   "id": "d63d4f9e",
   "metadata": {
    "deletable": false,
    "editable": false
   },
   "source": [
    "This table shows the distribution of M&M's published by the Mars company in 2008, as well as the distributions recently used by two M&M factories located in Cleveland, TN (CLV) and Hackettstown, NJ (HKP).  The last column (Observed) is the observed distribution of colors for 712 M&Ms from a bag.  We like to determine which of the following statements is supported by the data.\n",
    "\n",
    "1.  The bag is an old bag from 2008.\n",
    "2.  The bag was produced at the CLV factory.\n",
    "3.  The bag was produced at the HKP factory.\n",
    "\n",
    "Those statements lead to three null hypotheses that we can test with our TVD method.  We don't want to repeat similar code three times to do this, so instead we will develop a set of general functions that work for any of these questions, and, indeed, a great many more."
   ]
  },
  {
   "cell_type": "markdown",
   "id": "68d28ac7",
   "metadata": {
    "deletable": false,
    "editable": false
   },
   "source": [
    "#### Part 4.1 (5 pts)\n"
   ]
  },
  {
   "cell_type": "markdown",
   "id": "fce72997",
   "metadata": {
    "deletable": false,
    "editable": false
   },
   "source": [
    "The first function we'll write is one we've already seen -- `calculate_tvd`.  So we have all the code in one place, please create a new copy of your solution here.  We include two sample calls"
   ]
  },
  {
   "cell_type": "code",
   "execution_count": null,
   "id": "df4db946",
   "metadata": {
    "deletable": false,
    "tags": []
   },
   "outputs": [],
   "source": [
    "def calculate_tvd(obs_dist, null_dist):\n",
    "    ...\n",
    "\n",
    "print(calculate_tvd(make_array(0.5, 0.5), make_array(1/2, 1/2)))    # should be 0\n",
    "print(calculate_tvd(make_array(0.45, 0.55), make_array(1/2, 1/2)))  # should be ~0.1"
   ]
  },
  {
   "cell_type": "code",
   "execution_count": null,
   "id": "a00dca8e",
   "metadata": {
    "deletable": false,
    "editable": false
   },
   "outputs": [],
   "source": [
    "grader.check(\"q4.1\")"
   ]
  },
  {
   "cell_type": "markdown",
   "id": "5be65b85",
   "metadata": {
    "deletable": false,
    "editable": false
   },
   "source": [
    "#### Part 4.2 (5 pts)\n"
   ]
  },
  {
   "cell_type": "markdown",
   "id": "4e158879",
   "metadata": {
    "deletable": false,
    "editable": false
   },
   "source": [
    "Now, write a function `generate_simulated_tvds` that creates `n` samples of size `sample_size` drawn from the given `distribution`.  The function returns the TVDs for each sample in an array.  You have written something very similar above, but now we're create a standalone function for this operation.  We include some sample code that uses your function to build a table of TVDs for rolls of a fair dice with different sample sizes."
   ]
  },
  {
   "cell_type": "markdown",
   "id": "c2bb848c",
   "metadata": {},
   "source": [
    "_Type your answer here, replacing this text._"
   ]
  },
  {
   "cell_type": "code",
   "execution_count": null,
   "id": "4ae74e67",
   "metadata": {
    "deletable": false,
    "tags": []
   },
   "outputs": [],
   "source": [
    "def generate_simulated_tvds(n, distribution, sample_size):\n",
    "    ..."
   ]
  },
  {
   "cell_type": "code",
   "execution_count": null,
   "id": "3a095939",
   "metadata": {
    "deletable": false,
    "tags": []
   },
   "outputs": [],
   "source": [
    "# Dice have six sides and a uniform distribution of values when rolled.\n",
    "dice_distribution = make_array(1/6,1/6,1/6,1/6,1/6,1/6)   \n",
    "tvd_table = Table()\n",
    "for sample_size in [ 1, 100, 10000, 1000000, 100000000 ]:\n",
    "    tvd_table = tvd_table.with_column(str(sample_size), generate_simulated_tvds(10, dice_distribution, sample_size))\n",
    "tvd_table.show()"
   ]
  },
  {
   "cell_type": "markdown",
   "id": "4879537b",
   "metadata": {
    "deletable": false,
    "editable": false
   },
   "source": [
    "#### Part 4.3 (5 pts)\n"
   ]
  },
  {
   "cell_type": "markdown",
   "id": "a08dcaab",
   "metadata": {
    "deletable": false,
    "editable": false
   },
   "source": [
    "Now write a general function that will compute the p-value for any `distribution` and `observed` value.  The `distribution` will be an array, and you can compute its length with `len(distribution)`."
   ]
  },
  {
   "cell_type": "code",
   "execution_count": null,
   "id": "5d7283ba",
   "metadata": {
    "deletable": false,
    "tags": []
   },
   "outputs": [],
   "source": [
    "def pvalue(distribution, observed):\n",
    "    ...\n",
    "\n",
    "# Small tests\n",
    "print(pvalue(make_array(1,2,3,4,5), 1))\n",
    "print(pvalue(make_array(1,2,3,4,5), 4))\n",
    "print(pvalue(make_array(1,2,3,4,5), 10))"
   ]
  },
  {
   "cell_type": "markdown",
   "id": "bb9df791",
   "metadata": {
    "deletable": false,
    "editable": false,
    "tags": []
   },
   "source": [
    "#### Part 4.4 (5 pts)\n"
   ]
  },
  {
   "cell_type": "markdown",
   "id": "d028d24e",
   "metadata": {
    "deletable": false,
    "editable": false
   },
   "source": [
    "We'll now combine everything together into a single function `pvalue_for_tvd_test` the pvalue for obtaining the `observed_distribution` of size `observed_sample_size` from the `null_distribution` according to our TVD test statistic.  You should use your helper functions you just wrote.  You may generate a TVD distribution of any reasonable size.  We suggest at least a couple thousand.  We also give you one additional function to plot the data you will compute."
   ]
  },
  {
   "cell_type": "markdown",
   "id": "6ba79215",
   "metadata": {},
   "source": [
    "_Type your answer here, replacing this text._"
   ]
  },
  {
   "cell_type": "code",
   "execution_count": null,
   "id": "bf5e9172",
   "metadata": {
    "deletable": false,
    "tags": []
   },
   "outputs": [],
   "source": [
    "def plot_results(title, simulated_distribution, observed):\n",
    "    Table().with_column(title, simulated_distribution).hist()\n",
    "    plt.scatter(observed, -0.02, color='red', s=70, zorder=2);\n",
    "    plt.show();            \n",
    "\n",
    "def pvalue_for_tvd_test(null_distribution, observed_distribution, observed_sample_size):\n",
    "    observed_tvd = ...\n",
    "    simulated_tvds = ...\n",
    "    plot_results(\"Simulated TVDs\", simulated_tvds, observed_tvd) # show plot to help debugging...\n",
    "    ..."
   ]
  },
  {
   "cell_type": "code",
   "execution_count": null,
   "id": "27d6486d",
   "metadata": {
    "deletable": false,
    "tags": []
   },
   "outputs": [],
   "source": [
    "# 1. The bag is not an old bag from 2008:\n",
    "pvalue_not_from_2008 = pvalue_for_tvd_test(colors.column(\"2008\"), colors.column(\"Observed\"), 712)\n",
    "print(f\"1.  The bag is not an old bag from 2008: {pvalue_not_from_2008}\")\n",
    "\n",
    "# 2. The bag was not produced at the CLV factory:\n",
    "pvalue_not_from_CLV = ...\n",
    "print(f\"2.  The bag was not produced at the CLV factory: {pvalue_not_from_CLV}\")\n",
    "\n",
    "# 3. The bag was not produced at the HKP factory:\n",
    "pvalue_not_from_HKP = ...\n",
    "print(f\"3.  The bag was not produced at the HKP factory: {pvalue_not_from_HKP}\")"
   ]
  },
  {
   "cell_type": "code",
   "execution_count": null,
   "id": "0397b893",
   "metadata": {
    "deletable": false,
    "editable": false
   },
   "outputs": [],
   "source": [
    "grader.check(\"q4.4\")"
   ]
  },
  {
   "cell_type": "markdown",
   "id": "dc307690",
   "metadata": {
    "deletable": false,
    "editable": false,
    "tags": []
   },
   "source": [
    "#### Part 4.5 (5 pts)\n"
   ]
  },
  {
   "cell_type": "markdown",
   "id": "d68aac70",
   "metadata": {
    "deletable": false,
    "editable": false
   },
   "source": [
    "With those pvalues, please assign True to each of the following statements if they are supported by the data."
   ]
  },
  {
   "cell_type": "code",
   "execution_count": null,
   "id": "7330b65e",
   "metadata": {
    "deletable": false,
    "tags": []
   },
   "outputs": [],
   "source": [
    "bag_from_2008 = ...\n",
    "bag_from_CLV = ...\n",
    "bag_from_HKP = ..."
   ]
  },
  {
   "cell_type": "code",
   "execution_count": null,
   "id": "80ec4358",
   "metadata": {
    "deletable": false,
    "editable": false
   },
   "outputs": [],
   "source": [
    "grader.check(\"q4.5\")"
   ]
  },
  {
   "cell_type": "markdown",
   "id": "a3274033",
   "metadata": {
    "deletable": false,
    "editable": false
   },
   "source": [
    "Now that you have written these functions, test similar hypothesis is just a single line of code.  For example, we can revisit Question 2 and compute the p-value for that test as follows:"
   ]
  },
  {
   "cell_type": "code",
   "execution_count": null,
   "id": "f5daa43f",
   "metadata": {
    "deletable": false,
    "editable": false
   },
   "outputs": [],
   "source": [
    "pvalue_for_tvd_test(covid.column(\"Population (%)\"), covid.column(\"COVID-19 deaths (%)\"), 100)"
   ]
  },
  {
   "cell_type": "markdown",
   "id": "ce22a546",
   "metadata": {
    "deletable": false,
    "editable": false
   },
   "source": [
    "You're done with Lab 7!  \n",
    "\n",
    "**Important submission steps:** \n",
    "1. Run the tests and verify that they all pass.\n",
    "2. Choose **Save** from the **File** menu, then **run the final cell**. \n",
    "3. Click the link to download the zip file.\n",
    "4. Go to [Gradescope](https://www.gradescope.com/) and submit the zip file to the corresponding assignment. The name of this assignment is \"Lab 7 Autograder\". \n",
    "\n",
    "**Be sure your work is saved before running the last cell.**"
   ]
  },
  {
   "cell_type": "markdown",
   "id": "4f499c06",
   "metadata": {
    "deletable": false,
    "editable": false
   },
   "source": [
    "---\n",
    "\n",
    "To double-check your work, the cell below will rerun all of the autograder tests."
   ]
  },
  {
   "cell_type": "code",
   "execution_count": null,
   "id": "a3e32f8b",
   "metadata": {
    "deletable": false,
    "editable": false
   },
   "outputs": [],
   "source": [
    "grader.check_all()"
   ]
  },
  {
   "cell_type": "markdown",
   "id": "3d8f2a00",
   "metadata": {
    "deletable": false,
    "editable": false
   },
   "source": [
    "## Submission\n",
    "\n",
    "Make sure you have run all cells in your notebook in order before running the cell below, so that all images/graphs appear in the output. The cell below will generate a zip file for you to submit. **Please save before exporting!**"
   ]
  },
  {
   "cell_type": "code",
   "execution_count": null,
   "id": "f72148ae",
   "metadata": {
    "deletable": false,
    "editable": false
   },
   "outputs": [],
   "source": [
    "# Save your notebook first, then run this cell to export your submission.\n",
    "grader.export()"
   ]
  },
  {
   "cell_type": "markdown",
   "id": "58bb3e72",
   "metadata": {},
   "source": [
    " "
   ]
  }
 ],
 "metadata": {
  "kernelspec": {
   "display_name": "Python 3 (ipykernel)",
   "language": "python",
   "name": "python3"
  },
  "language_info": {
   "codemirror_mode": {
    "name": "ipython",
    "version": 3
   },
   "file_extension": ".py",
   "mimetype": "text/x-python",
   "name": "python",
   "nbconvert_exporter": "python",
   "pygments_lexer": "ipython3",
   "version": "3.9.13"
  },
  "otter": {
   "tests": {
    "q1.1": {
     "name": "q1.1",
     "points": null,
     "suites": [
      {
       "cases": [
        {
         "code": ">>> sample_size == 318\nTrue",
         "hidden": false,
         "locked": false
        },
        {
         "code": ">>> 0 <= percent_V1 <= 1\nTrue",
         "hidden": false,
         "locked": false
        }
       ],
       "scored": true,
       "setup": "",
       "teardown": "",
       "type": "doctest"
      }
     ]
    },
    "q1.4": {
     "name": "q1.4",
     "points": null,
     "suites": [
      {
       "cases": [
        {
         "code": ">>> 1 <= valid_test_stat <= 4\nTrue",
         "hidden": false,
         "locked": false
        }
       ],
       "scored": true,
       "setup": "",
       "teardown": "",
       "type": "doctest"
      }
     ]
    },
    "q1.5": {
     "name": "q1.5",
     "points": null,
     "suites": [
      {
       "cases": [
        {
         "code": ">>> 0 <= observed_statistic <= 1\nTrue",
         "hidden": false,
         "locked": false
        }
       ],
       "scored": true,
       "setup": "",
       "teardown": "",
       "type": "doctest"
      }
     ]
    },
    "q1.6": {
     "name": "q1.6",
     "points": null,
     "suites": [
      {
       "cases": [
        {
         "code": ">>> 1 <= assumption_needed <= 3\nTrue",
         "hidden": false,
         "locked": false
        }
       ],
       "scored": true,
       "setup": "",
       "teardown": "",
       "type": "doctest"
      }
     ]
    },
    "q1.8": {
     "name": "q1.8",
     "points": null,
     "suites": [
      {
       "cases": [
        {
         "code": ">>> 0 <= p_value <= 1\nTrue",
         "hidden": false,
         "locked": false
        }
       ],
       "scored": true,
       "setup": "",
       "teardown": "",
       "type": "doctest"
      }
     ]
    },
    "q1.9": {
     "name": "q1.9",
     "points": null,
     "suites": [
      {
       "cases": [
        {
         "code": ">>> 1 <= correct_doctor <= 2\nTrue",
         "hidden": false,
         "locked": false
        }
       ],
       "scored": true,
       "setup": "",
       "teardown": "",
       "type": "doctest"
      }
     ]
    },
    "q3.1": {
     "name": "q3.1",
     "points": null,
     "suites": [
      {
       "cases": [
        {
         "code": ">>> num_females == 260\nTrue",
         "hidden": false,
         "locked": false
        }
       ],
       "scored": true,
       "setup": "",
       "teardown": "",
       "type": "doctest"
      }
     ]
    },
    "q3.2": {
     "name": "q3.2",
     "points": null,
     "suites": [
      {
       "cases": [
        {
         "code": ">>> avg_male_vs_female == True\nTrue",
         "hidden": false,
         "locked": false
        }
       ],
       "scored": true,
       "setup": "",
       "teardown": "",
       "type": "doctest"
      }
     ]
    },
    "q3.3": {
     "name": "q3.3",
     "points": null,
     "suites": [
      {
       "cases": [
        {
         "code": ">>> null_statement_number == 2\nTrue",
         "hidden": false,
         "locked": false
        },
        {
         "code": ">>> alternative_statement_number == 5\nTrue",
         "hidden": false,
         "locked": false
        }
       ],
       "scored": true,
       "setup": "",
       "teardown": "",
       "type": "doctest"
      }
     ]
    },
    "q3.4": {
     "name": "q3.4",
     "points": null,
     "suites": [
      {
       "cases": [
        {
         "code": ">>> permutation_test_reason == 2\nTrue",
         "hidden": false,
         "locked": false
        }
       ],
       "scored": true,
       "setup": "",
       "teardown": "",
       "type": "doctest"
      }
     ]
    },
    "q3.5": {
     "name": "q3.5",
     "points": null,
     "suites": [
      {
       "cases": [
        {
         "code": ">>> correct_test_stat == 1\nTrue",
         "hidden": false,
         "locked": false
        }
       ],
       "scored": true,
       "setup": "",
       "teardown": "",
       "type": "doctest"
      }
     ]
    },
    "q4.1": {
     "name": "q4.1",
     "points": null,
     "suites": [
      {
       "cases": [
        {
         "code": ">>> round(calculate_tvd(make_array(0.5, 0.5), make_array(1/2, 1/2)), 5) == 0\nTrue",
         "hidden": false,
         "locked": false
        },
        {
         "code": ">>> round(calculate_tvd(make_array(0.45, 0.55), make_array(1/2, 1/2)), 5) == 0.1\nTrue",
         "hidden": false,
         "locked": false
        },
        {
         "code": ">>> round(calculate_tvd(make_array(1.0, 0.0), make_array(1/2, 1/2)), 5) == 1\nTrue",
         "hidden": false,
         "locked": false
        }
       ],
       "scored": true,
       "setup": "",
       "teardown": "",
       "type": "doctest"
      }
     ]
    },
    "q4.4": {
     "name": "q4.4",
     "points": null,
     "suites": [
      {
       "cases": [
        {
         "code": ">>> 0 <= pvalue_not_from_2008 <= 1\nTrue",
         "hidden": false,
         "locked": false
        },
        {
         "code": ">>> 0 <= pvalue_not_from_CLV <= 1\nTrue",
         "hidden": false,
         "locked": false
        },
        {
         "code": ">>> 0 <= pvalue_not_from_HKP <= 1\nTrue",
         "hidden": false,
         "locked": false
        }
       ],
       "scored": true,
       "setup": "",
       "teardown": "",
       "type": "doctest"
      }
     ]
    },
    "q4.5": {
     "name": "q4.5",
     "points": null,
     "suites": [
      {
       "cases": [
        {
         "code": ">>> bag_from_2008 == True or bag_from_2008 == False\nTrue",
         "hidden": false,
         "locked": false
        },
        {
         "code": ">>> bag_from_CLV == True or bag_from_CLV == False\nTrue",
         "hidden": false,
         "locked": false
        },
        {
         "code": ">>> bag_from_HKP == True or bag_from_HKP == False\nTrue",
         "hidden": false,
         "locked": false
        }
       ],
       "scored": true,
       "setup": "",
       "teardown": "",
       "type": "doctest"
      }
     ]
    }
   }
  }
 },
 "nbformat": 4,
 "nbformat_minor": 5
}
